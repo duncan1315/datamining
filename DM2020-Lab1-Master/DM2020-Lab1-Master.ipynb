{
 "cells": [
  {
   "cell_type": "markdown",
   "metadata": {},
   "source": [
    "# Data Mining Lab 1\n",
    "In this lab session we will focus on the use of scientific computing libraries to efficiently process, transform, and manage data. Furthermore, we will provide best practices and introduce visualization tools for effectively conducting big data analysis and visualization."
   ]
  },
  {
   "cell_type": "markdown",
   "metadata": {},
   "source": [
    "---"
   ]
  },
  {
   "cell_type": "markdown",
   "metadata": {},
   "source": [
    "## Table of Contents\n",
    "1. Data Source\n",
    "2. Data Preparation\n",
    "3. Data Transformation\n",
    " - 3.1 Converting Dictionary into Pandas dataframe\n",
    " - 3.2 Familiarizing yourself with the Data\n",
    "4. Data Mining using Pandas\n",
    " - 4.1 Dealing with Missing Values\n",
    " - 4.2 Dealing with Duplicate Data\n",
    "5. Data Preprocessing\n",
    " - 5.1 Sampling\n",
    " - 5.2 Feature Creation\n",
    " - 5.3 Feature Subset Selection\n",
    " - 5.4 Dimensionality Reduction\n",
    " - 5.5 Atrribute Transformation / Aggregation\n",
    " - 5.6 Discretization and Binarization\n",
    "6. Data Exploration\n",
    "7. Conclusion\n",
    "8. References"
   ]
  },
  {
   "cell_type": "markdown",
   "metadata": {},
   "source": [
    "---"
   ]
  },
  {
   "cell_type": "markdown",
   "metadata": {},
   "source": [
    "## Introduction\n",
    "In this notebook I will explore a text-based, document-based [dataset](http://scikit-learn.org/stable/tutorial/text_analytics/working_with_text_data.html) using scientific computing tools such as Pandas and Numpy. In addition, several fundamental Data Mining concepts will be explored and explained in details, ranging from calculating distance measures to computing term frequency vectors. Coding examples, visualizations and demonstrations will be provided where necessary. Furthermore, additional exercises are provided after special topics. These exercises are geared towards testing the proficiency of students and motivate students to explore beyond the techniques covered in the notebook. "
   ]
  },
  {
   "cell_type": "markdown",
   "metadata": {},
   "source": [
    "---"
   ]
  },
  {
   "cell_type": "markdown",
   "metadata": {},
   "source": [
    "### Requirements\n",
    "Here are the computing and software requirements\n",
    "\n",
    "#### Computing Resources\n",
    "- Operating system: Preferably Linux or MacOS\n",
    "- RAM: 8 GB\n",
    "- Disk space: Mininium 8 GB\n",
    "\n",
    "#### Software Requirements\n",
    "Here is a list of the required programs and libraries necessary for this lab session:\n",
    "\n",
    "##### Language:\n",
    "- [Python 3+](https://www.python.org/download/releases/3.0/) (Note: coding will be done strictly on Python 3)\n",
    "    - Install latest version of Python 3\n",
    "    \n",
    "##### Environment:\n",
    "Using an environment is to avoid some library conflict problems. You can refer this [Setup Instructions](http://cs231n.github.io/setup-instructions/) to install and setup.\n",
    "\n",
    "- [Anaconda](https://www.anaconda.com/download/) (recommended but not required)\n",
    "    - Install anaconda environment\n",
    "    \n",
    "- [Python virtualenv](https://virtualenv.pypa.io/en/stable/userguide/) (recommended to Linux/MacOS user)\n",
    "    - Install virtual environment\n",
    "\n",
    "- [Kaggle Kernel](https://www.kaggle.com/kernels/)\n",
    "    - Run on the cloud  (with some limitations)\n",
    "    - Reference: [Kaggle Kernels Instructions](https://github.com/omarsar/data_mining_lab/blob/master/kagglekernel.md)\n",
    "    \n",
    "##### Necessary Libraries:\n",
    "- [Jupyter](http://jupyter.org/) (Strongly recommended but not required)\n",
    "    - Install `jupyter` and Use `$jupyter notebook` in terminal to run\n",
    "- [Scikit Learn](http://scikit-learn.org/stable/index.html)\n",
    "    - Install `sklearn` latest python library\n",
    "- [Pandas](http://pandas.pydata.org/)\n",
    "    - Install `pandas` python library\n",
    "- [Numpy](http://www.numpy.org/)\n",
    "    - Install `numpy` python library\n",
    "- [Matplotlib](https://matplotlib.org/)\n",
    "    - Install `maplotlib` for python\n",
    "- [Plotly](https://plot.ly/)\n",
    "    - Install and signup for `plotly`\n",
    "- [Seaborn](https://seaborn.pydata.org/)\n",
    "    - Install and signup for `seaborn`\n",
    "- [NLTK](http://www.nltk.org/)\n",
    "    - Install `nltk` library"
   ]
  },
  {
   "cell_type": "markdown",
   "metadata": {},
   "source": [
    "---"
   ]
  },
  {
   "cell_type": "code",
   "execution_count": 3,
   "metadata": {},
   "outputs": [],
   "source": [
    "# TEST necessary for when working with external scripts\n",
    "%load_ext autoreload\n",
    "%autoreload 2"
   ]
  },
  {
   "cell_type": "markdown",
   "metadata": {},
   "source": [
    "---"
   ]
  },
  {
   "cell_type": "markdown",
   "metadata": {},
   "source": [
    "## 1. The Data\n",
    "In this notebook we will explore the popular 20 newsgroup dataset, originally provided [here](http://qwone.com/~jason/20Newsgroups/). The dataset is called \"Twenty Newsgroups\", which means there are 20 categories of news articles available in the entire dataset. A short description of the dataset, provided by the authors, is provided below:\n",
    "\n",
    "- *The 20 Newsgroups data set is a collection of approximately 20,000 newsgroup documents, partitioned (nearly) evenly across 20 different newsgroups. To the best of our knowledge, it was originally collected by Ken Lang, probably for his paper “Newsweeder: Learning to filter netnews,” though he does not explicitly mention this collection. The 20 newsgroups collection has become a popular data set for experiments in text applications of machine learning techniques, such as text classification and text clustering.*\n",
    "\n",
    "If you need more information about the dataset please refer to the reference provided above. Below is a snapshot of the dataset already converted into a table. Keep in mind that the original dataset is not in this nice pretty format. That work is left to us. That is one of the tasks that will be covered in this notebook: how to convert raw data into convenient tabular formats using Pandas. \n",
    "\n",
    "![atl txt](https://docs.google.com/drawings/d/e/2PACX-1vRd845nNXa1x1Enw6IoEbg-05lB19xG3mfO2BjnpZrloT0pSnY89stBV1gS9Iu6cgRCTq3E5giIT5ZI/pub?w=835&h=550)"
   ]
  },
  {
   "cell_type": "markdown",
   "metadata": {},
   "source": [
    "---"
   ]
  },
  {
   "cell_type": "markdown",
   "metadata": {},
   "source": [
    "## 2. Data Preparation\n",
    "Now let us begin to explore the data. The original dataset can be found on the link provided above or you can directly use the version provided by scikit learn. Here we will use the scikit learn version. \n",
    "\n",
    "In this demonstration we are only going to look at 4 categories. This means we will not make use of the complete dataset, but only a subset of it, which includes the 4 categories defined below:"
   ]
  },
  {
   "cell_type": "code",
   "execution_count": 4,
   "metadata": {},
   "outputs": [],
   "source": [
    "# categories\n",
    "categories = ['alt.atheism', 'soc.religion.christian', 'comp.graphics', 'sci.med']"
   ]
  },
  {
   "cell_type": "code",
   "execution_count": 5,
   "metadata": {},
   "outputs": [],
   "source": [
    "# obtain the documents containing the categories provided\n",
    "from sklearn.datasets import fetch_20newsgroups\n",
    "\n",
    "twenty_train = fetch_20newsgroups(subset='train', categories=categories, \\\n",
    "                                  shuffle=True, random_state=42)"
   ]
  },
  {
   "cell_type": "markdown",
   "metadata": {},
   "source": [
    "Let's take at look some of the records that are contained in our subset of the data"
   ]
  },
  {
   "cell_type": "code",
   "execution_count": 6,
   "metadata": {},
   "outputs": [
    {
     "output_type": "execute_result",
     "data": {
      "text/plain": [
       "['From: sd345@city.ac.uk (Michael Collier)\\nSubject: Converting images to HP LaserJet III?\\nNntp-Posting-Host: hampton\\nOrganization: The City University\\nLines: 14\\n\\nDoes anyone know of a good way (standard PC application/PD utility) to\\nconvert tif/img/tga files into LaserJet III format.  We would also like to\\ndo the same, converting to HPGL (HP plotter) files.\\n\\nPlease email any response.\\n\\nIs this the correct group?\\n\\nThanks in advance.  Michael.\\n-- \\nMichael Collier (Programmer)                 The Computer Unit,\\nEmail: M.P.Collier@uk.ac.city                The City University,\\nTel: 071 477-8000 x3769                      London,\\nFax: 071 477-8565                            EC1V 0HB.\\n',\n",
       " \"From: ani@ms.uky.edu (Aniruddha B. Deglurkar)\\nSubject: help: Splitting a trimming region along a mesh \\nOrganization: University Of Kentucky, Dept. of Math Sciences\\nLines: 28\\n\\n\\n\\n\\tHi,\\n\\n\\tI have a problem, I hope some of the 'gurus' can help me solve.\\n\\n\\tBackground of the problem:\\n\\tI have a rectangular mesh in the uv domain, i.e  the mesh is a \\n\\tmapping of a 3d Bezier patch into 2d. The area in this domain\\n\\twhich is inside a trimming loop had to be rendered. The trimming\\n\\tloop is a set of 2d Bezier curve segments.\\n\\tFor the sake of notation: the mesh is made up of cells.\\n\\n\\tMy problem is this :\\n\\tThe trimming area has to be split up into individual smaller\\n\\tcells bounded by the trimming curve segments. If a cell\\n\\tis wholly inside the area...then it is output as a whole ,\\n\\telse it is trivially rejected. \\n\\n\\tDoes any body know how thiss can be done, or is there any algo. \\n\\tsomewhere for doing this.\\n\\n\\tAny help would be appreciated.\\n\\n\\tThanks, \\n\\tAni.\\n-- \\nTo get irritated is human, to stay cool, divine.\\n\"]"
      ]
     },
     "metadata": {},
     "execution_count": 6
    }
   ],
   "source": [
    "twenty_train.data[0:2]"
   ]
  },
  {
   "cell_type": "markdown",
   "metadata": {},
   "source": [
    "**Note** the `twenty_train` is just a bunch of objects that can be accessed as python dictionaries; so, you can do the following operations on `twenty_train`"
   ]
  },
  {
   "cell_type": "code",
   "execution_count": 7,
   "metadata": {},
   "outputs": [
    {
     "output_type": "execute_result",
     "data": {
      "text/plain": [
       "['alt.atheism', 'comp.graphics', 'sci.med', 'soc.religion.christian']"
      ]
     },
     "metadata": {},
     "execution_count": 7
    }
   ],
   "source": [
    "twenty_train.target_names"
   ]
  },
  {
   "cell_type": "code",
   "execution_count": 8,
   "metadata": {},
   "outputs": [
    {
     "output_type": "execute_result",
     "data": {
      "text/plain": [
       "2257"
      ]
     },
     "metadata": {},
     "execution_count": 8
    }
   ],
   "source": [
    "len(twenty_train.data)"
   ]
  },
  {
   "cell_type": "code",
   "execution_count": 9,
   "metadata": {},
   "outputs": [
    {
     "output_type": "execute_result",
     "data": {
      "text/plain": [
       "2257"
      ]
     },
     "metadata": {},
     "execution_count": 9
    }
   ],
   "source": [
    "len(twenty_train.filenames)"
   ]
  },
  {
   "cell_type": "markdown",
   "metadata": {},
   "source": [
    "#### We can also print an example from the subset"
   ]
  },
  {
   "cell_type": "code",
   "execution_count": 10,
   "metadata": {
    "tags": []
   },
   "outputs": [
    {
     "output_type": "stream",
     "name": "stdout",
     "text": [
      "From: sd345@city.ac.uk (Michael Collier)\nSubject: Converting images to HP LaserJet III?\nNntp-Posting-Host: hampton\nOrganization: The City University\nLines: 14\n\nDoes anyone know of a good way (standard PC application/PD utility) to\nconvert tif/img/tga files into LaserJet III format.  We would also like to\ndo the same, converting to HPGL (HP plotter) files.\n\nPlease email any response.\n\nIs this the correct group?\n\nThanks in advance.  Michael.\n-- \nMichael Collier (Programmer)                 The Computer Unit,\nEmail: M.P.Collier@uk.ac.city                The City University,\nTel: 071 477-8000 x3769                      London,\nFax: 071 477-8565                            EC1V 0HB.\n\n"
     ]
    }
   ],
   "source": [
    "# An example of what the subset contains\n",
    "print(\"\\n\".join(twenty_train.data[0].split(\"\\n\")))"
   ]
  },
  {
   "cell_type": "markdown",
   "metadata": {},
   "source": [
    "... and determine the label of the example via `target_names` key value"
   ]
  },
  {
   "cell_type": "code",
   "execution_count": 11,
   "metadata": {
    "tags": []
   },
   "outputs": [
    {
     "output_type": "stream",
     "name": "stdout",
     "text": [
      "comp.graphics\n"
     ]
    }
   ],
   "source": [
    "print(twenty_train.target_names[twenty_train.target[0]])"
   ]
  },
  {
   "cell_type": "code",
   "execution_count": 12,
   "metadata": {},
   "outputs": [
    {
     "output_type": "execute_result",
     "data": {
      "text/plain": [
       "1"
      ]
     },
     "metadata": {},
     "execution_count": 12
    }
   ],
   "source": [
    "twenty_train.target[0]"
   ]
  },
  {
   "cell_type": "markdown",
   "metadata": {},
   "source": [
    "... we can also get the category of 10 documents via `target` key value "
   ]
  },
  {
   "cell_type": "code",
   "execution_count": 13,
   "metadata": {},
   "outputs": [
    {
     "output_type": "execute_result",
     "data": {
      "text/plain": [
       "array([1, 1, 3, 3, 3, 3, 3, 2, 2, 2])"
      ]
     },
     "metadata": {},
     "execution_count": 13
    }
   ],
   "source": [
    "# category of first 10 documents.\n",
    "twenty_train.target[:10]"
   ]
  },
  {
   "cell_type": "markdown",
   "metadata": {},
   "source": [
    "**Note:** As you can observe, both approaches above provide two different ways of obtaining the `category` value for the dataset. Ideally, we want to have access to both types -- numerical and nominal -- in the event some particular library favors a particular type. \n",
    "\n",
    "As you may have already noticed as well, there is no **tabular format** for the current version of the data. As data miners, we are interested in having our dataset in the most convenient format as possible; something we can manipulate easily and is compatible with our algorithms, and so forth."
   ]
  },
  {
   "cell_type": "markdown",
   "metadata": {},
   "source": [
    "Here is one way to get access to the *text* version of the label of a subset of our training data:"
   ]
  },
  {
   "cell_type": "code",
   "execution_count": 14,
   "metadata": {
    "tags": []
   },
   "outputs": [
    {
     "output_type": "stream",
     "name": "stdout",
     "text": [
      "comp.graphics\ncomp.graphics\nsoc.religion.christian\nsoc.religion.christian\nsoc.religion.christian\nsoc.religion.christian\nsoc.religion.christian\nsci.med\nsci.med\nsci.med\n"
     ]
    }
   ],
   "source": [
    "for t in twenty_train.target[:10]:\n",
    "    print(twenty_train.target_names[t])"
   ]
  },
  {
   "cell_type": "markdown",
   "metadata": {},
   "source": [
    "---"
   ]
  },
  {
   "cell_type": "markdown",
   "metadata": {},
   "source": [
    "### ** >>> Exercise 1 (5 min): **  \n",
    "In this exercise, please print out the *text* data for the first three samples in the dataset. (See the above code for help)"
   ]
  },
  {
   "cell_type": "code",
   "execution_count": 15,
   "metadata": {
    "tags": []
   },
   "outputs": [
    {
     "output_type": "stream",
     "name": "stdout",
     "text": [
      "From: djohnson@cs.ucsd.edu (Darin Johnson)\nSubject: Re: harrassed at work, could use some prayers\nOrganization: =CSE Dept., U.C. San Diego\nLines: 63\n\n(Well, I'll email also, but this may apply to other people, so\nI'll post also.)\n\n>I've been working at this company for eight years in various\n>engineering jobs.  I'm female.  Yesterday I counted and realized that\n>on seven different occasions I've been sexually harrassed at this\n>company.\n\n>I dreaded coming back to work today.  What if my boss comes in to ask\n>me some kind of question...\n\nYour boss should be the person bring these problems to.  If he/she\ndoes not seem to take any action, keep going up higher and higher.\nSexual harrassment does not need to be tolerated, and it can be an\nenormous emotional support to discuss this with someone and know that\nthey are trying to do something about it.  If you feel you can not\ndiscuss this with your boss, perhaps your company has a personnel\ndepartment that can work for you while preserving your privacy.  Most\ncompanies will want to deal with this problem because constant anxiety\ndoes seriously affect how effectively employees do their jobs.\n\nIt is unclear from your letter if you have done this or not.  It is\nnot inconceivable that management remains ignorant of employee\nproblems/strife even after eight years (it's a miracle if they do\nnotice).  Perhaps your manager did not bring to the attention of\nhigher ups?  If the company indeed does seem to want to ignore the\nentire problem, there may be a state agency willing to fight with\nyou.  (check with a lawyer, a women's resource center, etc to find out)\n\nYou may also want to discuss this with your paster, priest, husband,\netc.  That is, someone you know will not be judgemental and that is\nsupportive, comforting, etc.  This will bring a lot of healing.\n\n>So I returned at 11:25, only to find that ever single\n>person had already left for lunch.  They left at 11:15 or so.  No one\n>could be bothered to call me at the other building, even though my\n>number was posted.\n\nThis happens to a lot of people.  Honest.  I believe it may seem\nto be due to gross insensitivity because of the feelings you are\ngoing through.  People in offices tend to be more insensitive while\nworking than they normally are (maybe it's the hustle or stress or...)\nI've had this happen to me a lot, often because they didn't realize\nmy car was broken, etc.  Then they will come back and wonder why I\ndidn't want to go (this would tend to make me stop being angry at\nbeing ignored and make me laugh).  Once, we went off without our\nboss, who was paying for the lunch :-)\n\n>For this\n>reason I hope good Mr. Moderator allows me this latest indulgence.\n\nWell, if you can't turn to the computer for support, what would\nwe do?  (signs of the computer age :-)\n\nIn closing, please don't let the hateful actions of a single person\nharm you.  They are doing it because they are still the playground\nbully and enjoy seeing the hurt they cause.  And you should not\naccept the opinions of an imbecile that you are worthless - much\nwiser people hold you in great esteem.\n-- \nDarin Johnson\ndjohnson@ucsd.edu\n  - Luxury!  In MY day, we had to make do with 5 bytes of swap...\n\n"
     ]
    }
   ],
   "source": [
    "# Answer here\n",
    "print(\"\\n\".join(twenty_train.data[2].split(\"\\n\")))\n"
   ]
  },
  {
   "cell_type": "markdown",
   "metadata": {},
   "source": [
    "---"
   ]
  },
  {
   "cell_type": "markdown",
   "metadata": {},
   "source": [
    "## 3. Data Transformation\n",
    "So we want to explore and understand our data a little bit better. Before we do that we definitely need to apply some transformations just so we can have our dataset in a nice format to be able to explore it freely and more efficient. Lucky for us, there are powerful scientific tools to transform our data into that tabular format we are so farmiliar with. So that is what we will do in the next section--transform our data into a nice table format."
   ]
  },
  {
   "cell_type": "markdown",
   "metadata": {},
   "source": [
    "---"
   ]
  },
  {
   "cell_type": "markdown",
   "metadata": {},
   "source": [
    "### 3.1 Converting Dictionary into Pandas Dataframe\n",
    "Here we will show you how to convert dictionary objects into a pandas dataframe. And by the way, a pandas dataframe is nothing more than a table magically stored for efficient information retrieval."
   ]
  },
  {
   "cell_type": "code",
   "execution_count": 16,
   "metadata": {},
   "outputs": [
    {
     "output_type": "execute_result",
     "data": {
      "text/plain": [
       "['From: sd345@city.ac.uk (Michael Collier)\\nSubject: Converting images to HP LaserJet III?\\nNntp-Posting-Host: hampton\\nOrganization: The City University\\nLines: 14\\n\\nDoes anyone know of a good way (standard PC application/PD utility) to\\nconvert tif/img/tga files into LaserJet III format.  We would also like to\\ndo the same, converting to HPGL (HP plotter) files.\\n\\nPlease email any response.\\n\\nIs this the correct group?\\n\\nThanks in advance.  Michael.\\n-- \\nMichael Collier (Programmer)                 The Computer Unit,\\nEmail: M.P.Collier@uk.ac.city                The City University,\\nTel: 071 477-8000 x3769                      London,\\nFax: 071 477-8565                            EC1V 0HB.\\n',\n",
       " \"From: ani@ms.uky.edu (Aniruddha B. Deglurkar)\\nSubject: help: Splitting a trimming region along a mesh \\nOrganization: University Of Kentucky, Dept. of Math Sciences\\nLines: 28\\n\\n\\n\\n\\tHi,\\n\\n\\tI have a problem, I hope some of the 'gurus' can help me solve.\\n\\n\\tBackground of the problem:\\n\\tI have a rectangular mesh in the uv domain, i.e  the mesh is a \\n\\tmapping of a 3d Bezier patch into 2d. The area in this domain\\n\\twhich is inside a trimming loop had to be rendered. The trimming\\n\\tloop is a set of 2d Bezier curve segments.\\n\\tFor the sake of notation: the mesh is made up of cells.\\n\\n\\tMy problem is this :\\n\\tThe trimming area has to be split up into individual smaller\\n\\tcells bounded by the trimming curve segments. If a cell\\n\\tis wholly inside the area...then it is output as a whole ,\\n\\telse it is trivially rejected. \\n\\n\\tDoes any body know how thiss can be done, or is there any algo. \\n\\tsomewhere for doing this.\\n\\n\\tAny help would be appreciated.\\n\\n\\tThanks, \\n\\tAni.\\n-- \\nTo get irritated is human, to stay cool, divine.\\n\"]"
      ]
     },
     "metadata": {},
     "execution_count": 16
    }
   ],
   "source": [
    "twenty_train.data[0:2]"
   ]
  },
  {
   "cell_type": "code",
   "execution_count": 17,
   "metadata": {},
   "outputs": [
    {
     "output_type": "execute_result",
     "data": {
      "text/plain": [
       "array([1, 1, 3, ..., 2, 2, 2])"
      ]
     },
     "metadata": {},
     "execution_count": 17
    }
   ],
   "source": [
    "twenty_train.target"
   ]
  },
  {
   "cell_type": "code",
   "execution_count": 18,
   "metadata": {},
   "outputs": [],
   "source": [
    "import pandas as pd\n",
    "\n",
    "# my functions\n",
    "import helpers.data_mining_helpers as dmh\n",
    "\n",
    "# construct dataframe from a list\n",
    "X = pd.DataFrame.from_records(dmh.format_rows(twenty_train), columns= ['text'])"
   ]
  },
  {
   "cell_type": "code",
   "execution_count": 19,
   "metadata": {},
   "outputs": [
    {
     "output_type": "execute_result",
     "data": {
      "text/plain": [
       "2257"
      ]
     },
     "metadata": {},
     "execution_count": 19
    }
   ],
   "source": [
    "len(X)"
   ]
  },
  {
   "cell_type": "code",
   "execution_count": 20,
   "metadata": {},
   "outputs": [
    {
     "output_type": "execute_result",
     "data": {
      "text/plain": [
       "                                                text\n",
       "0  From: sd345@city.ac.uk (Michael Collier) Subje...\n",
       "1  From: ani@ms.uky.edu (Aniruddha B. Deglurkar) ..."
      ],
      "text/html": "<div>\n<style scoped>\n    .dataframe tbody tr th:only-of-type {\n        vertical-align: middle;\n    }\n\n    .dataframe tbody tr th {\n        vertical-align: top;\n    }\n\n    .dataframe thead th {\n        text-align: right;\n    }\n</style>\n<table border=\"1\" class=\"dataframe\">\n  <thead>\n    <tr style=\"text-align: right;\">\n      <th></th>\n      <th>text</th>\n    </tr>\n  </thead>\n  <tbody>\n    <tr>\n      <th>0</th>\n      <td>From: sd345@city.ac.uk (Michael Collier) Subje...</td>\n    </tr>\n    <tr>\n      <th>1</th>\n      <td>From: ani@ms.uky.edu (Aniruddha B. Deglurkar) ...</td>\n    </tr>\n  </tbody>\n</table>\n</div>"
     },
     "metadata": {},
     "execution_count": 20
    }
   ],
   "source": [
    "X[0:2]"
   ]
  },
  {
   "cell_type": "code",
   "execution_count": 21,
   "metadata": {
    "tags": []
   },
   "outputs": [
    {
     "output_type": "stream",
     "name": "stdout",
     "text": [
      "From: sd345@city.ac.uk (Michael Collier) Subject: Converting images to HP LaserJet III? Nntp-Posting-Host: hampton Organization: The City University Lines: 14  Does anyone know of a good way (standard PC application/PD utility) to convert tif/img/tga files into LaserJet III format.  We would also like to do the same, converting to HPGL (HP plotter) files.  Please email any response.  Is this the correct group?  Thanks in advance.  Michael. --  Michael Collier (Programmer)                 The Computer Unit, Email: M.P.Collier@uk.ac.city                The City University, Tel: 071 477-8000 x3769                      London, Fax: 071 477-8565                            EC1V 0HB. \nFrom: ani@ms.uky.edu (Aniruddha B. Deglurkar) Subject: help: Splitting a trimming region along a mesh  Organization: University Of Kentucky, Dept. of Math Sciences Lines: 28    \tHi,  \tI have a problem, I hope some of the 'gurus' can help me solve.  \tBackground of the problem: \tI have a rectangular mesh in the uv domain, i.e  the mesh is a  \tmapping of a 3d Bezier patch into 2d. The area in this domain \twhich is inside a trimming loop had to be rendered. The trimming \tloop is a set of 2d Bezier curve segments. \tFor the sake of notation: the mesh is made up of cells.  \tMy problem is this : \tThe trimming area has to be split up into individual smaller \tcells bounded by the trimming curve segments. If a cell \tis wholly inside the area...then it is output as a whole , \telse it is trivially rejected.   \tDoes any body know how thiss can be done, or is there any algo.  \tsomewhere for doing this.  \tAny help would be appreciated.  \tThanks,  \tAni. --  To get irritated is human, to stay cool, divine. \nFrom: djohnson@cs.ucsd.edu (Darin Johnson) Subject: Re: harrassed at work, could use some prayers Organization: =CSE Dept., U.C. San Diego Lines: 63  (Well, I'll email also, but this may apply to other people, so I'll post also.)  >I've been working at this company for eight years in various >engineering jobs.  I'm female.  Yesterday I counted and realized that >on seven different occasions I've been sexually harrassed at this >company.  >I dreaded coming back to work today.  What if my boss comes in to ask >me some kind of question...  Your boss should be the person bring these problems to.  If he/she does not seem to take any action, keep going up higher and higher. Sexual harrassment does not need to be tolerated, and it can be an enormous emotional support to discuss this with someone and know that they are trying to do something about it.  If you feel you can not discuss this with your boss, perhaps your company has a personnel department that can work for you while preserving your privacy.  Most companies will want to deal with this problem because constant anxiety does seriously affect how effectively employees do their jobs.  It is unclear from your letter if you have done this or not.  It is not inconceivable that management remains ignorant of employee problems/strife even after eight years (it's a miracle if they do notice).  Perhaps your manager did not bring to the attention of higher ups?  If the company indeed does seem to want to ignore the entire problem, there may be a state agency willing to fight with you.  (check with a lawyer, a women's resource center, etc to find out)  You may also want to discuss this with your paster, priest, husband, etc.  That is, someone you know will not be judgemental and that is supportive, comforting, etc.  This will bring a lot of healing.  >So I returned at 11:25, only to find that ever single >person had already left for lunch.  They left at 11:15 or so.  No one >could be bothered to call me at the other building, even though my >number was posted.  This happens to a lot of people.  Honest.  I believe it may seem to be due to gross insensitivity because of the feelings you are going through.  People in offices tend to be more insensitive while working than they normally are (maybe it's the hustle or stress or...) I've had this happen to me a lot, often because they didn't realize my car was broken, etc.  Then they will come back and wonder why I didn't want to go (this would tend to make me stop being angry at being ignored and make me laugh).  Once, we went off without our boss, who was paying for the lunch :-)  >For this >reason I hope good Mr. Moderator allows me this latest indulgence.  Well, if you can't turn to the computer for support, what would we do?  (signs of the computer age :-)  In closing, please don't let the hateful actions of a single person harm you.  They are doing it because they are still the playground bully and enjoy seeing the hurt they cause.  And you should not accept the opinions of an imbecile that you are worthless - much wiser people hold you in great esteem. --  Darin Johnson djohnson@ucsd.edu   - Luxury!  In MY day, we had to make do with 5 bytes of swap... \n"
     ]
    }
   ],
   "source": [
    "for t in X[\"text\"][:3]:\n",
    "    print(t)"
   ]
  },
  {
   "cell_type": "markdown",
   "metadata": {},
   "source": [
    "### Adding Columns"
   ]
  },
  {
   "cell_type": "markdown",
   "metadata": {},
   "source": [
    "One of the great advantages of a pandas dataframe is its flexibility. We can add columns to the current dataset programmatically with very little effort."
   ]
  },
  {
   "cell_type": "code",
   "execution_count": 22,
   "metadata": {},
   "outputs": [],
   "source": [
    "# add category to the dataframe\n",
    "X['category'] = twenty_train.target"
   ]
  },
  {
   "cell_type": "code",
   "execution_count": 23,
   "metadata": {},
   "outputs": [],
   "source": [
    "# add category label also\n",
    "X['category_name'] = X.category.apply(lambda t: dmh.format_labels(t, twenty_train))"
   ]
  },
  {
   "cell_type": "markdown",
   "metadata": {},
   "source": [
    "Now we can print and see what our table looks like. "
   ]
  },
  {
   "cell_type": "code",
   "execution_count": 24,
   "metadata": {},
   "outputs": [
    {
     "output_type": "execute_result",
     "data": {
      "text/plain": [
       "                                                text  category  \\\n",
       "0  From: sd345@city.ac.uk (Michael Collier) Subje...         1   \n",
       "1  From: ani@ms.uky.edu (Aniruddha B. Deglurkar) ...         1   \n",
       "2  From: djohnson@cs.ucsd.edu (Darin Johnson) Sub...         3   \n",
       "3  From: s0612596@let.rug.nl (M.M. Zwart) Subject...         3   \n",
       "4  From: stanly@grok11.columbiasc.ncr.com (stanly...         3   \n",
       "5  From: vbv@lor.eeap.cwru.edu (Virgilio (Dean) B...         3   \n",
       "6  From: jodfishe@silver.ucs.indiana.edu (joseph ...         3   \n",
       "7  From: aldridge@netcom.com (Jacquelin Aldridge)...         2   \n",
       "8  From: geb@cs.pitt.edu (Gordon Banks) Subject: ...         2   \n",
       "9  From: libman@hsc.usc.edu (Marlena Libman) Subj...         2   \n",
       "\n",
       "            category_name  \n",
       "0           comp.graphics  \n",
       "1           comp.graphics  \n",
       "2  soc.religion.christian  \n",
       "3  soc.religion.christian  \n",
       "4  soc.religion.christian  \n",
       "5  soc.religion.christian  \n",
       "6  soc.religion.christian  \n",
       "7                 sci.med  \n",
       "8                 sci.med  \n",
       "9                 sci.med  "
      ],
      "text/html": "<div>\n<style scoped>\n    .dataframe tbody tr th:only-of-type {\n        vertical-align: middle;\n    }\n\n    .dataframe tbody tr th {\n        vertical-align: top;\n    }\n\n    .dataframe thead th {\n        text-align: right;\n    }\n</style>\n<table border=\"1\" class=\"dataframe\">\n  <thead>\n    <tr style=\"text-align: right;\">\n      <th></th>\n      <th>text</th>\n      <th>category</th>\n      <th>category_name</th>\n    </tr>\n  </thead>\n  <tbody>\n    <tr>\n      <th>0</th>\n      <td>From: sd345@city.ac.uk (Michael Collier) Subje...</td>\n      <td>1</td>\n      <td>comp.graphics</td>\n    </tr>\n    <tr>\n      <th>1</th>\n      <td>From: ani@ms.uky.edu (Aniruddha B. Deglurkar) ...</td>\n      <td>1</td>\n      <td>comp.graphics</td>\n    </tr>\n    <tr>\n      <th>2</th>\n      <td>From: djohnson@cs.ucsd.edu (Darin Johnson) Sub...</td>\n      <td>3</td>\n      <td>soc.religion.christian</td>\n    </tr>\n    <tr>\n      <th>3</th>\n      <td>From: s0612596@let.rug.nl (M.M. Zwart) Subject...</td>\n      <td>3</td>\n      <td>soc.religion.christian</td>\n    </tr>\n    <tr>\n      <th>4</th>\n      <td>From: stanly@grok11.columbiasc.ncr.com (stanly...</td>\n      <td>3</td>\n      <td>soc.religion.christian</td>\n    </tr>\n    <tr>\n      <th>5</th>\n      <td>From: vbv@lor.eeap.cwru.edu (Virgilio (Dean) B...</td>\n      <td>3</td>\n      <td>soc.religion.christian</td>\n    </tr>\n    <tr>\n      <th>6</th>\n      <td>From: jodfishe@silver.ucs.indiana.edu (joseph ...</td>\n      <td>3</td>\n      <td>soc.religion.christian</td>\n    </tr>\n    <tr>\n      <th>7</th>\n      <td>From: aldridge@netcom.com (Jacquelin Aldridge)...</td>\n      <td>2</td>\n      <td>sci.med</td>\n    </tr>\n    <tr>\n      <th>8</th>\n      <td>From: geb@cs.pitt.edu (Gordon Banks) Subject: ...</td>\n      <td>2</td>\n      <td>sci.med</td>\n    </tr>\n    <tr>\n      <th>9</th>\n      <td>From: libman@hsc.usc.edu (Marlena Libman) Subj...</td>\n      <td>2</td>\n      <td>sci.med</td>\n    </tr>\n  </tbody>\n</table>\n</div>"
     },
     "metadata": {},
     "execution_count": 24
    }
   ],
   "source": [
    "X[0:10]"
   ]
  },
  {
   "cell_type": "markdown",
   "metadata": {},
   "source": [
    "Nice! Isn't it? With this format we can conduct many operations easily and efficiently since Pandas dataframes provide us with a wide range of built-in features/functionalities. These features are operations which can directly and quickly be applied to the dataset. These operations may include standard operations like **removing records with missing values** and **aggregating new fields** to the current table (hereinafter referred to as a dataframe), which is desirable in almost every data mining project. Go Pandas!"
   ]
  },
  {
   "cell_type": "markdown",
   "metadata": {},
   "source": [
    "---"
   ]
  },
  {
   "cell_type": "markdown",
   "metadata": {},
   "source": [
    "### 3.2 Familiarizing yourself with the Data"
   ]
  },
  {
   "cell_type": "markdown",
   "metadata": {},
   "source": [
    "To begin to show you the awesomeness of Pandas dataframes, let us look at how to run a simple query on our dataset. We want to query for the first 10 rows (documents), and we only want to keep the `text` and `category_name` attributes or fields."
   ]
  },
  {
   "cell_type": "code",
   "execution_count": 25,
   "metadata": {},
   "outputs": [
    {
     "output_type": "execute_result",
     "data": {
      "text/plain": [
       "                                                text           category_name\n",
       "0  From: sd345@city.ac.uk (Michael Collier) Subje...           comp.graphics\n",
       "1  From: ani@ms.uky.edu (Aniruddha B. Deglurkar) ...           comp.graphics\n",
       "2  From: djohnson@cs.ucsd.edu (Darin Johnson) Sub...  soc.religion.christian\n",
       "3  From: s0612596@let.rug.nl (M.M. Zwart) Subject...  soc.religion.christian\n",
       "4  From: stanly@grok11.columbiasc.ncr.com (stanly...  soc.religion.christian\n",
       "5  From: vbv@lor.eeap.cwru.edu (Virgilio (Dean) B...  soc.religion.christian\n",
       "6  From: jodfishe@silver.ucs.indiana.edu (joseph ...  soc.religion.christian\n",
       "7  From: aldridge@netcom.com (Jacquelin Aldridge)...                 sci.med\n",
       "8  From: geb@cs.pitt.edu (Gordon Banks) Subject: ...                 sci.med\n",
       "9  From: libman@hsc.usc.edu (Marlena Libman) Subj...                 sci.med"
      ],
      "text/html": "<div>\n<style scoped>\n    .dataframe tbody tr th:only-of-type {\n        vertical-align: middle;\n    }\n\n    .dataframe tbody tr th {\n        vertical-align: top;\n    }\n\n    .dataframe thead th {\n        text-align: right;\n    }\n</style>\n<table border=\"1\" class=\"dataframe\">\n  <thead>\n    <tr style=\"text-align: right;\">\n      <th></th>\n      <th>text</th>\n      <th>category_name</th>\n    </tr>\n  </thead>\n  <tbody>\n    <tr>\n      <th>0</th>\n      <td>From: sd345@city.ac.uk (Michael Collier) Subje...</td>\n      <td>comp.graphics</td>\n    </tr>\n    <tr>\n      <th>1</th>\n      <td>From: ani@ms.uky.edu (Aniruddha B. Deglurkar) ...</td>\n      <td>comp.graphics</td>\n    </tr>\n    <tr>\n      <th>2</th>\n      <td>From: djohnson@cs.ucsd.edu (Darin Johnson) Sub...</td>\n      <td>soc.religion.christian</td>\n    </tr>\n    <tr>\n      <th>3</th>\n      <td>From: s0612596@let.rug.nl (M.M. Zwart) Subject...</td>\n      <td>soc.religion.christian</td>\n    </tr>\n    <tr>\n      <th>4</th>\n      <td>From: stanly@grok11.columbiasc.ncr.com (stanly...</td>\n      <td>soc.religion.christian</td>\n    </tr>\n    <tr>\n      <th>5</th>\n      <td>From: vbv@lor.eeap.cwru.edu (Virgilio (Dean) B...</td>\n      <td>soc.religion.christian</td>\n    </tr>\n    <tr>\n      <th>6</th>\n      <td>From: jodfishe@silver.ucs.indiana.edu (joseph ...</td>\n      <td>soc.religion.christian</td>\n    </tr>\n    <tr>\n      <th>7</th>\n      <td>From: aldridge@netcom.com (Jacquelin Aldridge)...</td>\n      <td>sci.med</td>\n    </tr>\n    <tr>\n      <th>8</th>\n      <td>From: geb@cs.pitt.edu (Gordon Banks) Subject: ...</td>\n      <td>sci.med</td>\n    </tr>\n    <tr>\n      <th>9</th>\n      <td>From: libman@hsc.usc.edu (Marlena Libman) Subj...</td>\n      <td>sci.med</td>\n    </tr>\n  </tbody>\n</table>\n</div>"
     },
     "metadata": {},
     "execution_count": 25
    }
   ],
   "source": [
    "# a simple query\n",
    "X[0:10][[\"text\", \"category_name\"]]"
   ]
  },
  {
   "cell_type": "markdown",
   "metadata": {},
   "source": [
    "Let us look at a few more interesting queries to familiarize ourselves with the efficiency and conveniency of Pandas dataframes."
   ]
  },
  {
   "cell_type": "markdown",
   "metadata": {},
   "source": [
    "#### Let's query the last 10 records"
   ]
  },
  {
   "cell_type": "code",
   "execution_count": 26,
   "metadata": {},
   "outputs": [
    {
     "output_type": "execute_result",
     "data": {
      "text/plain": [
       "                                                   text  category  \\\n",
       "2247  From: daniels@math.ufl.edu (TV's Big Dealer) S...         3   \n",
       "2248  From: \"danny hawrysio\" <danny.hawrysio@canrem....         1   \n",
       "2249  From: shellgate!llo@uu4.psi.com (Larry L. Over...         3   \n",
       "2250  From: ingles@engin.umich.edu (Ray Ingles) Subj...         0   \n",
       "2251  From: Mark-Tarbell@suite.com Subject: Amniocen...         2   \n",
       "2252  From: roos@Operoni.Helsinki.FI (Christophe Roo...         2   \n",
       "2253  From: mhollowa@ic.sunysb.edu (Michael Holloway...         2   \n",
       "2254  From: sasghm@theseus.unx.sas.com (Gary Merrill...         2   \n",
       "2255  From: Dan Wallach <dwallach@cs.berkeley.edu> S...         2   \n",
       "2256  From: dyer@spdcc.com (Steve Dyer) Subject: Re:...         2   \n",
       "\n",
       "               category_name  \n",
       "2247  soc.religion.christian  \n",
       "2248           comp.graphics  \n",
       "2249  soc.religion.christian  \n",
       "2250             alt.atheism  \n",
       "2251                 sci.med  \n",
       "2252                 sci.med  \n",
       "2253                 sci.med  \n",
       "2254                 sci.med  \n",
       "2255                 sci.med  \n",
       "2256                 sci.med  "
      ],
      "text/html": "<div>\n<style scoped>\n    .dataframe tbody tr th:only-of-type {\n        vertical-align: middle;\n    }\n\n    .dataframe tbody tr th {\n        vertical-align: top;\n    }\n\n    .dataframe thead th {\n        text-align: right;\n    }\n</style>\n<table border=\"1\" class=\"dataframe\">\n  <thead>\n    <tr style=\"text-align: right;\">\n      <th></th>\n      <th>text</th>\n      <th>category</th>\n      <th>category_name</th>\n    </tr>\n  </thead>\n  <tbody>\n    <tr>\n      <th>2247</th>\n      <td>From: daniels@math.ufl.edu (TV's Big Dealer) S...</td>\n      <td>3</td>\n      <td>soc.religion.christian</td>\n    </tr>\n    <tr>\n      <th>2248</th>\n      <td>From: \"danny hawrysio\" &lt;danny.hawrysio@canrem....</td>\n      <td>1</td>\n      <td>comp.graphics</td>\n    </tr>\n    <tr>\n      <th>2249</th>\n      <td>From: shellgate!llo@uu4.psi.com (Larry L. Over...</td>\n      <td>3</td>\n      <td>soc.religion.christian</td>\n    </tr>\n    <tr>\n      <th>2250</th>\n      <td>From: ingles@engin.umich.edu (Ray Ingles) Subj...</td>\n      <td>0</td>\n      <td>alt.atheism</td>\n    </tr>\n    <tr>\n      <th>2251</th>\n      <td>From: Mark-Tarbell@suite.com Subject: Amniocen...</td>\n      <td>2</td>\n      <td>sci.med</td>\n    </tr>\n    <tr>\n      <th>2252</th>\n      <td>From: roos@Operoni.Helsinki.FI (Christophe Roo...</td>\n      <td>2</td>\n      <td>sci.med</td>\n    </tr>\n    <tr>\n      <th>2253</th>\n      <td>From: mhollowa@ic.sunysb.edu (Michael Holloway...</td>\n      <td>2</td>\n      <td>sci.med</td>\n    </tr>\n    <tr>\n      <th>2254</th>\n      <td>From: sasghm@theseus.unx.sas.com (Gary Merrill...</td>\n      <td>2</td>\n      <td>sci.med</td>\n    </tr>\n    <tr>\n      <th>2255</th>\n      <td>From: Dan Wallach &lt;dwallach@cs.berkeley.edu&gt; S...</td>\n      <td>2</td>\n      <td>sci.med</td>\n    </tr>\n    <tr>\n      <th>2256</th>\n      <td>From: dyer@spdcc.com (Steve Dyer) Subject: Re:...</td>\n      <td>2</td>\n      <td>sci.med</td>\n    </tr>\n  </tbody>\n</table>\n</div>"
     },
     "metadata": {},
     "execution_count": 26
    }
   ],
   "source": [
    "X[-10:]"
   ]
  },
  {
   "cell_type": "markdown",
   "metadata": {},
   "source": [
    "Ready for some sourcery? Brace yourselves! Let us see if we can query every 10th record in our dataframe. In addition, our query must only contain the first 10 records. For this we will use the build-in function called `iloc`. This allows us to query a selection of our dataset by position. "
   ]
  },
  {
   "cell_type": "code",
   "execution_count": 27,
   "metadata": {},
   "outputs": [
    {
     "output_type": "execute_result",
     "data": {
      "text/plain": [
       "                                                 text  category\n",
       "0   From: sd345@city.ac.uk (Michael Collier) Subje...         1\n",
       "10  From: anasaz!karl@anasazi.com (Karl Dussik) Su...         3\n",
       "20  From: dotsonm@dmapub.dma.org (Mark Dotson) Sub...         3\n",
       "30  From: vgwlu@dunsell.calgary.chevron.com (greg ...         2\n",
       "40  From: david-s@hsr.no (David A. Sjoen) Subject:...         3\n",
       "50  From: ab@nova.cc.purdue.edu (Allen B) Subject:...         1\n",
       "60  From: Nanci Ann Miller <nm0w+@andrew.cmu.edu> ...         0\n",
       "70  From: weaver@chdasic.sps.mot.com (Dave Weaver)...         3\n",
       "80  From: annick@cortex.physiol.su.oz.au (Annick A...         2\n",
       "90  Subject: Vonnegut/atheism From: dmn@kepler.unh...         0"
      ],
      "text/html": "<div>\n<style scoped>\n    .dataframe tbody tr th:only-of-type {\n        vertical-align: middle;\n    }\n\n    .dataframe tbody tr th {\n        vertical-align: top;\n    }\n\n    .dataframe thead th {\n        text-align: right;\n    }\n</style>\n<table border=\"1\" class=\"dataframe\">\n  <thead>\n    <tr style=\"text-align: right;\">\n      <th></th>\n      <th>text</th>\n      <th>category</th>\n    </tr>\n  </thead>\n  <tbody>\n    <tr>\n      <th>0</th>\n      <td>From: sd345@city.ac.uk (Michael Collier) Subje...</td>\n      <td>1</td>\n    </tr>\n    <tr>\n      <th>10</th>\n      <td>From: anasaz!karl@anasazi.com (Karl Dussik) Su...</td>\n      <td>3</td>\n    </tr>\n    <tr>\n      <th>20</th>\n      <td>From: dotsonm@dmapub.dma.org (Mark Dotson) Sub...</td>\n      <td>3</td>\n    </tr>\n    <tr>\n      <th>30</th>\n      <td>From: vgwlu@dunsell.calgary.chevron.com (greg ...</td>\n      <td>2</td>\n    </tr>\n    <tr>\n      <th>40</th>\n      <td>From: david-s@hsr.no (David A. Sjoen) Subject:...</td>\n      <td>3</td>\n    </tr>\n    <tr>\n      <th>50</th>\n      <td>From: ab@nova.cc.purdue.edu (Allen B) Subject:...</td>\n      <td>1</td>\n    </tr>\n    <tr>\n      <th>60</th>\n      <td>From: Nanci Ann Miller &lt;nm0w+@andrew.cmu.edu&gt; ...</td>\n      <td>0</td>\n    </tr>\n    <tr>\n      <th>70</th>\n      <td>From: weaver@chdasic.sps.mot.com (Dave Weaver)...</td>\n      <td>3</td>\n    </tr>\n    <tr>\n      <th>80</th>\n      <td>From: annick@cortex.physiol.su.oz.au (Annick A...</td>\n      <td>2</td>\n    </tr>\n    <tr>\n      <th>90</th>\n      <td>Subject: Vonnegut/atheism From: dmn@kepler.unh...</td>\n      <td>0</td>\n    </tr>\n  </tbody>\n</table>\n</div>"
     },
     "metadata": {},
     "execution_count": 27
    }
   ],
   "source": [
    "# using loc (by position)\n",
    "X.iloc[::10, 0:2][0:10]"
   ]
  },
  {
   "cell_type": "markdown",
   "metadata": {},
   "source": [
    "You can also use the `loc` function to explicity define the columns you want to query. Take a look at this [great discussion](https://stackoverflow.com/questions/28757389/pandas-loc-vs-iloc-vs-ix-vs-at-vs-iat/43968774) on the differences between the `iloc` and `loc` functions."
   ]
  },
  {
   "cell_type": "code",
   "execution_count": 28,
   "metadata": {},
   "outputs": [
    {
     "output_type": "execute_result",
     "data": {
      "text/plain": [
       "0     From: sd345@city.ac.uk (Michael Collier) Subje...\n",
       "10    From: anasaz!karl@anasazi.com (Karl Dussik) Su...\n",
       "20    From: dotsonm@dmapub.dma.org (Mark Dotson) Sub...\n",
       "30    From: vgwlu@dunsell.calgary.chevron.com (greg ...\n",
       "40    From: david-s@hsr.no (David A. Sjoen) Subject:...\n",
       "50    From: ab@nova.cc.purdue.edu (Allen B) Subject:...\n",
       "60    From: Nanci Ann Miller <nm0w+@andrew.cmu.edu> ...\n",
       "70    From: weaver@chdasic.sps.mot.com (Dave Weaver)...\n",
       "80    From: annick@cortex.physiol.su.oz.au (Annick A...\n",
       "90    Subject: Vonnegut/atheism From: dmn@kepler.unh...\n",
       "Name: text, dtype: object"
      ]
     },
     "metadata": {},
     "execution_count": 28
    }
   ],
   "source": [
    "# using loc (by label)\n",
    "X.loc[::10, 'text'][0:10]"
   ]
  },
  {
   "cell_type": "code",
   "execution_count": 29,
   "metadata": {},
   "outputs": [
    {
     "output_type": "execute_result",
     "data": {
      "text/plain": [
       "                                                 text  category  \\\n",
       "0   From: sd345@city.ac.uk (Michael Collier) Subje...         1   \n",
       "10  From: anasaz!karl@anasazi.com (Karl Dussik) Su...         3   \n",
       "20  From: dotsonm@dmapub.dma.org (Mark Dotson) Sub...         3   \n",
       "30  From: vgwlu@dunsell.calgary.chevron.com (greg ...         2   \n",
       "40  From: david-s@hsr.no (David A. Sjoen) Subject:...         3   \n",
       "50  From: ab@nova.cc.purdue.edu (Allen B) Subject:...         1   \n",
       "60  From: Nanci Ann Miller <nm0w+@andrew.cmu.edu> ...         0   \n",
       "70  From: weaver@chdasic.sps.mot.com (Dave Weaver)...         3   \n",
       "80  From: annick@cortex.physiol.su.oz.au (Annick A...         2   \n",
       "90  Subject: Vonnegut/atheism From: dmn@kepler.unh...         0   \n",
       "\n",
       "             category_name  \n",
       "0            comp.graphics  \n",
       "10  soc.religion.christian  \n",
       "20  soc.religion.christian  \n",
       "30                 sci.med  \n",
       "40  soc.religion.christian  \n",
       "50           comp.graphics  \n",
       "60             alt.atheism  \n",
       "70  soc.religion.christian  \n",
       "80                 sci.med  \n",
       "90             alt.atheism  "
      ],
      "text/html": "<div>\n<style scoped>\n    .dataframe tbody tr th:only-of-type {\n        vertical-align: middle;\n    }\n\n    .dataframe tbody tr th {\n        vertical-align: top;\n    }\n\n    .dataframe thead th {\n        text-align: right;\n    }\n</style>\n<table border=\"1\" class=\"dataframe\">\n  <thead>\n    <tr style=\"text-align: right;\">\n      <th></th>\n      <th>text</th>\n      <th>category</th>\n      <th>category_name</th>\n    </tr>\n  </thead>\n  <tbody>\n    <tr>\n      <th>0</th>\n      <td>From: sd345@city.ac.uk (Michael Collier) Subje...</td>\n      <td>1</td>\n      <td>comp.graphics</td>\n    </tr>\n    <tr>\n      <th>10</th>\n      <td>From: anasaz!karl@anasazi.com (Karl Dussik) Su...</td>\n      <td>3</td>\n      <td>soc.religion.christian</td>\n    </tr>\n    <tr>\n      <th>20</th>\n      <td>From: dotsonm@dmapub.dma.org (Mark Dotson) Sub...</td>\n      <td>3</td>\n      <td>soc.religion.christian</td>\n    </tr>\n    <tr>\n      <th>30</th>\n      <td>From: vgwlu@dunsell.calgary.chevron.com (greg ...</td>\n      <td>2</td>\n      <td>sci.med</td>\n    </tr>\n    <tr>\n      <th>40</th>\n      <td>From: david-s@hsr.no (David A. Sjoen) Subject:...</td>\n      <td>3</td>\n      <td>soc.religion.christian</td>\n    </tr>\n    <tr>\n      <th>50</th>\n      <td>From: ab@nova.cc.purdue.edu (Allen B) Subject:...</td>\n      <td>1</td>\n      <td>comp.graphics</td>\n    </tr>\n    <tr>\n      <th>60</th>\n      <td>From: Nanci Ann Miller &lt;nm0w+@andrew.cmu.edu&gt; ...</td>\n      <td>0</td>\n      <td>alt.atheism</td>\n    </tr>\n    <tr>\n      <th>70</th>\n      <td>From: weaver@chdasic.sps.mot.com (Dave Weaver)...</td>\n      <td>3</td>\n      <td>soc.religion.christian</td>\n    </tr>\n    <tr>\n      <th>80</th>\n      <td>From: annick@cortex.physiol.su.oz.au (Annick A...</td>\n      <td>2</td>\n      <td>sci.med</td>\n    </tr>\n    <tr>\n      <th>90</th>\n      <td>Subject: Vonnegut/atheism From: dmn@kepler.unh...</td>\n      <td>0</td>\n      <td>alt.atheism</td>\n    </tr>\n  </tbody>\n</table>\n</div>"
     },
     "metadata": {},
     "execution_count": 29
    }
   ],
   "source": [
    "# standard query (Cannot simultaneously select rows and columns)\n",
    "X[::10][0:10]"
   ]
  },
  {
   "cell_type": "markdown",
   "metadata": {},
   "source": [
    "### ** >>> Exercise 2 (take home):** \n",
    "Experiment with other querying techniques using pandas dataframes. Refer to their [documentation](https://pandas.pydata.org/pandas-docs/stable/indexing.html) for more information. "
   ]
  },
  {
   "cell_type": "code",
   "execution_count": 30,
   "metadata": {},
   "outputs": [],
   "source": [
    "#Answer here\n"
   ]
  },
  {
   "cell_type": "markdown",
   "metadata": {},
   "source": [
    "---"
   ]
  },
  {
   "cell_type": "markdown",
   "metadata": {},
   "source": [
    "### ** >>> Exercise 3 (5 min): **  \n",
    "Try to fecth records belonging to the ```comp.graphics``` category, and query every 10th record. Only show the first 5 records."
   ]
  },
  {
   "cell_type": "code",
   "execution_count": 31,
   "metadata": {},
   "outputs": [],
   "source": [
    "# Answer here\n"
   ]
  },
  {
   "cell_type": "markdown",
   "metadata": {},
   "source": [
    "---"
   ]
  },
  {
   "cell_type": "markdown",
   "metadata": {},
   "source": [
    "## 4. Data Mining using Pandas"
   ]
  },
  {
   "cell_type": "markdown",
   "metadata": {},
   "source": [
    "Let's do some serious work now. Let's learn to program some of the ideas and concepts learned so far in the data mining course. This is the only way we can be convince ourselves of the true power of Pandas dataframes. "
   ]
  },
  {
   "cell_type": "markdown",
   "metadata": {},
   "source": [
    "### 4.1 Missing Values"
   ]
  },
  {
   "cell_type": "markdown",
   "metadata": {},
   "source": [
    "First, let us consider that our dataset has some *missing values* and we want to remove those values. In its current state our dataset has no missing values, but for practice sake we will add some records with missing values and then write some code to deal with these objects that contain missing values. You will see for yourself how easy it is to deal with missing values once you have your data transformed into a Pandas dataframe.\n",
    "\n",
    "Before we jump into coding, let us do a quick review of what we have learned in the Data Mining course. Specifically, let's review the methods used to deal with missing values.\n",
    "\n",
    "The most common reasons for having missing values in datasets has to do with how the data was initially collected. A good example of this is when a patient comes into the ER room, the data is collected as quickly as possible and depending on the conditions of the patients, the personal data being collected is either incomplete or partially complete. In the former and latter cases, we are presented with a case of \"missing values\". Knowing that patients data is particularly critical and can be used by the health authorities to conduct some interesting analysis, we as the data miners are left with the tough task of deciding what to do with these missing and incomplete records. We need to deal with these records because they are definitely going to affect our analysis or learning algorithms. So what do we do? There are several ways to handle missing values, and some of the more effective ways are presented below (Note: You can reference the slides - Session 1 Handout for the additional information).\n",
    "\n",
    "- **Eliminate Data Objects** - Here we completely discard records once they contain some missing values. This is the easiest approach and the one we will be using in this notebook. The immediate drawback of going with this approach is that you lose some information, and in some cases too much of it. Now imagine that half of the records have at least one or more missing values. Here you are presented with the tough decision of quantity vs quality. In any event, this decision must be made carefully, hence the reason for emphasizing it here in this notebook. \n",
    "\n",
    "- **Estimate Missing Values** - Here we try to estimate the missing values based on some criteria. Although this approach may be proven to be effective, it is not always the case, especially when we are dealing with sensitive data, like **Gender** or **Names**. For fields like **Address**, there could be ways to obtain these missing addresses using some data aggregation technique or obtain the information directly from other databases or public data sources.\n",
    "\n",
    "- **Ignore the missing value during analysis** - Here we basically ignore the missing values and proceed with our analysis. Although this is the most naive way to handle missing values it may proof effective, especially when the missing values includes information that is not important to the analysis being conducted. But think about it for a while. Would you ignore missing values, especially when in this day and age it is difficult to obtain high quality datasets? Again, there are some tradeoffs, which we will talk about later in the notebook.\n",
    "\n",
    "- **Replace with all possible values** - As an efficient and responsible data miner, we sometimes just need to put in the hard hours of work and find ways to makes up for these missing values. This last option is a very wise option for cases where data is scarce (which is almost always) or when dealing with sensitive data. Imagine that our dataset has an **Age** field, which contains many missing values. Since **Age** is a continuous variable, it means that we can build a separate model for calculating the age for the incomplete records based on some rule-based appraoch or probabilistic approach.  "
   ]
  },
  {
   "cell_type": "markdown",
   "metadata": {},
   "source": [
    "As mentioned earlier, we are going to go with the first option but you may be asked to compute missing values, using a different approach, as an exercise. Let's get to it!\n",
    "\n",
    "First we want to add the dummy records with missing values since the dataset we have is perfectly composed and cleaned that it contains no missing values. First let us check for ourselves that indeed the dataset doesn't contain any missing values. We can do that easily by using the following built-in function provided by Pandas.  "
   ]
  },
  {
   "cell_type": "code",
   "execution_count": 32,
   "metadata": {},
   "outputs": [
    {
     "output_type": "execute_result",
     "data": {
      "text/plain": [
       "       text  category  category_name\n",
       "0     False     False          False\n",
       "1     False     False          False\n",
       "2     False     False          False\n",
       "3     False     False          False\n",
       "4     False     False          False\n",
       "...     ...       ...            ...\n",
       "2252  False     False          False\n",
       "2253  False     False          False\n",
       "2254  False     False          False\n",
       "2255  False     False          False\n",
       "2256  False     False          False\n",
       "\n",
       "[2257 rows x 3 columns]"
      ],
      "text/html": "<div>\n<style scoped>\n    .dataframe tbody tr th:only-of-type {\n        vertical-align: middle;\n    }\n\n    .dataframe tbody tr th {\n        vertical-align: top;\n    }\n\n    .dataframe thead th {\n        text-align: right;\n    }\n</style>\n<table border=\"1\" class=\"dataframe\">\n  <thead>\n    <tr style=\"text-align: right;\">\n      <th></th>\n      <th>text</th>\n      <th>category</th>\n      <th>category_name</th>\n    </tr>\n  </thead>\n  <tbody>\n    <tr>\n      <th>0</th>\n      <td>False</td>\n      <td>False</td>\n      <td>False</td>\n    </tr>\n    <tr>\n      <th>1</th>\n      <td>False</td>\n      <td>False</td>\n      <td>False</td>\n    </tr>\n    <tr>\n      <th>2</th>\n      <td>False</td>\n      <td>False</td>\n      <td>False</td>\n    </tr>\n    <tr>\n      <th>3</th>\n      <td>False</td>\n      <td>False</td>\n      <td>False</td>\n    </tr>\n    <tr>\n      <th>4</th>\n      <td>False</td>\n      <td>False</td>\n      <td>False</td>\n    </tr>\n    <tr>\n      <th>...</th>\n      <td>...</td>\n      <td>...</td>\n      <td>...</td>\n    </tr>\n    <tr>\n      <th>2252</th>\n      <td>False</td>\n      <td>False</td>\n      <td>False</td>\n    </tr>\n    <tr>\n      <th>2253</th>\n      <td>False</td>\n      <td>False</td>\n      <td>False</td>\n    </tr>\n    <tr>\n      <th>2254</th>\n      <td>False</td>\n      <td>False</td>\n      <td>False</td>\n    </tr>\n    <tr>\n      <th>2255</th>\n      <td>False</td>\n      <td>False</td>\n      <td>False</td>\n    </tr>\n    <tr>\n      <th>2256</th>\n      <td>False</td>\n      <td>False</td>\n      <td>False</td>\n    </tr>\n  </tbody>\n</table>\n<p>2257 rows × 3 columns</p>\n</div>"
     },
     "metadata": {},
     "execution_count": 32
    }
   ],
   "source": [
    "X.isnull()"
   ]
  },
  {
   "cell_type": "markdown",
   "metadata": {},
   "source": [
    "The `isnull` function looks through the entire dataset for null values and returns `True` wherever it finds any missing field or record. As you will see above, and as we anticipated, our dataset looks clean and all values are present, since `isnull` returns **False** for all fields and records. But let us start to get our hands dirty and build a nice little function to check each of the records, column by column, and return a nice little message telling us the amount of missing records found. This excerice will also encourage us to explore other capabilities of pandas dataframes. In most cases, the build-in functions are good enough, but as you saw above when the entire table was printed, it is impossible to tell if there are missing records just by looking at preview of records manually, especially in cases where the dataset is huge. We want a more reliable way to achieve this. Let's get to it!"
   ]
  },
  {
   "cell_type": "code",
   "execution_count": 33,
   "metadata": {},
   "outputs": [
    {
     "output_type": "execute_result",
     "data": {
      "text/plain": [
       "text             (The amoung of missing records is: , 0)\n",
       "category         (The amoung of missing records is: , 0)\n",
       "category_name    (The amoung of missing records is: , 0)\n",
       "dtype: object"
      ]
     },
     "metadata": {},
     "execution_count": 33
    }
   ],
   "source": [
    "X.isnull().apply(lambda x: dmh.check_missing_values(x))"
   ]
  },
  {
   "cell_type": "markdown",
   "metadata": {},
   "source": [
    "Okay, a lot happened there in that one line of code, so let's break it down. First, with the `isnull` we tranformed our table into the **True/False** table you see above, where **True** in this case means that the data is missing and **False** means that the data is present. We then take the transformed table and apply a function to each row that essentially counts to see if there are missing values in each record and print out how much missing values we found. In other words the `check_missing_values` function looks through each field (attribute or column) in the dataset and counts how many missing values were found. \n",
    "\n",
    "There are many other clever ways to check for missing data, and that is what makes Pandas so beautiful to work with. You get the control you need as a data scientist or just a person working in data mining projects. Indeed, Pandas makes your life easy!"
   ]
  },
  {
   "cell_type": "markdown",
   "metadata": {},
   "source": [
    "---"
   ]
  },
  {
   "cell_type": "markdown",
   "metadata": {},
   "source": [
    "### >>> **Exercise 4 (5 min):** \n",
    "Let's try something different. Instead of calculating missing values by column let's try to calculate the missing values in every record instead of every column.  \n",
    "$Hint$ : `axis` parameter. Check the documentation for more information."
   ]
  },
  {
   "cell_type": "code",
   "execution_count": 34,
   "metadata": {},
   "outputs": [
    {
     "output_type": "execute_result",
     "data": {
      "text/plain": [
       "0       (The amoung of missing records is: , 0)\n",
       "1       (The amoung of missing records is: , 0)\n",
       "2       (The amoung of missing records is: , 0)\n",
       "3       (The amoung of missing records is: , 0)\n",
       "4       (The amoung of missing records is: , 0)\n",
       "                         ...                   \n",
       "2252    (The amoung of missing records is: , 0)\n",
       "2253    (The amoung of missing records is: , 0)\n",
       "2254    (The amoung of missing records is: , 0)\n",
       "2255    (The amoung of missing records is: , 0)\n",
       "2256    (The amoung of missing records is: , 0)\n",
       "Length: 2257, dtype: object"
      ]
     },
     "metadata": {},
     "execution_count": 34
    }
   ],
   "source": [
    "# Answer here\n",
    "X.isnull().apply(lambda x: dmh.check_missing_values(x), axis=1)"
   ]
  },
  {
   "cell_type": "markdown",
   "metadata": {},
   "source": [
    "---"
   ]
  },
  {
   "cell_type": "markdown",
   "metadata": {},
   "source": [
    "We have our function to check for missing records, now let us do something mischievous and insert some dummy data into the dataframe and test the reliability of our function. This dummy data is intended to corrupt the dataset. I mean this happens a lot today, especially when hackers want to hijack or corrupt a database.\n",
    "\n",
    "We will insert a `Series`, which is basically a \"one-dimensional labeled array capable of holding data of any type (integer, string, float, python objects, etc.). The axis labels are collectively called index.\", into our current dataframe."
   ]
  },
  {
   "cell_type": "code",
   "execution_count": 35,
   "metadata": {},
   "outputs": [],
   "source": [
    "dummy_series = pd.Series([\"dummy_record\", 1], index=[\"text\", \"category\"])"
   ]
  },
  {
   "cell_type": "code",
   "execution_count": 36,
   "metadata": {},
   "outputs": [
    {
     "output_type": "execute_result",
     "data": {
      "text/plain": [
       "text        dummy_record\n",
       "category               1\n",
       "dtype: object"
      ]
     },
     "metadata": {},
     "execution_count": 36
    }
   ],
   "source": [
    "dummy_series"
   ]
  },
  {
   "cell_type": "code",
   "execution_count": 37,
   "metadata": {},
   "outputs": [],
   "source": [
    "result_with_series = X.append(dummy_series, ignore_index=True)"
   ]
  },
  {
   "cell_type": "code",
   "execution_count": 38,
   "metadata": {},
   "outputs": [
    {
     "output_type": "execute_result",
     "data": {
      "text/plain": [
       "2258"
      ]
     },
     "metadata": {},
     "execution_count": 38
    }
   ],
   "source": [
    "# check if the records was commited into result\n",
    "len(result_with_series)"
   ]
  },
  {
   "cell_type": "markdown",
   "metadata": {},
   "source": [
    "Now we that we have added the record with some missing values. Let try our function and see if it can detect that there is a missing value on the resulting dataframe."
   ]
  },
  {
   "cell_type": "code",
   "execution_count": 39,
   "metadata": {},
   "outputs": [
    {
     "output_type": "execute_result",
     "data": {
      "text/plain": [
       "text             (The amoung of missing records is: , 0)\n",
       "category         (The amoung of missing records is: , 0)\n",
       "category_name    (The amoung of missing records is: , 1)\n",
       "dtype: object"
      ]
     },
     "metadata": {},
     "execution_count": 39
    }
   ],
   "source": [
    "result_with_series.isnull().apply(lambda x: dmh.check_missing_values(x))"
   ]
  },
  {
   "cell_type": "markdown",
   "metadata": {},
   "source": [
    "Indeed there is a missing value in this new dataframe. Specifically, the missing value comes from the `category_name` attribute. As I mentioned before, there are many ways to conduct specific operations on the dataframes. In this case let us use a simple dictionary and try to insert it into our original dataframe `X`. Notice that above we are not changing the `X` dataframe as results are directly applied to the assignment variable provided. But in the event that we just want to keep things simple, we can just directly apply the changes to `X` and assign it to itself as we will do below. This modification will create a need to remove this dummy record later on, which means that we need to learn more about Pandas dataframes. This is getting intense! But just relax, everything will be fine!"
   ]
  },
  {
   "cell_type": "code",
   "execution_count": 40,
   "metadata": {},
   "outputs": [],
   "source": [
    "# dummy record as dictionary format\n",
    "dummy_dict = [{'text': 'dummy_record',\n",
    "               'category': 1\n",
    "              }]"
   ]
  },
  {
   "cell_type": "code",
   "execution_count": 41,
   "metadata": {},
   "outputs": [],
   "source": [
    "X = X.append(dummy_dict, ignore_index=True)"
   ]
  },
  {
   "cell_type": "code",
   "execution_count": 42,
   "metadata": {},
   "outputs": [
    {
     "output_type": "execute_result",
     "data": {
      "text/plain": [
       "2258"
      ]
     },
     "metadata": {},
     "execution_count": 42
    }
   ],
   "source": [
    "len(X)"
   ]
  },
  {
   "cell_type": "code",
   "execution_count": 43,
   "metadata": {},
   "outputs": [
    {
     "output_type": "execute_result",
     "data": {
      "text/plain": [
       "text             (The amoung of missing records is: , 0)\n",
       "category         (The amoung of missing records is: , 0)\n",
       "category_name    (The amoung of missing records is: , 1)\n",
       "dtype: object"
      ]
     },
     "metadata": {},
     "execution_count": 43
    }
   ],
   "source": [
    "X.isnull().apply(lambda x: dmh.check_missing_values(x))"
   ]
  },
  {
   "cell_type": "markdown",
   "metadata": {},
   "source": [
    "So now that we can see that our data has missing values, we want to remove the records with missing values. The code to drop the record with missing that we just added, is the following:"
   ]
  },
  {
   "cell_type": "code",
   "execution_count": 44,
   "metadata": {},
   "outputs": [],
   "source": [
    "X.dropna(inplace=True)"
   ]
  },
  {
   "cell_type": "markdown",
   "metadata": {},
   "source": [
    "... and now let us test to see if we gotten rid of the records with missing values. "
   ]
  },
  {
   "cell_type": "code",
   "execution_count": 45,
   "metadata": {},
   "outputs": [
    {
     "output_type": "execute_result",
     "data": {
      "text/plain": [
       "text             (The amoung of missing records is: , 0)\n",
       "category         (The amoung of missing records is: , 0)\n",
       "category_name    (The amoung of missing records is: , 0)\n",
       "dtype: object"
      ]
     },
     "metadata": {},
     "execution_count": 45
    }
   ],
   "source": [
    "X.isnull().apply(lambda x: dmh.check_missing_values(x))"
   ]
  },
  {
   "cell_type": "code",
   "execution_count": 46,
   "metadata": {},
   "outputs": [
    {
     "output_type": "execute_result",
     "data": {
      "text/plain": [
       "2257"
      ]
     },
     "metadata": {},
     "execution_count": 46
    }
   ],
   "source": [
    "len(X)"
   ]
  },
  {
   "cell_type": "markdown",
   "metadata": {},
   "source": [
    "And we are back with our original dataset, clean and tidy as we want it. That's enough on how to deal with missing values, let us now move unto something more fun. "
   ]
  },
  {
   "cell_type": "markdown",
   "metadata": {},
   "source": [
    "But just in case you want to learn more about how to deal with missing data, refer to the official [Pandas documentation](http://pandas.pydata.org/pandas-docs/stable/missing_data.html#missing-data)."
   ]
  },
  {
   "cell_type": "markdown",
   "metadata": {},
   "source": [
    "---"
   ]
  },
  {
   "cell_type": "markdown",
   "metadata": {},
   "source": [
    "### >>> **Exercise 5 (take home)** \n",
    "There is an old saying that goes, \"The devil is in the details.\" When we are working with extremely large data, it's difficult to check records one by one (as we have been doing so far). And also, we don't even know what kind of missing values we are facing. Thus, \"debugging\" skills get sharper as we spend more time solving bugs. Let's focus on a different method to check for missing values and the kinds of missing values you may encounter. It's not easy to check for missing values as you will find out in a minute.\n",
    "\n",
    "Please check the data and the process below, describe what you observe and why it happened.   \n",
    "$Hint$ :  why `.isnull()` didn't work?"
   ]
  },
  {
   "cell_type": "code",
   "execution_count": 47,
   "metadata": {},
   "outputs": [
    {
     "output_type": "execute_result",
     "data": {
      "text/plain": [
       "  id missing_example\n",
       "0  A             NaN\n",
       "1  B             NaN\n",
       "2  C             NaN\n",
       "3  D            None\n",
       "4  E            None\n",
       "5  F                "
      ],
      "text/html": "<div>\n<style scoped>\n    .dataframe tbody tr th:only-of-type {\n        vertical-align: middle;\n    }\n\n    .dataframe tbody tr th {\n        vertical-align: top;\n    }\n\n    .dataframe thead th {\n        text-align: right;\n    }\n</style>\n<table border=\"1\" class=\"dataframe\">\n  <thead>\n    <tr style=\"text-align: right;\">\n      <th></th>\n      <th>id</th>\n      <th>missing_example</th>\n    </tr>\n  </thead>\n  <tbody>\n    <tr>\n      <th>0</th>\n      <td>A</td>\n      <td>NaN</td>\n    </tr>\n    <tr>\n      <th>1</th>\n      <td>B</td>\n      <td>NaN</td>\n    </tr>\n    <tr>\n      <th>2</th>\n      <td>C</td>\n      <td>NaN</td>\n    </tr>\n    <tr>\n      <th>3</th>\n      <td>D</td>\n      <td>None</td>\n    </tr>\n    <tr>\n      <th>4</th>\n      <td>E</td>\n      <td>None</td>\n    </tr>\n    <tr>\n      <th>5</th>\n      <td>F</td>\n      <td></td>\n    </tr>\n  </tbody>\n</table>\n</div>"
     },
     "metadata": {},
     "execution_count": 47
    }
   ],
   "source": [
    "import numpy as np\n",
    "\n",
    "NA_dict = [{ 'id': 'A', 'missing_example': np.nan },\n",
    "           { 'id': 'B'                    },\n",
    "           { 'id': 'C', 'missing_example': 'NaN'  },\n",
    "           { 'id': 'D', 'missing_example': 'None' },\n",
    "           { 'id': 'E', 'missing_example':  None  },\n",
    "           { 'id': 'F', 'missing_example': ''     }]\n",
    "\n",
    "NA_df = pd.DataFrame(NA_dict, columns = ['id','missing_example'])\n",
    "NA_df"
   ]
  },
  {
   "cell_type": "code",
   "execution_count": 48,
   "metadata": {},
   "outputs": [
    {
     "output_type": "execute_result",
     "data": {
      "text/plain": [
       "0     True\n",
       "1     True\n",
       "2    False\n",
       "3    False\n",
       "4     True\n",
       "5    False\n",
       "Name: missing_example, dtype: bool"
      ]
     },
     "metadata": {},
     "execution_count": 48
    }
   ],
   "source": [
    "NA_df['missing_example'].isnull()"
   ]
  },
  {
   "cell_type": "code",
   "execution_count": 49,
   "metadata": {},
   "outputs": [],
   "source": [
    "# Answer here\n"
   ]
  },
  {
   "cell_type": "markdown",
   "metadata": {},
   "source": [
    "---"
   ]
  },
  {
   "cell_type": "markdown",
   "metadata": {},
   "source": [
    "### 4.2 Dealing with Duplicate Data\n",
    "Dealing with duplicate data is just as painful as dealing with missing data. The worst case is that you have duplicate data that has missing values. But let us not get carried away. Let us stick with the basics. As we have learned in our Data Mining course, duplicate data can occur because of many reasons. The majority of the times it has to do with how we store data or how we collect and merge data. For instance, we may have collected and stored a tweet, and a retweet of that same tweet as two different records; this results in a case of data duplication; the only difference being that one is the original tweet and the other the retweeted one. Here you will learn that dealing with duplicate data is not as challenging as missing values. But this also all depends on what you consider as duplicate data, i.e., this all depends on your criteria for what is considered as a duplicate record and also what type of data you are dealing with. For textual data, it may not be so trivial as it is for numerical values or images. Anyhow, let us look at some code on how to deal with duplicate records in our `X` dataframe."
   ]
  },
  {
   "cell_type": "markdown",
   "metadata": {},
   "source": [
    "First, let us check how many duplicates we have in our current dataset. Here is the line of code that checks for duplicates; it is very similar to the `isnull` function that we used to check for missing values. "
   ]
  },
  {
   "cell_type": "code",
   "execution_count": 50,
   "metadata": {},
   "outputs": [
    {
     "output_type": "execute_result",
     "data": {
      "text/plain": [
       "0       False\n",
       "1       False\n",
       "2       False\n",
       "3       False\n",
       "4       False\n",
       "        ...  \n",
       "2252    False\n",
       "2253    False\n",
       "2254    False\n",
       "2255    False\n",
       "2256    False\n",
       "Length: 2257, dtype: bool"
      ]
     },
     "metadata": {},
     "execution_count": 50
    }
   ],
   "source": [
    "X.duplicated()"
   ]
  },
  {
   "cell_type": "markdown",
   "metadata": {},
   "source": [
    "We can also check the sum of duplicate records by simply doing:"
   ]
  },
  {
   "cell_type": "code",
   "execution_count": 51,
   "metadata": {},
   "outputs": [
    {
     "output_type": "execute_result",
     "data": {
      "text/plain": [
       "0"
      ]
     },
     "metadata": {},
     "execution_count": 51
    }
   ],
   "source": [
    "sum(X.duplicated())"
   ]
  },
  {
   "cell_type": "markdown",
   "metadata": {},
   "source": [
    "Based on that output, you may be asking why did the `duplicated` operation only returned one single column that indicates whether there is a duplicate record or not. So yes, all the `duplicated()` operation does is to check per records instead of per column. That is why the operation only returns one value instead of three values for each column. It appears that we don't have any duplicates since none of our records resulted in `True`. If we want to check for duplicates as we did above for some particular column, instead of all columns, we do something as shown below. As you may have noticed, in the case where we select some columns instead of checking by all columns, we are kind of lowering the criteria of what is considered as a duplicate record. So let us only check for duplicates by onyl checking the `text` attribute. "
   ]
  },
  {
   "cell_type": "code",
   "execution_count": 52,
   "metadata": {},
   "outputs": [
    {
     "output_type": "execute_result",
     "data": {
      "text/plain": [
       "0"
      ]
     },
     "metadata": {},
     "execution_count": 52
    }
   ],
   "source": [
    "sum(X.duplicated('text'))"
   ]
  },
  {
   "cell_type": "markdown",
   "metadata": {},
   "source": [
    "Now let us create some duplicated dummy records and append it to the main dataframe `X`. Subsequenlty, let us try to get rid of the duplicates."
   ]
  },
  {
   "cell_type": "code",
   "execution_count": 53,
   "metadata": {},
   "outputs": [],
   "source": [
    "dummy_duplicate_dict = [{\n",
    "                             'text': 'dummy record',\n",
    "                             'category': 1, \n",
    "                             'category_name': \"dummy category\"\n",
    "                        },\n",
    "                        {\n",
    "                             'text': 'dummy record',\n",
    "                             'category': 1, \n",
    "                             'category_name': \"dummy category\"\n",
    "                        }]"
   ]
  },
  {
   "cell_type": "code",
   "execution_count": 54,
   "metadata": {},
   "outputs": [],
   "source": [
    "X = X.append(dummy_duplicate_dict, ignore_index=True)"
   ]
  },
  {
   "cell_type": "code",
   "execution_count": 55,
   "metadata": {},
   "outputs": [
    {
     "output_type": "execute_result",
     "data": {
      "text/plain": [
       "2259"
      ]
     },
     "metadata": {},
     "execution_count": 55
    }
   ],
   "source": [
    "len(X)"
   ]
  },
  {
   "cell_type": "code",
   "execution_count": 56,
   "metadata": {},
   "outputs": [
    {
     "output_type": "execute_result",
     "data": {
      "text/plain": [
       "1"
      ]
     },
     "metadata": {},
     "execution_count": 56
    }
   ],
   "source": [
    "sum(X.duplicated('text'))"
   ]
  },
  {
   "cell_type": "markdown",
   "metadata": {},
   "source": [
    "We have added the dummy duplicates to `X`. Now we are faced with the decision as to what to do with the duplicated records after we have found it. In our case, we want to get rid of all the duplicated records without preserving a copy. We can simply do that with the following line of code:"
   ]
  },
  {
   "cell_type": "code",
   "execution_count": 57,
   "metadata": {},
   "outputs": [],
   "source": [
    "X.drop_duplicates(keep=False, inplace=True) # inplace applies changes directly on our dataframe, keep means we dont save the 1st file"
   ]
  },
  {
   "cell_type": "code",
   "execution_count": 58,
   "metadata": {},
   "outputs": [
    {
     "output_type": "execute_result",
     "data": {
      "text/plain": [
       "2257"
      ]
     },
     "metadata": {},
     "execution_count": 58
    }
   ],
   "source": [
    "len(X)"
   ]
  },
  {
   "cell_type": "markdown",
   "metadata": {},
   "source": [
    "Check out the Pandas [documentation](http://pandas.pydata.org/pandas-docs/stable/indexing.html?highlight=duplicate#duplicate-data) for more information on dealing with duplicate data."
   ]
  },
  {
   "cell_type": "markdown",
   "metadata": {},
   "source": [
    "---"
   ]
  },
  {
   "cell_type": "markdown",
   "metadata": {},
   "source": [
    "## 5.  Data Preprocessing\n",
    "In the Data Mining course we learned about the many ways of performing data preprocessing. In reality, the list is quiet general as the specifics of what data preprocessing involves is too much to cover in one course. This is especially true when you are dealing with unstructured data, as we are dealing with in this particular notebook. But let us look at some examples for each data preprocessing technique that we learned in the class. We will cover each item one by one, and provide example code for each category. You will learn how to peform each of the operations, using Pandas, that cover the essentials to Preprocessing in Data Mining. We are not going to follow any strict order, but the items we will cover in the preprocessing section of this notebook are as follows:\n",
    "\n",
    "- Aggregation\n",
    "- Sampling\n",
    "- Dimensionality Reduction\n",
    "- Feature Subset Selection\n",
    "- Feature Creation\n",
    "- Discretization and Binarization\n",
    "- Attribute Transformation"
   ]
  },
  {
   "cell_type": "markdown",
   "metadata": {},
   "source": [
    "---"
   ]
  },
  {
   "cell_type": "markdown",
   "metadata": {},
   "source": [
    "### 5.1 Sampling\n",
    "The first concept that we are going to cover from the above list is sampling. Sampling refers to the technique used for selecting data. The functionalities that we use to  selected data through queries provided by Pandas are actually basic methods for sampling. The reasons for sampling are sometimes due to the size of data -- we want a smaller subset of the data that is still representatitive enough as compared to the original dataset. \n",
    "\n",
    "We don't have a problem of size in our current dataset since it is just a couple thousand records long. But if we pay attention to how much content is included in the `text` field of each of those records, you will realize that sampling may not be a bad idea after all. In fact, we have already done some sampling by just reducing the records we are using here in this notebook; remember that we are only using four categories from the all the 20 categories available. Let us get an idea on how to sample using pandas operations."
   ]
  },
  {
   "cell_type": "code",
   "execution_count": 59,
   "metadata": {},
   "outputs": [],
   "source": [
    "X_sample = X.sample(n=1000) #random state"
   ]
  },
  {
   "cell_type": "code",
   "execution_count": 60,
   "metadata": {},
   "outputs": [
    {
     "output_type": "execute_result",
     "data": {
      "text/plain": [
       "1000"
      ]
     },
     "metadata": {},
     "execution_count": 60
    }
   ],
   "source": [
    "len(X_sample)"
   ]
  },
  {
   "cell_type": "code",
   "execution_count": 61,
   "metadata": {},
   "outputs": [
    {
     "output_type": "execute_result",
     "data": {
      "text/plain": [
       "                                                   text  category  \\\n",
       "1515  From: kmr4@po.CWRU.edu (Keith M. Ryan) Subject...         0   \n",
       "1510  From: fox@graphics.cs.nyu.edu (David Fox) Subj...         1   \n",
       "1477  From: noring@netcom.com (Jon Noring) Subject: ...         2   \n",
       "2105  From: daniels@math.ufl.edu (TV's Big Dealer) S...         3   \n",
       "\n",
       "               category_name  \n",
       "1515             alt.atheism  \n",
       "1510           comp.graphics  \n",
       "1477                 sci.med  \n",
       "2105  soc.religion.christian  "
      ],
      "text/html": "<div>\n<style scoped>\n    .dataframe tbody tr th:only-of-type {\n        vertical-align: middle;\n    }\n\n    .dataframe tbody tr th {\n        vertical-align: top;\n    }\n\n    .dataframe thead th {\n        text-align: right;\n    }\n</style>\n<table border=\"1\" class=\"dataframe\">\n  <thead>\n    <tr style=\"text-align: right;\">\n      <th></th>\n      <th>text</th>\n      <th>category</th>\n      <th>category_name</th>\n    </tr>\n  </thead>\n  <tbody>\n    <tr>\n      <th>1515</th>\n      <td>From: kmr4@po.CWRU.edu (Keith M. Ryan) Subject...</td>\n      <td>0</td>\n      <td>alt.atheism</td>\n    </tr>\n    <tr>\n      <th>1510</th>\n      <td>From: fox@graphics.cs.nyu.edu (David Fox) Subj...</td>\n      <td>1</td>\n      <td>comp.graphics</td>\n    </tr>\n    <tr>\n      <th>1477</th>\n      <td>From: noring@netcom.com (Jon Noring) Subject: ...</td>\n      <td>2</td>\n      <td>sci.med</td>\n    </tr>\n    <tr>\n      <th>2105</th>\n      <td>From: daniels@math.ufl.edu (TV's Big Dealer) S...</td>\n      <td>3</td>\n      <td>soc.religion.christian</td>\n    </tr>\n  </tbody>\n</table>\n</div>"
     },
     "metadata": {},
     "execution_count": 61
    }
   ],
   "source": [
    "X_sample[0:4]"
   ]
  },
  {
   "cell_type": "markdown",
   "metadata": {},
   "source": [
    "---"
   ]
  },
  {
   "cell_type": "markdown",
   "metadata": {},
   "source": [
    "### >>> Exercise 6 (take home):\n",
    "Notice any changes to the `X` dataframe? What are they? Report every change you noticed as compared to the previous state of `X`. Feel free to query and look more closely at the dataframe for these changes."
   ]
  },
  {
   "cell_type": "code",
   "execution_count": 62,
   "metadata": {},
   "outputs": [],
   "source": [
    "# Answer here\n"
   ]
  },
  {
   "cell_type": "markdown",
   "metadata": {},
   "source": [
    "---"
   ]
  },
  {
   "cell_type": "markdown",
   "metadata": {},
   "source": [
    "Let's do something cool here while we are working with sampling! Let us look at the distribution of categories in both the sample and original dataset. Let us visualize and analyze the disparity between the two datasets. To generate some visualizations, we are going to use `matplotlib` python library. With matplotlib, things are faster and compatability-wise it may just be the best visualization library for visualizing content extracted from dataframes and when using Jupyter notebooks. Let's take a loot at the magic of `matplotlib` below."
   ]
  },
  {
   "cell_type": "code",
   "execution_count": 63,
   "metadata": {},
   "outputs": [],
   "source": [
    "import matplotlib.pyplot as plt\n",
    "%matplotlib inline"
   ]
  },
  {
   "cell_type": "code",
   "execution_count": 64,
   "metadata": {},
   "outputs": [
    {
     "output_type": "execute_result",
     "data": {
      "text/plain": [
       "['alt.atheism', 'soc.religion.christian', 'comp.graphics', 'sci.med']"
      ]
     },
     "metadata": {},
     "execution_count": 64
    }
   ],
   "source": [
    "categories"
   ]
  },
  {
   "cell_type": "code",
   "execution_count": 65,
   "metadata": {
    "tags": []
   },
   "outputs": [
    {
     "output_type": "stream",
     "name": "stdout",
     "text": [
      "soc.religion.christian    599\nsci.med                   594\ncomp.graphics             584\nalt.atheism               480\nName: category_name, dtype: int64\n"
     ]
    },
    {
     "output_type": "execute_result",
     "data": {
      "text/plain": [
       "<matplotlib.axes._subplots.AxesSubplot at 0x7f6eb89b4e10>"
      ]
     },
     "metadata": {},
     "execution_count": 65
    },
    {
     "output_type": "display_data",
     "data": {
      "text/plain": "<Figure size 576x216 with 1 Axes>",
      "image/svg+xml": "<?xml version=\"1.0\" encoding=\"utf-8\" standalone=\"no\"?>\n<!DOCTYPE svg PUBLIC \"-//W3C//DTD SVG 1.1//EN\"\n  \"http://www.w3.org/Graphics/SVG/1.1/DTD/svg11.dtd\">\n<!-- Created with matplotlib (https://matplotlib.org/) -->\n<svg height=\"210.244063pt\" version=\"1.1\" viewBox=\"0 0 488.79625 210.244063\" width=\"488.79625pt\" xmlns=\"http://www.w3.org/2000/svg\" xmlns:xlink=\"http://www.w3.org/1999/xlink\">\n <defs>\n  <style type=\"text/css\">\n*{stroke-linecap:butt;stroke-linejoin:round;}\n  </style>\n </defs>\n <g id=\"figure_1\">\n  <g id=\"patch_1\">\n   <path d=\"M 0 210.244063 \nL 488.79625 210.244063 \nL 488.79625 0 \nL 0 0 \nz\n\" style=\"fill:none;\"/>\n  </g>\n  <g id=\"axes_1\">\n   <g id=\"patch_2\">\n    <path d=\"M 35.19625 185.398125 \nL 481.59625 185.398125 \nL 481.59625 22.318125 \nL 35.19625 22.318125 \nz\n\" style=\"fill:#ffffff;\"/>\n   </g>\n   <g id=\"patch_3\">\n    <path clip-path=\"url(#pdfb225a181)\" d=\"M 63.09625 185.398125 \nL 118.89625 185.398125 \nL 118.89625 35.113633 \nL 63.09625 35.113633 \nz\n\" style=\"fill:#1f77b4;\"/>\n   </g>\n   <g id=\"patch_4\">\n    <path clip-path=\"url(#pdfb225a181)\" d=\"M 174.69625 185.398125 \nL 230.49625 185.398125 \nL 230.49625 36.368094 \nL 174.69625 36.368094 \nz\n\" style=\"fill:#1f77b4;\"/>\n   </g>\n   <g id=\"patch_5\">\n    <path clip-path=\"url(#pdfb225a181)\" d=\"M 286.29625 185.398125 \nL 342.09625 185.398125 \nL 342.09625 38.877017 \nL 286.29625 38.877017 \nz\n\" style=\"fill:#1f77b4;\"/>\n   </g>\n   <g id=\"patch_6\">\n    <path clip-path=\"url(#pdfb225a181)\" d=\"M 397.89625 185.398125 \nL 453.69625 185.398125 \nL 453.69625 64.969817 \nL 397.89625 64.969817 \nz\n\" style=\"fill:#1f77b4;\"/>\n   </g>\n   <g id=\"matplotlib.axis_1\">\n    <g id=\"xtick_1\">\n     <g id=\"line2d_1\">\n      <defs>\n       <path d=\"M 0 0 \nL 0 3.5 \n\" id=\"m8f452a7985\" style=\"stroke:#000000;stroke-width:0.8;\"/>\n      </defs>\n      <g>\n       <use style=\"stroke:#000000;stroke-width:0.8;\" x=\"90.99625\" xlink:href=\"#m8f452a7985\" y=\"185.398125\"/>\n      </g>\n     </g>\n     <g id=\"text_1\">\n      <!-- soc.religion.christian -->\n      <defs>\n       <path d=\"M 44.28125 53.078125 \nL 44.28125 44.578125 \nQ 40.484375 46.53125 36.375 47.5 \nQ 32.28125 48.484375 27.875 48.484375 \nQ 21.1875 48.484375 17.84375 46.4375 \nQ 14.5 44.390625 14.5 40.28125 \nQ 14.5 37.15625 16.890625 35.375 \nQ 19.28125 33.59375 26.515625 31.984375 \nL 29.59375 31.296875 \nQ 39.15625 29.25 43.1875 25.515625 \nQ 47.21875 21.78125 47.21875 15.09375 \nQ 47.21875 7.46875 41.1875 3.015625 \nQ 35.15625 -1.421875 24.609375 -1.421875 \nQ 20.21875 -1.421875 15.453125 -0.5625 \nQ 10.6875 0.296875 5.421875 2 \nL 5.421875 11.28125 \nQ 10.40625 8.6875 15.234375 7.390625 \nQ 20.0625 6.109375 24.8125 6.109375 \nQ 31.15625 6.109375 34.5625 8.28125 \nQ 37.984375 10.453125 37.984375 14.40625 \nQ 37.984375 18.0625 35.515625 20.015625 \nQ 33.0625 21.96875 24.703125 23.78125 \nL 21.578125 24.515625 \nQ 13.234375 26.265625 9.515625 29.90625 \nQ 5.8125 33.546875 5.8125 39.890625 \nQ 5.8125 47.609375 11.28125 51.796875 \nQ 16.75 56 26.8125 56 \nQ 31.78125 56 36.171875 55.265625 \nQ 40.578125 54.546875 44.28125 53.078125 \nz\n\" id=\"DejaVuSans-115\"/>\n       <path d=\"M 30.609375 48.390625 \nQ 23.390625 48.390625 19.1875 42.75 \nQ 14.984375 37.109375 14.984375 27.296875 \nQ 14.984375 17.484375 19.15625 11.84375 \nQ 23.34375 6.203125 30.609375 6.203125 \nQ 37.796875 6.203125 41.984375 11.859375 \nQ 46.1875 17.53125 46.1875 27.296875 \nQ 46.1875 37.015625 41.984375 42.703125 \nQ 37.796875 48.390625 30.609375 48.390625 \nz\nM 30.609375 56 \nQ 42.328125 56 49.015625 48.375 \nQ 55.71875 40.765625 55.71875 27.296875 \nQ 55.71875 13.875 49.015625 6.21875 \nQ 42.328125 -1.421875 30.609375 -1.421875 \nQ 18.84375 -1.421875 12.171875 6.21875 \nQ 5.515625 13.875 5.515625 27.296875 \nQ 5.515625 40.765625 12.171875 48.375 \nQ 18.84375 56 30.609375 56 \nz\n\" id=\"DejaVuSans-111\"/>\n       <path d=\"M 48.78125 52.59375 \nL 48.78125 44.1875 \nQ 44.96875 46.296875 41.140625 47.34375 \nQ 37.3125 48.390625 33.40625 48.390625 \nQ 24.65625 48.390625 19.8125 42.84375 \nQ 14.984375 37.3125 14.984375 27.296875 \nQ 14.984375 17.28125 19.8125 11.734375 \nQ 24.65625 6.203125 33.40625 6.203125 \nQ 37.3125 6.203125 41.140625 7.25 \nQ 44.96875 8.296875 48.78125 10.40625 \nL 48.78125 2.09375 \nQ 45.015625 0.34375 40.984375 -0.53125 \nQ 36.96875 -1.421875 32.421875 -1.421875 \nQ 20.0625 -1.421875 12.78125 6.34375 \nQ 5.515625 14.109375 5.515625 27.296875 \nQ 5.515625 40.671875 12.859375 48.328125 \nQ 20.21875 56 33.015625 56 \nQ 37.15625 56 41.109375 55.140625 \nQ 45.0625 54.296875 48.78125 52.59375 \nz\n\" id=\"DejaVuSans-99\"/>\n       <path d=\"M 10.6875 12.40625 \nL 21 12.40625 \nL 21 0 \nL 10.6875 0 \nz\n\" id=\"DejaVuSans-46\"/>\n       <path d=\"M 41.109375 46.296875 \nQ 39.59375 47.171875 37.8125 47.578125 \nQ 36.03125 48 33.890625 48 \nQ 26.265625 48 22.1875 43.046875 \nQ 18.109375 38.09375 18.109375 28.8125 \nL 18.109375 0 \nL 9.078125 0 \nL 9.078125 54.6875 \nL 18.109375 54.6875 \nL 18.109375 46.1875 \nQ 20.953125 51.171875 25.484375 53.578125 \nQ 30.03125 56 36.53125 56 \nQ 37.453125 56 38.578125 55.875 \nQ 39.703125 55.765625 41.0625 55.515625 \nz\n\" id=\"DejaVuSans-114\"/>\n       <path d=\"M 56.203125 29.59375 \nL 56.203125 25.203125 \nL 14.890625 25.203125 \nQ 15.484375 15.921875 20.484375 11.0625 \nQ 25.484375 6.203125 34.421875 6.203125 \nQ 39.59375 6.203125 44.453125 7.46875 \nQ 49.3125 8.734375 54.109375 11.28125 \nL 54.109375 2.78125 \nQ 49.265625 0.734375 44.1875 -0.34375 \nQ 39.109375 -1.421875 33.890625 -1.421875 \nQ 20.796875 -1.421875 13.15625 6.1875 \nQ 5.515625 13.8125 5.515625 26.8125 \nQ 5.515625 40.234375 12.765625 48.109375 \nQ 20.015625 56 32.328125 56 \nQ 43.359375 56 49.78125 48.890625 \nQ 56.203125 41.796875 56.203125 29.59375 \nz\nM 47.21875 32.234375 \nQ 47.125 39.59375 43.09375 43.984375 \nQ 39.0625 48.390625 32.421875 48.390625 \nQ 24.90625 48.390625 20.390625 44.140625 \nQ 15.875 39.890625 15.1875 32.171875 \nz\n\" id=\"DejaVuSans-101\"/>\n       <path d=\"M 9.421875 75.984375 \nL 18.40625 75.984375 \nL 18.40625 0 \nL 9.421875 0 \nz\n\" id=\"DejaVuSans-108\"/>\n       <path d=\"M 9.421875 54.6875 \nL 18.40625 54.6875 \nL 18.40625 0 \nL 9.421875 0 \nz\nM 9.421875 75.984375 \nL 18.40625 75.984375 \nL 18.40625 64.59375 \nL 9.421875 64.59375 \nz\n\" id=\"DejaVuSans-105\"/>\n       <path d=\"M 45.40625 27.984375 \nQ 45.40625 37.75 41.375 43.109375 \nQ 37.359375 48.484375 30.078125 48.484375 \nQ 22.859375 48.484375 18.828125 43.109375 \nQ 14.796875 37.75 14.796875 27.984375 \nQ 14.796875 18.265625 18.828125 12.890625 \nQ 22.859375 7.515625 30.078125 7.515625 \nQ 37.359375 7.515625 41.375 12.890625 \nQ 45.40625 18.265625 45.40625 27.984375 \nz\nM 54.390625 6.78125 \nQ 54.390625 -7.171875 48.1875 -13.984375 \nQ 42 -20.796875 29.203125 -20.796875 \nQ 24.46875 -20.796875 20.265625 -20.09375 \nQ 16.0625 -19.390625 12.109375 -17.921875 \nL 12.109375 -9.1875 \nQ 16.0625 -11.328125 19.921875 -12.34375 \nQ 23.78125 -13.375 27.78125 -13.375 \nQ 36.625 -13.375 41.015625 -8.765625 \nQ 45.40625 -4.15625 45.40625 5.171875 \nL 45.40625 9.625 \nQ 42.625 4.78125 38.28125 2.390625 \nQ 33.9375 0 27.875 0 \nQ 17.828125 0 11.671875 7.65625 \nQ 5.515625 15.328125 5.515625 27.984375 \nQ 5.515625 40.671875 11.671875 48.328125 \nQ 17.828125 56 27.875 56 \nQ 33.9375 56 38.28125 53.609375 \nQ 42.625 51.21875 45.40625 46.390625 \nL 45.40625 54.6875 \nL 54.390625 54.6875 \nz\n\" id=\"DejaVuSans-103\"/>\n       <path d=\"M 54.890625 33.015625 \nL 54.890625 0 \nL 45.90625 0 \nL 45.90625 32.71875 \nQ 45.90625 40.484375 42.875 44.328125 \nQ 39.84375 48.1875 33.796875 48.1875 \nQ 26.515625 48.1875 22.3125 43.546875 \nQ 18.109375 38.921875 18.109375 30.90625 \nL 18.109375 0 \nL 9.078125 0 \nL 9.078125 54.6875 \nL 18.109375 54.6875 \nL 18.109375 46.1875 \nQ 21.34375 51.125 25.703125 53.5625 \nQ 30.078125 56 35.796875 56 \nQ 45.21875 56 50.046875 50.171875 \nQ 54.890625 44.34375 54.890625 33.015625 \nz\n\" id=\"DejaVuSans-110\"/>\n       <path d=\"M 54.890625 33.015625 \nL 54.890625 0 \nL 45.90625 0 \nL 45.90625 32.71875 \nQ 45.90625 40.484375 42.875 44.328125 \nQ 39.84375 48.1875 33.796875 48.1875 \nQ 26.515625 48.1875 22.3125 43.546875 \nQ 18.109375 38.921875 18.109375 30.90625 \nL 18.109375 0 \nL 9.078125 0 \nL 9.078125 75.984375 \nL 18.109375 75.984375 \nL 18.109375 46.1875 \nQ 21.34375 51.125 25.703125 53.5625 \nQ 30.078125 56 35.796875 56 \nQ 45.21875 56 50.046875 50.171875 \nQ 54.890625 44.34375 54.890625 33.015625 \nz\n\" id=\"DejaVuSans-104\"/>\n       <path d=\"M 18.3125 70.21875 \nL 18.3125 54.6875 \nL 36.8125 54.6875 \nL 36.8125 47.703125 \nL 18.3125 47.703125 \nL 18.3125 18.015625 \nQ 18.3125 11.328125 20.140625 9.421875 \nQ 21.96875 7.515625 27.59375 7.515625 \nL 36.8125 7.515625 \nL 36.8125 0 \nL 27.59375 0 \nQ 17.1875 0 13.234375 3.875 \nQ 9.28125 7.765625 9.28125 18.015625 \nL 9.28125 47.703125 \nL 2.6875 47.703125 \nL 2.6875 54.6875 \nL 9.28125 54.6875 \nL 9.28125 70.21875 \nz\n\" id=\"DejaVuSans-116\"/>\n       <path d=\"M 34.28125 27.484375 \nQ 23.390625 27.484375 19.1875 25 \nQ 14.984375 22.515625 14.984375 16.5 \nQ 14.984375 11.71875 18.140625 8.90625 \nQ 21.296875 6.109375 26.703125 6.109375 \nQ 34.1875 6.109375 38.703125 11.40625 \nQ 43.21875 16.703125 43.21875 25.484375 \nL 43.21875 27.484375 \nz\nM 52.203125 31.203125 \nL 52.203125 0 \nL 43.21875 0 \nL 43.21875 8.296875 \nQ 40.140625 3.328125 35.546875 0.953125 \nQ 30.953125 -1.421875 24.3125 -1.421875 \nQ 15.921875 -1.421875 10.953125 3.296875 \nQ 6 8.015625 6 15.921875 \nQ 6 25.140625 12.171875 29.828125 \nQ 18.359375 34.515625 30.609375 34.515625 \nL 43.21875 34.515625 \nL 43.21875 35.40625 \nQ 43.21875 41.609375 39.140625 45 \nQ 35.0625 48.390625 27.6875 48.390625 \nQ 23 48.390625 18.546875 47.265625 \nQ 14.109375 46.140625 10.015625 43.890625 \nL 10.015625 52.203125 \nQ 14.9375 54.109375 19.578125 55.046875 \nQ 24.21875 56 28.609375 56 \nQ 40.484375 56 46.34375 49.84375 \nQ 52.203125 43.703125 52.203125 31.203125 \nz\n\" id=\"DejaVuSans-97\"/>\n      </defs>\n      <g transform=\"translate(34.093594 200.756406)scale(0.11 -0.11)\">\n       <use xlink:href=\"#DejaVuSans-115\"/>\n       <use x=\"52.099609\" xlink:href=\"#DejaVuSans-111\"/>\n       <use x=\"113.28125\" xlink:href=\"#DejaVuSans-99\"/>\n       <use x=\"168.261719\" xlink:href=\"#DejaVuSans-46\"/>\n       <use x=\"200.048828\" xlink:href=\"#DejaVuSans-114\"/>\n       <use x=\"238.912109\" xlink:href=\"#DejaVuSans-101\"/>\n       <use x=\"300.435547\" xlink:href=\"#DejaVuSans-108\"/>\n       <use x=\"328.21875\" xlink:href=\"#DejaVuSans-105\"/>\n       <use x=\"356.001953\" xlink:href=\"#DejaVuSans-103\"/>\n       <use x=\"419.478516\" xlink:href=\"#DejaVuSans-105\"/>\n       <use x=\"447.261719\" xlink:href=\"#DejaVuSans-111\"/>\n       <use x=\"508.443359\" xlink:href=\"#DejaVuSans-110\"/>\n       <use x=\"571.822266\" xlink:href=\"#DejaVuSans-46\"/>\n       <use x=\"603.609375\" xlink:href=\"#DejaVuSans-99\"/>\n       <use x=\"658.589844\" xlink:href=\"#DejaVuSans-104\"/>\n       <use x=\"721.96875\" xlink:href=\"#DejaVuSans-114\"/>\n       <use x=\"763.082031\" xlink:href=\"#DejaVuSans-105\"/>\n       <use x=\"790.865234\" xlink:href=\"#DejaVuSans-115\"/>\n       <use x=\"842.964844\" xlink:href=\"#DejaVuSans-116\"/>\n       <use x=\"882.173828\" xlink:href=\"#DejaVuSans-105\"/>\n       <use x=\"909.957031\" xlink:href=\"#DejaVuSans-97\"/>\n       <use x=\"971.236328\" xlink:href=\"#DejaVuSans-110\"/>\n      </g>\n     </g>\n    </g>\n    <g id=\"xtick_2\">\n     <g id=\"line2d_2\">\n      <g>\n       <use style=\"stroke:#000000;stroke-width:0.8;\" x=\"202.59625\" xlink:href=\"#m8f452a7985\" y=\"185.398125\"/>\n      </g>\n     </g>\n     <g id=\"text_2\">\n      <!-- sci.med -->\n      <defs>\n       <path d=\"M 52 44.1875 \nQ 55.375 50.25 60.0625 53.125 \nQ 64.75 56 71.09375 56 \nQ 79.640625 56 84.28125 50.015625 \nQ 88.921875 44.046875 88.921875 33.015625 \nL 88.921875 0 \nL 79.890625 0 \nL 79.890625 32.71875 \nQ 79.890625 40.578125 77.09375 44.375 \nQ 74.3125 48.1875 68.609375 48.1875 \nQ 61.625 48.1875 57.5625 43.546875 \nQ 53.515625 38.921875 53.515625 30.90625 \nL 53.515625 0 \nL 44.484375 0 \nL 44.484375 32.71875 \nQ 44.484375 40.625 41.703125 44.40625 \nQ 38.921875 48.1875 33.109375 48.1875 \nQ 26.21875 48.1875 22.15625 43.53125 \nQ 18.109375 38.875 18.109375 30.90625 \nL 18.109375 0 \nL 9.078125 0 \nL 9.078125 54.6875 \nL 18.109375 54.6875 \nL 18.109375 46.1875 \nQ 21.1875 51.21875 25.484375 53.609375 \nQ 29.78125 56 35.6875 56 \nQ 41.65625 56 45.828125 52.96875 \nQ 50 49.953125 52 44.1875 \nz\n\" id=\"DejaVuSans-109\"/>\n       <path d=\"M 45.40625 46.390625 \nL 45.40625 75.984375 \nL 54.390625 75.984375 \nL 54.390625 0 \nL 45.40625 0 \nL 45.40625 8.203125 \nQ 42.578125 3.328125 38.25 0.953125 \nQ 33.9375 -1.421875 27.875 -1.421875 \nQ 17.96875 -1.421875 11.734375 6.484375 \nQ 5.515625 14.40625 5.515625 27.296875 \nQ 5.515625 40.1875 11.734375 48.09375 \nQ 17.96875 56 27.875 56 \nQ 33.9375 56 38.25 53.625 \nQ 42.578125 51.265625 45.40625 46.390625 \nz\nM 14.796875 27.296875 \nQ 14.796875 17.390625 18.875 11.75 \nQ 22.953125 6.109375 30.078125 6.109375 \nQ 37.203125 6.109375 41.296875 11.75 \nQ 45.40625 17.390625 45.40625 27.296875 \nQ 45.40625 37.203125 41.296875 42.84375 \nQ 37.203125 48.484375 30.078125 48.484375 \nQ 22.953125 48.484375 18.875 42.84375 \nQ 14.796875 37.203125 14.796875 27.296875 \nz\n\" id=\"DejaVuSans-100\"/>\n      </defs>\n      <g transform=\"translate(181.197812 200.756406)scale(0.11 -0.11)\">\n       <use xlink:href=\"#DejaVuSans-115\"/>\n       <use x=\"52.099609\" xlink:href=\"#DejaVuSans-99\"/>\n       <use x=\"107.080078\" xlink:href=\"#DejaVuSans-105\"/>\n       <use x=\"134.863281\" xlink:href=\"#DejaVuSans-46\"/>\n       <use x=\"166.650391\" xlink:href=\"#DejaVuSans-109\"/>\n       <use x=\"264.0625\" xlink:href=\"#DejaVuSans-101\"/>\n       <use x=\"325.585938\" xlink:href=\"#DejaVuSans-100\"/>\n      </g>\n     </g>\n    </g>\n    <g id=\"xtick_3\">\n     <g id=\"line2d_3\">\n      <g>\n       <use style=\"stroke:#000000;stroke-width:0.8;\" x=\"314.19625\" xlink:href=\"#m8f452a7985\" y=\"185.398125\"/>\n      </g>\n     </g>\n     <g id=\"text_3\">\n      <!-- comp.graphics -->\n      <defs>\n       <path d=\"M 18.109375 8.203125 \nL 18.109375 -20.796875 \nL 9.078125 -20.796875 \nL 9.078125 54.6875 \nL 18.109375 54.6875 \nL 18.109375 46.390625 \nQ 20.953125 51.265625 25.265625 53.625 \nQ 29.59375 56 35.59375 56 \nQ 45.5625 56 51.78125 48.09375 \nQ 58.015625 40.1875 58.015625 27.296875 \nQ 58.015625 14.40625 51.78125 6.484375 \nQ 45.5625 -1.421875 35.59375 -1.421875 \nQ 29.59375 -1.421875 25.265625 0.953125 \nQ 20.953125 3.328125 18.109375 8.203125 \nz\nM 48.6875 27.296875 \nQ 48.6875 37.203125 44.609375 42.84375 \nQ 40.53125 48.484375 33.40625 48.484375 \nQ 26.265625 48.484375 22.1875 42.84375 \nQ 18.109375 37.203125 18.109375 27.296875 \nQ 18.109375 17.390625 22.1875 11.75 \nQ 26.265625 6.109375 33.40625 6.109375 \nQ 40.53125 6.109375 44.609375 11.75 \nQ 48.6875 17.390625 48.6875 27.296875 \nz\n\" id=\"DejaVuSans-112\"/>\n      </defs>\n      <g transform=\"translate(273.692187 200.756406)scale(0.11 -0.11)\">\n       <use xlink:href=\"#DejaVuSans-99\"/>\n       <use x=\"54.980469\" xlink:href=\"#DejaVuSans-111\"/>\n       <use x=\"116.162109\" xlink:href=\"#DejaVuSans-109\"/>\n       <use x=\"213.574219\" xlink:href=\"#DejaVuSans-112\"/>\n       <use x=\"277.050781\" xlink:href=\"#DejaVuSans-46\"/>\n       <use x=\"308.837891\" xlink:href=\"#DejaVuSans-103\"/>\n       <use x=\"372.314453\" xlink:href=\"#DejaVuSans-114\"/>\n       <use x=\"413.427734\" xlink:href=\"#DejaVuSans-97\"/>\n       <use x=\"474.707031\" xlink:href=\"#DejaVuSans-112\"/>\n       <use x=\"538.183594\" xlink:href=\"#DejaVuSans-104\"/>\n       <use x=\"601.5625\" xlink:href=\"#DejaVuSans-105\"/>\n       <use x=\"629.345703\" xlink:href=\"#DejaVuSans-99\"/>\n       <use x=\"684.326172\" xlink:href=\"#DejaVuSans-115\"/>\n      </g>\n     </g>\n    </g>\n    <g id=\"xtick_4\">\n     <g id=\"line2d_4\">\n      <g>\n       <use style=\"stroke:#000000;stroke-width:0.8;\" x=\"425.79625\" xlink:href=\"#m8f452a7985\" y=\"185.398125\"/>\n      </g>\n     </g>\n     <g id=\"text_4\">\n      <!-- alt.atheism -->\n      <g transform=\"translate(394.846719 200.756406)scale(0.11 -0.11)\">\n       <use xlink:href=\"#DejaVuSans-97\"/>\n       <use x=\"61.279297\" xlink:href=\"#DejaVuSans-108\"/>\n       <use x=\"89.0625\" xlink:href=\"#DejaVuSans-116\"/>\n       <use x=\"128.271484\" xlink:href=\"#DejaVuSans-46\"/>\n       <use x=\"160.058594\" xlink:href=\"#DejaVuSans-97\"/>\n       <use x=\"221.337891\" xlink:href=\"#DejaVuSans-116\"/>\n       <use x=\"260.546875\" xlink:href=\"#DejaVuSans-104\"/>\n       <use x=\"323.925781\" xlink:href=\"#DejaVuSans-101\"/>\n       <use x=\"385.449219\" xlink:href=\"#DejaVuSans-105\"/>\n       <use x=\"413.232422\" xlink:href=\"#DejaVuSans-115\"/>\n       <use x=\"465.332031\" xlink:href=\"#DejaVuSans-109\"/>\n      </g>\n     </g>\n    </g>\n   </g>\n   <g id=\"matplotlib.axis_2\">\n    <g id=\"ytick_1\">\n     <g id=\"line2d_5\">\n      <defs>\n       <path d=\"M 0 0 \nL -3.5 0 \n\" id=\"m9ae5558f26\" style=\"stroke:#000000;stroke-width:0.8;\"/>\n      </defs>\n      <g>\n       <use style=\"stroke:#000000;stroke-width:0.8;\" x=\"35.19625\" xlink:href=\"#m9ae5558f26\" y=\"185.398125\"/>\n      </g>\n     </g>\n     <g id=\"text_5\">\n      <!-- 0 -->\n      <defs>\n       <path d=\"M 31.78125 66.40625 \nQ 24.171875 66.40625 20.328125 58.90625 \nQ 16.5 51.421875 16.5 36.375 \nQ 16.5 21.390625 20.328125 13.890625 \nQ 24.171875 6.390625 31.78125 6.390625 \nQ 39.453125 6.390625 43.28125 13.890625 \nQ 47.125 21.390625 47.125 36.375 \nQ 47.125 51.421875 43.28125 58.90625 \nQ 39.453125 66.40625 31.78125 66.40625 \nz\nM 31.78125 74.21875 \nQ 44.046875 74.21875 50.515625 64.515625 \nQ 56.984375 54.828125 56.984375 36.375 \nQ 56.984375 17.96875 50.515625 8.265625 \nQ 44.046875 -1.421875 31.78125 -1.421875 \nQ 19.53125 -1.421875 13.0625 8.265625 \nQ 6.59375 17.96875 6.59375 36.375 \nQ 6.59375 54.828125 13.0625 64.515625 \nQ 19.53125 74.21875 31.78125 74.21875 \nz\n\" id=\"DejaVuSans-48\"/>\n      </defs>\n      <g transform=\"translate(21.1975 189.577266)scale(0.11 -0.11)\">\n       <use xlink:href=\"#DejaVuSans-48\"/>\n      </g>\n     </g>\n    </g>\n    <g id=\"ytick_2\">\n     <g id=\"line2d_6\">\n      <g>\n       <use style=\"stroke:#000000;stroke-width:0.8;\" x=\"35.19625\" xlink:href=\"#m9ae5558f26\" y=\"160.308894\"/>\n      </g>\n     </g>\n     <g id=\"text_6\">\n      <!-- 100 -->\n      <defs>\n       <path d=\"M 12.40625 8.296875 \nL 28.515625 8.296875 \nL 28.515625 63.921875 \nL 10.984375 60.40625 \nL 10.984375 69.390625 \nL 28.421875 72.90625 \nL 38.28125 72.90625 \nL 38.28125 8.296875 \nL 54.390625 8.296875 \nL 54.390625 0 \nL 12.40625 0 \nz\n\" id=\"DejaVuSans-49\"/>\n      </defs>\n      <g transform=\"translate(7.2 164.488035)scale(0.11 -0.11)\">\n       <use xlink:href=\"#DejaVuSans-49\"/>\n       <use x=\"63.623047\" xlink:href=\"#DejaVuSans-48\"/>\n       <use x=\"127.246094\" xlink:href=\"#DejaVuSans-48\"/>\n      </g>\n     </g>\n    </g>\n    <g id=\"ytick_3\">\n     <g id=\"line2d_7\">\n      <g>\n       <use style=\"stroke:#000000;stroke-width:0.8;\" x=\"35.19625\" xlink:href=\"#m9ae5558f26\" y=\"135.219663\"/>\n      </g>\n     </g>\n     <g id=\"text_7\">\n      <!-- 200 -->\n      <defs>\n       <path d=\"M 19.1875 8.296875 \nL 53.609375 8.296875 \nL 53.609375 0 \nL 7.328125 0 \nL 7.328125 8.296875 \nQ 12.9375 14.109375 22.625 23.890625 \nQ 32.328125 33.6875 34.8125 36.53125 \nQ 39.546875 41.84375 41.421875 45.53125 \nQ 43.3125 49.21875 43.3125 52.78125 \nQ 43.3125 58.59375 39.234375 62.25 \nQ 35.15625 65.921875 28.609375 65.921875 \nQ 23.96875 65.921875 18.8125 64.3125 \nQ 13.671875 62.703125 7.8125 59.421875 \nL 7.8125 69.390625 \nQ 13.765625 71.78125 18.9375 73 \nQ 24.125 74.21875 28.421875 74.21875 \nQ 39.75 74.21875 46.484375 68.546875 \nQ 53.21875 62.890625 53.21875 53.421875 \nQ 53.21875 48.921875 51.53125 44.890625 \nQ 49.859375 40.875 45.40625 35.40625 \nQ 44.1875 33.984375 37.640625 27.21875 \nQ 31.109375 20.453125 19.1875 8.296875 \nz\n\" id=\"DejaVuSans-50\"/>\n      </defs>\n      <g transform=\"translate(7.2 139.398804)scale(0.11 -0.11)\">\n       <use xlink:href=\"#DejaVuSans-50\"/>\n       <use x=\"63.623047\" xlink:href=\"#DejaVuSans-48\"/>\n       <use x=\"127.246094\" xlink:href=\"#DejaVuSans-48\"/>\n      </g>\n     </g>\n    </g>\n    <g id=\"ytick_4\">\n     <g id=\"line2d_8\">\n      <g>\n       <use style=\"stroke:#000000;stroke-width:0.8;\" x=\"35.19625\" xlink:href=\"#m9ae5558f26\" y=\"110.130433\"/>\n      </g>\n     </g>\n     <g id=\"text_8\">\n      <!-- 300 -->\n      <defs>\n       <path d=\"M 40.578125 39.3125 \nQ 47.65625 37.796875 51.625 33 \nQ 55.609375 28.21875 55.609375 21.1875 \nQ 55.609375 10.40625 48.1875 4.484375 \nQ 40.765625 -1.421875 27.09375 -1.421875 \nQ 22.515625 -1.421875 17.65625 -0.515625 \nQ 12.796875 0.390625 7.625 2.203125 \nL 7.625 11.71875 \nQ 11.71875 9.328125 16.59375 8.109375 \nQ 21.484375 6.890625 26.8125 6.890625 \nQ 36.078125 6.890625 40.9375 10.546875 \nQ 45.796875 14.203125 45.796875 21.1875 \nQ 45.796875 27.640625 41.28125 31.265625 \nQ 36.765625 34.90625 28.71875 34.90625 \nL 20.21875 34.90625 \nL 20.21875 43.015625 \nL 29.109375 43.015625 \nQ 36.375 43.015625 40.234375 45.921875 \nQ 44.09375 48.828125 44.09375 54.296875 \nQ 44.09375 59.90625 40.109375 62.90625 \nQ 36.140625 65.921875 28.71875 65.921875 \nQ 24.65625 65.921875 20.015625 65.03125 \nQ 15.375 64.15625 9.8125 62.3125 \nL 9.8125 71.09375 \nQ 15.4375 72.65625 20.34375 73.4375 \nQ 25.25 74.21875 29.59375 74.21875 \nQ 40.828125 74.21875 47.359375 69.109375 \nQ 53.90625 64.015625 53.90625 55.328125 \nQ 53.90625 49.265625 50.4375 45.09375 \nQ 46.96875 40.921875 40.578125 39.3125 \nz\n\" id=\"DejaVuSans-51\"/>\n      </defs>\n      <g transform=\"translate(7.2 114.309573)scale(0.11 -0.11)\">\n       <use xlink:href=\"#DejaVuSans-51\"/>\n       <use x=\"63.623047\" xlink:href=\"#DejaVuSans-48\"/>\n       <use x=\"127.246094\" xlink:href=\"#DejaVuSans-48\"/>\n      </g>\n     </g>\n    </g>\n    <g id=\"ytick_5\">\n     <g id=\"line2d_9\">\n      <g>\n       <use style=\"stroke:#000000;stroke-width:0.8;\" x=\"35.19625\" xlink:href=\"#m9ae5558f26\" y=\"85.041202\"/>\n      </g>\n     </g>\n     <g id=\"text_9\">\n      <!-- 400 -->\n      <defs>\n       <path d=\"M 37.796875 64.3125 \nL 12.890625 25.390625 \nL 37.796875 25.390625 \nz\nM 35.203125 72.90625 \nL 47.609375 72.90625 \nL 47.609375 25.390625 \nL 58.015625 25.390625 \nL 58.015625 17.1875 \nL 47.609375 17.1875 \nL 47.609375 0 \nL 37.796875 0 \nL 37.796875 17.1875 \nL 4.890625 17.1875 \nL 4.890625 26.703125 \nz\n\" id=\"DejaVuSans-52\"/>\n      </defs>\n      <g transform=\"translate(7.2 89.220343)scale(0.11 -0.11)\">\n       <use xlink:href=\"#DejaVuSans-52\"/>\n       <use x=\"63.623047\" xlink:href=\"#DejaVuSans-48\"/>\n       <use x=\"127.246094\" xlink:href=\"#DejaVuSans-48\"/>\n      </g>\n     </g>\n    </g>\n    <g id=\"ytick_6\">\n     <g id=\"line2d_10\">\n      <g>\n       <use style=\"stroke:#000000;stroke-width:0.8;\" x=\"35.19625\" xlink:href=\"#m9ae5558f26\" y=\"59.951971\"/>\n      </g>\n     </g>\n     <g id=\"text_10\">\n      <!-- 500 -->\n      <defs>\n       <path d=\"M 10.796875 72.90625 \nL 49.515625 72.90625 \nL 49.515625 64.59375 \nL 19.828125 64.59375 \nL 19.828125 46.734375 \nQ 21.96875 47.46875 24.109375 47.828125 \nQ 26.265625 48.1875 28.421875 48.1875 \nQ 40.625 48.1875 47.75 41.5 \nQ 54.890625 34.8125 54.890625 23.390625 \nQ 54.890625 11.625 47.5625 5.09375 \nQ 40.234375 -1.421875 26.90625 -1.421875 \nQ 22.3125 -1.421875 17.546875 -0.640625 \nQ 12.796875 0.140625 7.71875 1.703125 \nL 7.71875 11.625 \nQ 12.109375 9.234375 16.796875 8.0625 \nQ 21.484375 6.890625 26.703125 6.890625 \nQ 35.15625 6.890625 40.078125 11.328125 \nQ 45.015625 15.765625 45.015625 23.390625 \nQ 45.015625 31 40.078125 35.4375 \nQ 35.15625 39.890625 26.703125 39.890625 \nQ 22.75 39.890625 18.8125 39.015625 \nQ 14.890625 38.140625 10.796875 36.28125 \nz\n\" id=\"DejaVuSans-53\"/>\n      </defs>\n      <g transform=\"translate(7.2 64.131112)scale(0.11 -0.11)\">\n       <use xlink:href=\"#DejaVuSans-53\"/>\n       <use x=\"63.623047\" xlink:href=\"#DejaVuSans-48\"/>\n       <use x=\"127.246094\" xlink:href=\"#DejaVuSans-48\"/>\n      </g>\n     </g>\n    </g>\n    <g id=\"ytick_7\">\n     <g id=\"line2d_11\">\n      <g>\n       <use style=\"stroke:#000000;stroke-width:0.8;\" x=\"35.19625\" xlink:href=\"#m9ae5558f26\" y=\"34.86274\"/>\n      </g>\n     </g>\n     <g id=\"text_11\">\n      <!-- 600 -->\n      <defs>\n       <path d=\"M 33.015625 40.375 \nQ 26.375 40.375 22.484375 35.828125 \nQ 18.609375 31.296875 18.609375 23.390625 \nQ 18.609375 15.53125 22.484375 10.953125 \nQ 26.375 6.390625 33.015625 6.390625 \nQ 39.65625 6.390625 43.53125 10.953125 \nQ 47.40625 15.53125 47.40625 23.390625 \nQ 47.40625 31.296875 43.53125 35.828125 \nQ 39.65625 40.375 33.015625 40.375 \nz\nM 52.59375 71.296875 \nL 52.59375 62.3125 \nQ 48.875 64.0625 45.09375 64.984375 \nQ 41.3125 65.921875 37.59375 65.921875 \nQ 27.828125 65.921875 22.671875 59.328125 \nQ 17.53125 52.734375 16.796875 39.40625 \nQ 19.671875 43.65625 24.015625 45.921875 \nQ 28.375 48.1875 33.59375 48.1875 \nQ 44.578125 48.1875 50.953125 41.515625 \nQ 57.328125 34.859375 57.328125 23.390625 \nQ 57.328125 12.15625 50.6875 5.359375 \nQ 44.046875 -1.421875 33.015625 -1.421875 \nQ 20.359375 -1.421875 13.671875 8.265625 \nQ 6.984375 17.96875 6.984375 36.375 \nQ 6.984375 53.65625 15.1875 63.9375 \nQ 23.390625 74.21875 37.203125 74.21875 \nQ 40.921875 74.21875 44.703125 73.484375 \nQ 48.484375 72.75 52.59375 71.296875 \nz\n\" id=\"DejaVuSans-54\"/>\n      </defs>\n      <g transform=\"translate(7.2 39.041881)scale(0.11 -0.11)\">\n       <use xlink:href=\"#DejaVuSans-54\"/>\n       <use x=\"63.623047\" xlink:href=\"#DejaVuSans-48\"/>\n       <use x=\"127.246094\" xlink:href=\"#DejaVuSans-48\"/>\n      </g>\n     </g>\n    </g>\n   </g>\n   <g id=\"patch_7\">\n    <path d=\"M 35.19625 185.398125 \nL 35.19625 22.318125 \n\" style=\"fill:none;stroke:#000000;stroke-linecap:square;stroke-linejoin:miter;stroke-width:0.8;\"/>\n   </g>\n   <g id=\"patch_8\">\n    <path d=\"M 481.59625 185.398125 \nL 481.59625 22.318125 \n\" style=\"fill:none;stroke:#000000;stroke-linecap:square;stroke-linejoin:miter;stroke-width:0.8;\"/>\n   </g>\n   <g id=\"patch_9\">\n    <path d=\"M 35.19625 185.398125 \nL 481.59625 185.398125 \n\" style=\"fill:none;stroke:#000000;stroke-linecap:square;stroke-linejoin:miter;stroke-width:0.8;\"/>\n   </g>\n   <g id=\"patch_10\">\n    <path d=\"M 35.19625 22.318125 \nL 481.59625 22.318125 \n\" style=\"fill:none;stroke:#000000;stroke-linecap:square;stroke-linejoin:miter;stroke-width:0.8;\"/>\n   </g>\n   <g id=\"text_12\">\n    <!-- Category distribution -->\n    <defs>\n     <path d=\"M 64.40625 67.28125 \nL 64.40625 56.890625 \nQ 59.421875 61.53125 53.78125 63.8125 \nQ 48.140625 66.109375 41.796875 66.109375 \nQ 29.296875 66.109375 22.65625 58.46875 \nQ 16.015625 50.828125 16.015625 36.375 \nQ 16.015625 21.96875 22.65625 14.328125 \nQ 29.296875 6.6875 41.796875 6.6875 \nQ 48.140625 6.6875 53.78125 8.984375 \nQ 59.421875 11.28125 64.40625 15.921875 \nL 64.40625 5.609375 \nQ 59.234375 2.09375 53.4375 0.328125 \nQ 47.65625 -1.421875 41.21875 -1.421875 \nQ 24.65625 -1.421875 15.125 8.703125 \nQ 5.609375 18.84375 5.609375 36.375 \nQ 5.609375 53.953125 15.125 64.078125 \nQ 24.65625 74.21875 41.21875 74.21875 \nQ 47.75 74.21875 53.53125 72.484375 \nQ 59.328125 70.75 64.40625 67.28125 \nz\n\" id=\"DejaVuSans-67\"/>\n     <path d=\"M 32.171875 -5.078125 \nQ 28.375 -14.84375 24.75 -17.8125 \nQ 21.140625 -20.796875 15.09375 -20.796875 \nL 7.90625 -20.796875 \nL 7.90625 -13.28125 \nL 13.1875 -13.28125 \nQ 16.890625 -13.28125 18.9375 -11.515625 \nQ 21 -9.765625 23.484375 -3.21875 \nL 25.09375 0.875 \nL 2.984375 54.6875 \nL 12.5 54.6875 \nL 29.59375 11.921875 \nL 46.6875 54.6875 \nL 56.203125 54.6875 \nz\n\" id=\"DejaVuSans-121\"/>\n     <path id=\"DejaVuSans-32\"/>\n     <path d=\"M 48.6875 27.296875 \nQ 48.6875 37.203125 44.609375 42.84375 \nQ 40.53125 48.484375 33.40625 48.484375 \nQ 26.265625 48.484375 22.1875 42.84375 \nQ 18.109375 37.203125 18.109375 27.296875 \nQ 18.109375 17.390625 22.1875 11.75 \nQ 26.265625 6.109375 33.40625 6.109375 \nQ 40.53125 6.109375 44.609375 11.75 \nQ 48.6875 17.390625 48.6875 27.296875 \nz\nM 18.109375 46.390625 \nQ 20.953125 51.265625 25.265625 53.625 \nQ 29.59375 56 35.59375 56 \nQ 45.5625 56 51.78125 48.09375 \nQ 58.015625 40.1875 58.015625 27.296875 \nQ 58.015625 14.40625 51.78125 6.484375 \nQ 45.5625 -1.421875 35.59375 -1.421875 \nQ 29.59375 -1.421875 25.265625 0.953125 \nQ 20.953125 3.328125 18.109375 8.203125 \nL 18.109375 0 \nL 9.078125 0 \nL 9.078125 75.984375 \nL 18.109375 75.984375 \nz\n\" id=\"DejaVuSans-98\"/>\n     <path d=\"M 8.5 21.578125 \nL 8.5 54.6875 \nL 17.484375 54.6875 \nL 17.484375 21.921875 \nQ 17.484375 14.15625 20.5 10.265625 \nQ 23.53125 6.390625 29.59375 6.390625 \nQ 36.859375 6.390625 41.078125 11.03125 \nQ 45.3125 15.671875 45.3125 23.6875 \nL 45.3125 54.6875 \nL 54.296875 54.6875 \nL 54.296875 0 \nL 45.3125 0 \nL 45.3125 8.40625 \nQ 42.046875 3.421875 37.71875 1 \nQ 33.40625 -1.421875 27.6875 -1.421875 \nQ 18.265625 -1.421875 13.375 4.4375 \nQ 8.5 10.296875 8.5 21.578125 \nz\nM 31.109375 56 \nz\n\" id=\"DejaVuSans-117\"/>\n    </defs>\n    <g transform=\"translate(194.889063 16.318125)scale(0.12 -0.12)\">\n     <use xlink:href=\"#DejaVuSans-67\"/>\n     <use x=\"69.824219\" xlink:href=\"#DejaVuSans-97\"/>\n     <use x=\"131.103516\" xlink:href=\"#DejaVuSans-116\"/>\n     <use x=\"170.3125\" xlink:href=\"#DejaVuSans-101\"/>\n     <use x=\"231.835938\" xlink:href=\"#DejaVuSans-103\"/>\n     <use x=\"295.3125\" xlink:href=\"#DejaVuSans-111\"/>\n     <use x=\"356.494141\" xlink:href=\"#DejaVuSans-114\"/>\n     <use x=\"397.607422\" xlink:href=\"#DejaVuSans-121\"/>\n     <use x=\"456.787109\" xlink:href=\"#DejaVuSans-32\"/>\n     <use x=\"488.574219\" xlink:href=\"#DejaVuSans-100\"/>\n     <use x=\"552.050781\" xlink:href=\"#DejaVuSans-105\"/>\n     <use x=\"579.833984\" xlink:href=\"#DejaVuSans-115\"/>\n     <use x=\"631.933594\" xlink:href=\"#DejaVuSans-116\"/>\n     <use x=\"671.142578\" xlink:href=\"#DejaVuSans-114\"/>\n     <use x=\"712.255859\" xlink:href=\"#DejaVuSans-105\"/>\n     <use x=\"740.039062\" xlink:href=\"#DejaVuSans-98\"/>\n     <use x=\"803.515625\" xlink:href=\"#DejaVuSans-117\"/>\n     <use x=\"866.894531\" xlink:href=\"#DejaVuSans-116\"/>\n     <use x=\"906.103516\" xlink:href=\"#DejaVuSans-105\"/>\n     <use x=\"933.886719\" xlink:href=\"#DejaVuSans-111\"/>\n     <use x=\"995.068359\" xlink:href=\"#DejaVuSans-110\"/>\n    </g>\n   </g>\n  </g>\n </g>\n <defs>\n  <clipPath id=\"pdfb225a181\">\n   <rect height=\"163.08\" width=\"446.4\" x=\"35.19625\" y=\"22.318125\"/>\n  </clipPath>\n </defs>\n</svg>\n",
      "image/png": "[encoded data removed]"
     },
     "metadata": {}
    }
   ],
   "source": [
    "print(X.category_name.value_counts())\n",
    "\n",
    "# plot barchart for X_sample\n",
    "X.category_name.value_counts().plot(kind = 'bar',\n",
    "                                    title = 'Category distribution',\n",
    "                                    ylim = [0, 650],        \n",
    "                                    rot = 0, fontsize = 11, figsize = (8,3))"
   ]
  },
  {
   "cell_type": "code",
   "execution_count": 66,
   "metadata": {
    "tags": []
   },
   "outputs": [
    {
     "output_type": "stream",
     "name": "stdout",
     "text": [
      "comp.graphics             265\nsci.med                   265\nsoc.religion.christian    261\nalt.atheism               209\nName: category_name, dtype: int64\n"
     ]
    },
    {
     "output_type": "execute_result",
     "data": {
      "text/plain": [
       "<matplotlib.axes._subplots.AxesSubplot at 0x7f6eb68a79e8>"
      ]
     },
     "metadata": {},
     "execution_count": 66
    },
    {
     "output_type": "display_data",
     "data": {
      "text/plain": "<Figure size 576x216 with 1 Axes>",
      "image/svg+xml": "<?xml version=\"1.0\" encoding=\"utf-8\" standalone=\"no\"?>\n<!DOCTYPE svg PUBLIC \"-//W3C//DTD SVG 1.1//EN\"\n  \"http://www.w3.org/Graphics/SVG/1.1/DTD/svg11.dtd\">\n<!-- Created with matplotlib (https://matplotlib.org/) -->\n<svg height=\"211.211875pt\" version=\"1.1\" viewBox=\"0 0 490.705 211.211875\" width=\"490.705pt\" xmlns=\"http://www.w3.org/2000/svg\" xmlns:xlink=\"http://www.w3.org/1999/xlink\">\n <defs>\n  <style type=\"text/css\">\n*{stroke-linecap:butt;stroke-linejoin:round;}\n  </style>\n </defs>\n <g id=\"figure_1\">\n  <g id=\"patch_1\">\n   <path d=\"M 0 211.211875 \nL 490.705 211.211875 \nL 490.705 0 \nL 0 0 \nz\n\" style=\"fill:none;\"/>\n  </g>\n  <g id=\"axes_1\">\n   <g id=\"patch_2\">\n    <path d=\"M 37.105 185.398125 \nL 483.505 185.398125 \nL 483.505 22.318125 \nL 37.105 22.318125 \nz\n\" style=\"fill:#ffffff;\"/>\n   </g>\n   <g id=\"patch_3\">\n    <path clip-path=\"url(#pf7c00755c0)\" d=\"M 65.005 185.398125 \nL 120.805 185.398125 \nL 120.805 41.344125 \nL 65.005 41.344125 \nz\n\" style=\"fill:#1f77b4;\"/>\n   </g>\n   <g id=\"patch_4\">\n    <path clip-path=\"url(#pf7c00755c0)\" d=\"M 176.605 185.398125 \nL 232.405 185.398125 \nL 232.405 41.344125 \nL 176.605 41.344125 \nz\n\" style=\"fill:#1f77b4;\"/>\n   </g>\n   <g id=\"patch_5\">\n    <path clip-path=\"url(#pf7c00755c0)\" d=\"M 288.205 185.398125 \nL 344.005 185.398125 \nL 344.005 43.518525 \nL 288.205 43.518525 \nz\n\" style=\"fill:#1f77b4;\"/>\n   </g>\n   <g id=\"patch_6\">\n    <path clip-path=\"url(#pf7c00755c0)\" d=\"M 399.805 185.398125 \nL 455.605 185.398125 \nL 455.605 71.785725 \nL 399.805 71.785725 \nz\n\" style=\"fill:#1f77b4;\"/>\n   </g>\n   <g id=\"matplotlib.axis_1\">\n    <g id=\"xtick_1\">\n     <g id=\"line2d_1\">\n      <defs>\n       <path d=\"M 0 0 \nL 0 3.5 \n\" id=\"m1b2384a237\" style=\"stroke:#000000;stroke-width:0.8;\"/>\n      </defs>\n      <g>\n       <use style=\"stroke:#000000;stroke-width:0.8;\" x=\"92.905\" xlink:href=\"#m1b2384a237\" y=\"185.398125\"/>\n      </g>\n     </g>\n     <g id=\"text_1\">\n      <!-- comp.graphics -->\n      <defs>\n       <path d=\"M 48.78125 52.59375 \nL 48.78125 44.1875 \nQ 44.96875 46.296875 41.140625 47.34375 \nQ 37.3125 48.390625 33.40625 48.390625 \nQ 24.65625 48.390625 19.8125 42.84375 \nQ 14.984375 37.3125 14.984375 27.296875 \nQ 14.984375 17.28125 19.8125 11.734375 \nQ 24.65625 6.203125 33.40625 6.203125 \nQ 37.3125 6.203125 41.140625 7.25 \nQ 44.96875 8.296875 48.78125 10.40625 \nL 48.78125 2.09375 \nQ 45.015625 0.34375 40.984375 -0.53125 \nQ 36.96875 -1.421875 32.421875 -1.421875 \nQ 20.0625 -1.421875 12.78125 6.34375 \nQ 5.515625 14.109375 5.515625 27.296875 \nQ 5.515625 40.671875 12.859375 48.328125 \nQ 20.21875 56 33.015625 56 \nQ 37.15625 56 41.109375 55.140625 \nQ 45.0625 54.296875 48.78125 52.59375 \nz\n\" id=\"DejaVuSans-99\"/>\n       <path d=\"M 30.609375 48.390625 \nQ 23.390625 48.390625 19.1875 42.75 \nQ 14.984375 37.109375 14.984375 27.296875 \nQ 14.984375 17.484375 19.15625 11.84375 \nQ 23.34375 6.203125 30.609375 6.203125 \nQ 37.796875 6.203125 41.984375 11.859375 \nQ 46.1875 17.53125 46.1875 27.296875 \nQ 46.1875 37.015625 41.984375 42.703125 \nQ 37.796875 48.390625 30.609375 48.390625 \nz\nM 30.609375 56 \nQ 42.328125 56 49.015625 48.375 \nQ 55.71875 40.765625 55.71875 27.296875 \nQ 55.71875 13.875 49.015625 6.21875 \nQ 42.328125 -1.421875 30.609375 -1.421875 \nQ 18.84375 -1.421875 12.171875 6.21875 \nQ 5.515625 13.875 5.515625 27.296875 \nQ 5.515625 40.765625 12.171875 48.375 \nQ 18.84375 56 30.609375 56 \nz\n\" id=\"DejaVuSans-111\"/>\n       <path d=\"M 52 44.1875 \nQ 55.375 50.25 60.0625 53.125 \nQ 64.75 56 71.09375 56 \nQ 79.640625 56 84.28125 50.015625 \nQ 88.921875 44.046875 88.921875 33.015625 \nL 88.921875 0 \nL 79.890625 0 \nL 79.890625 32.71875 \nQ 79.890625 40.578125 77.09375 44.375 \nQ 74.3125 48.1875 68.609375 48.1875 \nQ 61.625 48.1875 57.5625 43.546875 \nQ 53.515625 38.921875 53.515625 30.90625 \nL 53.515625 0 \nL 44.484375 0 \nL 44.484375 32.71875 \nQ 44.484375 40.625 41.703125 44.40625 \nQ 38.921875 48.1875 33.109375 48.1875 \nQ 26.21875 48.1875 22.15625 43.53125 \nQ 18.109375 38.875 18.109375 30.90625 \nL 18.109375 0 \nL 9.078125 0 \nL 9.078125 54.6875 \nL 18.109375 54.6875 \nL 18.109375 46.1875 \nQ 21.1875 51.21875 25.484375 53.609375 \nQ 29.78125 56 35.6875 56 \nQ 41.65625 56 45.828125 52.96875 \nQ 50 49.953125 52 44.1875 \nz\n\" id=\"DejaVuSans-109\"/>\n       <path d=\"M 18.109375 8.203125 \nL 18.109375 -20.796875 \nL 9.078125 -20.796875 \nL 9.078125 54.6875 \nL 18.109375 54.6875 \nL 18.109375 46.390625 \nQ 20.953125 51.265625 25.265625 53.625 \nQ 29.59375 56 35.59375 56 \nQ 45.5625 56 51.78125 48.09375 \nQ 58.015625 40.1875 58.015625 27.296875 \nQ 58.015625 14.40625 51.78125 6.484375 \nQ 45.5625 -1.421875 35.59375 -1.421875 \nQ 29.59375 -1.421875 25.265625 0.953125 \nQ 20.953125 3.328125 18.109375 8.203125 \nz\nM 48.6875 27.296875 \nQ 48.6875 37.203125 44.609375 42.84375 \nQ 40.53125 48.484375 33.40625 48.484375 \nQ 26.265625 48.484375 22.1875 42.84375 \nQ 18.109375 37.203125 18.109375 27.296875 \nQ 18.109375 17.390625 22.1875 11.75 \nQ 26.265625 6.109375 33.40625 6.109375 \nQ 40.53125 6.109375 44.609375 11.75 \nQ 48.6875 17.390625 48.6875 27.296875 \nz\n\" id=\"DejaVuSans-112\"/>\n       <path d=\"M 10.6875 12.40625 \nL 21 12.40625 \nL 21 0 \nL 10.6875 0 \nz\n\" id=\"DejaVuSans-46\"/>\n       <path d=\"M 45.40625 27.984375 \nQ 45.40625 37.75 41.375 43.109375 \nQ 37.359375 48.484375 30.078125 48.484375 \nQ 22.859375 48.484375 18.828125 43.109375 \nQ 14.796875 37.75 14.796875 27.984375 \nQ 14.796875 18.265625 18.828125 12.890625 \nQ 22.859375 7.515625 30.078125 7.515625 \nQ 37.359375 7.515625 41.375 12.890625 \nQ 45.40625 18.265625 45.40625 27.984375 \nz\nM 54.390625 6.78125 \nQ 54.390625 -7.171875 48.1875 -13.984375 \nQ 42 -20.796875 29.203125 -20.796875 \nQ 24.46875 -20.796875 20.265625 -20.09375 \nQ 16.0625 -19.390625 12.109375 -17.921875 \nL 12.109375 -9.1875 \nQ 16.0625 -11.328125 19.921875 -12.34375 \nQ 23.78125 -13.375 27.78125 -13.375 \nQ 36.625 -13.375 41.015625 -8.765625 \nQ 45.40625 -4.15625 45.40625 5.171875 \nL 45.40625 9.625 \nQ 42.625 4.78125 38.28125 2.390625 \nQ 33.9375 0 27.875 0 \nQ 17.828125 0 11.671875 7.65625 \nQ 5.515625 15.328125 5.515625 27.984375 \nQ 5.515625 40.671875 11.671875 48.328125 \nQ 17.828125 56 27.875 56 \nQ 33.9375 56 38.28125 53.609375 \nQ 42.625 51.21875 45.40625 46.390625 \nL 45.40625 54.6875 \nL 54.390625 54.6875 \nz\n\" id=\"DejaVuSans-103\"/>\n       <path d=\"M 41.109375 46.296875 \nQ 39.59375 47.171875 37.8125 47.578125 \nQ 36.03125 48 33.890625 48 \nQ 26.265625 48 22.1875 43.046875 \nQ 18.109375 38.09375 18.109375 28.8125 \nL 18.109375 0 \nL 9.078125 0 \nL 9.078125 54.6875 \nL 18.109375 54.6875 \nL 18.109375 46.1875 \nQ 20.953125 51.171875 25.484375 53.578125 \nQ 30.03125 56 36.53125 56 \nQ 37.453125 56 38.578125 55.875 \nQ 39.703125 55.765625 41.0625 55.515625 \nz\n\" id=\"DejaVuSans-114\"/>\n       <path d=\"M 34.28125 27.484375 \nQ 23.390625 27.484375 19.1875 25 \nQ 14.984375 22.515625 14.984375 16.5 \nQ 14.984375 11.71875 18.140625 8.90625 \nQ 21.296875 6.109375 26.703125 6.109375 \nQ 34.1875 6.109375 38.703125 11.40625 \nQ 43.21875 16.703125 43.21875 25.484375 \nL 43.21875 27.484375 \nz\nM 52.203125 31.203125 \nL 52.203125 0 \nL 43.21875 0 \nL 43.21875 8.296875 \nQ 40.140625 3.328125 35.546875 0.953125 \nQ 30.953125 -1.421875 24.3125 -1.421875 \nQ 15.921875 -1.421875 10.953125 3.296875 \nQ 6 8.015625 6 15.921875 \nQ 6 25.140625 12.171875 29.828125 \nQ 18.359375 34.515625 30.609375 34.515625 \nL 43.21875 34.515625 \nL 43.21875 35.40625 \nQ 43.21875 41.609375 39.140625 45 \nQ 35.0625 48.390625 27.6875 48.390625 \nQ 23 48.390625 18.546875 47.265625 \nQ 14.109375 46.140625 10.015625 43.890625 \nL 10.015625 52.203125 \nQ 14.9375 54.109375 19.578125 55.046875 \nQ 24.21875 56 28.609375 56 \nQ 40.484375 56 46.34375 49.84375 \nQ 52.203125 43.703125 52.203125 31.203125 \nz\n\" id=\"DejaVuSans-97\"/>\n       <path d=\"M 54.890625 33.015625 \nL 54.890625 0 \nL 45.90625 0 \nL 45.90625 32.71875 \nQ 45.90625 40.484375 42.875 44.328125 \nQ 39.84375 48.1875 33.796875 48.1875 \nQ 26.515625 48.1875 22.3125 43.546875 \nQ 18.109375 38.921875 18.109375 30.90625 \nL 18.109375 0 \nL 9.078125 0 \nL 9.078125 75.984375 \nL 18.109375 75.984375 \nL 18.109375 46.1875 \nQ 21.34375 51.125 25.703125 53.5625 \nQ 30.078125 56 35.796875 56 \nQ 45.21875 56 50.046875 50.171875 \nQ 54.890625 44.34375 54.890625 33.015625 \nz\n\" id=\"DejaVuSans-104\"/>\n       <path d=\"M 9.421875 54.6875 \nL 18.40625 54.6875 \nL 18.40625 0 \nL 9.421875 0 \nz\nM 9.421875 75.984375 \nL 18.40625 75.984375 \nL 18.40625 64.59375 \nL 9.421875 64.59375 \nz\n\" id=\"DejaVuSans-105\"/>\n       <path d=\"M 44.28125 53.078125 \nL 44.28125 44.578125 \nQ 40.484375 46.53125 36.375 47.5 \nQ 32.28125 48.484375 27.875 48.484375 \nQ 21.1875 48.484375 17.84375 46.4375 \nQ 14.5 44.390625 14.5 40.28125 \nQ 14.5 37.15625 16.890625 35.375 \nQ 19.28125 33.59375 26.515625 31.984375 \nL 29.59375 31.296875 \nQ 39.15625 29.25 43.1875 25.515625 \nQ 47.21875 21.78125 47.21875 15.09375 \nQ 47.21875 7.46875 41.1875 3.015625 \nQ 35.15625 -1.421875 24.609375 -1.421875 \nQ 20.21875 -1.421875 15.453125 -0.5625 \nQ 10.6875 0.296875 5.421875 2 \nL 5.421875 11.28125 \nQ 10.40625 8.6875 15.234375 7.390625 \nQ 20.0625 6.109375 24.8125 6.109375 \nQ 31.15625 6.109375 34.5625 8.28125 \nQ 37.984375 10.453125 37.984375 14.40625 \nQ 37.984375 18.0625 35.515625 20.015625 \nQ 33.0625 21.96875 24.703125 23.78125 \nL 21.578125 24.515625 \nQ 13.234375 26.265625 9.515625 29.90625 \nQ 5.8125 33.546875 5.8125 39.890625 \nQ 5.8125 47.609375 11.28125 51.796875 \nQ 16.75 56 26.8125 56 \nQ 31.78125 56 36.171875 55.265625 \nQ 40.578125 54.546875 44.28125 53.078125 \nz\n\" id=\"DejaVuSans-115\"/>\n      </defs>\n      <g transform=\"translate(48.71875 201.51625)scale(0.12 -0.12)\">\n       <use xlink:href=\"#DejaVuSans-99\"/>\n       <use x=\"54.980469\" xlink:href=\"#DejaVuSans-111\"/>\n       <use x=\"116.162109\" xlink:href=\"#DejaVuSans-109\"/>\n       <use x=\"213.574219\" xlink:href=\"#DejaVuSans-112\"/>\n       <use x=\"277.050781\" xlink:href=\"#DejaVuSans-46\"/>\n       <use x=\"308.837891\" xlink:href=\"#DejaVuSans-103\"/>\n       <use x=\"372.314453\" xlink:href=\"#DejaVuSans-114\"/>\n       <use x=\"413.427734\" xlink:href=\"#DejaVuSans-97\"/>\n       <use x=\"474.707031\" xlink:href=\"#DejaVuSans-112\"/>\n       <use x=\"538.183594\" xlink:href=\"#DejaVuSans-104\"/>\n       <use x=\"601.5625\" xlink:href=\"#DejaVuSans-105\"/>\n       <use x=\"629.345703\" xlink:href=\"#DejaVuSans-99\"/>\n       <use x=\"684.326172\" xlink:href=\"#DejaVuSans-115\"/>\n      </g>\n     </g>\n    </g>\n    <g id=\"xtick_2\">\n     <g id=\"line2d_2\">\n      <g>\n       <use style=\"stroke:#000000;stroke-width:0.8;\" x=\"204.505\" xlink:href=\"#m1b2384a237\" y=\"185.398125\"/>\n      </g>\n     </g>\n     <g id=\"text_2\">\n      <!-- sci.med -->\n      <defs>\n       <path d=\"M 56.203125 29.59375 \nL 56.203125 25.203125 \nL 14.890625 25.203125 \nQ 15.484375 15.921875 20.484375 11.0625 \nQ 25.484375 6.203125 34.421875 6.203125 \nQ 39.59375 6.203125 44.453125 7.46875 \nQ 49.3125 8.734375 54.109375 11.28125 \nL 54.109375 2.78125 \nQ 49.265625 0.734375 44.1875 -0.34375 \nQ 39.109375 -1.421875 33.890625 -1.421875 \nQ 20.796875 -1.421875 13.15625 6.1875 \nQ 5.515625 13.8125 5.515625 26.8125 \nQ 5.515625 40.234375 12.765625 48.109375 \nQ 20.015625 56 32.328125 56 \nQ 43.359375 56 49.78125 48.890625 \nQ 56.203125 41.796875 56.203125 29.59375 \nz\nM 47.21875 32.234375 \nQ 47.125 39.59375 43.09375 43.984375 \nQ 39.0625 48.390625 32.421875 48.390625 \nQ 24.90625 48.390625 20.390625 44.140625 \nQ 15.875 39.890625 15.1875 32.171875 \nz\n\" id=\"DejaVuSans-101\"/>\n       <path d=\"M 45.40625 46.390625 \nL 45.40625 75.984375 \nL 54.390625 75.984375 \nL 54.390625 0 \nL 45.40625 0 \nL 45.40625 8.203125 \nQ 42.578125 3.328125 38.25 0.953125 \nQ 33.9375 -1.421875 27.875 -1.421875 \nQ 17.96875 -1.421875 11.734375 6.484375 \nQ 5.515625 14.40625 5.515625 27.296875 \nQ 5.515625 40.1875 11.734375 48.09375 \nQ 17.96875 56 27.875 56 \nQ 33.9375 56 38.25 53.625 \nQ 42.578125 51.265625 45.40625 46.390625 \nz\nM 14.796875 27.296875 \nQ 14.796875 17.390625 18.875 11.75 \nQ 22.953125 6.109375 30.078125 6.109375 \nQ 37.203125 6.109375 41.296875 11.75 \nQ 45.40625 17.390625 45.40625 27.296875 \nQ 45.40625 37.203125 41.296875 42.84375 \nQ 37.203125 48.484375 30.078125 48.484375 \nQ 22.953125 48.484375 18.875 42.84375 \nQ 14.796875 37.203125 14.796875 27.296875 \nz\n\" id=\"DejaVuSans-100\"/>\n      </defs>\n      <g transform=\"translate(181.16125 201.51625)scale(0.12 -0.12)\">\n       <use xlink:href=\"#DejaVuSans-115\"/>\n       <use x=\"52.099609\" xlink:href=\"#DejaVuSans-99\"/>\n       <use x=\"107.080078\" xlink:href=\"#DejaVuSans-105\"/>\n       <use x=\"134.863281\" xlink:href=\"#DejaVuSans-46\"/>\n       <use x=\"166.650391\" xlink:href=\"#DejaVuSans-109\"/>\n       <use x=\"264.0625\" xlink:href=\"#DejaVuSans-101\"/>\n       <use x=\"325.585938\" xlink:href=\"#DejaVuSans-100\"/>\n      </g>\n     </g>\n    </g>\n    <g id=\"xtick_3\">\n     <g id=\"line2d_3\">\n      <g>\n       <use style=\"stroke:#000000;stroke-width:0.8;\" x=\"316.105\" xlink:href=\"#m1b2384a237\" y=\"185.398125\"/>\n      </g>\n     </g>\n     <g id=\"text_3\">\n      <!-- soc.religion.christian -->\n      <defs>\n       <path d=\"M 9.421875 75.984375 \nL 18.40625 75.984375 \nL 18.40625 0 \nL 9.421875 0 \nz\n\" id=\"DejaVuSans-108\"/>\n       <path d=\"M 54.890625 33.015625 \nL 54.890625 0 \nL 45.90625 0 \nL 45.90625 32.71875 \nQ 45.90625 40.484375 42.875 44.328125 \nQ 39.84375 48.1875 33.796875 48.1875 \nQ 26.515625 48.1875 22.3125 43.546875 \nQ 18.109375 38.921875 18.109375 30.90625 \nL 18.109375 0 \nL 9.078125 0 \nL 9.078125 54.6875 \nL 18.109375 54.6875 \nL 18.109375 46.1875 \nQ 21.34375 51.125 25.703125 53.5625 \nQ 30.078125 56 35.796875 56 \nQ 45.21875 56 50.046875 50.171875 \nQ 54.890625 44.34375 54.890625 33.015625 \nz\n\" id=\"DejaVuSans-110\"/>\n       <path d=\"M 18.3125 70.21875 \nL 18.3125 54.6875 \nL 36.8125 54.6875 \nL 36.8125 47.703125 \nL 18.3125 47.703125 \nL 18.3125 18.015625 \nQ 18.3125 11.328125 20.140625 9.421875 \nQ 21.96875 7.515625 27.59375 7.515625 \nL 36.8125 7.515625 \nL 36.8125 0 \nL 27.59375 0 \nQ 17.1875 0 13.234375 3.875 \nQ 9.28125 7.765625 9.28125 18.015625 \nL 9.28125 47.703125 \nL 2.6875 47.703125 \nL 2.6875 54.6875 \nL 9.28125 54.6875 \nL 9.28125 70.21875 \nz\n\" id=\"DejaVuSans-116\"/>\n      </defs>\n      <g transform=\"translate(254.029375 201.51625)scale(0.12 -0.12)\">\n       <use xlink:href=\"#DejaVuSans-115\"/>\n       <use x=\"52.099609\" xlink:href=\"#DejaVuSans-111\"/>\n       <use x=\"113.28125\" xlink:href=\"#DejaVuSans-99\"/>\n       <use x=\"168.261719\" xlink:href=\"#DejaVuSans-46\"/>\n       <use x=\"200.048828\" xlink:href=\"#DejaVuSans-114\"/>\n       <use x=\"238.912109\" xlink:href=\"#DejaVuSans-101\"/>\n       <use x=\"300.435547\" xlink:href=\"#DejaVuSans-108\"/>\n       <use x=\"328.21875\" xlink:href=\"#DejaVuSans-105\"/>\n       <use x=\"356.001953\" xlink:href=\"#DejaVuSans-103\"/>\n       <use x=\"419.478516\" xlink:href=\"#DejaVuSans-105\"/>\n       <use x=\"447.261719\" xlink:href=\"#DejaVuSans-111\"/>\n       <use x=\"508.443359\" xlink:href=\"#DejaVuSans-110\"/>\n       <use x=\"571.822266\" xlink:href=\"#DejaVuSans-46\"/>\n       <use x=\"603.609375\" xlink:href=\"#DejaVuSans-99\"/>\n       <use x=\"658.589844\" xlink:href=\"#DejaVuSans-104\"/>\n       <use x=\"721.96875\" xlink:href=\"#DejaVuSans-114\"/>\n       <use x=\"763.082031\" xlink:href=\"#DejaVuSans-105\"/>\n       <use x=\"790.865234\" xlink:href=\"#DejaVuSans-115\"/>\n       <use x=\"842.964844\" xlink:href=\"#DejaVuSans-116\"/>\n       <use x=\"882.173828\" xlink:href=\"#DejaVuSans-105\"/>\n       <use x=\"909.957031\" xlink:href=\"#DejaVuSans-97\"/>\n       <use x=\"971.236328\" xlink:href=\"#DejaVuSans-110\"/>\n      </g>\n     </g>\n    </g>\n    <g id=\"xtick_4\">\n     <g id=\"line2d_4\">\n      <g>\n       <use style=\"stroke:#000000;stroke-width:0.8;\" x=\"427.705\" xlink:href=\"#m1b2384a237\" y=\"185.398125\"/>\n      </g>\n     </g>\n     <g id=\"text_4\">\n      <!-- alt.atheism -->\n      <g transform=\"translate(393.941875 201.51625)scale(0.12 -0.12)\">\n       <use xlink:href=\"#DejaVuSans-97\"/>\n       <use x=\"61.279297\" xlink:href=\"#DejaVuSans-108\"/>\n       <use x=\"89.0625\" xlink:href=\"#DejaVuSans-116\"/>\n       <use x=\"128.271484\" xlink:href=\"#DejaVuSans-46\"/>\n       <use x=\"160.058594\" xlink:href=\"#DejaVuSans-97\"/>\n       <use x=\"221.337891\" xlink:href=\"#DejaVuSans-116\"/>\n       <use x=\"260.546875\" xlink:href=\"#DejaVuSans-104\"/>\n       <use x=\"323.925781\" xlink:href=\"#DejaVuSans-101\"/>\n       <use x=\"385.449219\" xlink:href=\"#DejaVuSans-105\"/>\n       <use x=\"413.232422\" xlink:href=\"#DejaVuSans-115\"/>\n       <use x=\"465.332031\" xlink:href=\"#DejaVuSans-109\"/>\n      </g>\n     </g>\n    </g>\n   </g>\n   <g id=\"matplotlib.axis_2\">\n    <g id=\"ytick_1\">\n     <g id=\"line2d_5\">\n      <defs>\n       <path d=\"M 0 0 \nL -3.5 0 \n\" id=\"mbf593ff940\" style=\"stroke:#000000;stroke-width:0.8;\"/>\n      </defs>\n      <g>\n       <use style=\"stroke:#000000;stroke-width:0.8;\" x=\"37.105\" xlink:href=\"#mbf593ff940\" y=\"185.398125\"/>\n      </g>\n     </g>\n     <g id=\"text_5\">\n      <!-- 0 -->\n      <defs>\n       <path d=\"M 31.78125 66.40625 \nQ 24.171875 66.40625 20.328125 58.90625 \nQ 16.5 51.421875 16.5 36.375 \nQ 16.5 21.390625 20.328125 13.890625 \nQ 24.171875 6.390625 31.78125 6.390625 \nQ 39.453125 6.390625 43.28125 13.890625 \nQ 47.125 21.390625 47.125 36.375 \nQ 47.125 51.421875 43.28125 58.90625 \nQ 39.453125 66.40625 31.78125 66.40625 \nz\nM 31.78125 74.21875 \nQ 44.046875 74.21875 50.515625 64.515625 \nQ 56.984375 54.828125 56.984375 36.375 \nQ 56.984375 17.96875 50.515625 8.265625 \nQ 44.046875 -1.421875 31.78125 -1.421875 \nQ 19.53125 -1.421875 13.0625 8.265625 \nQ 6.59375 17.96875 6.59375 36.375 \nQ 6.59375 54.828125 13.0625 64.515625 \nQ 19.53125 74.21875 31.78125 74.21875 \nz\n\" id=\"DejaVuSans-48\"/>\n      </defs>\n      <g transform=\"translate(22.47 189.957188)scale(0.12 -0.12)\">\n       <use xlink:href=\"#DejaVuSans-48\"/>\n      </g>\n     </g>\n    </g>\n    <g id=\"ytick_2\">\n     <g id=\"line2d_6\">\n      <g>\n       <use style=\"stroke:#000000;stroke-width:0.8;\" x=\"37.105\" xlink:href=\"#mbf593ff940\" y=\"158.218125\"/>\n      </g>\n     </g>\n     <g id=\"text_6\">\n      <!-- 50 -->\n      <defs>\n       <path d=\"M 10.796875 72.90625 \nL 49.515625 72.90625 \nL 49.515625 64.59375 \nL 19.828125 64.59375 \nL 19.828125 46.734375 \nQ 21.96875 47.46875 24.109375 47.828125 \nQ 26.265625 48.1875 28.421875 48.1875 \nQ 40.625 48.1875 47.75 41.5 \nQ 54.890625 34.8125 54.890625 23.390625 \nQ 54.890625 11.625 47.5625 5.09375 \nQ 40.234375 -1.421875 26.90625 -1.421875 \nQ 22.3125 -1.421875 17.546875 -0.640625 \nQ 12.796875 0.140625 7.71875 1.703125 \nL 7.71875 11.625 \nQ 12.109375 9.234375 16.796875 8.0625 \nQ 21.484375 6.890625 26.703125 6.890625 \nQ 35.15625 6.890625 40.078125 11.328125 \nQ 45.015625 15.765625 45.015625 23.390625 \nQ 45.015625 31 40.078125 35.4375 \nQ 35.15625 39.890625 26.703125 39.890625 \nQ 22.75 39.890625 18.8125 39.015625 \nQ 14.890625 38.140625 10.796875 36.28125 \nz\n\" id=\"DejaVuSans-53\"/>\n      </defs>\n      <g transform=\"translate(14.835 162.777188)scale(0.12 -0.12)\">\n       <use xlink:href=\"#DejaVuSans-53\"/>\n       <use x=\"63.623047\" xlink:href=\"#DejaVuSans-48\"/>\n      </g>\n     </g>\n    </g>\n    <g id=\"ytick_3\">\n     <g id=\"line2d_7\">\n      <g>\n       <use style=\"stroke:#000000;stroke-width:0.8;\" x=\"37.105\" xlink:href=\"#mbf593ff940\" y=\"131.038125\"/>\n      </g>\n     </g>\n     <g id=\"text_7\">\n      <!-- 100 -->\n      <defs>\n       <path d=\"M 12.40625 8.296875 \nL 28.515625 8.296875 \nL 28.515625 63.921875 \nL 10.984375 60.40625 \nL 10.984375 69.390625 \nL 28.421875 72.90625 \nL 38.28125 72.90625 \nL 38.28125 8.296875 \nL 54.390625 8.296875 \nL 54.390625 0 \nL 12.40625 0 \nz\n\" id=\"DejaVuSans-49\"/>\n      </defs>\n      <g transform=\"translate(7.2 135.597188)scale(0.12 -0.12)\">\n       <use xlink:href=\"#DejaVuSans-49\"/>\n       <use x=\"63.623047\" xlink:href=\"#DejaVuSans-48\"/>\n       <use x=\"127.246094\" xlink:href=\"#DejaVuSans-48\"/>\n      </g>\n     </g>\n    </g>\n    <g id=\"ytick_4\">\n     <g id=\"line2d_8\">\n      <g>\n       <use style=\"stroke:#000000;stroke-width:0.8;\" x=\"37.105\" xlink:href=\"#mbf593ff940\" y=\"103.858125\"/>\n      </g>\n     </g>\n     <g id=\"text_8\">\n      <!-- 150 -->\n      <g transform=\"translate(7.2 108.417188)scale(0.12 -0.12)\">\n       <use xlink:href=\"#DejaVuSans-49\"/>\n       <use x=\"63.623047\" xlink:href=\"#DejaVuSans-53\"/>\n       <use x=\"127.246094\" xlink:href=\"#DejaVuSans-48\"/>\n      </g>\n     </g>\n    </g>\n    <g id=\"ytick_5\">\n     <g id=\"line2d_9\">\n      <g>\n       <use style=\"stroke:#000000;stroke-width:0.8;\" x=\"37.105\" xlink:href=\"#mbf593ff940\" y=\"76.678125\"/>\n      </g>\n     </g>\n     <g id=\"text_9\">\n      <!-- 200 -->\n      <defs>\n       <path d=\"M 19.1875 8.296875 \nL 53.609375 8.296875 \nL 53.609375 0 \nL 7.328125 0 \nL 7.328125 8.296875 \nQ 12.9375 14.109375 22.625 23.890625 \nQ 32.328125 33.6875 34.8125 36.53125 \nQ 39.546875 41.84375 41.421875 45.53125 \nQ 43.3125 49.21875 43.3125 52.78125 \nQ 43.3125 58.59375 39.234375 62.25 \nQ 35.15625 65.921875 28.609375 65.921875 \nQ 23.96875 65.921875 18.8125 64.3125 \nQ 13.671875 62.703125 7.8125 59.421875 \nL 7.8125 69.390625 \nQ 13.765625 71.78125 18.9375 73 \nQ 24.125 74.21875 28.421875 74.21875 \nQ 39.75 74.21875 46.484375 68.546875 \nQ 53.21875 62.890625 53.21875 53.421875 \nQ 53.21875 48.921875 51.53125 44.890625 \nQ 49.859375 40.875 45.40625 35.40625 \nQ 44.1875 33.984375 37.640625 27.21875 \nQ 31.109375 20.453125 19.1875 8.296875 \nz\n\" id=\"DejaVuSans-50\"/>\n      </defs>\n      <g transform=\"translate(7.2 81.237188)scale(0.12 -0.12)\">\n       <use xlink:href=\"#DejaVuSans-50\"/>\n       <use x=\"63.623047\" xlink:href=\"#DejaVuSans-48\"/>\n       <use x=\"127.246094\" xlink:href=\"#DejaVuSans-48\"/>\n      </g>\n     </g>\n    </g>\n    <g id=\"ytick_6\">\n     <g id=\"line2d_10\">\n      <g>\n       <use style=\"stroke:#000000;stroke-width:0.8;\" x=\"37.105\" xlink:href=\"#mbf593ff940\" y=\"49.498125\"/>\n      </g>\n     </g>\n     <g id=\"text_10\">\n      <!-- 250 -->\n      <g transform=\"translate(7.2 54.057187)scale(0.12 -0.12)\">\n       <use xlink:href=\"#DejaVuSans-50\"/>\n       <use x=\"63.623047\" xlink:href=\"#DejaVuSans-53\"/>\n       <use x=\"127.246094\" xlink:href=\"#DejaVuSans-48\"/>\n      </g>\n     </g>\n    </g>\n    <g id=\"ytick_7\">\n     <g id=\"line2d_11\">\n      <g>\n       <use style=\"stroke:#000000;stroke-width:0.8;\" x=\"37.105\" xlink:href=\"#mbf593ff940\" y=\"22.318125\"/>\n      </g>\n     </g>\n     <g id=\"text_11\">\n      <!-- 300 -->\n      <defs>\n       <path d=\"M 40.578125 39.3125 \nQ 47.65625 37.796875 51.625 33 \nQ 55.609375 28.21875 55.609375 21.1875 \nQ 55.609375 10.40625 48.1875 4.484375 \nQ 40.765625 -1.421875 27.09375 -1.421875 \nQ 22.515625 -1.421875 17.65625 -0.515625 \nQ 12.796875 0.390625 7.625 2.203125 \nL 7.625 11.71875 \nQ 11.71875 9.328125 16.59375 8.109375 \nQ 21.484375 6.890625 26.8125 6.890625 \nQ 36.078125 6.890625 40.9375 10.546875 \nQ 45.796875 14.203125 45.796875 21.1875 \nQ 45.796875 27.640625 41.28125 31.265625 \nQ 36.765625 34.90625 28.71875 34.90625 \nL 20.21875 34.90625 \nL 20.21875 43.015625 \nL 29.109375 43.015625 \nQ 36.375 43.015625 40.234375 45.921875 \nQ 44.09375 48.828125 44.09375 54.296875 \nQ 44.09375 59.90625 40.109375 62.90625 \nQ 36.140625 65.921875 28.71875 65.921875 \nQ 24.65625 65.921875 20.015625 65.03125 \nQ 15.375 64.15625 9.8125 62.3125 \nL 9.8125 71.09375 \nQ 15.4375 72.65625 20.34375 73.4375 \nQ 25.25 74.21875 29.59375 74.21875 \nQ 40.828125 74.21875 47.359375 69.109375 \nQ 53.90625 64.015625 53.90625 55.328125 \nQ 53.90625 49.265625 50.4375 45.09375 \nQ 46.96875 40.921875 40.578125 39.3125 \nz\n\" id=\"DejaVuSans-51\"/>\n      </defs>\n      <g transform=\"translate(7.2 26.877188)scale(0.12 -0.12)\">\n       <use xlink:href=\"#DejaVuSans-51\"/>\n       <use x=\"63.623047\" xlink:href=\"#DejaVuSans-48\"/>\n       <use x=\"127.246094\" xlink:href=\"#DejaVuSans-48\"/>\n      </g>\n     </g>\n    </g>\n   </g>\n   <g id=\"patch_7\">\n    <path d=\"M 37.105 185.398125 \nL 37.105 22.318125 \n\" style=\"fill:none;stroke:#000000;stroke-linecap:square;stroke-linejoin:miter;stroke-width:0.8;\"/>\n   </g>\n   <g id=\"patch_8\">\n    <path d=\"M 483.505 185.398125 \nL 483.505 22.318125 \n\" style=\"fill:none;stroke:#000000;stroke-linecap:square;stroke-linejoin:miter;stroke-width:0.8;\"/>\n   </g>\n   <g id=\"patch_9\">\n    <path d=\"M 37.105 185.398125 \nL 483.505 185.398125 \n\" style=\"fill:none;stroke:#000000;stroke-linecap:square;stroke-linejoin:miter;stroke-width:0.8;\"/>\n   </g>\n   <g id=\"patch_10\">\n    <path d=\"M 37.105 22.318125 \nL 483.505 22.318125 \n\" style=\"fill:none;stroke:#000000;stroke-linecap:square;stroke-linejoin:miter;stroke-width:0.8;\"/>\n   </g>\n   <g id=\"text_12\">\n    <!-- Category distribution -->\n    <defs>\n     <path d=\"M 64.40625 67.28125 \nL 64.40625 56.890625 \nQ 59.421875 61.53125 53.78125 63.8125 \nQ 48.140625 66.109375 41.796875 66.109375 \nQ 29.296875 66.109375 22.65625 58.46875 \nQ 16.015625 50.828125 16.015625 36.375 \nQ 16.015625 21.96875 22.65625 14.328125 \nQ 29.296875 6.6875 41.796875 6.6875 \nQ 48.140625 6.6875 53.78125 8.984375 \nQ 59.421875 11.28125 64.40625 15.921875 \nL 64.40625 5.609375 \nQ 59.234375 2.09375 53.4375 0.328125 \nQ 47.65625 -1.421875 41.21875 -1.421875 \nQ 24.65625 -1.421875 15.125 8.703125 \nQ 5.609375 18.84375 5.609375 36.375 \nQ 5.609375 53.953125 15.125 64.078125 \nQ 24.65625 74.21875 41.21875 74.21875 \nQ 47.75 74.21875 53.53125 72.484375 \nQ 59.328125 70.75 64.40625 67.28125 \nz\n\" id=\"DejaVuSans-67\"/>\n     <path d=\"M 32.171875 -5.078125 \nQ 28.375 -14.84375 24.75 -17.8125 \nQ 21.140625 -20.796875 15.09375 -20.796875 \nL 7.90625 -20.796875 \nL 7.90625 -13.28125 \nL 13.1875 -13.28125 \nQ 16.890625 -13.28125 18.9375 -11.515625 \nQ 21 -9.765625 23.484375 -3.21875 \nL 25.09375 0.875 \nL 2.984375 54.6875 \nL 12.5 54.6875 \nL 29.59375 11.921875 \nL 46.6875 54.6875 \nL 56.203125 54.6875 \nz\n\" id=\"DejaVuSans-121\"/>\n     <path id=\"DejaVuSans-32\"/>\n     <path d=\"M 48.6875 27.296875 \nQ 48.6875 37.203125 44.609375 42.84375 \nQ 40.53125 48.484375 33.40625 48.484375 \nQ 26.265625 48.484375 22.1875 42.84375 \nQ 18.109375 37.203125 18.109375 27.296875 \nQ 18.109375 17.390625 22.1875 11.75 \nQ 26.265625 6.109375 33.40625 6.109375 \nQ 40.53125 6.109375 44.609375 11.75 \nQ 48.6875 17.390625 48.6875 27.296875 \nz\nM 18.109375 46.390625 \nQ 20.953125 51.265625 25.265625 53.625 \nQ 29.59375 56 35.59375 56 \nQ 45.5625 56 51.78125 48.09375 \nQ 58.015625 40.1875 58.015625 27.296875 \nQ 58.015625 14.40625 51.78125 6.484375 \nQ 45.5625 -1.421875 35.59375 -1.421875 \nQ 29.59375 -1.421875 25.265625 0.953125 \nQ 20.953125 3.328125 18.109375 8.203125 \nL 18.109375 0 \nL 9.078125 0 \nL 9.078125 75.984375 \nL 18.109375 75.984375 \nz\n\" id=\"DejaVuSans-98\"/>\n     <path d=\"M 8.5 21.578125 \nL 8.5 54.6875 \nL 17.484375 54.6875 \nL 17.484375 21.921875 \nQ 17.484375 14.15625 20.5 10.265625 \nQ 23.53125 6.390625 29.59375 6.390625 \nQ 36.859375 6.390625 41.078125 11.03125 \nQ 45.3125 15.671875 45.3125 23.6875 \nL 45.3125 54.6875 \nL 54.296875 54.6875 \nL 54.296875 0 \nL 45.3125 0 \nL 45.3125 8.40625 \nQ 42.046875 3.421875 37.71875 1 \nQ 33.40625 -1.421875 27.6875 -1.421875 \nQ 18.265625 -1.421875 13.375 4.4375 \nQ 8.5 10.296875 8.5 21.578125 \nz\nM 31.109375 56 \nz\n\" id=\"DejaVuSans-117\"/>\n    </defs>\n    <g transform=\"translate(196.797813 16.318125)scale(0.12 -0.12)\">\n     <use xlink:href=\"#DejaVuSans-67\"/>\n     <use x=\"69.824219\" xlink:href=\"#DejaVuSans-97\"/>\n     <use x=\"131.103516\" xlink:href=\"#DejaVuSans-116\"/>\n     <use x=\"170.3125\" xlink:href=\"#DejaVuSans-101\"/>\n     <use x=\"231.835938\" xlink:href=\"#DejaVuSans-103\"/>\n     <use x=\"295.3125\" xlink:href=\"#DejaVuSans-111\"/>\n     <use x=\"356.494141\" xlink:href=\"#DejaVuSans-114\"/>\n     <use x=\"397.607422\" xlink:href=\"#DejaVuSans-121\"/>\n     <use x=\"456.787109\" xlink:href=\"#DejaVuSans-32\"/>\n     <use x=\"488.574219\" xlink:href=\"#DejaVuSans-100\"/>\n     <use x=\"552.050781\" xlink:href=\"#DejaVuSans-105\"/>\n     <use x=\"579.833984\" xlink:href=\"#DejaVuSans-115\"/>\n     <use x=\"631.933594\" xlink:href=\"#DejaVuSans-116\"/>\n     <use x=\"671.142578\" xlink:href=\"#DejaVuSans-114\"/>\n     <use x=\"712.255859\" xlink:href=\"#DejaVuSans-105\"/>\n     <use x=\"740.039062\" xlink:href=\"#DejaVuSans-98\"/>\n     <use x=\"803.515625\" xlink:href=\"#DejaVuSans-117\"/>\n     <use x=\"866.894531\" xlink:href=\"#DejaVuSans-116\"/>\n     <use x=\"906.103516\" xlink:href=\"#DejaVuSans-105\"/>\n     <use x=\"933.886719\" xlink:href=\"#DejaVuSans-111\"/>\n     <use x=\"995.068359\" xlink:href=\"#DejaVuSans-110\"/>\n    </g>\n   </g>\n  </g>\n </g>\n <defs>\n  <clipPath id=\"pf7c00755c0\">\n   <rect height=\"163.08\" width=\"446.4\" x=\"37.105\" y=\"22.318125\"/>\n  </clipPath>\n </defs>\n</svg>\n",
      "image/png": "[encoded data removed]"
     },
     "metadata": {}
    }
   ],
   "source": [
    "print(X_sample.category_name.value_counts())\n",
    "\n",
    "# plot barchart for X_sample\n",
    "X_sample.category_name.value_counts().plot(kind = 'bar',\n",
    "                                           title = 'Category distribution',\n",
    "                                           ylim = [0, 300], \n",
    "                                           rot = 0, fontsize = 12, figsize = (8,3))"
   ]
  },
  {
   "cell_type": "markdown",
   "metadata": {},
   "source": [
    "You can use following command to see other available styles to prettify your charts.\n",
    "```python\n",
    "print(plt.style.available)```"
   ]
  },
  {
   "cell_type": "markdown",
   "metadata": {},
   "source": [
    "---"
   ]
  },
  {
   "cell_type": "markdown",
   "metadata": {},
   "source": [
    "### >>> **Exercise 7 (5 min):**\n",
    "Notice that for the `ylim` parameters we hardcoded the maximum value for y. Is it possible to automate this instead of hard-coding it? How would you go about doing that? (Hint: look at code above for clues)"
   ]
  },
  {
   "cell_type": "code",
   "execution_count": 67,
   "metadata": {
    "tags": []
   },
   "outputs": [
    {
     "output_type": "stream",
     "name": "stdout",
     "text": [
      "soc.religion.christian    599\nsci.med                   594\ncomp.graphics             584\nalt.atheism               480\nName: category_name, dtype: int64\n"
     ]
    },
    {
     "output_type": "execute_result",
     "data": {
      "text/plain": [
       "<matplotlib.axes._subplots.AxesSubplot at 0x7f6eb89b4d68>"
      ]
     },
     "metadata": {},
     "execution_count": 67
    },
    {
     "output_type": "display_data",
     "data": {
      "text/plain": "<Figure size 576x216 with 1 Axes>",
      "image/svg+xml": "<?xml version=\"1.0\" encoding=\"utf-8\" standalone=\"no\"?>\n<!DOCTYPE svg PUBLIC \"-//W3C//DTD SVG 1.1//EN\"\n  \"http://www.w3.org/Graphics/SVG/1.1/DTD/svg11.dtd\">\n<!-- Created with matplotlib (https://matplotlib.org/) -->\n<svg height=\"210.244063pt\" version=\"1.1\" viewBox=\"0 0 488.79625 210.244063\" width=\"488.79625pt\" xmlns=\"http://www.w3.org/2000/svg\" xmlns:xlink=\"http://www.w3.org/1999/xlink\">\n <defs>\n  <style type=\"text/css\">\n*{stroke-linecap:butt;stroke-linejoin:round;}\n  </style>\n </defs>\n <g id=\"figure_1\">\n  <g id=\"patch_1\">\n   <path d=\"M 0 210.244063 \nL 488.79625 210.244063 \nL 488.79625 0 \nL 0 0 \nz\n\" style=\"fill:none;\"/>\n  </g>\n  <g id=\"axes_1\">\n   <g id=\"patch_2\">\n    <path d=\"M 35.19625 185.398125 \nL 481.59625 185.398125 \nL 481.59625 22.318125 \nL 35.19625 22.318125 \nz\n\" style=\"fill:#ffffff;\"/>\n   </g>\n   <g id=\"patch_3\">\n    <path clip-path=\"url(#p0a014cb7e4)\" d=\"M 63.09625 185.398125 \nL 118.89625 185.398125 \nL 118.89625 27.587269 \nL 63.09625 27.587269 \nz\n\" style=\"fill:#1f77b4;\"/>\n   </g>\n   <g id=\"patch_4\">\n    <path clip-path=\"url(#p0a014cb7e4)\" d=\"M 174.69625 185.398125 \nL 230.49625 185.398125 \nL 230.49625 28.904555 \nL 174.69625 28.904555 \nz\n\" style=\"fill:#1f77b4;\"/>\n   </g>\n   <g id=\"patch_5\">\n    <path clip-path=\"url(#p0a014cb7e4)\" d=\"M 286.29625 185.398125 \nL 342.09625 185.398125 \nL 342.09625 31.539127 \nL 286.29625 31.539127 \nz\n\" style=\"fill:#1f77b4;\"/>\n   </g>\n   <g id=\"patch_6\">\n    <path clip-path=\"url(#p0a014cb7e4)\" d=\"M 397.89625 185.398125 \nL 453.69625 185.398125 \nL 453.69625 58.938674 \nL 397.89625 58.938674 \nz\n\" style=\"fill:#1f77b4;\"/>\n   </g>\n   <g id=\"matplotlib.axis_1\">\n    <g id=\"xtick_1\">\n     <g id=\"line2d_1\">\n      <defs>\n       <path d=\"M 0 0 \nL 0 3.5 \n\" id=\"mffa7a8da43\" style=\"stroke:#000000;stroke-width:0.8;\"/>\n      </defs>\n      <g>\n       <use style=\"stroke:#000000;stroke-width:0.8;\" x=\"90.99625\" xlink:href=\"#mffa7a8da43\" y=\"185.398125\"/>\n      </g>\n     </g>\n     <g id=\"text_1\">\n      <!-- soc.religion.christian -->\n      <defs>\n       <path d=\"M 44.28125 53.078125 \nL 44.28125 44.578125 \nQ 40.484375 46.53125 36.375 47.5 \nQ 32.28125 48.484375 27.875 48.484375 \nQ 21.1875 48.484375 17.84375 46.4375 \nQ 14.5 44.390625 14.5 40.28125 \nQ 14.5 37.15625 16.890625 35.375 \nQ 19.28125 33.59375 26.515625 31.984375 \nL 29.59375 31.296875 \nQ 39.15625 29.25 43.1875 25.515625 \nQ 47.21875 21.78125 47.21875 15.09375 \nQ 47.21875 7.46875 41.1875 3.015625 \nQ 35.15625 -1.421875 24.609375 -1.421875 \nQ 20.21875 -1.421875 15.453125 -0.5625 \nQ 10.6875 0.296875 5.421875 2 \nL 5.421875 11.28125 \nQ 10.40625 8.6875 15.234375 7.390625 \nQ 20.0625 6.109375 24.8125 6.109375 \nQ 31.15625 6.109375 34.5625 8.28125 \nQ 37.984375 10.453125 37.984375 14.40625 \nQ 37.984375 18.0625 35.515625 20.015625 \nQ 33.0625 21.96875 24.703125 23.78125 \nL 21.578125 24.515625 \nQ 13.234375 26.265625 9.515625 29.90625 \nQ 5.8125 33.546875 5.8125 39.890625 \nQ 5.8125 47.609375 11.28125 51.796875 \nQ 16.75 56 26.8125 56 \nQ 31.78125 56 36.171875 55.265625 \nQ 40.578125 54.546875 44.28125 53.078125 \nz\n\" id=\"DejaVuSans-115\"/>\n       <path d=\"M 30.609375 48.390625 \nQ 23.390625 48.390625 19.1875 42.75 \nQ 14.984375 37.109375 14.984375 27.296875 \nQ 14.984375 17.484375 19.15625 11.84375 \nQ 23.34375 6.203125 30.609375 6.203125 \nQ 37.796875 6.203125 41.984375 11.859375 \nQ 46.1875 17.53125 46.1875 27.296875 \nQ 46.1875 37.015625 41.984375 42.703125 \nQ 37.796875 48.390625 30.609375 48.390625 \nz\nM 30.609375 56 \nQ 42.328125 56 49.015625 48.375 \nQ 55.71875 40.765625 55.71875 27.296875 \nQ 55.71875 13.875 49.015625 6.21875 \nQ 42.328125 -1.421875 30.609375 -1.421875 \nQ 18.84375 -1.421875 12.171875 6.21875 \nQ 5.515625 13.875 5.515625 27.296875 \nQ 5.515625 40.765625 12.171875 48.375 \nQ 18.84375 56 30.609375 56 \nz\n\" id=\"DejaVuSans-111\"/>\n       <path d=\"M 48.78125 52.59375 \nL 48.78125 44.1875 \nQ 44.96875 46.296875 41.140625 47.34375 \nQ 37.3125 48.390625 33.40625 48.390625 \nQ 24.65625 48.390625 19.8125 42.84375 \nQ 14.984375 37.3125 14.984375 27.296875 \nQ 14.984375 17.28125 19.8125 11.734375 \nQ 24.65625 6.203125 33.40625 6.203125 \nQ 37.3125 6.203125 41.140625 7.25 \nQ 44.96875 8.296875 48.78125 10.40625 \nL 48.78125 2.09375 \nQ 45.015625 0.34375 40.984375 -0.53125 \nQ 36.96875 -1.421875 32.421875 -1.421875 \nQ 20.0625 -1.421875 12.78125 6.34375 \nQ 5.515625 14.109375 5.515625 27.296875 \nQ 5.515625 40.671875 12.859375 48.328125 \nQ 20.21875 56 33.015625 56 \nQ 37.15625 56 41.109375 55.140625 \nQ 45.0625 54.296875 48.78125 52.59375 \nz\n\" id=\"DejaVuSans-99\"/>\n       <path d=\"M 10.6875 12.40625 \nL 21 12.40625 \nL 21 0 \nL 10.6875 0 \nz\n\" id=\"DejaVuSans-46\"/>\n       <path d=\"M 41.109375 46.296875 \nQ 39.59375 47.171875 37.8125 47.578125 \nQ 36.03125 48 33.890625 48 \nQ 26.265625 48 22.1875 43.046875 \nQ 18.109375 38.09375 18.109375 28.8125 \nL 18.109375 0 \nL 9.078125 0 \nL 9.078125 54.6875 \nL 18.109375 54.6875 \nL 18.109375 46.1875 \nQ 20.953125 51.171875 25.484375 53.578125 \nQ 30.03125 56 36.53125 56 \nQ 37.453125 56 38.578125 55.875 \nQ 39.703125 55.765625 41.0625 55.515625 \nz\n\" id=\"DejaVuSans-114\"/>\n       <path d=\"M 56.203125 29.59375 \nL 56.203125 25.203125 \nL 14.890625 25.203125 \nQ 15.484375 15.921875 20.484375 11.0625 \nQ 25.484375 6.203125 34.421875 6.203125 \nQ 39.59375 6.203125 44.453125 7.46875 \nQ 49.3125 8.734375 54.109375 11.28125 \nL 54.109375 2.78125 \nQ 49.265625 0.734375 44.1875 -0.34375 \nQ 39.109375 -1.421875 33.890625 -1.421875 \nQ 20.796875 -1.421875 13.15625 6.1875 \nQ 5.515625 13.8125 5.515625 26.8125 \nQ 5.515625 40.234375 12.765625 48.109375 \nQ 20.015625 56 32.328125 56 \nQ 43.359375 56 49.78125 48.890625 \nQ 56.203125 41.796875 56.203125 29.59375 \nz\nM 47.21875 32.234375 \nQ 47.125 39.59375 43.09375 43.984375 \nQ 39.0625 48.390625 32.421875 48.390625 \nQ 24.90625 48.390625 20.390625 44.140625 \nQ 15.875 39.890625 15.1875 32.171875 \nz\n\" id=\"DejaVuSans-101\"/>\n       <path d=\"M 9.421875 75.984375 \nL 18.40625 75.984375 \nL 18.40625 0 \nL 9.421875 0 \nz\n\" id=\"DejaVuSans-108\"/>\n       <path d=\"M 9.421875 54.6875 \nL 18.40625 54.6875 \nL 18.40625 0 \nL 9.421875 0 \nz\nM 9.421875 75.984375 \nL 18.40625 75.984375 \nL 18.40625 64.59375 \nL 9.421875 64.59375 \nz\n\" id=\"DejaVuSans-105\"/>\n       <path d=\"M 45.40625 27.984375 \nQ 45.40625 37.75 41.375 43.109375 \nQ 37.359375 48.484375 30.078125 48.484375 \nQ 22.859375 48.484375 18.828125 43.109375 \nQ 14.796875 37.75 14.796875 27.984375 \nQ 14.796875 18.265625 18.828125 12.890625 \nQ 22.859375 7.515625 30.078125 7.515625 \nQ 37.359375 7.515625 41.375 12.890625 \nQ 45.40625 18.265625 45.40625 27.984375 \nz\nM 54.390625 6.78125 \nQ 54.390625 -7.171875 48.1875 -13.984375 \nQ 42 -20.796875 29.203125 -20.796875 \nQ 24.46875 -20.796875 20.265625 -20.09375 \nQ 16.0625 -19.390625 12.109375 -17.921875 \nL 12.109375 -9.1875 \nQ 16.0625 -11.328125 19.921875 -12.34375 \nQ 23.78125 -13.375 27.78125 -13.375 \nQ 36.625 -13.375 41.015625 -8.765625 \nQ 45.40625 -4.15625 45.40625 5.171875 \nL 45.40625 9.625 \nQ 42.625 4.78125 38.28125 2.390625 \nQ 33.9375 0 27.875 0 \nQ 17.828125 0 11.671875 7.65625 \nQ 5.515625 15.328125 5.515625 27.984375 \nQ 5.515625 40.671875 11.671875 48.328125 \nQ 17.828125 56 27.875 56 \nQ 33.9375 56 38.28125 53.609375 \nQ 42.625 51.21875 45.40625 46.390625 \nL 45.40625 54.6875 \nL 54.390625 54.6875 \nz\n\" id=\"DejaVuSans-103\"/>\n       <path d=\"M 54.890625 33.015625 \nL 54.890625 0 \nL 45.90625 0 \nL 45.90625 32.71875 \nQ 45.90625 40.484375 42.875 44.328125 \nQ 39.84375 48.1875 33.796875 48.1875 \nQ 26.515625 48.1875 22.3125 43.546875 \nQ 18.109375 38.921875 18.109375 30.90625 \nL 18.109375 0 \nL 9.078125 0 \nL 9.078125 54.6875 \nL 18.109375 54.6875 \nL 18.109375 46.1875 \nQ 21.34375 51.125 25.703125 53.5625 \nQ 30.078125 56 35.796875 56 \nQ 45.21875 56 50.046875 50.171875 \nQ 54.890625 44.34375 54.890625 33.015625 \nz\n\" id=\"DejaVuSans-110\"/>\n       <path d=\"M 54.890625 33.015625 \nL 54.890625 0 \nL 45.90625 0 \nL 45.90625 32.71875 \nQ 45.90625 40.484375 42.875 44.328125 \nQ 39.84375 48.1875 33.796875 48.1875 \nQ 26.515625 48.1875 22.3125 43.546875 \nQ 18.109375 38.921875 18.109375 30.90625 \nL 18.109375 0 \nL 9.078125 0 \nL 9.078125 75.984375 \nL 18.109375 75.984375 \nL 18.109375 46.1875 \nQ 21.34375 51.125 25.703125 53.5625 \nQ 30.078125 56 35.796875 56 \nQ 45.21875 56 50.046875 50.171875 \nQ 54.890625 44.34375 54.890625 33.015625 \nz\n\" id=\"DejaVuSans-104\"/>\n       <path d=\"M 18.3125 70.21875 \nL 18.3125 54.6875 \nL 36.8125 54.6875 \nL 36.8125 47.703125 \nL 18.3125 47.703125 \nL 18.3125 18.015625 \nQ 18.3125 11.328125 20.140625 9.421875 \nQ 21.96875 7.515625 27.59375 7.515625 \nL 36.8125 7.515625 \nL 36.8125 0 \nL 27.59375 0 \nQ 17.1875 0 13.234375 3.875 \nQ 9.28125 7.765625 9.28125 18.015625 \nL 9.28125 47.703125 \nL 2.6875 47.703125 \nL 2.6875 54.6875 \nL 9.28125 54.6875 \nL 9.28125 70.21875 \nz\n\" id=\"DejaVuSans-116\"/>\n       <path d=\"M 34.28125 27.484375 \nQ 23.390625 27.484375 19.1875 25 \nQ 14.984375 22.515625 14.984375 16.5 \nQ 14.984375 11.71875 18.140625 8.90625 \nQ 21.296875 6.109375 26.703125 6.109375 \nQ 34.1875 6.109375 38.703125 11.40625 \nQ 43.21875 16.703125 43.21875 25.484375 \nL 43.21875 27.484375 \nz\nM 52.203125 31.203125 \nL 52.203125 0 \nL 43.21875 0 \nL 43.21875 8.296875 \nQ 40.140625 3.328125 35.546875 0.953125 \nQ 30.953125 -1.421875 24.3125 -1.421875 \nQ 15.921875 -1.421875 10.953125 3.296875 \nQ 6 8.015625 6 15.921875 \nQ 6 25.140625 12.171875 29.828125 \nQ 18.359375 34.515625 30.609375 34.515625 \nL 43.21875 34.515625 \nL 43.21875 35.40625 \nQ 43.21875 41.609375 39.140625 45 \nQ 35.0625 48.390625 27.6875 48.390625 \nQ 23 48.390625 18.546875 47.265625 \nQ 14.109375 46.140625 10.015625 43.890625 \nL 10.015625 52.203125 \nQ 14.9375 54.109375 19.578125 55.046875 \nQ 24.21875 56 28.609375 56 \nQ 40.484375 56 46.34375 49.84375 \nQ 52.203125 43.703125 52.203125 31.203125 \nz\n\" id=\"DejaVuSans-97\"/>\n      </defs>\n      <g transform=\"translate(34.093594 200.756406)scale(0.11 -0.11)\">\n       <use xlink:href=\"#DejaVuSans-115\"/>\n       <use x=\"52.099609\" xlink:href=\"#DejaVuSans-111\"/>\n       <use x=\"113.28125\" xlink:href=\"#DejaVuSans-99\"/>\n       <use x=\"168.261719\" xlink:href=\"#DejaVuSans-46\"/>\n       <use x=\"200.048828\" xlink:href=\"#DejaVuSans-114\"/>\n       <use x=\"238.912109\" xlink:href=\"#DejaVuSans-101\"/>\n       <use x=\"300.435547\" xlink:href=\"#DejaVuSans-108\"/>\n       <use x=\"328.21875\" xlink:href=\"#DejaVuSans-105\"/>\n       <use x=\"356.001953\" xlink:href=\"#DejaVuSans-103\"/>\n       <use x=\"419.478516\" xlink:href=\"#DejaVuSans-105\"/>\n       <use x=\"447.261719\" xlink:href=\"#DejaVuSans-111\"/>\n       <use x=\"508.443359\" xlink:href=\"#DejaVuSans-110\"/>\n       <use x=\"571.822266\" xlink:href=\"#DejaVuSans-46\"/>\n       <use x=\"603.609375\" xlink:href=\"#DejaVuSans-99\"/>\n       <use x=\"658.589844\" xlink:href=\"#DejaVuSans-104\"/>\n       <use x=\"721.96875\" xlink:href=\"#DejaVuSans-114\"/>\n       <use x=\"763.082031\" xlink:href=\"#DejaVuSans-105\"/>\n       <use x=\"790.865234\" xlink:href=\"#DejaVuSans-115\"/>\n       <use x=\"842.964844\" xlink:href=\"#DejaVuSans-116\"/>\n       <use x=\"882.173828\" xlink:href=\"#DejaVuSans-105\"/>\n       <use x=\"909.957031\" xlink:href=\"#DejaVuSans-97\"/>\n       <use x=\"971.236328\" xlink:href=\"#DejaVuSans-110\"/>\n      </g>\n     </g>\n    </g>\n    <g id=\"xtick_2\">\n     <g id=\"line2d_2\">\n      <g>\n       <use style=\"stroke:#000000;stroke-width:0.8;\" x=\"202.59625\" xlink:href=\"#mffa7a8da43\" y=\"185.398125\"/>\n      </g>\n     </g>\n     <g id=\"text_2\">\n      <!-- sci.med -->\n      <defs>\n       <path d=\"M 52 44.1875 \nQ 55.375 50.25 60.0625 53.125 \nQ 64.75 56 71.09375 56 \nQ 79.640625 56 84.28125 50.015625 \nQ 88.921875 44.046875 88.921875 33.015625 \nL 88.921875 0 \nL 79.890625 0 \nL 79.890625 32.71875 \nQ 79.890625 40.578125 77.09375 44.375 \nQ 74.3125 48.1875 68.609375 48.1875 \nQ 61.625 48.1875 57.5625 43.546875 \nQ 53.515625 38.921875 53.515625 30.90625 \nL 53.515625 0 \nL 44.484375 0 \nL 44.484375 32.71875 \nQ 44.484375 40.625 41.703125 44.40625 \nQ 38.921875 48.1875 33.109375 48.1875 \nQ 26.21875 48.1875 22.15625 43.53125 \nQ 18.109375 38.875 18.109375 30.90625 \nL 18.109375 0 \nL 9.078125 0 \nL 9.078125 54.6875 \nL 18.109375 54.6875 \nL 18.109375 46.1875 \nQ 21.1875 51.21875 25.484375 53.609375 \nQ 29.78125 56 35.6875 56 \nQ 41.65625 56 45.828125 52.96875 \nQ 50 49.953125 52 44.1875 \nz\n\" id=\"DejaVuSans-109\"/>\n       <path d=\"M 45.40625 46.390625 \nL 45.40625 75.984375 \nL 54.390625 75.984375 \nL 54.390625 0 \nL 45.40625 0 \nL 45.40625 8.203125 \nQ 42.578125 3.328125 38.25 0.953125 \nQ 33.9375 -1.421875 27.875 -1.421875 \nQ 17.96875 -1.421875 11.734375 6.484375 \nQ 5.515625 14.40625 5.515625 27.296875 \nQ 5.515625 40.1875 11.734375 48.09375 \nQ 17.96875 56 27.875 56 \nQ 33.9375 56 38.25 53.625 \nQ 42.578125 51.265625 45.40625 46.390625 \nz\nM 14.796875 27.296875 \nQ 14.796875 17.390625 18.875 11.75 \nQ 22.953125 6.109375 30.078125 6.109375 \nQ 37.203125 6.109375 41.296875 11.75 \nQ 45.40625 17.390625 45.40625 27.296875 \nQ 45.40625 37.203125 41.296875 42.84375 \nQ 37.203125 48.484375 30.078125 48.484375 \nQ 22.953125 48.484375 18.875 42.84375 \nQ 14.796875 37.203125 14.796875 27.296875 \nz\n\" id=\"DejaVuSans-100\"/>\n      </defs>\n      <g transform=\"translate(181.197812 200.756406)scale(0.11 -0.11)\">\n       <use xlink:href=\"#DejaVuSans-115\"/>\n       <use x=\"52.099609\" xlink:href=\"#DejaVuSans-99\"/>\n       <use x=\"107.080078\" xlink:href=\"#DejaVuSans-105\"/>\n       <use x=\"134.863281\" xlink:href=\"#DejaVuSans-46\"/>\n       <use x=\"166.650391\" xlink:href=\"#DejaVuSans-109\"/>\n       <use x=\"264.0625\" xlink:href=\"#DejaVuSans-101\"/>\n       <use x=\"325.585938\" xlink:href=\"#DejaVuSans-100\"/>\n      </g>\n     </g>\n    </g>\n    <g id=\"xtick_3\">\n     <g id=\"line2d_3\">\n      <g>\n       <use style=\"stroke:#000000;stroke-width:0.8;\" x=\"314.19625\" xlink:href=\"#mffa7a8da43\" y=\"185.398125\"/>\n      </g>\n     </g>\n     <g id=\"text_3\">\n      <!-- comp.graphics -->\n      <defs>\n       <path d=\"M 18.109375 8.203125 \nL 18.109375 -20.796875 \nL 9.078125 -20.796875 \nL 9.078125 54.6875 \nL 18.109375 54.6875 \nL 18.109375 46.390625 \nQ 20.953125 51.265625 25.265625 53.625 \nQ 29.59375 56 35.59375 56 \nQ 45.5625 56 51.78125 48.09375 \nQ 58.015625 40.1875 58.015625 27.296875 \nQ 58.015625 14.40625 51.78125 6.484375 \nQ 45.5625 -1.421875 35.59375 -1.421875 \nQ 29.59375 -1.421875 25.265625 0.953125 \nQ 20.953125 3.328125 18.109375 8.203125 \nz\nM 48.6875 27.296875 \nQ 48.6875 37.203125 44.609375 42.84375 \nQ 40.53125 48.484375 33.40625 48.484375 \nQ 26.265625 48.484375 22.1875 42.84375 \nQ 18.109375 37.203125 18.109375 27.296875 \nQ 18.109375 17.390625 22.1875 11.75 \nQ 26.265625 6.109375 33.40625 6.109375 \nQ 40.53125 6.109375 44.609375 11.75 \nQ 48.6875 17.390625 48.6875 27.296875 \nz\n\" id=\"DejaVuSans-112\"/>\n      </defs>\n      <g transform=\"translate(273.692187 200.756406)scale(0.11 -0.11)\">\n       <use xlink:href=\"#DejaVuSans-99\"/>\n       <use x=\"54.980469\" xlink:href=\"#DejaVuSans-111\"/>\n       <use x=\"116.162109\" xlink:href=\"#DejaVuSans-109\"/>\n       <use x=\"213.574219\" xlink:href=\"#DejaVuSans-112\"/>\n       <use x=\"277.050781\" xlink:href=\"#DejaVuSans-46\"/>\n       <use x=\"308.837891\" xlink:href=\"#DejaVuSans-103\"/>\n       <use x=\"372.314453\" xlink:href=\"#DejaVuSans-114\"/>\n       <use x=\"413.427734\" xlink:href=\"#DejaVuSans-97\"/>\n       <use x=\"474.707031\" xlink:href=\"#DejaVuSans-112\"/>\n       <use x=\"538.183594\" xlink:href=\"#DejaVuSans-104\"/>\n       <use x=\"601.5625\" xlink:href=\"#DejaVuSans-105\"/>\n       <use x=\"629.345703\" xlink:href=\"#DejaVuSans-99\"/>\n       <use x=\"684.326172\" xlink:href=\"#DejaVuSans-115\"/>\n      </g>\n     </g>\n    </g>\n    <g id=\"xtick_4\">\n     <g id=\"line2d_4\">\n      <g>\n       <use style=\"stroke:#000000;stroke-width:0.8;\" x=\"425.79625\" xlink:href=\"#mffa7a8da43\" y=\"185.398125\"/>\n      </g>\n     </g>\n     <g id=\"text_4\">\n      <!-- alt.atheism -->\n      <g transform=\"translate(394.846719 200.756406)scale(0.11 -0.11)\">\n       <use xlink:href=\"#DejaVuSans-97\"/>\n       <use x=\"61.279297\" xlink:href=\"#DejaVuSans-108\"/>\n       <use x=\"89.0625\" xlink:href=\"#DejaVuSans-116\"/>\n       <use x=\"128.271484\" xlink:href=\"#DejaVuSans-46\"/>\n       <use x=\"160.058594\" xlink:href=\"#DejaVuSans-97\"/>\n       <use x=\"221.337891\" xlink:href=\"#DejaVuSans-116\"/>\n       <use x=\"260.546875\" xlink:href=\"#DejaVuSans-104\"/>\n       <use x=\"323.925781\" xlink:href=\"#DejaVuSans-101\"/>\n       <use x=\"385.449219\" xlink:href=\"#DejaVuSans-105\"/>\n       <use x=\"413.232422\" xlink:href=\"#DejaVuSans-115\"/>\n       <use x=\"465.332031\" xlink:href=\"#DejaVuSans-109\"/>\n      </g>\n     </g>\n    </g>\n   </g>\n   <g id=\"matplotlib.axis_2\">\n    <g id=\"ytick_1\">\n     <g id=\"line2d_5\">\n      <defs>\n       <path d=\"M 0 0 \nL -3.5 0 \n\" id=\"mf875b73b35\" style=\"stroke:#000000;stroke-width:0.8;\"/>\n      </defs>\n      <g>\n       <use style=\"stroke:#000000;stroke-width:0.8;\" x=\"35.19625\" xlink:href=\"#mf875b73b35\" y=\"185.398125\"/>\n      </g>\n     </g>\n     <g id=\"text_5\">\n      <!-- 0 -->\n      <defs>\n       <path d=\"M 31.78125 66.40625 \nQ 24.171875 66.40625 20.328125 58.90625 \nQ 16.5 51.421875 16.5 36.375 \nQ 16.5 21.390625 20.328125 13.890625 \nQ 24.171875 6.390625 31.78125 6.390625 \nQ 39.453125 6.390625 43.28125 13.890625 \nQ 47.125 21.390625 47.125 36.375 \nQ 47.125 51.421875 43.28125 58.90625 \nQ 39.453125 66.40625 31.78125 66.40625 \nz\nM 31.78125 74.21875 \nQ 44.046875 74.21875 50.515625 64.515625 \nQ 56.984375 54.828125 56.984375 36.375 \nQ 56.984375 17.96875 50.515625 8.265625 \nQ 44.046875 -1.421875 31.78125 -1.421875 \nQ 19.53125 -1.421875 13.0625 8.265625 \nQ 6.59375 17.96875 6.59375 36.375 \nQ 6.59375 54.828125 13.0625 64.515625 \nQ 19.53125 74.21875 31.78125 74.21875 \nz\n\" id=\"DejaVuSans-48\"/>\n      </defs>\n      <g transform=\"translate(21.1975 189.577266)scale(0.11 -0.11)\">\n       <use xlink:href=\"#DejaVuSans-48\"/>\n      </g>\n     </g>\n    </g>\n    <g id=\"ytick_2\">\n     <g id=\"line2d_6\">\n      <g>\n       <use style=\"stroke:#000000;stroke-width:0.8;\" x=\"35.19625\" xlink:href=\"#mf875b73b35\" y=\"159.052406\"/>\n      </g>\n     </g>\n     <g id=\"text_6\">\n      <!-- 100 -->\n      <defs>\n       <path d=\"M 12.40625 8.296875 \nL 28.515625 8.296875 \nL 28.515625 63.921875 \nL 10.984375 60.40625 \nL 10.984375 69.390625 \nL 28.421875 72.90625 \nL 38.28125 72.90625 \nL 38.28125 8.296875 \nL 54.390625 8.296875 \nL 54.390625 0 \nL 12.40625 0 \nz\n\" id=\"DejaVuSans-49\"/>\n      </defs>\n      <g transform=\"translate(7.2 163.231547)scale(0.11 -0.11)\">\n       <use xlink:href=\"#DejaVuSans-49\"/>\n       <use x=\"63.623047\" xlink:href=\"#DejaVuSans-48\"/>\n       <use x=\"127.246094\" xlink:href=\"#DejaVuSans-48\"/>\n      </g>\n     </g>\n    </g>\n    <g id=\"ytick_3\">\n     <g id=\"line2d_7\">\n      <g>\n       <use style=\"stroke:#000000;stroke-width:0.8;\" x=\"35.19625\" xlink:href=\"#mf875b73b35\" y=\"132.706687\"/>\n      </g>\n     </g>\n     <g id=\"text_7\">\n      <!-- 200 -->\n      <defs>\n       <path d=\"M 19.1875 8.296875 \nL 53.609375 8.296875 \nL 53.609375 0 \nL 7.328125 0 \nL 7.328125 8.296875 \nQ 12.9375 14.109375 22.625 23.890625 \nQ 32.328125 33.6875 34.8125 36.53125 \nQ 39.546875 41.84375 41.421875 45.53125 \nQ 43.3125 49.21875 43.3125 52.78125 \nQ 43.3125 58.59375 39.234375 62.25 \nQ 35.15625 65.921875 28.609375 65.921875 \nQ 23.96875 65.921875 18.8125 64.3125 \nQ 13.671875 62.703125 7.8125 59.421875 \nL 7.8125 69.390625 \nQ 13.765625 71.78125 18.9375 73 \nQ 24.125 74.21875 28.421875 74.21875 \nQ 39.75 74.21875 46.484375 68.546875 \nQ 53.21875 62.890625 53.21875 53.421875 \nQ 53.21875 48.921875 51.53125 44.890625 \nQ 49.859375 40.875 45.40625 35.40625 \nQ 44.1875 33.984375 37.640625 27.21875 \nQ 31.109375 20.453125 19.1875 8.296875 \nz\n\" id=\"DejaVuSans-50\"/>\n      </defs>\n      <g transform=\"translate(7.2 136.885828)scale(0.11 -0.11)\">\n       <use xlink:href=\"#DejaVuSans-50\"/>\n       <use x=\"63.623047\" xlink:href=\"#DejaVuSans-48\"/>\n       <use x=\"127.246094\" xlink:href=\"#DejaVuSans-48\"/>\n      </g>\n     </g>\n    </g>\n    <g id=\"ytick_4\">\n     <g id=\"line2d_8\">\n      <g>\n       <use style=\"stroke:#000000;stroke-width:0.8;\" x=\"35.19625\" xlink:href=\"#mf875b73b35\" y=\"106.360968\"/>\n      </g>\n     </g>\n     <g id=\"text_8\">\n      <!-- 300 -->\n      <defs>\n       <path d=\"M 40.578125 39.3125 \nQ 47.65625 37.796875 51.625 33 \nQ 55.609375 28.21875 55.609375 21.1875 \nQ 55.609375 10.40625 48.1875 4.484375 \nQ 40.765625 -1.421875 27.09375 -1.421875 \nQ 22.515625 -1.421875 17.65625 -0.515625 \nQ 12.796875 0.390625 7.625 2.203125 \nL 7.625 11.71875 \nQ 11.71875 9.328125 16.59375 8.109375 \nQ 21.484375 6.890625 26.8125 6.890625 \nQ 36.078125 6.890625 40.9375 10.546875 \nQ 45.796875 14.203125 45.796875 21.1875 \nQ 45.796875 27.640625 41.28125 31.265625 \nQ 36.765625 34.90625 28.71875 34.90625 \nL 20.21875 34.90625 \nL 20.21875 43.015625 \nL 29.109375 43.015625 \nQ 36.375 43.015625 40.234375 45.921875 \nQ 44.09375 48.828125 44.09375 54.296875 \nQ 44.09375 59.90625 40.109375 62.90625 \nQ 36.140625 65.921875 28.71875 65.921875 \nQ 24.65625 65.921875 20.015625 65.03125 \nQ 15.375 64.15625 9.8125 62.3125 \nL 9.8125 71.09375 \nQ 15.4375 72.65625 20.34375 73.4375 \nQ 25.25 74.21875 29.59375 74.21875 \nQ 40.828125 74.21875 47.359375 69.109375 \nQ 53.90625 64.015625 53.90625 55.328125 \nQ 53.90625 49.265625 50.4375 45.09375 \nQ 46.96875 40.921875 40.578125 39.3125 \nz\n\" id=\"DejaVuSans-51\"/>\n      </defs>\n      <g transform=\"translate(7.2 110.540109)scale(0.11 -0.11)\">\n       <use xlink:href=\"#DejaVuSans-51\"/>\n       <use x=\"63.623047\" xlink:href=\"#DejaVuSans-48\"/>\n       <use x=\"127.246094\" xlink:href=\"#DejaVuSans-48\"/>\n      </g>\n     </g>\n    </g>\n    <g id=\"ytick_5\">\n     <g id=\"line2d_9\">\n      <g>\n       <use style=\"stroke:#000000;stroke-width:0.8;\" x=\"35.19625\" xlink:href=\"#mf875b73b35\" y=\"80.015249\"/>\n      </g>\n     </g>\n     <g id=\"text_9\">\n      <!-- 400 -->\n      <defs>\n       <path d=\"M 37.796875 64.3125 \nL 12.890625 25.390625 \nL 37.796875 25.390625 \nz\nM 35.203125 72.90625 \nL 47.609375 72.90625 \nL 47.609375 25.390625 \nL 58.015625 25.390625 \nL 58.015625 17.1875 \nL 47.609375 17.1875 \nL 47.609375 0 \nL 37.796875 0 \nL 37.796875 17.1875 \nL 4.890625 17.1875 \nL 4.890625 26.703125 \nz\n\" id=\"DejaVuSans-52\"/>\n      </defs>\n      <g transform=\"translate(7.2 84.19439)scale(0.11 -0.11)\">\n       <use xlink:href=\"#DejaVuSans-52\"/>\n       <use x=\"63.623047\" xlink:href=\"#DejaVuSans-48\"/>\n       <use x=\"127.246094\" xlink:href=\"#DejaVuSans-48\"/>\n      </g>\n     </g>\n    </g>\n    <g id=\"ytick_6\">\n     <g id=\"line2d_10\">\n      <g>\n       <use style=\"stroke:#000000;stroke-width:0.8;\" x=\"35.19625\" xlink:href=\"#mf875b73b35\" y=\"53.66953\"/>\n      </g>\n     </g>\n     <g id=\"text_10\">\n      <!-- 500 -->\n      <defs>\n       <path d=\"M 10.796875 72.90625 \nL 49.515625 72.90625 \nL 49.515625 64.59375 \nL 19.828125 64.59375 \nL 19.828125 46.734375 \nQ 21.96875 47.46875 24.109375 47.828125 \nQ 26.265625 48.1875 28.421875 48.1875 \nQ 40.625 48.1875 47.75 41.5 \nQ 54.890625 34.8125 54.890625 23.390625 \nQ 54.890625 11.625 47.5625 5.09375 \nQ 40.234375 -1.421875 26.90625 -1.421875 \nQ 22.3125 -1.421875 17.546875 -0.640625 \nQ 12.796875 0.140625 7.71875 1.703125 \nL 7.71875 11.625 \nQ 12.109375 9.234375 16.796875 8.0625 \nQ 21.484375 6.890625 26.703125 6.890625 \nQ 35.15625 6.890625 40.078125 11.328125 \nQ 45.015625 15.765625 45.015625 23.390625 \nQ 45.015625 31 40.078125 35.4375 \nQ 35.15625 39.890625 26.703125 39.890625 \nQ 22.75 39.890625 18.8125 39.015625 \nQ 14.890625 38.140625 10.796875 36.28125 \nz\n\" id=\"DejaVuSans-53\"/>\n      </defs>\n      <g transform=\"translate(7.2 57.848671)scale(0.11 -0.11)\">\n       <use xlink:href=\"#DejaVuSans-53\"/>\n       <use x=\"63.623047\" xlink:href=\"#DejaVuSans-48\"/>\n       <use x=\"127.246094\" xlink:href=\"#DejaVuSans-48\"/>\n      </g>\n     </g>\n    </g>\n    <g id=\"ytick_7\">\n     <g id=\"line2d_11\">\n      <g>\n       <use style=\"stroke:#000000;stroke-width:0.8;\" x=\"35.19625\" xlink:href=\"#mf875b73b35\" y=\"27.323812\"/>\n      </g>\n     </g>\n     <g id=\"text_11\">\n      <!-- 600 -->\n      <defs>\n       <path d=\"M 33.015625 40.375 \nQ 26.375 40.375 22.484375 35.828125 \nQ 18.609375 31.296875 18.609375 23.390625 \nQ 18.609375 15.53125 22.484375 10.953125 \nQ 26.375 6.390625 33.015625 6.390625 \nQ 39.65625 6.390625 43.53125 10.953125 \nQ 47.40625 15.53125 47.40625 23.390625 \nQ 47.40625 31.296875 43.53125 35.828125 \nQ 39.65625 40.375 33.015625 40.375 \nz\nM 52.59375 71.296875 \nL 52.59375 62.3125 \nQ 48.875 64.0625 45.09375 64.984375 \nQ 41.3125 65.921875 37.59375 65.921875 \nQ 27.828125 65.921875 22.671875 59.328125 \nQ 17.53125 52.734375 16.796875 39.40625 \nQ 19.671875 43.65625 24.015625 45.921875 \nQ 28.375 48.1875 33.59375 48.1875 \nQ 44.578125 48.1875 50.953125 41.515625 \nQ 57.328125 34.859375 57.328125 23.390625 \nQ 57.328125 12.15625 50.6875 5.359375 \nQ 44.046875 -1.421875 33.015625 -1.421875 \nQ 20.359375 -1.421875 13.671875 8.265625 \nQ 6.984375 17.96875 6.984375 36.375 \nQ 6.984375 53.65625 15.1875 63.9375 \nQ 23.390625 74.21875 37.203125 74.21875 \nQ 40.921875 74.21875 44.703125 73.484375 \nQ 48.484375 72.75 52.59375 71.296875 \nz\n\" id=\"DejaVuSans-54\"/>\n      </defs>\n      <g transform=\"translate(7.2 31.502952)scale(0.11 -0.11)\">\n       <use xlink:href=\"#DejaVuSans-54\"/>\n       <use x=\"63.623047\" xlink:href=\"#DejaVuSans-48\"/>\n       <use x=\"127.246094\" xlink:href=\"#DejaVuSans-48\"/>\n      </g>\n     </g>\n    </g>\n   </g>\n   <g id=\"patch_7\">\n    <path d=\"M 35.19625 185.398125 \nL 35.19625 22.318125 \n\" style=\"fill:none;stroke:#000000;stroke-linecap:square;stroke-linejoin:miter;stroke-width:0.8;\"/>\n   </g>\n   <g id=\"patch_8\">\n    <path d=\"M 481.59625 185.398125 \nL 481.59625 22.318125 \n\" style=\"fill:none;stroke:#000000;stroke-linecap:square;stroke-linejoin:miter;stroke-width:0.8;\"/>\n   </g>\n   <g id=\"patch_9\">\n    <path d=\"M 35.19625 185.398125 \nL 481.59625 185.398125 \n\" style=\"fill:none;stroke:#000000;stroke-linecap:square;stroke-linejoin:miter;stroke-width:0.8;\"/>\n   </g>\n   <g id=\"patch_10\">\n    <path d=\"M 35.19625 22.318125 \nL 481.59625 22.318125 \n\" style=\"fill:none;stroke:#000000;stroke-linecap:square;stroke-linejoin:miter;stroke-width:0.8;\"/>\n   </g>\n   <g id=\"text_12\">\n    <!-- Category distribution -->\n    <defs>\n     <path d=\"M 64.40625 67.28125 \nL 64.40625 56.890625 \nQ 59.421875 61.53125 53.78125 63.8125 \nQ 48.140625 66.109375 41.796875 66.109375 \nQ 29.296875 66.109375 22.65625 58.46875 \nQ 16.015625 50.828125 16.015625 36.375 \nQ 16.015625 21.96875 22.65625 14.328125 \nQ 29.296875 6.6875 41.796875 6.6875 \nQ 48.140625 6.6875 53.78125 8.984375 \nQ 59.421875 11.28125 64.40625 15.921875 \nL 64.40625 5.609375 \nQ 59.234375 2.09375 53.4375 0.328125 \nQ 47.65625 -1.421875 41.21875 -1.421875 \nQ 24.65625 -1.421875 15.125 8.703125 \nQ 5.609375 18.84375 5.609375 36.375 \nQ 5.609375 53.953125 15.125 64.078125 \nQ 24.65625 74.21875 41.21875 74.21875 \nQ 47.75 74.21875 53.53125 72.484375 \nQ 59.328125 70.75 64.40625 67.28125 \nz\n\" id=\"DejaVuSans-67\"/>\n     <path d=\"M 32.171875 -5.078125 \nQ 28.375 -14.84375 24.75 -17.8125 \nQ 21.140625 -20.796875 15.09375 -20.796875 \nL 7.90625 -20.796875 \nL 7.90625 -13.28125 \nL 13.1875 -13.28125 \nQ 16.890625 -13.28125 18.9375 -11.515625 \nQ 21 -9.765625 23.484375 -3.21875 \nL 25.09375 0.875 \nL 2.984375 54.6875 \nL 12.5 54.6875 \nL 29.59375 11.921875 \nL 46.6875 54.6875 \nL 56.203125 54.6875 \nz\n\" id=\"DejaVuSans-121\"/>\n     <path id=\"DejaVuSans-32\"/>\n     <path d=\"M 48.6875 27.296875 \nQ 48.6875 37.203125 44.609375 42.84375 \nQ 40.53125 48.484375 33.40625 48.484375 \nQ 26.265625 48.484375 22.1875 42.84375 \nQ 18.109375 37.203125 18.109375 27.296875 \nQ 18.109375 17.390625 22.1875 11.75 \nQ 26.265625 6.109375 33.40625 6.109375 \nQ 40.53125 6.109375 44.609375 11.75 \nQ 48.6875 17.390625 48.6875 27.296875 \nz\nM 18.109375 46.390625 \nQ 20.953125 51.265625 25.265625 53.625 \nQ 29.59375 56 35.59375 56 \nQ 45.5625 56 51.78125 48.09375 \nQ 58.015625 40.1875 58.015625 27.296875 \nQ 58.015625 14.40625 51.78125 6.484375 \nQ 45.5625 -1.421875 35.59375 -1.421875 \nQ 29.59375 -1.421875 25.265625 0.953125 \nQ 20.953125 3.328125 18.109375 8.203125 \nL 18.109375 0 \nL 9.078125 0 \nL 9.078125 75.984375 \nL 18.109375 75.984375 \nz\n\" id=\"DejaVuSans-98\"/>\n     <path d=\"M 8.5 21.578125 \nL 8.5 54.6875 \nL 17.484375 54.6875 \nL 17.484375 21.921875 \nQ 17.484375 14.15625 20.5 10.265625 \nQ 23.53125 6.390625 29.59375 6.390625 \nQ 36.859375 6.390625 41.078125 11.03125 \nQ 45.3125 15.671875 45.3125 23.6875 \nL 45.3125 54.6875 \nL 54.296875 54.6875 \nL 54.296875 0 \nL 45.3125 0 \nL 45.3125 8.40625 \nQ 42.046875 3.421875 37.71875 1 \nQ 33.40625 -1.421875 27.6875 -1.421875 \nQ 18.265625 -1.421875 13.375 4.4375 \nQ 8.5 10.296875 8.5 21.578125 \nz\nM 31.109375 56 \nz\n\" id=\"DejaVuSans-117\"/>\n    </defs>\n    <g transform=\"translate(194.889063 16.318125)scale(0.12 -0.12)\">\n     <use xlink:href=\"#DejaVuSans-67\"/>\n     <use x=\"69.824219\" xlink:href=\"#DejaVuSans-97\"/>\n     <use x=\"131.103516\" xlink:href=\"#DejaVuSans-116\"/>\n     <use x=\"170.3125\" xlink:href=\"#DejaVuSans-101\"/>\n     <use x=\"231.835938\" xlink:href=\"#DejaVuSans-103\"/>\n     <use x=\"295.3125\" xlink:href=\"#DejaVuSans-111\"/>\n     <use x=\"356.494141\" xlink:href=\"#DejaVuSans-114\"/>\n     <use x=\"397.607422\" xlink:href=\"#DejaVuSans-121\"/>\n     <use x=\"456.787109\" xlink:href=\"#DejaVuSans-32\"/>\n     <use x=\"488.574219\" xlink:href=\"#DejaVuSans-100\"/>\n     <use x=\"552.050781\" xlink:href=\"#DejaVuSans-105\"/>\n     <use x=\"579.833984\" xlink:href=\"#DejaVuSans-115\"/>\n     <use x=\"631.933594\" xlink:href=\"#DejaVuSans-116\"/>\n     <use x=\"671.142578\" xlink:href=\"#DejaVuSans-114\"/>\n     <use x=\"712.255859\" xlink:href=\"#DejaVuSans-105\"/>\n     <use x=\"740.039062\" xlink:href=\"#DejaVuSans-98\"/>\n     <use x=\"803.515625\" xlink:href=\"#DejaVuSans-117\"/>\n     <use x=\"866.894531\" xlink:href=\"#DejaVuSans-116\"/>\n     <use x=\"906.103516\" xlink:href=\"#DejaVuSans-105\"/>\n     <use x=\"933.886719\" xlink:href=\"#DejaVuSans-111\"/>\n     <use x=\"995.068359\" xlink:href=\"#DejaVuSans-110\"/>\n    </g>\n   </g>\n  </g>\n </g>\n <defs>\n  <clipPath id=\"p0a014cb7e4\">\n   <rect height=\"163.08\" width=\"446.4\" x=\"35.19625\" y=\"22.318125\"/>\n  </clipPath>\n </defs>\n</svg>\n",
      "image/png": "[encoded data removed]"
     },
     "metadata": {}
    }
   ],
   "source": [
    "# Answer here\n",
    "\n",
    "# plot barchart for X_sample\n",
    "print(X.category_name.value_counts())\n",
    "lim=max(X.category_name.value_counts())+20\n",
    "# plot barchart for X_sample\n",
    "X.category_name.value_counts().plot(kind = 'bar',\n",
    "                                    title = 'Category distribution',\n",
    "                                    ylim = [0, lim],        \n",
    "                                    rot = 0, fontsize = 11, figsize = (8,3))\n"
   ]
  },
  {
   "cell_type": "markdown",
   "metadata": {},
   "source": [
    "---"
   ]
  },
  {
   "cell_type": "markdown",
   "metadata": {},
   "source": [
    "### >>> **Exercise 8 (take home):** \n",
    "We can also do a side-by-side comparison of the distribution between the two datasets, but maybe you can try that as an excerise. Below we show you an snapshot of the type of chart we are looking for. "
   ]
  },
  {
   "cell_type": "markdown",
   "metadata": {},
   "source": [
    "![alt txt](https://i.imgur.com/9eO431H.png)"
   ]
  },
  {
   "cell_type": "code",
   "execution_count": 68,
   "metadata": {},
   "outputs": [],
   "source": [
    "# Answer here\n"
   ]
  },
  {
   "cell_type": "markdown",
   "metadata": {},
   "source": [
    " "
   ]
  },
  {
   "cell_type": "markdown",
   "metadata": {},
   "source": [
    "One thing that stood out from the both datasets, is that the distribution of the categories remain relatively the same, which is a good sign for us data scientist. There are many ways to conduct sampling on the dataset and still obtain a representative enough dataset. That is not the main focus in this notebook, but if you would like to know more about sampling and how the `sample` feature works, just reference the Pandas documentation and you will find interesting ways to conduct more advanced sampling."
   ]
  },
  {
   "cell_type": "markdown",
   "metadata": {},
   "source": [
    "---"
   ]
  },
  {
   "cell_type": "markdown",
   "metadata": {},
   "source": [
    "### 5.2 Feature Creation\n",
    "The other operation from the list above that we are going to practise on is the so-called feature creation. As the name suggests, in feature creation we are looking at creating new interesting and useful features from the original dataset; a feature which captures the most important information from the raw information we already have access to. In our `X` table, we would like to create some features from the `text` field, but we are still not sure what kind of features we want to create. We can think of an interesting problem we want to solve, or something we want to analyze from the data, or some questions we want to answer. This is one process to come up with features -- this process is usually called `feature engineering` in the data science community. \n",
    "\n",
    "We know what feature creation is so let us get real involved with our dataset and make it more interesting by adding some special features or attributes if you will. First, we are going to obtain the **unigrams** for each text. (Unigram is just a fancy word we use in Text Mining which stands for 'tokens' or 'individual words'.) Yes, we want to extract all the words found in each text and append it as a new feature to the pandas dataframe. The reason for extracting unigrams is not so clear yet, but we can start to think of obtaining some statistics about the articles we have: something like **word distribution** or **word frequency**.\n",
    "\n",
    "Before going into any further coding, we will also introduce a useful text mining library called [NLTK](http://www.nltk.org/). The NLTK library is a natural language processing tool used for text mining tasks, so might as well we start to familiarize ourselves with it from now (It may come in handy for the final project!). In partcular, we are going to use the NLTK library to conduct tokenization because we are interested in splitting a sentence into its individual components, which we refer to as words, emojis, emails, etc. So let us go for it! We can call the `nltk` library as follows:\n",
    "\n",
    "```python\n",
    "import nltk\n",
    "```"
   ]
  },
  {
   "cell_type": "code",
   "execution_count": 69,
   "metadata": {},
   "outputs": [],
   "source": [
    "import nltk"
   ]
  },
  {
   "cell_type": "code",
   "execution_count": 70,
   "metadata": {},
   "outputs": [],
   "source": [
    "# takes a like a minute or two to process\n",
    "X['unigrams'] = X['text'].apply(lambda x: dmh.tokenize_text(x))"
   ]
  },
  {
   "cell_type": "code",
   "execution_count": 71,
   "metadata": {},
   "outputs": [
    {
     "output_type": "execute_result",
     "data": {
      "text/plain": [
       "0    [From, :, sd345, @, city.ac.uk, (, Michael, Co...\n",
       "1    [From, :, ani, @, ms.uky.edu, (, Aniruddha, B....\n",
       "2    [From, :, djohnson, @, cs.ucsd.edu, (, Darin, ...\n",
       "3    [From, :, s0612596, @, let.rug.nl, (, M.M, ., ...\n",
       "Name: unigrams, dtype: object"
      ]
     },
     "metadata": {},
     "execution_count": 71
    }
   ],
   "source": [
    "X[0:4][\"unigrams\"]"
   ]
  },
  {
   "cell_type": "markdown",
   "metadata": {},
   "source": [
    "If you take a closer look at the `X` table now, you will see the new columns `unigrams` that we have added. You will notice that it contains an array of tokens, which were extracted from the original `text` field. At first glance, you will notice that the tokenizer is not doing a great job, let us take a closer at a single record and see what was the exact result of the tokenization using the `nltk` library."
   ]
  },
  {
   "cell_type": "code",
   "execution_count": 72,
   "metadata": {},
   "outputs": [
    {
     "output_type": "execute_result",
     "data": {
      "text/plain": [
       "                                                text  category  \\\n",
       "0  From: sd345@city.ac.uk (Michael Collier) Subje...         1   \n",
       "1  From: ani@ms.uky.edu (Aniruddha B. Deglurkar) ...         1   \n",
       "2  From: djohnson@cs.ucsd.edu (Darin Johnson) Sub...         3   \n",
       "3  From: s0612596@let.rug.nl (M.M. Zwart) Subject...         3   \n",
       "\n",
       "            category_name                                           unigrams  \n",
       "0           comp.graphics  [From, :, sd345, @, city.ac.uk, (, Michael, Co...  \n",
       "1           comp.graphics  [From, :, ani, @, ms.uky.edu, (, Aniruddha, B....  \n",
       "2  soc.religion.christian  [From, :, djohnson, @, cs.ucsd.edu, (, Darin, ...  \n",
       "3  soc.religion.christian  [From, :, s0612596, @, let.rug.nl, (, M.M, ., ...  "
      ],
      "text/html": "<div>\n<style scoped>\n    .dataframe tbody tr th:only-of-type {\n        vertical-align: middle;\n    }\n\n    .dataframe tbody tr th {\n        vertical-align: top;\n    }\n\n    .dataframe thead th {\n        text-align: right;\n    }\n</style>\n<table border=\"1\" class=\"dataframe\">\n  <thead>\n    <tr style=\"text-align: right;\">\n      <th></th>\n      <th>text</th>\n      <th>category</th>\n      <th>category_name</th>\n      <th>unigrams</th>\n    </tr>\n  </thead>\n  <tbody>\n    <tr>\n      <th>0</th>\n      <td>From: sd345@city.ac.uk (Michael Collier) Subje...</td>\n      <td>1</td>\n      <td>comp.graphics</td>\n      <td>[From, :, sd345, @, city.ac.uk, (, Michael, Co...</td>\n    </tr>\n    <tr>\n      <th>1</th>\n      <td>From: ani@ms.uky.edu (Aniruddha B. Deglurkar) ...</td>\n      <td>1</td>\n      <td>comp.graphics</td>\n      <td>[From, :, ani, @, ms.uky.edu, (, Aniruddha, B....</td>\n    </tr>\n    <tr>\n      <th>2</th>\n      <td>From: djohnson@cs.ucsd.edu (Darin Johnson) Sub...</td>\n      <td>3</td>\n      <td>soc.religion.christian</td>\n      <td>[From, :, djohnson, @, cs.ucsd.edu, (, Darin, ...</td>\n    </tr>\n    <tr>\n      <th>3</th>\n      <td>From: s0612596@let.rug.nl (M.M. Zwart) Subject...</td>\n      <td>3</td>\n      <td>soc.religion.christian</td>\n      <td>[From, :, s0612596, @, let.rug.nl, (, M.M, ., ...</td>\n    </tr>\n  </tbody>\n</table>\n</div>"
     },
     "metadata": {},
     "execution_count": 72
    }
   ],
   "source": [
    "X[0:4]"
   ]
  },
  {
   "cell_type": "code",
   "execution_count": 73,
   "metadata": {
    "scrolled": false
   },
   "outputs": [
    {
     "output_type": "execute_result",
     "data": {
      "text/plain": [
       "[['From',\n",
       "  ':',\n",
       "  'sd345',\n",
       "  '@',\n",
       "  'city.ac.uk',\n",
       "  '(',\n",
       "  'Michael',\n",
       "  'Collier',\n",
       "  ')',\n",
       "  'Subject',\n",
       "  ':',\n",
       "  'Converting',\n",
       "  'images',\n",
       "  'to',\n",
       "  'HP',\n",
       "  'LaserJet',\n",
       "  'III',\n",
       "  '?',\n",
       "  'Nntp-Posting-Host',\n",
       "  ':',\n",
       "  'hampton',\n",
       "  'Organization',\n",
       "  ':',\n",
       "  'The',\n",
       "  'City',\n",
       "  'University',\n",
       "  'Lines',\n",
       "  ':',\n",
       "  '14',\n",
       "  'Does',\n",
       "  'anyone',\n",
       "  'know',\n",
       "  'of',\n",
       "  'a',\n",
       "  'good',\n",
       "  'way',\n",
       "  '(',\n",
       "  'standard',\n",
       "  'PC',\n",
       "  'application/PD',\n",
       "  'utility',\n",
       "  ')',\n",
       "  'to',\n",
       "  'convert',\n",
       "  'tif/img/tga',\n",
       "  'files',\n",
       "  'into',\n",
       "  'LaserJet',\n",
       "  'III',\n",
       "  'format',\n",
       "  '.',\n",
       "  'We',\n",
       "  'would',\n",
       "  'also',\n",
       "  'like',\n",
       "  'to',\n",
       "  'do',\n",
       "  'the',\n",
       "  'same',\n",
       "  ',',\n",
       "  'converting',\n",
       "  'to',\n",
       "  'HPGL',\n",
       "  '(',\n",
       "  'HP',\n",
       "  'plotter',\n",
       "  ')',\n",
       "  'files',\n",
       "  '.',\n",
       "  'Please',\n",
       "  'email',\n",
       "  'any',\n",
       "  'response',\n",
       "  '.',\n",
       "  'Is',\n",
       "  'this',\n",
       "  'the',\n",
       "  'correct',\n",
       "  'group',\n",
       "  '?',\n",
       "  'Thanks',\n",
       "  'in',\n",
       "  'advance',\n",
       "  '.',\n",
       "  'Michael',\n",
       "  '.',\n",
       "  '--',\n",
       "  'Michael',\n",
       "  'Collier',\n",
       "  '(',\n",
       "  'Programmer',\n",
       "  ')',\n",
       "  'The',\n",
       "  'Computer',\n",
       "  'Unit',\n",
       "  ',',\n",
       "  'Email',\n",
       "  ':',\n",
       "  'M.P.Collier',\n",
       "  '@',\n",
       "  'uk.ac.city',\n",
       "  'The',\n",
       "  'City',\n",
       "  'University',\n",
       "  ',',\n",
       "  'Tel',\n",
       "  ':',\n",
       "  '071',\n",
       "  '477-8000',\n",
       "  'x3769',\n",
       "  'London',\n",
       "  ',',\n",
       "  'Fax',\n",
       "  ':',\n",
       "  '071',\n",
       "  '477-8565',\n",
       "  'EC1V',\n",
       "  '0HB',\n",
       "  '.']]"
      ]
     },
     "metadata": {},
     "execution_count": 73
    }
   ],
   "source": [
    "list(X[0:1]['unigrams'])"
   ]
  },
  {
   "cell_type": "markdown",
   "metadata": {},
   "source": [
    "The `nltk` library does a pretty decent job of tokenizing our text. There are many other tokenizers online, such as [spaCy](https://spacy.io/), and the built in libraries provided by [scikit-learn](http://scikit-learn.org/stable/modules/generated/sklearn.feature_extraction.text.CountVectorizer.html). We are making use of the NLTK library because it is open source and because it does a good job of segmentating text-based data. "
   ]
  },
  {
   "cell_type": "markdown",
   "metadata": {},
   "source": [
    "---"
   ]
  },
  {
   "cell_type": "markdown",
   "metadata": {},
   "source": [
    "### 5.3 Feature subset selection\n",
    "Okay, so we are making some headway here. Let us now make things a bit more interesting. We are going to do something different from what we have been doing thus far. We are going use a bit of everything that we have learned so far. Briefly speaking, we are going to move away from our main dataset (one form of feature subset selection), and we are going to generate a document-term matrix from the original dataset. In other words we are going to be creating something like this. "
   ]
  },
  {
   "cell_type": "markdown",
   "metadata": {},
   "source": [
    "![alt txt](https://docs.google.com/drawings/d/e/2PACX-1vS01RrtPHS3r1Lf8UjX4POgDol-lVF4JAbjXM3SAOU-dOe-MqUdaEMWwJEPk9TtiUvcoSqTeE--lNep/pub?w=748&h=366)"
   ]
  },
  {
   "cell_type": "markdown",
   "metadata": {},
   "source": [
    "Initially, it won't have the same shape as the table above, but we will get into that later. For now, let us use scikit learn built in functionalities to generate this document. You will see for yourself how easy it is to generate this table without much coding. "
   ]
  },
  {
   "cell_type": "code",
   "execution_count": 74,
   "metadata": {},
   "outputs": [],
   "source": [
    "from sklearn.feature_extraction.text import CountVectorizer\n",
    "\n",
    "count_vect = CountVectorizer()\n",
    "X_counts = count_vect.fit_transform(X.text)"
   ]
  },
  {
   "cell_type": "markdown",
   "metadata": {},
   "source": [
    "What we did with those two lines of code is that we transorfmed the articles into a **term-document matrix**. Those lines of code tokenize each article using a built-in, default tokenizer (often referred to as an `analzyer`) and then produces the word frequency vector for each document. We can create our own analyzers or even use the nltk analyzer that we previously built. To keep things tidy and minimal we are going to use the default analyzer provided by `CountVectorizer`. Let us look closely at this analyzer. "
   ]
  },
  {
   "cell_type": "code",
   "execution_count": 75,
   "metadata": {},
   "outputs": [
    {
     "output_type": "execute_result",
     "data": {
      "text/plain": [
       "['hello', 'world']"
      ]
     },
     "metadata": {},
     "execution_count": 75
    }
   ],
   "source": [
    "analyze = count_vect.build_analyzer()\n",
    "analyze(\"Hello World!\")\n",
    "#\" \".join(list(X[4:5].text))"
   ]
  },
  {
   "cell_type": "markdown",
   "metadata": {},
   "source": [
    "---"
   ]
  },
  {
   "cell_type": "markdown",
   "metadata": {},
   "source": [
    "### **>>> Exercise 9 (5 min):**\n",
    "Let's analyze the first record of our X dataframe with the new analyzer we have just built. Go ahead try it!"
   ]
  },
  {
   "cell_type": "code",
   "execution_count": 76,
   "metadata": {},
   "outputs": [
    {
     "output_type": "execute_result",
     "data": {
      "text/plain": [
       "['from',\n",
       " 'sd345',\n",
       " 'city',\n",
       " 'ac',\n",
       " 'uk',\n",
       " 'michael',\n",
       " 'collier',\n",
       " 'subject',\n",
       " 'converting',\n",
       " 'images',\n",
       " 'to',\n",
       " 'hp',\n",
       " 'laserjet',\n",
       " 'iii',\n",
       " 'nntp',\n",
       " 'posting',\n",
       " 'host',\n",
       " 'hampton',\n",
       " 'organization',\n",
       " 'the',\n",
       " 'city',\n",
       " 'university',\n",
       " 'lines',\n",
       " '14',\n",
       " 'does',\n",
       " 'anyone',\n",
       " 'know',\n",
       " 'of',\n",
       " 'good',\n",
       " 'way',\n",
       " 'standard',\n",
       " 'pc',\n",
       " 'application',\n",
       " 'pd',\n",
       " 'utility',\n",
       " 'to',\n",
       " 'convert',\n",
       " 'tif',\n",
       " 'img',\n",
       " 'tga',\n",
       " 'files',\n",
       " 'into',\n",
       " 'laserjet',\n",
       " 'iii',\n",
       " 'format',\n",
       " 'we',\n",
       " 'would',\n",
       " 'also',\n",
       " 'like',\n",
       " 'to',\n",
       " 'do',\n",
       " 'the',\n",
       " 'same',\n",
       " 'converting',\n",
       " 'to',\n",
       " 'hpgl',\n",
       " 'hp',\n",
       " 'plotter',\n",
       " 'files',\n",
       " 'please',\n",
       " 'email',\n",
       " 'any',\n",
       " 'response',\n",
       " 'is',\n",
       " 'this',\n",
       " 'the',\n",
       " 'correct',\n",
       " 'group',\n",
       " 'thanks',\n",
       " 'in',\n",
       " 'advance',\n",
       " 'michael',\n",
       " 'michael',\n",
       " 'collier',\n",
       " 'programmer',\n",
       " 'the',\n",
       " 'computer',\n",
       " 'unit',\n",
       " 'email',\n",
       " 'collier',\n",
       " 'uk',\n",
       " 'ac',\n",
       " 'city',\n",
       " 'the',\n",
       " 'city',\n",
       " 'university',\n",
       " 'tel',\n",
       " '071',\n",
       " '477',\n",
       " '8000',\n",
       " 'x3769',\n",
       " 'london',\n",
       " 'fax',\n",
       " '071',\n",
       " '477',\n",
       " '8565',\n",
       " 'ec1v',\n",
       " '0hb']"
      ]
     },
     "metadata": {},
     "execution_count": 76
    }
   ],
   "source": [
    "# Answer here\n",
    "\n",
    "analyze(''.join(list(X[:1].text)))"
   ]
  },
  {
   "cell_type": "markdown",
   "metadata": {},
   "source": [
    "---"
   ]
  },
  {
   "cell_type": "markdown",
   "metadata": {},
   "source": [
    "Now let us look at the term-document matrix we built above."
   ]
  },
  {
   "cell_type": "code",
   "execution_count": 77,
   "metadata": {},
   "outputs": [
    {
     "output_type": "execute_result",
     "data": {
      "text/plain": [
       "(2257, 35788)"
      ]
     },
     "metadata": {},
     "execution_count": 77
    }
   ],
   "source": [
    "# We can check the shape of this matrix by:\n",
    "X_counts.shape"
   ]
  },
  {
   "cell_type": "code",
   "execution_count": 78,
   "metadata": {},
   "outputs": [
    {
     "output_type": "execute_result",
     "data": {
      "text/plain": [
       "['00',\n",
       " '000',\n",
       " '0000',\n",
       " '0000001200',\n",
       " '000005102000',\n",
       " '0001',\n",
       " '000100255pixel',\n",
       " '00014',\n",
       " '000406',\n",
       " '0007']"
      ]
     },
     "metadata": {},
     "execution_count": 78
    }
   ],
   "source": [
    "# We can obtain the feature names of the vectorizer, i.e., the terms\n",
    "# usually on the horizontal axis\n",
    "count_vect.get_feature_names()[0:10]"
   ]
  },
  {
   "cell_type": "markdown",
   "metadata": {},
   "source": [
    "![alt txt](https://i.imgur.com/57gA1sd.png)"
   ]
  },
  {
   "cell_type": "markdown",
   "metadata": {},
   "source": [
    "Above we can see the features found in the all the documents `X`, which are basically all the terms found in all the documents. As I said earlier, the transformation is not in the pretty format (table) we saw above -- the term-document matrix. We can do many things with the `count_vect` vectorizer and its transformation `X_counts`. You can find more information on other cool stuff you can do with the [CountVectorizer](http://scikit-learn.org/stable/modules/feature_extraction.html#text-feature-extraction). \n",
    "\n",
    "Now let us try to obtain something that is as close to the pretty table I provided above. Before jumping into the code for doing just that, it is important to mention that the reason for choosing the `fit_transofrm` for the `CountVectorizer` is that it efficiently learns the vocabulary dictionary and returns a term-document matrix.\n",
    "\n",
    "In the next bit of code, we want to extract the first five articles and transform them into document-term matrix, or in this case a 2-dimensional array. Here it goes. "
   ]
  },
  {
   "cell_type": "code",
   "execution_count": 79,
   "metadata": {},
   "outputs": [
    {
     "output_type": "execute_result",
     "data": {
      "text/plain": [
       "                                                text  category  \\\n",
       "0  From: sd345@city.ac.uk (Michael Collier) Subje...         1   \n",
       "1  From: ani@ms.uky.edu (Aniruddha B. Deglurkar) ...         1   \n",
       "2  From: djohnson@cs.ucsd.edu (Darin Johnson) Sub...         3   \n",
       "3  From: s0612596@let.rug.nl (M.M. Zwart) Subject...         3   \n",
       "4  From: stanly@grok11.columbiasc.ncr.com (stanly...         3   \n",
       "\n",
       "            category_name                                           unigrams  \n",
       "0           comp.graphics  [From, :, sd345, @, city.ac.uk, (, Michael, Co...  \n",
       "1           comp.graphics  [From, :, ani, @, ms.uky.edu, (, Aniruddha, B....  \n",
       "2  soc.religion.christian  [From, :, djohnson, @, cs.ucsd.edu, (, Darin, ...  \n",
       "3  soc.religion.christian  [From, :, s0612596, @, let.rug.nl, (, M.M, ., ...  \n",
       "4  soc.religion.christian  [From, :, stanly, @, grok11.columbiasc.ncr.com...  "
      ],
      "text/html": "<div>\n<style scoped>\n    .dataframe tbody tr th:only-of-type {\n        vertical-align: middle;\n    }\n\n    .dataframe tbody tr th {\n        vertical-align: top;\n    }\n\n    .dataframe thead th {\n        text-align: right;\n    }\n</style>\n<table border=\"1\" class=\"dataframe\">\n  <thead>\n    <tr style=\"text-align: right;\">\n      <th></th>\n      <th>text</th>\n      <th>category</th>\n      <th>category_name</th>\n      <th>unigrams</th>\n    </tr>\n  </thead>\n  <tbody>\n    <tr>\n      <th>0</th>\n      <td>From: sd345@city.ac.uk (Michael Collier) Subje...</td>\n      <td>1</td>\n      <td>comp.graphics</td>\n      <td>[From, :, sd345, @, city.ac.uk, (, Michael, Co...</td>\n    </tr>\n    <tr>\n      <th>1</th>\n      <td>From: ani@ms.uky.edu (Aniruddha B. Deglurkar) ...</td>\n      <td>1</td>\n      <td>comp.graphics</td>\n      <td>[From, :, ani, @, ms.uky.edu, (, Aniruddha, B....</td>\n    </tr>\n    <tr>\n      <th>2</th>\n      <td>From: djohnson@cs.ucsd.edu (Darin Johnson) Sub...</td>\n      <td>3</td>\n      <td>soc.religion.christian</td>\n      <td>[From, :, djohnson, @, cs.ucsd.edu, (, Darin, ...</td>\n    </tr>\n    <tr>\n      <th>3</th>\n      <td>From: s0612596@let.rug.nl (M.M. Zwart) Subject...</td>\n      <td>3</td>\n      <td>soc.religion.christian</td>\n      <td>[From, :, s0612596, @, let.rug.nl, (, M.M, ., ...</td>\n    </tr>\n    <tr>\n      <th>4</th>\n      <td>From: stanly@grok11.columbiasc.ncr.com (stanly...</td>\n      <td>3</td>\n      <td>soc.religion.christian</td>\n      <td>[From, :, stanly, @, grok11.columbiasc.ncr.com...</td>\n    </tr>\n  </tbody>\n</table>\n</div>"
     },
     "metadata": {},
     "execution_count": 79
    }
   ],
   "source": [
    "X[0:5]"
   ]
  },
  {
   "cell_type": "code",
   "execution_count": 80,
   "metadata": {},
   "outputs": [
    {
     "output_type": "execute_result",
     "data": {
      "text/plain": [
       "array([[0, 0, 0, 0, 0, 0, 0, 0, 0, 0, 0, 0, 0, 0, 0, 0, 0, 0, 0, 0, 0, 0,\n",
       "        0, 0, 0, 0, 0, 0, 0, 0, 0, 0, 0, 0, 0, 0, 0, 0, 0, 0, 0, 0, 0, 0,\n",
       "        0, 0, 0, 0, 0, 0, 0, 0, 0, 0, 0, 0, 0, 0, 0, 0, 0, 0, 0, 0, 0, 0,\n",
       "        0, 0, 0, 0, 0, 0, 0, 0, 0, 0, 0, 0, 0, 0, 0, 0, 0, 0, 0, 0, 0, 0,\n",
       "        0, 0, 0, 0, 0, 0, 0, 0, 0, 0, 0, 0],\n",
       "       [0, 0, 0, 0, 0, 0, 0, 0, 0, 0, 0, 0, 0, 0, 0, 0, 0, 0, 0, 0, 0, 0,\n",
       "        0, 0, 0, 0, 0, 0, 0, 0, 0, 0, 0, 0, 0, 0, 0, 0, 0, 0, 0, 0, 0, 0,\n",
       "        0, 0, 0, 0, 0, 0, 0, 0, 0, 0, 0, 0, 0, 0, 0, 0, 0, 0, 0, 0, 0, 0,\n",
       "        0, 0, 0, 0, 0, 0, 0, 0, 0, 0, 0, 0, 0, 0, 0, 0, 0, 0, 0, 0, 0, 0,\n",
       "        0, 0, 0, 0, 0, 0, 0, 0, 0, 0, 0, 0],\n",
       "       [0, 0, 0, 0, 0, 0, 0, 0, 0, 0, 0, 0, 0, 0, 0, 0, 0, 0, 0, 0, 0, 0,\n",
       "        0, 0, 0, 0, 0, 0, 0, 0, 0, 0, 0, 0, 0, 0, 0, 0, 0, 0, 0, 0, 0, 0,\n",
       "        0, 0, 0, 0, 0, 0, 0, 0, 0, 0, 0, 0, 0, 0, 0, 0, 0, 0, 0, 0, 0, 0,\n",
       "        0, 0, 0, 0, 0, 0, 0, 0, 0, 0, 0, 0, 0, 0, 0, 0, 0, 0, 0, 0, 0, 0,\n",
       "        0, 0, 0, 0, 0, 0, 0, 0, 0, 0, 0, 0],\n",
       "       [0, 0, 0, 0, 0, 0, 0, 0, 0, 0, 0, 0, 0, 0, 0, 0, 0, 0, 0, 0, 0, 0,\n",
       "        0, 0, 0, 0, 0, 0, 0, 0, 0, 0, 0, 0, 0, 0, 0, 0, 0, 0, 0, 0, 0, 0,\n",
       "        0, 0, 0, 0, 0, 0, 0, 0, 0, 0, 0, 0, 0, 0, 0, 0, 0, 0, 0, 0, 0, 0,\n",
       "        0, 0, 0, 0, 0, 0, 0, 0, 0, 0, 0, 0, 0, 0, 0, 0, 0, 0, 0, 0, 0, 0,\n",
       "        0, 0, 0, 0, 0, 0, 0, 0, 0, 0, 0, 0],\n",
       "       [1, 0, 0, 0, 0, 0, 0, 0, 0, 0, 0, 0, 0, 0, 0, 0, 0, 0, 0, 0, 0, 0,\n",
       "        0, 0, 0, 0, 0, 0, 0, 0, 0, 0, 0, 0, 0, 0, 0, 1, 0, 0, 0, 0, 0, 0,\n",
       "        0, 0, 0, 0, 0, 0, 0, 0, 0, 0, 0, 0, 0, 0, 0, 0, 0, 0, 0, 0, 0, 0,\n",
       "        0, 0, 0, 0, 0, 0, 0, 0, 0, 0, 0, 0, 0, 0, 0, 0, 0, 0, 0, 0, 0, 0,\n",
       "        0, 0, 0, 0, 0, 0, 0, 0, 0, 0, 0, 0]])"
      ]
     },
     "metadata": {},
     "execution_count": 80
    }
   ],
   "source": [
    "# we convert from sparse array to normal array\n",
    "X_counts[0:5, 0:100].toarray()"
   ]
  },
  {
   "cell_type": "markdown",
   "metadata": {},
   "source": [
    "As you can see the result is just this huge sparse matrix, which is computationally intensive to generate and difficult to visualize. But we can see that the fifth record, specifically, contains a `1` in the beginning, which from our feature names we can deduce that this article contains exactly one `00` term."
   ]
  },
  {
   "cell_type": "markdown",
   "metadata": {},
   "source": [
    "---"
   ]
  },
  {
   "cell_type": "markdown",
   "metadata": {},
   "source": [
    "### **>>> Exercise 10 (take home):**\n",
    "We said that the `1` at the beginning of the fifth record represents the `00` term. Notice that there is another 1 in the same record. Can you provide code that can verify what word this 1 represents from the vocabulary. Try to do this as efficient as possible."
   ]
  },
  {
   "cell_type": "code",
   "execution_count": 81,
   "metadata": {},
   "outputs": [],
   "source": [
    "# Answer here\n"
   ]
  },
  {
   "cell_type": "markdown",
   "metadata": {},
   "source": [
    "---"
   ]
  },
  {
   "cell_type": "markdown",
   "metadata": {},
   "source": [
    "We can also use the vectorizer to generate word frequency vector for new documents or articles. Let us try that below:"
   ]
  },
  {
   "cell_type": "code",
   "execution_count": 82,
   "metadata": {},
   "outputs": [
    {
     "output_type": "execute_result",
     "data": {
      "text/plain": [
       "array([[0, 0, 0, ..., 0, 0, 0]])"
      ]
     },
     "metadata": {},
     "execution_count": 82
    }
   ],
   "source": [
    "count_vect.transform(['Something completely new.']).toarray()"
   ]
  },
  {
   "cell_type": "markdown",
   "metadata": {},
   "source": [
    "Now let us put a `00` in the document to see if it is detected as we expect. "
   ]
  },
  {
   "cell_type": "code",
   "execution_count": 83,
   "metadata": {},
   "outputs": [
    {
     "output_type": "execute_result",
     "data": {
      "text/plain": [
       "array([[1, 0, 0, ..., 0, 0, 0]])"
      ]
     },
     "metadata": {},
     "execution_count": 83
    }
   ],
   "source": [
    "count_vect.transform(['00 Something completely new.']).toarray()"
   ]
  },
  {
   "cell_type": "markdown",
   "metadata": {},
   "source": [
    "Impressive, huh!"
   ]
  },
  {
   "cell_type": "markdown",
   "metadata": {},
   "source": [
    "To get you started in thinking about how to better analyze your data or transformation, let us look at this nice little heat map of our term-document matrix. It may come as a surpise to see the gems you can mine when you start to look at the data from a different perspective. Visualization are good for this reason."
   ]
  },
  {
   "cell_type": "code",
   "execution_count": 84,
   "metadata": {},
   "outputs": [],
   "source": [
    "# first twenty features only\n",
    "plot_x = [\"term_\"+str(i) for i in count_vect.get_feature_names()[0:20]]"
   ]
  },
  {
   "cell_type": "code",
   "execution_count": 85,
   "metadata": {},
   "outputs": [
    {
     "output_type": "execute_result",
     "data": {
      "text/plain": [
       "['term_00',\n",
       " 'term_000',\n",
       " 'term_0000',\n",
       " 'term_0000001200',\n",
       " 'term_000005102000',\n",
       " 'term_0001',\n",
       " 'term_000100255pixel',\n",
       " 'term_00014',\n",
       " 'term_000406',\n",
       " 'term_0007',\n",
       " 'term_000usd',\n",
       " 'term_0010',\n",
       " 'term_001004',\n",
       " 'term_0010580b',\n",
       " 'term_001125',\n",
       " 'term_001200201pixel',\n",
       " 'term_0014',\n",
       " 'term_001642',\n",
       " 'term_00196',\n",
       " 'term_002']"
      ]
     },
     "metadata": {},
     "execution_count": 85
    }
   ],
   "source": [
    "plot_x"
   ]
  },
  {
   "cell_type": "code",
   "execution_count": 86,
   "metadata": {},
   "outputs": [],
   "source": [
    "# obtain document index\n",
    "plot_y = [\"doc_\"+ str(i) for i in list(X.index)[0:20]]"
   ]
  },
  {
   "cell_type": "code",
   "execution_count": 87,
   "metadata": {},
   "outputs": [
    {
     "output_type": "execute_result",
     "data": {
      "text/plain": [
       "['doc_0',\n",
       " 'doc_1',\n",
       " 'doc_2',\n",
       " 'doc_3',\n",
       " 'doc_4',\n",
       " 'doc_5',\n",
       " 'doc_6',\n",
       " 'doc_7',\n",
       " 'doc_8',\n",
       " 'doc_9',\n",
       " 'doc_10',\n",
       " 'doc_11',\n",
       " 'doc_12',\n",
       " 'doc_13',\n",
       " 'doc_14',\n",
       " 'doc_15',\n",
       " 'doc_16',\n",
       " 'doc_17',\n",
       " 'doc_18',\n",
       " 'doc_19']"
      ]
     },
     "metadata": {},
     "execution_count": 87
    }
   ],
   "source": [
    "plot_y"
   ]
  },
  {
   "cell_type": "code",
   "execution_count": 88,
   "metadata": {},
   "outputs": [],
   "source": [
    "plot_z = X_counts[0:20, 0:20].toarray()"
   ]
  },
  {
   "cell_type": "code",
   "execution_count": 89,
   "metadata": {},
   "outputs": [
    {
     "output_type": "execute_result",
     "data": {
      "text/plain": [
       "array([[0, 0, 0, 0, 0, 0, 0, 0, 0, 0, 0, 0, 0, 0, 0, 0, 0, 0, 0, 0],\n",
       "       [0, 0, 0, 0, 0, 0, 0, 0, 0, 0, 0, 0, 0, 0, 0, 0, 0, 0, 0, 0],\n",
       "       [0, 0, 0, 0, 0, 0, 0, 0, 0, 0, 0, 0, 0, 0, 0, 0, 0, 0, 0, 0],\n",
       "       [0, 0, 0, 0, 0, 0, 0, 0, 0, 0, 0, 0, 0, 0, 0, 0, 0, 0, 0, 0],\n",
       "       [1, 0, 0, 0, 0, 0, 0, 0, 0, 0, 0, 0, 0, 0, 0, 0, 0, 0, 0, 0],\n",
       "       [1, 0, 0, 0, 0, 0, 0, 0, 0, 0, 0, 0, 0, 0, 0, 0, 0, 0, 0, 0],\n",
       "       [0, 0, 0, 0, 0, 0, 0, 0, 0, 0, 0, 0, 0, 0, 0, 0, 0, 0, 0, 0],\n",
       "       [0, 0, 0, 0, 0, 0, 0, 0, 0, 0, 0, 0, 0, 0, 0, 0, 0, 0, 0, 0],\n",
       "       [0, 0, 0, 0, 0, 0, 0, 0, 0, 0, 0, 0, 0, 0, 0, 0, 0, 0, 0, 0],\n",
       "       [0, 0, 0, 0, 0, 0, 0, 0, 0, 0, 0, 0, 0, 0, 0, 0, 0, 0, 0, 0],\n",
       "       [0, 0, 0, 0, 0, 0, 0, 0, 0, 0, 0, 0, 0, 0, 0, 0, 0, 0, 0, 0],\n",
       "       [0, 0, 0, 0, 0, 0, 0, 0, 0, 0, 0, 0, 0, 0, 0, 0, 0, 0, 0, 0],\n",
       "       [0, 0, 0, 0, 0, 0, 0, 0, 0, 0, 0, 0, 0, 0, 0, 0, 0, 0, 0, 0],\n",
       "       [0, 0, 0, 0, 0, 0, 0, 0, 0, 0, 0, 0, 0, 0, 0, 0, 0, 0, 0, 0],\n",
       "       [0, 0, 0, 0, 0, 0, 0, 0, 0, 0, 0, 0, 0, 0, 0, 0, 0, 0, 0, 0],\n",
       "       [0, 0, 0, 0, 0, 0, 0, 0, 0, 0, 0, 0, 0, 0, 0, 0, 0, 0, 0, 0],\n",
       "       [0, 0, 0, 0, 0, 0, 0, 0, 0, 0, 0, 0, 0, 0, 0, 0, 0, 0, 0, 0],\n",
       "       [0, 0, 0, 0, 0, 0, 0, 0, 0, 0, 0, 0, 0, 0, 0, 0, 0, 0, 0, 0],\n",
       "       [0, 0, 0, 0, 0, 0, 0, 0, 0, 0, 0, 0, 0, 0, 0, 0, 0, 0, 0, 0],\n",
       "       [0, 0, 0, 0, 0, 0, 0, 0, 0, 0, 0, 0, 0, 0, 0, 0, 0, 0, 0, 0]])"
      ]
     },
     "metadata": {},
     "execution_count": 89
    }
   ],
   "source": [
    "plot_z"
   ]
  },
  {
   "cell_type": "markdown",
   "metadata": {},
   "source": [
    "For the heat map, we are going to use another visualization library called `seaborn`. It's built on top of matplotlib and closely integrated with pandas data structures. One of the biggest advantages of seaborn is that its default aesthetics are much more visually appealing than matplotlib. See comparison below."
   ]
  },
  {
   "cell_type": "markdown",
   "metadata": {},
   "source": [
    "![alt txt](https://i.imgur.com/1isxmIV.png)"
   ]
  },
  {
   "cell_type": "markdown",
   "metadata": {},
   "source": [
    "The other big advantage of seaborn is that seaborn has some built-in plots that matplotlib does not support. Most of these can eventually be replicated by hacking away at matplotlib, but they’re not built in and require much more effort to build.\n",
    "\n",
    "So without further ado, let us try it now!"
   ]
  },
  {
   "cell_type": "code",
   "execution_count": 90,
   "metadata": {},
   "outputs": [
    {
     "output_type": "display_data",
     "data": {
      "text/plain": "<Figure size 648x504 with 2 Axes>",
      "image/svg+xml": "<?xml version=\"1.0\" encoding=\"utf-8\" standalone=\"no\"?>\n<!DOCTYPE svg PUBLIC \"-//W3C//DTD SVG 1.1//EN\"\n  \"http://www.w3.org/Graphics/SVG/1.1/DTD/svg11.dtd\">\n<!-- Created with matplotlib (https://matplotlib.org/) -->\n<svg height=\"515.395781pt\" version=\"1.1\" viewBox=\"0 0 525.88975 515.395781\" width=\"525.88975pt\" xmlns=\"http://www.w3.org/2000/svg\" xmlns:xlink=\"http://www.w3.org/1999/xlink\">\n <defs>\n  <style type=\"text/css\">\n*{stroke-linecap:butt;stroke-linejoin:round;}\n  </style>\n </defs>\n <g id=\"figure_1\">\n  <g id=\"patch_1\">\n   <path d=\"M -0 515.395781 \nL 525.88975 515.395781 \nL 525.88975 0 \nL -0 0 \nz\n\" style=\"fill:none;\"/>\n  </g>\n  <g id=\"axes_1\">\n   <g id=\"patch_2\">\n    <path d=\"M 49.890625 391.519219 \nL 451.650625 391.519219 \nL 451.650625 10.999219 \nL 49.890625 10.999219 \nz\n\" style=\"fill:#ffffff;\"/>\n   </g>\n   <g id=\"QuadMesh_1\">\n    <path clip-path=\"url(#p1e7277eb03)\" d=\"M 49.890625 10.999219 \nL 69.978625 10.999219 \nL 69.978625 30.025219 \nL 49.890625 30.025219 \nL 49.890625 10.999219 \n\" style=\"fill:#f7f4f9;\"/>\n    <path clip-path=\"url(#p1e7277eb03)\" d=\"M 69.978625 10.999219 \nL 90.066625 10.999219 \nL 90.066625 30.025219 \nL 69.978625 30.025219 \nL 69.978625 10.999219 \n\" style=\"fill:#f7f4f9;\"/>\n    <path clip-path=\"url(#p1e7277eb03)\" d=\"M 90.066625 10.999219 \nL 110.154625 10.999219 \nL 110.154625 30.025219 \nL 90.066625 30.025219 \nL 90.066625 10.999219 \n\" style=\"fill:#f7f4f9;\"/>\n    <path clip-path=\"url(#p1e7277eb03)\" d=\"M 110.154625 10.999219 \nL 130.242625 10.999219 \nL 130.242625 30.025219 \nL 110.154625 30.025219 \nL 110.154625 10.999219 \n\" style=\"fill:#f7f4f9;\"/>\n    <path clip-path=\"url(#p1e7277eb03)\" d=\"M 130.242625 10.999219 \nL 150.330625 10.999219 \nL 150.330625 30.025219 \nL 130.242625 30.025219 \nL 130.242625 10.999219 \n\" style=\"fill:#f7f4f9;\"/>\n    <path clip-path=\"url(#p1e7277eb03)\" d=\"M 150.330625 10.999219 \nL 170.418625 10.999219 \nL 170.418625 30.025219 \nL 150.330625 30.025219 \nL 150.330625 10.999219 \n\" style=\"fill:#f7f4f9;\"/>\n    <path clip-path=\"url(#p1e7277eb03)\" d=\"M 170.418625 10.999219 \nL 190.506625 10.999219 \nL 190.506625 30.025219 \nL 170.418625 30.025219 \nL 170.418625 10.999219 \n\" style=\"fill:#f7f4f9;\"/>\n    <path clip-path=\"url(#p1e7277eb03)\" d=\"M 190.506625 10.999219 \nL 210.594625 10.999219 \nL 210.594625 30.025219 \nL 190.506625 30.025219 \nL 190.506625 10.999219 \n\" style=\"fill:#f7f4f9;\"/>\n    <path clip-path=\"url(#p1e7277eb03)\" d=\"M 210.594625 10.999219 \nL 230.682625 10.999219 \nL 230.682625 30.025219 \nL 210.594625 30.025219 \nL 210.594625 10.999219 \n\" style=\"fill:#f7f4f9;\"/>\n    <path clip-path=\"url(#p1e7277eb03)\" d=\"M 230.682625 10.999219 \nL 250.770625 10.999219 \nL 250.770625 30.025219 \nL 230.682625 30.025219 \nL 230.682625 10.999219 \n\" style=\"fill:#f7f4f9;\"/>\n    <path clip-path=\"url(#p1e7277eb03)\" d=\"M 250.770625 10.999219 \nL 270.858625 10.999219 \nL 270.858625 30.025219 \nL 250.770625 30.025219 \nL 250.770625 10.999219 \n\" style=\"fill:#f7f4f9;\"/>\n    <path clip-path=\"url(#p1e7277eb03)\" d=\"M 270.858625 10.999219 \nL 290.946625 10.999219 \nL 290.946625 30.025219 \nL 270.858625 30.025219 \nL 270.858625 10.999219 \n\" style=\"fill:#f7f4f9;\"/>\n    <path clip-path=\"url(#p1e7277eb03)\" d=\"M 290.946625 10.999219 \nL 311.034625 10.999219 \nL 311.034625 30.025219 \nL 290.946625 30.025219 \nL 290.946625 10.999219 \n\" style=\"fill:#f7f4f9;\"/>\n    <path clip-path=\"url(#p1e7277eb03)\" d=\"M 311.034625 10.999219 \nL 331.122625 10.999219 \nL 331.122625 30.025219 \nL 311.034625 30.025219 \nL 311.034625 10.999219 \n\" style=\"fill:#f7f4f9;\"/>\n    <path clip-path=\"url(#p1e7277eb03)\" d=\"M 331.122625 10.999219 \nL 351.210625 10.999219 \nL 351.210625 30.025219 \nL 331.122625 30.025219 \nL 331.122625 10.999219 \n\" style=\"fill:#f7f4f9;\"/>\n    <path clip-path=\"url(#p1e7277eb03)\" d=\"M 351.210625 10.999219 \nL 371.298625 10.999219 \nL 371.298625 30.025219 \nL 351.210625 30.025219 \nL 351.210625 10.999219 \n\" style=\"fill:#f7f4f9;\"/>\n    <path clip-path=\"url(#p1e7277eb03)\" d=\"M 371.298625 10.999219 \nL 391.386625 10.999219 \nL 391.386625 30.025219 \nL 371.298625 30.025219 \nL 371.298625 10.999219 \n\" style=\"fill:#f7f4f9;\"/>\n    <path clip-path=\"url(#p1e7277eb03)\" d=\"M 391.386625 10.999219 \nL 411.474625 10.999219 \nL 411.474625 30.025219 \nL 391.386625 30.025219 \nL 391.386625 10.999219 \n\" style=\"fill:#f7f4f9;\"/>\n    <path clip-path=\"url(#p1e7277eb03)\" d=\"M 411.474625 10.999219 \nL 431.562625 10.999219 \nL 431.562625 30.025219 \nL 411.474625 30.025219 \nL 411.474625 10.999219 \n\" style=\"fill:#f7f4f9;\"/>\n    <path clip-path=\"url(#p1e7277eb03)\" d=\"M 431.562625 10.999219 \nL 451.650625 10.999219 \nL 451.650625 30.025219 \nL 431.562625 30.025219 \nL 431.562625 10.999219 \n\" style=\"fill:#f7f4f9;\"/>\n    <path clip-path=\"url(#p1e7277eb03)\" d=\"M 49.890625 30.025219 \nL 69.978625 30.025219 \nL 69.978625 49.051219 \nL 49.890625 49.051219 \nL 49.890625 30.025219 \n\" style=\"fill:#f7f4f9;\"/>\n    <path clip-path=\"url(#p1e7277eb03)\" d=\"M 69.978625 30.025219 \nL 90.066625 30.025219 \nL 90.066625 49.051219 \nL 69.978625 49.051219 \nL 69.978625 30.025219 \n\" style=\"fill:#f7f4f9;\"/>\n    <path clip-path=\"url(#p1e7277eb03)\" d=\"M 90.066625 30.025219 \nL 110.154625 30.025219 \nL 110.154625 49.051219 \nL 90.066625 49.051219 \nL 90.066625 30.025219 \n\" style=\"fill:#f7f4f9;\"/>\n    <path clip-path=\"url(#p1e7277eb03)\" d=\"M 110.154625 30.025219 \nL 130.242625 30.025219 \nL 130.242625 49.051219 \nL 110.154625 49.051219 \nL 110.154625 30.025219 \n\" style=\"fill:#f7f4f9;\"/>\n    <path clip-path=\"url(#p1e7277eb03)\" d=\"M 130.242625 30.025219 \nL 150.330625 30.025219 \nL 150.330625 49.051219 \nL 130.242625 49.051219 \nL 130.242625 30.025219 \n\" style=\"fill:#f7f4f9;\"/>\n    <path clip-path=\"url(#p1e7277eb03)\" d=\"M 150.330625 30.025219 \nL 170.418625 30.025219 \nL 170.418625 49.051219 \nL 150.330625 49.051219 \nL 150.330625 30.025219 \n\" style=\"fill:#f7f4f9;\"/>\n    <path clip-path=\"url(#p1e7277eb03)\" d=\"M 170.418625 30.025219 \nL 190.506625 30.025219 \nL 190.506625 49.051219 \nL 170.418625 49.051219 \nL 170.418625 30.025219 \n\" style=\"fill:#f7f4f9;\"/>\n    <path clip-path=\"url(#p1e7277eb03)\" d=\"M 190.506625 30.025219 \nL 210.594625 30.025219 \nL 210.594625 49.051219 \nL 190.506625 49.051219 \nL 190.506625 30.025219 \n\" style=\"fill:#f7f4f9;\"/>\n    <path clip-path=\"url(#p1e7277eb03)\" d=\"M 210.594625 30.025219 \nL 230.682625 30.025219 \nL 230.682625 49.051219 \nL 210.594625 49.051219 \nL 210.594625 30.025219 \n\" style=\"fill:#f7f4f9;\"/>\n    <path clip-path=\"url(#p1e7277eb03)\" d=\"M 230.682625 30.025219 \nL 250.770625 30.025219 \nL 250.770625 49.051219 \nL 230.682625 49.051219 \nL 230.682625 30.025219 \n\" style=\"fill:#f7f4f9;\"/>\n    <path clip-path=\"url(#p1e7277eb03)\" d=\"M 250.770625 30.025219 \nL 270.858625 30.025219 \nL 270.858625 49.051219 \nL 250.770625 49.051219 \nL 250.770625 30.025219 \n\" style=\"fill:#f7f4f9;\"/>\n    <path clip-path=\"url(#p1e7277eb03)\" d=\"M 270.858625 30.025219 \nL 290.946625 30.025219 \nL 290.946625 49.051219 \nL 270.858625 49.051219 \nL 270.858625 30.025219 \n\" style=\"fill:#f7f4f9;\"/>\n    <path clip-path=\"url(#p1e7277eb03)\" d=\"M 290.946625 30.025219 \nL 311.034625 30.025219 \nL 311.034625 49.051219 \nL 290.946625 49.051219 \nL 290.946625 30.025219 \n\" style=\"fill:#f7f4f9;\"/>\n    <path clip-path=\"url(#p1e7277eb03)\" d=\"M 311.034625 30.025219 \nL 331.122625 30.025219 \nL 331.122625 49.051219 \nL 311.034625 49.051219 \nL 311.034625 30.025219 \n\" style=\"fill:#f7f4f9;\"/>\n    <path clip-path=\"url(#p1e7277eb03)\" d=\"M 331.122625 30.025219 \nL 351.210625 30.025219 \nL 351.210625 49.051219 \nL 331.122625 49.051219 \nL 331.122625 30.025219 \n\" style=\"fill:#f7f4f9;\"/>\n    <path clip-path=\"url(#p1e7277eb03)\" d=\"M 351.210625 30.025219 \nL 371.298625 30.025219 \nL 371.298625 49.051219 \nL 351.210625 49.051219 \nL 351.210625 30.025219 \n\" style=\"fill:#f7f4f9;\"/>\n    <path clip-path=\"url(#p1e7277eb03)\" d=\"M 371.298625 30.025219 \nL 391.386625 30.025219 \nL 391.386625 49.051219 \nL 371.298625 49.051219 \nL 371.298625 30.025219 \n\" style=\"fill:#f7f4f9;\"/>\n    <path clip-path=\"url(#p1e7277eb03)\" d=\"M 391.386625 30.025219 \nL 411.474625 30.025219 \nL 411.474625 49.051219 \nL 391.386625 49.051219 \nL 391.386625 30.025219 \n\" style=\"fill:#f7f4f9;\"/>\n    <path clip-path=\"url(#p1e7277eb03)\" d=\"M 411.474625 30.025219 \nL 431.562625 30.025219 \nL 431.562625 49.051219 \nL 411.474625 49.051219 \nL 411.474625 30.025219 \n\" style=\"fill:#f7f4f9;\"/>\n    <path clip-path=\"url(#p1e7277eb03)\" d=\"M 431.562625 30.025219 \nL 451.650625 30.025219 \nL 451.650625 49.051219 \nL 431.562625 49.051219 \nL 431.562625 30.025219 \n\" style=\"fill:#f7f4f9;\"/>\n    <path clip-path=\"url(#p1e7277eb03)\" d=\"M 49.890625 49.051219 \nL 69.978625 49.051219 \nL 69.978625 68.077219 \nL 49.890625 68.077219 \nL 49.890625 49.051219 \n\" style=\"fill:#f7f4f9;\"/>\n    <path clip-path=\"url(#p1e7277eb03)\" d=\"M 69.978625 49.051219 \nL 90.066625 49.051219 \nL 90.066625 68.077219 \nL 69.978625 68.077219 \nL 69.978625 49.051219 \n\" style=\"fill:#f7f4f9;\"/>\n    <path clip-path=\"url(#p1e7277eb03)\" d=\"M 90.066625 49.051219 \nL 110.154625 49.051219 \nL 110.154625 68.077219 \nL 90.066625 68.077219 \nL 90.066625 49.051219 \n\" style=\"fill:#f7f4f9;\"/>\n    <path clip-path=\"url(#p1e7277eb03)\" d=\"M 110.154625 49.051219 \nL 130.242625 49.051219 \nL 130.242625 68.077219 \nL 110.154625 68.077219 \nL 110.154625 49.051219 \n\" style=\"fill:#f7f4f9;\"/>\n    <path clip-path=\"url(#p1e7277eb03)\" d=\"M 130.242625 49.051219 \nL 150.330625 49.051219 \nL 150.330625 68.077219 \nL 130.242625 68.077219 \nL 130.242625 49.051219 \n\" style=\"fill:#f7f4f9;\"/>\n    <path clip-path=\"url(#p1e7277eb03)\" d=\"M 150.330625 49.051219 \nL 170.418625 49.051219 \nL 170.418625 68.077219 \nL 150.330625 68.077219 \nL 150.330625 49.051219 \n\" style=\"fill:#f7f4f9;\"/>\n    <path clip-path=\"url(#p1e7277eb03)\" d=\"M 170.418625 49.051219 \nL 190.506625 49.051219 \nL 190.506625 68.077219 \nL 170.418625 68.077219 \nL 170.418625 49.051219 \n\" style=\"fill:#f7f4f9;\"/>\n    <path clip-path=\"url(#p1e7277eb03)\" d=\"M 190.506625 49.051219 \nL 210.594625 49.051219 \nL 210.594625 68.077219 \nL 190.506625 68.077219 \nL 190.506625 49.051219 \n\" style=\"fill:#f7f4f9;\"/>\n    <path clip-path=\"url(#p1e7277eb03)\" d=\"M 210.594625 49.051219 \nL 230.682625 49.051219 \nL 230.682625 68.077219 \nL 210.594625 68.077219 \nL 210.594625 49.051219 \n\" style=\"fill:#f7f4f9;\"/>\n    <path clip-path=\"url(#p1e7277eb03)\" d=\"M 230.682625 49.051219 \nL 250.770625 49.051219 \nL 250.770625 68.077219 \nL 230.682625 68.077219 \nL 230.682625 49.051219 \n\" style=\"fill:#f7f4f9;\"/>\n    <path clip-path=\"url(#p1e7277eb03)\" d=\"M 250.770625 49.051219 \nL 270.858625 49.051219 \nL 270.858625 68.077219 \nL 250.770625 68.077219 \nL 250.770625 49.051219 \n\" style=\"fill:#f7f4f9;\"/>\n    <path clip-path=\"url(#p1e7277eb03)\" d=\"M 270.858625 49.051219 \nL 290.946625 49.051219 \nL 290.946625 68.077219 \nL 270.858625 68.077219 \nL 270.858625 49.051219 \n\" style=\"fill:#f7f4f9;\"/>\n    <path clip-path=\"url(#p1e7277eb03)\" d=\"M 290.946625 49.051219 \nL 311.034625 49.051219 \nL 311.034625 68.077219 \nL 290.946625 68.077219 \nL 290.946625 49.051219 \n\" style=\"fill:#f7f4f9;\"/>\n    <path clip-path=\"url(#p1e7277eb03)\" d=\"M 311.034625 49.051219 \nL 331.122625 49.051219 \nL 331.122625 68.077219 \nL 311.034625 68.077219 \nL 311.034625 49.051219 \n\" style=\"fill:#f7f4f9;\"/>\n    <path clip-path=\"url(#p1e7277eb03)\" d=\"M 331.122625 49.051219 \nL 351.210625 49.051219 \nL 351.210625 68.077219 \nL 331.122625 68.077219 \nL 331.122625 49.051219 \n\" style=\"fill:#f7f4f9;\"/>\n    <path clip-path=\"url(#p1e7277eb03)\" d=\"M 351.210625 49.051219 \nL 371.298625 49.051219 \nL 371.298625 68.077219 \nL 351.210625 68.077219 \nL 351.210625 49.051219 \n\" style=\"fill:#f7f4f9;\"/>\n    <path clip-path=\"url(#p1e7277eb03)\" d=\"M 371.298625 49.051219 \nL 391.386625 49.051219 \nL 391.386625 68.077219 \nL 371.298625 68.077219 \nL 371.298625 49.051219 \n\" style=\"fill:#f7f4f9;\"/>\n    <path clip-path=\"url(#p1e7277eb03)\" d=\"M 391.386625 49.051219 \nL 411.474625 49.051219 \nL 411.474625 68.077219 \nL 391.386625 68.077219 \nL 391.386625 49.051219 \n\" style=\"fill:#f7f4f9;\"/>\n    <path clip-path=\"url(#p1e7277eb03)\" d=\"M 411.474625 49.051219 \nL 431.562625 49.051219 \nL 431.562625 68.077219 \nL 411.474625 68.077219 \nL 411.474625 49.051219 \n\" style=\"fill:#f7f4f9;\"/>\n    <path clip-path=\"url(#p1e7277eb03)\" d=\"M 431.562625 49.051219 \nL 451.650625 49.051219 \nL 451.650625 68.077219 \nL 431.562625 68.077219 \nL 431.562625 49.051219 \n\" style=\"fill:#f7f4f9;\"/>\n    <path clip-path=\"url(#p1e7277eb03)\" d=\"M 49.890625 68.077219 \nL 69.978625 68.077219 \nL 69.978625 87.103219 \nL 49.890625 87.103219 \nL 49.890625 68.077219 \n\" style=\"fill:#f7f4f9;\"/>\n    <path clip-path=\"url(#p1e7277eb03)\" d=\"M 69.978625 68.077219 \nL 90.066625 68.077219 \nL 90.066625 87.103219 \nL 69.978625 87.103219 \nL 69.978625 68.077219 \n\" style=\"fill:#f7f4f9;\"/>\n    <path clip-path=\"url(#p1e7277eb03)\" d=\"M 90.066625 68.077219 \nL 110.154625 68.077219 \nL 110.154625 87.103219 \nL 90.066625 87.103219 \nL 90.066625 68.077219 \n\" style=\"fill:#f7f4f9;\"/>\n    <path clip-path=\"url(#p1e7277eb03)\" d=\"M 110.154625 68.077219 \nL 130.242625 68.077219 \nL 130.242625 87.103219 \nL 110.154625 87.103219 \nL 110.154625 68.077219 \n\" style=\"fill:#f7f4f9;\"/>\n    <path clip-path=\"url(#p1e7277eb03)\" d=\"M 130.242625 68.077219 \nL 150.330625 68.077219 \nL 150.330625 87.103219 \nL 130.242625 87.103219 \nL 130.242625 68.077219 \n\" style=\"fill:#f7f4f9;\"/>\n    <path clip-path=\"url(#p1e7277eb03)\" d=\"M 150.330625 68.077219 \nL 170.418625 68.077219 \nL 170.418625 87.103219 \nL 150.330625 87.103219 \nL 150.330625 68.077219 \n\" style=\"fill:#f7f4f9;\"/>\n    <path clip-path=\"url(#p1e7277eb03)\" d=\"M 170.418625 68.077219 \nL 190.506625 68.077219 \nL 190.506625 87.103219 \nL 170.418625 87.103219 \nL 170.418625 68.077219 \n\" style=\"fill:#f7f4f9;\"/>\n    <path clip-path=\"url(#p1e7277eb03)\" d=\"M 190.506625 68.077219 \nL 210.594625 68.077219 \nL 210.594625 87.103219 \nL 190.506625 87.103219 \nL 190.506625 68.077219 \n\" style=\"fill:#f7f4f9;\"/>\n    <path clip-path=\"url(#p1e7277eb03)\" d=\"M 210.594625 68.077219 \nL 230.682625 68.077219 \nL 230.682625 87.103219 \nL 210.594625 87.103219 \nL 210.594625 68.077219 \n\" style=\"fill:#f7f4f9;\"/>\n    <path clip-path=\"url(#p1e7277eb03)\" d=\"M 230.682625 68.077219 \nL 250.770625 68.077219 \nL 250.770625 87.103219 \nL 230.682625 87.103219 \nL 230.682625 68.077219 \n\" style=\"fill:#f7f4f9;\"/>\n    <path clip-path=\"url(#p1e7277eb03)\" d=\"M 250.770625 68.077219 \nL 270.858625 68.077219 \nL 270.858625 87.103219 \nL 250.770625 87.103219 \nL 250.770625 68.077219 \n\" style=\"fill:#f7f4f9;\"/>\n    <path clip-path=\"url(#p1e7277eb03)\" d=\"M 270.858625 68.077219 \nL 290.946625 68.077219 \nL 290.946625 87.103219 \nL 270.858625 87.103219 \nL 270.858625 68.077219 \n\" style=\"fill:#f7f4f9;\"/>\n    <path clip-path=\"url(#p1e7277eb03)\" d=\"M 290.946625 68.077219 \nL 311.034625 68.077219 \nL 311.034625 87.103219 \nL 290.946625 87.103219 \nL 290.946625 68.077219 \n\" style=\"fill:#f7f4f9;\"/>\n    <path clip-path=\"url(#p1e7277eb03)\" d=\"M 311.034625 68.077219 \nL 331.122625 68.077219 \nL 331.122625 87.103219 \nL 311.034625 87.103219 \nL 311.034625 68.077219 \n\" style=\"fill:#f7f4f9;\"/>\n    <path clip-path=\"url(#p1e7277eb03)\" d=\"M 331.122625 68.077219 \nL 351.210625 68.077219 \nL 351.210625 87.103219 \nL 331.122625 87.103219 \nL 331.122625 68.077219 \n\" style=\"fill:#f7f4f9;\"/>\n    <path clip-path=\"url(#p1e7277eb03)\" d=\"M 351.210625 68.077219 \nL 371.298625 68.077219 \nL 371.298625 87.103219 \nL 351.210625 87.103219 \nL 351.210625 68.077219 \n\" style=\"fill:#f7f4f9;\"/>\n    <path clip-path=\"url(#p1e7277eb03)\" d=\"M 371.298625 68.077219 \nL 391.386625 68.077219 \nL 391.386625 87.103219 \nL 371.298625 87.103219 \nL 371.298625 68.077219 \n\" style=\"fill:#f7f4f9;\"/>\n    <path clip-path=\"url(#p1e7277eb03)\" d=\"M 391.386625 68.077219 \nL 411.474625 68.077219 \nL 411.474625 87.103219 \nL 391.386625 87.103219 \nL 391.386625 68.077219 \n\" style=\"fill:#f7f4f9;\"/>\n    <path clip-path=\"url(#p1e7277eb03)\" d=\"M 411.474625 68.077219 \nL 431.562625 68.077219 \nL 431.562625 87.103219 \nL 411.474625 87.103219 \nL 411.474625 68.077219 \n\" style=\"fill:#f7f4f9;\"/>\n    <path clip-path=\"url(#p1e7277eb03)\" d=\"M 431.562625 68.077219 \nL 451.650625 68.077219 \nL 451.650625 87.103219 \nL 431.562625 87.103219 \nL 431.562625 68.077219 \n\" style=\"fill:#f7f4f9;\"/>\n    <path clip-path=\"url(#p1e7277eb03)\" d=\"M 49.890625 87.103219 \nL 69.978625 87.103219 \nL 69.978625 106.129219 \nL 49.890625 106.129219 \nL 49.890625 87.103219 \n\" style=\"fill:#67001f;\"/>\n    <path clip-path=\"url(#p1e7277eb03)\" d=\"M 69.978625 87.103219 \nL 90.066625 87.103219 \nL 90.066625 106.129219 \nL 69.978625 106.129219 \nL 69.978625 87.103219 \n\" style=\"fill:#f7f4f9;\"/>\n    <path clip-path=\"url(#p1e7277eb03)\" d=\"M 90.066625 87.103219 \nL 110.154625 87.103219 \nL 110.154625 106.129219 \nL 90.066625 106.129219 \nL 90.066625 87.103219 \n\" style=\"fill:#f7f4f9;\"/>\n    <path clip-path=\"url(#p1e7277eb03)\" d=\"M 110.154625 87.103219 \nL 130.242625 87.103219 \nL 130.242625 106.129219 \nL 110.154625 106.129219 \nL 110.154625 87.103219 \n\" style=\"fill:#f7f4f9;\"/>\n    <path clip-path=\"url(#p1e7277eb03)\" d=\"M 130.242625 87.103219 \nL 150.330625 87.103219 \nL 150.330625 106.129219 \nL 130.242625 106.129219 \nL 130.242625 87.103219 \n\" style=\"fill:#f7f4f9;\"/>\n    <path clip-path=\"url(#p1e7277eb03)\" d=\"M 150.330625 87.103219 \nL 170.418625 87.103219 \nL 170.418625 106.129219 \nL 150.330625 106.129219 \nL 150.330625 87.103219 \n\" style=\"fill:#f7f4f9;\"/>\n    <path clip-path=\"url(#p1e7277eb03)\" d=\"M 170.418625 87.103219 \nL 190.506625 87.103219 \nL 190.506625 106.129219 \nL 170.418625 106.129219 \nL 170.418625 87.103219 \n\" style=\"fill:#f7f4f9;\"/>\n    <path clip-path=\"url(#p1e7277eb03)\" d=\"M 190.506625 87.103219 \nL 210.594625 87.103219 \nL 210.594625 106.129219 \nL 190.506625 106.129219 \nL 190.506625 87.103219 \n\" style=\"fill:#f7f4f9;\"/>\n    <path clip-path=\"url(#p1e7277eb03)\" d=\"M 210.594625 87.103219 \nL 230.682625 87.103219 \nL 230.682625 106.129219 \nL 210.594625 106.129219 \nL 210.594625 87.103219 \n\" style=\"fill:#f7f4f9;\"/>\n    <path clip-path=\"url(#p1e7277eb03)\" d=\"M 230.682625 87.103219 \nL 250.770625 87.103219 \nL 250.770625 106.129219 \nL 230.682625 106.129219 \nL 230.682625 87.103219 \n\" style=\"fill:#f7f4f9;\"/>\n    <path clip-path=\"url(#p1e7277eb03)\" d=\"M 250.770625 87.103219 \nL 270.858625 87.103219 \nL 270.858625 106.129219 \nL 250.770625 106.129219 \nL 250.770625 87.103219 \n\" style=\"fill:#f7f4f9;\"/>\n    <path clip-path=\"url(#p1e7277eb03)\" d=\"M 270.858625 87.103219 \nL 290.946625 87.103219 \nL 290.946625 106.129219 \nL 270.858625 106.129219 \nL 270.858625 87.103219 \n\" style=\"fill:#f7f4f9;\"/>\n    <path clip-path=\"url(#p1e7277eb03)\" d=\"M 290.946625 87.103219 \nL 311.034625 87.103219 \nL 311.034625 106.129219 \nL 290.946625 106.129219 \nL 290.946625 87.103219 \n\" style=\"fill:#f7f4f9;\"/>\n    <path clip-path=\"url(#p1e7277eb03)\" d=\"M 311.034625 87.103219 \nL 331.122625 87.103219 \nL 331.122625 106.129219 \nL 311.034625 106.129219 \nL 311.034625 87.103219 \n\" style=\"fill:#f7f4f9;\"/>\n    <path clip-path=\"url(#p1e7277eb03)\" d=\"M 331.122625 87.103219 \nL 351.210625 87.103219 \nL 351.210625 106.129219 \nL 331.122625 106.129219 \nL 331.122625 87.103219 \n\" style=\"fill:#f7f4f9;\"/>\n    <path clip-path=\"url(#p1e7277eb03)\" d=\"M 351.210625 87.103219 \nL 371.298625 87.103219 \nL 371.298625 106.129219 \nL 351.210625 106.129219 \nL 351.210625 87.103219 \n\" style=\"fill:#f7f4f9;\"/>\n    <path clip-path=\"url(#p1e7277eb03)\" d=\"M 371.298625 87.103219 \nL 391.386625 87.103219 \nL 391.386625 106.129219 \nL 371.298625 106.129219 \nL 371.298625 87.103219 \n\" style=\"fill:#f7f4f9;\"/>\n    <path clip-path=\"url(#p1e7277eb03)\" d=\"M 391.386625 87.103219 \nL 411.474625 87.103219 \nL 411.474625 106.129219 \nL 391.386625 106.129219 \nL 391.386625 87.103219 \n\" style=\"fill:#f7f4f9;\"/>\n    <path clip-path=\"url(#p1e7277eb03)\" d=\"M 411.474625 87.103219 \nL 431.562625 87.103219 \nL 431.562625 106.129219 \nL 411.474625 106.129219 \nL 411.474625 87.103219 \n\" style=\"fill:#f7f4f9;\"/>\n    <path clip-path=\"url(#p1e7277eb03)\" d=\"M 431.562625 87.103219 \nL 451.650625 87.103219 \nL 451.650625 106.129219 \nL 431.562625 106.129219 \nL 431.562625 87.103219 \n\" style=\"fill:#f7f4f9;\"/>\n    <path clip-path=\"url(#p1e7277eb03)\" d=\"M 49.890625 106.129219 \nL 69.978625 106.129219 \nL 69.978625 125.155219 \nL 49.890625 125.155219 \nL 49.890625 106.129219 \n\" style=\"fill:#67001f;\"/>\n    <path clip-path=\"url(#p1e7277eb03)\" d=\"M 69.978625 106.129219 \nL 90.066625 106.129219 \nL 90.066625 125.155219 \nL 69.978625 125.155219 \nL 69.978625 106.129219 \n\" style=\"fill:#f7f4f9;\"/>\n    <path clip-path=\"url(#p1e7277eb03)\" d=\"M 90.066625 106.129219 \nL 110.154625 106.129219 \nL 110.154625 125.155219 \nL 90.066625 125.155219 \nL 90.066625 106.129219 \n\" style=\"fill:#f7f4f9;\"/>\n    <path clip-path=\"url(#p1e7277eb03)\" d=\"M 110.154625 106.129219 \nL 130.242625 106.129219 \nL 130.242625 125.155219 \nL 110.154625 125.155219 \nL 110.154625 106.129219 \n\" style=\"fill:#f7f4f9;\"/>\n    <path clip-path=\"url(#p1e7277eb03)\" d=\"M 130.242625 106.129219 \nL 150.330625 106.129219 \nL 150.330625 125.155219 \nL 130.242625 125.155219 \nL 130.242625 106.129219 \n\" style=\"fill:#f7f4f9;\"/>\n    <path clip-path=\"url(#p1e7277eb03)\" d=\"M 150.330625 106.129219 \nL 170.418625 106.129219 \nL 170.418625 125.155219 \nL 150.330625 125.155219 \nL 150.330625 106.129219 \n\" style=\"fill:#f7f4f9;\"/>\n    <path clip-path=\"url(#p1e7277eb03)\" d=\"M 170.418625 106.129219 \nL 190.506625 106.129219 \nL 190.506625 125.155219 \nL 170.418625 125.155219 \nL 170.418625 106.129219 \n\" style=\"fill:#f7f4f9;\"/>\n    <path clip-path=\"url(#p1e7277eb03)\" d=\"M 190.506625 106.129219 \nL 210.594625 106.129219 \nL 210.594625 125.155219 \nL 190.506625 125.155219 \nL 190.506625 106.129219 \n\" style=\"fill:#f7f4f9;\"/>\n    <path clip-path=\"url(#p1e7277eb03)\" d=\"M 210.594625 106.129219 \nL 230.682625 106.129219 \nL 230.682625 125.155219 \nL 210.594625 125.155219 \nL 210.594625 106.129219 \n\" style=\"fill:#f7f4f9;\"/>\n    <path clip-path=\"url(#p1e7277eb03)\" d=\"M 230.682625 106.129219 \nL 250.770625 106.129219 \nL 250.770625 125.155219 \nL 230.682625 125.155219 \nL 230.682625 106.129219 \n\" style=\"fill:#f7f4f9;\"/>\n    <path clip-path=\"url(#p1e7277eb03)\" d=\"M 250.770625 106.129219 \nL 270.858625 106.129219 \nL 270.858625 125.155219 \nL 250.770625 125.155219 \nL 250.770625 106.129219 \n\" style=\"fill:#f7f4f9;\"/>\n    <path clip-path=\"url(#p1e7277eb03)\" d=\"M 270.858625 106.129219 \nL 290.946625 106.129219 \nL 290.946625 125.155219 \nL 270.858625 125.155219 \nL 270.858625 106.129219 \n\" style=\"fill:#f7f4f9;\"/>\n    <path clip-path=\"url(#p1e7277eb03)\" d=\"M 290.946625 106.129219 \nL 311.034625 106.129219 \nL 311.034625 125.155219 \nL 290.946625 125.155219 \nL 290.946625 106.129219 \n\" style=\"fill:#f7f4f9;\"/>\n    <path clip-path=\"url(#p1e7277eb03)\" d=\"M 311.034625 106.129219 \nL 331.122625 106.129219 \nL 331.122625 125.155219 \nL 311.034625 125.155219 \nL 311.034625 106.129219 \n\" style=\"fill:#f7f4f9;\"/>\n    <path clip-path=\"url(#p1e7277eb03)\" d=\"M 331.122625 106.129219 \nL 351.210625 106.129219 \nL 351.210625 125.155219 \nL 331.122625 125.155219 \nL 331.122625 106.129219 \n\" style=\"fill:#f7f4f9;\"/>\n    <path clip-path=\"url(#p1e7277eb03)\" d=\"M 351.210625 106.129219 \nL 371.298625 106.129219 \nL 371.298625 125.155219 \nL 351.210625 125.155219 \nL 351.210625 106.129219 \n\" style=\"fill:#f7f4f9;\"/>\n    <path clip-path=\"url(#p1e7277eb03)\" d=\"M 371.298625 106.129219 \nL 391.386625 106.129219 \nL 391.386625 125.155219 \nL 371.298625 125.155219 \nL 371.298625 106.129219 \n\" style=\"fill:#f7f4f9;\"/>\n    <path clip-path=\"url(#p1e7277eb03)\" d=\"M 391.386625 106.129219 \nL 411.474625 106.129219 \nL 411.474625 125.155219 \nL 391.386625 125.155219 \nL 391.386625 106.129219 \n\" style=\"fill:#f7f4f9;\"/>\n    <path clip-path=\"url(#p1e7277eb03)\" d=\"M 411.474625 106.129219 \nL 431.562625 106.129219 \nL 431.562625 125.155219 \nL 411.474625 125.155219 \nL 411.474625 106.129219 \n\" style=\"fill:#f7f4f9;\"/>\n    <path clip-path=\"url(#p1e7277eb03)\" d=\"M 431.562625 106.129219 \nL 451.650625 106.129219 \nL 451.650625 125.155219 \nL 431.562625 125.155219 \nL 431.562625 106.129219 \n\" style=\"fill:#f7f4f9;\"/>\n    <path clip-path=\"url(#p1e7277eb03)\" d=\"M 49.890625 125.155219 \nL 69.978625 125.155219 \nL 69.978625 144.181219 \nL 49.890625 144.181219 \nL 49.890625 125.155219 \n\" style=\"fill:#f7f4f9;\"/>\n    <path clip-path=\"url(#p1e7277eb03)\" d=\"M 69.978625 125.155219 \nL 90.066625 125.155219 \nL 90.066625 144.181219 \nL 69.978625 144.181219 \nL 69.978625 125.155219 \n\" style=\"fill:#f7f4f9;\"/>\n    <path clip-path=\"url(#p1e7277eb03)\" d=\"M 90.066625 125.155219 \nL 110.154625 125.155219 \nL 110.154625 144.181219 \nL 90.066625 144.181219 \nL 90.066625 125.155219 \n\" style=\"fill:#f7f4f9;\"/>\n    <path clip-path=\"url(#p1e7277eb03)\" d=\"M 110.154625 125.155219 \nL 130.242625 125.155219 \nL 130.242625 144.181219 \nL 110.154625 144.181219 \nL 110.154625 125.155219 \n\" style=\"fill:#f7f4f9;\"/>\n    <path clip-path=\"url(#p1e7277eb03)\" d=\"M 130.242625 125.155219 \nL 150.330625 125.155219 \nL 150.330625 144.181219 \nL 130.242625 144.181219 \nL 130.242625 125.155219 \n\" style=\"fill:#f7f4f9;\"/>\n    <path clip-path=\"url(#p1e7277eb03)\" d=\"M 150.330625 125.155219 \nL 170.418625 125.155219 \nL 170.418625 144.181219 \nL 150.330625 144.181219 \nL 150.330625 125.155219 \n\" style=\"fill:#f7f4f9;\"/>\n    <path clip-path=\"url(#p1e7277eb03)\" d=\"M 170.418625 125.155219 \nL 190.506625 125.155219 \nL 190.506625 144.181219 \nL 170.418625 144.181219 \nL 170.418625 125.155219 \n\" style=\"fill:#f7f4f9;\"/>\n    <path clip-path=\"url(#p1e7277eb03)\" d=\"M 190.506625 125.155219 \nL 210.594625 125.155219 \nL 210.594625 144.181219 \nL 190.506625 144.181219 \nL 190.506625 125.155219 \n\" style=\"fill:#f7f4f9;\"/>\n    <path clip-path=\"url(#p1e7277eb03)\" d=\"M 210.594625 125.155219 \nL 230.682625 125.155219 \nL 230.682625 144.181219 \nL 210.594625 144.181219 \nL 210.594625 125.155219 \n\" style=\"fill:#f7f4f9;\"/>\n    <path clip-path=\"url(#p1e7277eb03)\" d=\"M 230.682625 125.155219 \nL 250.770625 125.155219 \nL 250.770625 144.181219 \nL 230.682625 144.181219 \nL 230.682625 125.155219 \n\" style=\"fill:#f7f4f9;\"/>\n    <path clip-path=\"url(#p1e7277eb03)\" d=\"M 250.770625 125.155219 \nL 270.858625 125.155219 \nL 270.858625 144.181219 \nL 250.770625 144.181219 \nL 250.770625 125.155219 \n\" style=\"fill:#f7f4f9;\"/>\n    <path clip-path=\"url(#p1e7277eb03)\" d=\"M 270.858625 125.155219 \nL 290.946625 125.155219 \nL 290.946625 144.181219 \nL 270.858625 144.181219 \nL 270.858625 125.155219 \n\" style=\"fill:#f7f4f9;\"/>\n    <path clip-path=\"url(#p1e7277eb03)\" d=\"M 290.946625 125.155219 \nL 311.034625 125.155219 \nL 311.034625 144.181219 \nL 290.946625 144.181219 \nL 290.946625 125.155219 \n\" style=\"fill:#f7f4f9;\"/>\n    <path clip-path=\"url(#p1e7277eb03)\" d=\"M 311.034625 125.155219 \nL 331.122625 125.155219 \nL 331.122625 144.181219 \nL 311.034625 144.181219 \nL 311.034625 125.155219 \n\" style=\"fill:#f7f4f9;\"/>\n    <path clip-path=\"url(#p1e7277eb03)\" d=\"M 331.122625 125.155219 \nL 351.210625 125.155219 \nL 351.210625 144.181219 \nL 331.122625 144.181219 \nL 331.122625 125.155219 \n\" style=\"fill:#f7f4f9;\"/>\n    <path clip-path=\"url(#p1e7277eb03)\" d=\"M 351.210625 125.155219 \nL 371.298625 125.155219 \nL 371.298625 144.181219 \nL 351.210625 144.181219 \nL 351.210625 125.155219 \n\" style=\"fill:#f7f4f9;\"/>\n    <path clip-path=\"url(#p1e7277eb03)\" d=\"M 371.298625 125.155219 \nL 391.386625 125.155219 \nL 391.386625 144.181219 \nL 371.298625 144.181219 \nL 371.298625 125.155219 \n\" style=\"fill:#f7f4f9;\"/>\n    <path clip-path=\"url(#p1e7277eb03)\" d=\"M 391.386625 125.155219 \nL 411.474625 125.155219 \nL 411.474625 144.181219 \nL 391.386625 144.181219 \nL 391.386625 125.155219 \n\" style=\"fill:#f7f4f9;\"/>\n    <path clip-path=\"url(#p1e7277eb03)\" d=\"M 411.474625 125.155219 \nL 431.562625 125.155219 \nL 431.562625 144.181219 \nL 411.474625 144.181219 \nL 411.474625 125.155219 \n\" style=\"fill:#f7f4f9;\"/>\n    <path clip-path=\"url(#p1e7277eb03)\" d=\"M 431.562625 125.155219 \nL 451.650625 125.155219 \nL 451.650625 144.181219 \nL 431.562625 144.181219 \nL 431.562625 125.155219 \n\" style=\"fill:#f7f4f9;\"/>\n    <path clip-path=\"url(#p1e7277eb03)\" d=\"M 49.890625 144.181219 \nL 69.978625 144.181219 \nL 69.978625 163.207219 \nL 49.890625 163.207219 \nL 49.890625 144.181219 \n\" style=\"fill:#f7f4f9;\"/>\n    <path clip-path=\"url(#p1e7277eb03)\" d=\"M 69.978625 144.181219 \nL 90.066625 144.181219 \nL 90.066625 163.207219 \nL 69.978625 163.207219 \nL 69.978625 144.181219 \n\" style=\"fill:#f7f4f9;\"/>\n    <path clip-path=\"url(#p1e7277eb03)\" d=\"M 90.066625 144.181219 \nL 110.154625 144.181219 \nL 110.154625 163.207219 \nL 90.066625 163.207219 \nL 90.066625 144.181219 \n\" style=\"fill:#f7f4f9;\"/>\n    <path clip-path=\"url(#p1e7277eb03)\" d=\"M 110.154625 144.181219 \nL 130.242625 144.181219 \nL 130.242625 163.207219 \nL 110.154625 163.207219 \nL 110.154625 144.181219 \n\" style=\"fill:#f7f4f9;\"/>\n    <path clip-path=\"url(#p1e7277eb03)\" d=\"M 130.242625 144.181219 \nL 150.330625 144.181219 \nL 150.330625 163.207219 \nL 130.242625 163.207219 \nL 130.242625 144.181219 \n\" style=\"fill:#f7f4f9;\"/>\n    <path clip-path=\"url(#p1e7277eb03)\" d=\"M 150.330625 144.181219 \nL 170.418625 144.181219 \nL 170.418625 163.207219 \nL 150.330625 163.207219 \nL 150.330625 144.181219 \n\" style=\"fill:#f7f4f9;\"/>\n    <path clip-path=\"url(#p1e7277eb03)\" d=\"M 170.418625 144.181219 \nL 190.506625 144.181219 \nL 190.506625 163.207219 \nL 170.418625 163.207219 \nL 170.418625 144.181219 \n\" style=\"fill:#f7f4f9;\"/>\n    <path clip-path=\"url(#p1e7277eb03)\" d=\"M 190.506625 144.181219 \nL 210.594625 144.181219 \nL 210.594625 163.207219 \nL 190.506625 163.207219 \nL 190.506625 144.181219 \n\" style=\"fill:#f7f4f9;\"/>\n    <path clip-path=\"url(#p1e7277eb03)\" d=\"M 210.594625 144.181219 \nL 230.682625 144.181219 \nL 230.682625 163.207219 \nL 210.594625 163.207219 \nL 210.594625 144.181219 \n\" style=\"fill:#f7f4f9;\"/>\n    <path clip-path=\"url(#p1e7277eb03)\" d=\"M 230.682625 144.181219 \nL 250.770625 144.181219 \nL 250.770625 163.207219 \nL 230.682625 163.207219 \nL 230.682625 144.181219 \n\" style=\"fill:#f7f4f9;\"/>\n    <path clip-path=\"url(#p1e7277eb03)\" d=\"M 250.770625 144.181219 \nL 270.858625 144.181219 \nL 270.858625 163.207219 \nL 250.770625 163.207219 \nL 250.770625 144.181219 \n\" style=\"fill:#f7f4f9;\"/>\n    <path clip-path=\"url(#p1e7277eb03)\" d=\"M 270.858625 144.181219 \nL 290.946625 144.181219 \nL 290.946625 163.207219 \nL 270.858625 163.207219 \nL 270.858625 144.181219 \n\" style=\"fill:#f7f4f9;\"/>\n    <path clip-path=\"url(#p1e7277eb03)\" d=\"M 290.946625 144.181219 \nL 311.034625 144.181219 \nL 311.034625 163.207219 \nL 290.946625 163.207219 \nL 290.946625 144.181219 \n\" style=\"fill:#f7f4f9;\"/>\n    <path clip-path=\"url(#p1e7277eb03)\" d=\"M 311.034625 144.181219 \nL 331.122625 144.181219 \nL 331.122625 163.207219 \nL 311.034625 163.207219 \nL 311.034625 144.181219 \n\" style=\"fill:#f7f4f9;\"/>\n    <path clip-path=\"url(#p1e7277eb03)\" d=\"M 331.122625 144.181219 \nL 351.210625 144.181219 \nL 351.210625 163.207219 \nL 331.122625 163.207219 \nL 331.122625 144.181219 \n\" style=\"fill:#f7f4f9;\"/>\n    <path clip-path=\"url(#p1e7277eb03)\" d=\"M 351.210625 144.181219 \nL 371.298625 144.181219 \nL 371.298625 163.207219 \nL 351.210625 163.207219 \nL 351.210625 144.181219 \n\" style=\"fill:#f7f4f9;\"/>\n    <path clip-path=\"url(#p1e7277eb03)\" d=\"M 371.298625 144.181219 \nL 391.386625 144.181219 \nL 391.386625 163.207219 \nL 371.298625 163.207219 \nL 371.298625 144.181219 \n\" style=\"fill:#f7f4f9;\"/>\n    <path clip-path=\"url(#p1e7277eb03)\" d=\"M 391.386625 144.181219 \nL 411.474625 144.181219 \nL 411.474625 163.207219 \nL 391.386625 163.207219 \nL 391.386625 144.181219 \n\" style=\"fill:#f7f4f9;\"/>\n    <path clip-path=\"url(#p1e7277eb03)\" d=\"M 411.474625 144.181219 \nL 431.562625 144.181219 \nL 431.562625 163.207219 \nL 411.474625 163.207219 \nL 411.474625 144.181219 \n\" style=\"fill:#f7f4f9;\"/>\n    <path clip-path=\"url(#p1e7277eb03)\" d=\"M 431.562625 144.181219 \nL 451.650625 144.181219 \nL 451.650625 163.207219 \nL 431.562625 163.207219 \nL 431.562625 144.181219 \n\" style=\"fill:#f7f4f9;\"/>\n    <path clip-path=\"url(#p1e7277eb03)\" d=\"M 49.890625 163.207219 \nL 69.978625 163.207219 \nL 69.978625 182.233219 \nL 49.890625 182.233219 \nL 49.890625 163.207219 \n\" style=\"fill:#f7f4f9;\"/>\n    <path clip-path=\"url(#p1e7277eb03)\" d=\"M 69.978625 163.207219 \nL 90.066625 163.207219 \nL 90.066625 182.233219 \nL 69.978625 182.233219 \nL 69.978625 163.207219 \n\" style=\"fill:#f7f4f9;\"/>\n    <path clip-path=\"url(#p1e7277eb03)\" d=\"M 90.066625 163.207219 \nL 110.154625 163.207219 \nL 110.154625 182.233219 \nL 90.066625 182.233219 \nL 90.066625 163.207219 \n\" style=\"fill:#f7f4f9;\"/>\n    <path clip-path=\"url(#p1e7277eb03)\" d=\"M 110.154625 163.207219 \nL 130.242625 163.207219 \nL 130.242625 182.233219 \nL 110.154625 182.233219 \nL 110.154625 163.207219 \n\" style=\"fill:#f7f4f9;\"/>\n    <path clip-path=\"url(#p1e7277eb03)\" d=\"M 130.242625 163.207219 \nL 150.330625 163.207219 \nL 150.330625 182.233219 \nL 130.242625 182.233219 \nL 130.242625 163.207219 \n\" style=\"fill:#f7f4f9;\"/>\n    <path clip-path=\"url(#p1e7277eb03)\" d=\"M 150.330625 163.207219 \nL 170.418625 163.207219 \nL 170.418625 182.233219 \nL 150.330625 182.233219 \nL 150.330625 163.207219 \n\" style=\"fill:#f7f4f9;\"/>\n    <path clip-path=\"url(#p1e7277eb03)\" d=\"M 170.418625 163.207219 \nL 190.506625 163.207219 \nL 190.506625 182.233219 \nL 170.418625 182.233219 \nL 170.418625 163.207219 \n\" style=\"fill:#f7f4f9;\"/>\n    <path clip-path=\"url(#p1e7277eb03)\" d=\"M 190.506625 163.207219 \nL 210.594625 163.207219 \nL 210.594625 182.233219 \nL 190.506625 182.233219 \nL 190.506625 163.207219 \n\" style=\"fill:#f7f4f9;\"/>\n    <path clip-path=\"url(#p1e7277eb03)\" d=\"M 210.594625 163.207219 \nL 230.682625 163.207219 \nL 230.682625 182.233219 \nL 210.594625 182.233219 \nL 210.594625 163.207219 \n\" style=\"fill:#f7f4f9;\"/>\n    <path clip-path=\"url(#p1e7277eb03)\" d=\"M 230.682625 163.207219 \nL 250.770625 163.207219 \nL 250.770625 182.233219 \nL 230.682625 182.233219 \nL 230.682625 163.207219 \n\" style=\"fill:#f7f4f9;\"/>\n    <path clip-path=\"url(#p1e7277eb03)\" d=\"M 250.770625 163.207219 \nL 270.858625 163.207219 \nL 270.858625 182.233219 \nL 250.770625 182.233219 \nL 250.770625 163.207219 \n\" style=\"fill:#f7f4f9;\"/>\n    <path clip-path=\"url(#p1e7277eb03)\" d=\"M 270.858625 163.207219 \nL 290.946625 163.207219 \nL 290.946625 182.233219 \nL 270.858625 182.233219 \nL 270.858625 163.207219 \n\" style=\"fill:#f7f4f9;\"/>\n    <path clip-path=\"url(#p1e7277eb03)\" d=\"M 290.946625 163.207219 \nL 311.034625 163.207219 \nL 311.034625 182.233219 \nL 290.946625 182.233219 \nL 290.946625 163.207219 \n\" style=\"fill:#f7f4f9;\"/>\n    <path clip-path=\"url(#p1e7277eb03)\" d=\"M 311.034625 163.207219 \nL 331.122625 163.207219 \nL 331.122625 182.233219 \nL 311.034625 182.233219 \nL 311.034625 163.207219 \n\" style=\"fill:#f7f4f9;\"/>\n    <path clip-path=\"url(#p1e7277eb03)\" d=\"M 331.122625 163.207219 \nL 351.210625 163.207219 \nL 351.210625 182.233219 \nL 331.122625 182.233219 \nL 331.122625 163.207219 \n\" style=\"fill:#f7f4f9;\"/>\n    <path clip-path=\"url(#p1e7277eb03)\" d=\"M 351.210625 163.207219 \nL 371.298625 163.207219 \nL 371.298625 182.233219 \nL 351.210625 182.233219 \nL 351.210625 163.207219 \n\" style=\"fill:#f7f4f9;\"/>\n    <path clip-path=\"url(#p1e7277eb03)\" d=\"M 371.298625 163.207219 \nL 391.386625 163.207219 \nL 391.386625 182.233219 \nL 371.298625 182.233219 \nL 371.298625 163.207219 \n\" style=\"fill:#f7f4f9;\"/>\n    <path clip-path=\"url(#p1e7277eb03)\" d=\"M 391.386625 163.207219 \nL 411.474625 163.207219 \nL 411.474625 182.233219 \nL 391.386625 182.233219 \nL 391.386625 163.207219 \n\" style=\"fill:#f7f4f9;\"/>\n    <path clip-path=\"url(#p1e7277eb03)\" d=\"M 411.474625 163.207219 \nL 431.562625 163.207219 \nL 431.562625 182.233219 \nL 411.474625 182.233219 \nL 411.474625 163.207219 \n\" style=\"fill:#f7f4f9;\"/>\n    <path clip-path=\"url(#p1e7277eb03)\" d=\"M 431.562625 163.207219 \nL 451.650625 163.207219 \nL 451.650625 182.233219 \nL 431.562625 182.233219 \nL 431.562625 163.207219 \n\" style=\"fill:#f7f4f9;\"/>\n    <path clip-path=\"url(#p1e7277eb03)\" d=\"M 49.890625 182.233219 \nL 69.978625 182.233219 \nL 69.978625 201.259219 \nL 49.890625 201.259219 \nL 49.890625 182.233219 \n\" style=\"fill:#f7f4f9;\"/>\n    <path clip-path=\"url(#p1e7277eb03)\" d=\"M 69.978625 182.233219 \nL 90.066625 182.233219 \nL 90.066625 201.259219 \nL 69.978625 201.259219 \nL 69.978625 182.233219 \n\" style=\"fill:#f7f4f9;\"/>\n    <path clip-path=\"url(#p1e7277eb03)\" d=\"M 90.066625 182.233219 \nL 110.154625 182.233219 \nL 110.154625 201.259219 \nL 90.066625 201.259219 \nL 90.066625 182.233219 \n\" style=\"fill:#f7f4f9;\"/>\n    <path clip-path=\"url(#p1e7277eb03)\" d=\"M 110.154625 182.233219 \nL 130.242625 182.233219 \nL 130.242625 201.259219 \nL 110.154625 201.259219 \nL 110.154625 182.233219 \n\" style=\"fill:#f7f4f9;\"/>\n    <path clip-path=\"url(#p1e7277eb03)\" d=\"M 130.242625 182.233219 \nL 150.330625 182.233219 \nL 150.330625 201.259219 \nL 130.242625 201.259219 \nL 130.242625 182.233219 \n\" style=\"fill:#f7f4f9;\"/>\n    <path clip-path=\"url(#p1e7277eb03)\" d=\"M 150.330625 182.233219 \nL 170.418625 182.233219 \nL 170.418625 201.259219 \nL 150.330625 201.259219 \nL 150.330625 182.233219 \n\" style=\"fill:#f7f4f9;\"/>\n    <path clip-path=\"url(#p1e7277eb03)\" d=\"M 170.418625 182.233219 \nL 190.506625 182.233219 \nL 190.506625 201.259219 \nL 170.418625 201.259219 \nL 170.418625 182.233219 \n\" style=\"fill:#f7f4f9;\"/>\n    <path clip-path=\"url(#p1e7277eb03)\" d=\"M 190.506625 182.233219 \nL 210.594625 182.233219 \nL 210.594625 201.259219 \nL 190.506625 201.259219 \nL 190.506625 182.233219 \n\" style=\"fill:#f7f4f9;\"/>\n    <path clip-path=\"url(#p1e7277eb03)\" d=\"M 210.594625 182.233219 \nL 230.682625 182.233219 \nL 230.682625 201.259219 \nL 210.594625 201.259219 \nL 210.594625 182.233219 \n\" style=\"fill:#f7f4f9;\"/>\n    <path clip-path=\"url(#p1e7277eb03)\" d=\"M 230.682625 182.233219 \nL 250.770625 182.233219 \nL 250.770625 201.259219 \nL 230.682625 201.259219 \nL 230.682625 182.233219 \n\" style=\"fill:#f7f4f9;\"/>\n    <path clip-path=\"url(#p1e7277eb03)\" d=\"M 250.770625 182.233219 \nL 270.858625 182.233219 \nL 270.858625 201.259219 \nL 250.770625 201.259219 \nL 250.770625 182.233219 \n\" style=\"fill:#f7f4f9;\"/>\n    <path clip-path=\"url(#p1e7277eb03)\" d=\"M 270.858625 182.233219 \nL 290.946625 182.233219 \nL 290.946625 201.259219 \nL 270.858625 201.259219 \nL 270.858625 182.233219 \n\" style=\"fill:#f7f4f9;\"/>\n    <path clip-path=\"url(#p1e7277eb03)\" d=\"M 290.946625 182.233219 \nL 311.034625 182.233219 \nL 311.034625 201.259219 \nL 290.946625 201.259219 \nL 290.946625 182.233219 \n\" style=\"fill:#f7f4f9;\"/>\n    <path clip-path=\"url(#p1e7277eb03)\" d=\"M 311.034625 182.233219 \nL 331.122625 182.233219 \nL 331.122625 201.259219 \nL 311.034625 201.259219 \nL 311.034625 182.233219 \n\" style=\"fill:#f7f4f9;\"/>\n    <path clip-path=\"url(#p1e7277eb03)\" d=\"M 331.122625 182.233219 \nL 351.210625 182.233219 \nL 351.210625 201.259219 \nL 331.122625 201.259219 \nL 331.122625 182.233219 \n\" style=\"fill:#f7f4f9;\"/>\n    <path clip-path=\"url(#p1e7277eb03)\" d=\"M 351.210625 182.233219 \nL 371.298625 182.233219 \nL 371.298625 201.259219 \nL 351.210625 201.259219 \nL 351.210625 182.233219 \n\" style=\"fill:#f7f4f9;\"/>\n    <path clip-path=\"url(#p1e7277eb03)\" d=\"M 371.298625 182.233219 \nL 391.386625 182.233219 \nL 391.386625 201.259219 \nL 371.298625 201.259219 \nL 371.298625 182.233219 \n\" style=\"fill:#f7f4f9;\"/>\n    <path clip-path=\"url(#p1e7277eb03)\" d=\"M 391.386625 182.233219 \nL 411.474625 182.233219 \nL 411.474625 201.259219 \nL 391.386625 201.259219 \nL 391.386625 182.233219 \n\" style=\"fill:#f7f4f9;\"/>\n    <path clip-path=\"url(#p1e7277eb03)\" d=\"M 411.474625 182.233219 \nL 431.562625 182.233219 \nL 431.562625 201.259219 \nL 411.474625 201.259219 \nL 411.474625 182.233219 \n\" style=\"fill:#f7f4f9;\"/>\n    <path clip-path=\"url(#p1e7277eb03)\" d=\"M 431.562625 182.233219 \nL 451.650625 182.233219 \nL 451.650625 201.259219 \nL 431.562625 201.259219 \nL 431.562625 182.233219 \n\" style=\"fill:#f7f4f9;\"/>\n    <path clip-path=\"url(#p1e7277eb03)\" d=\"M 49.890625 201.259219 \nL 69.978625 201.259219 \nL 69.978625 220.285219 \nL 49.890625 220.285219 \nL 49.890625 201.259219 \n\" style=\"fill:#f7f4f9;\"/>\n    <path clip-path=\"url(#p1e7277eb03)\" d=\"M 69.978625 201.259219 \nL 90.066625 201.259219 \nL 90.066625 220.285219 \nL 69.978625 220.285219 \nL 69.978625 201.259219 \n\" style=\"fill:#f7f4f9;\"/>\n    <path clip-path=\"url(#p1e7277eb03)\" d=\"M 90.066625 201.259219 \nL 110.154625 201.259219 \nL 110.154625 220.285219 \nL 90.066625 220.285219 \nL 90.066625 201.259219 \n\" style=\"fill:#f7f4f9;\"/>\n    <path clip-path=\"url(#p1e7277eb03)\" d=\"M 110.154625 201.259219 \nL 130.242625 201.259219 \nL 130.242625 220.285219 \nL 110.154625 220.285219 \nL 110.154625 201.259219 \n\" style=\"fill:#f7f4f9;\"/>\n    <path clip-path=\"url(#p1e7277eb03)\" d=\"M 130.242625 201.259219 \nL 150.330625 201.259219 \nL 150.330625 220.285219 \nL 130.242625 220.285219 \nL 130.242625 201.259219 \n\" style=\"fill:#f7f4f9;\"/>\n    <path clip-path=\"url(#p1e7277eb03)\" d=\"M 150.330625 201.259219 \nL 170.418625 201.259219 \nL 170.418625 220.285219 \nL 150.330625 220.285219 \nL 150.330625 201.259219 \n\" style=\"fill:#f7f4f9;\"/>\n    <path clip-path=\"url(#p1e7277eb03)\" d=\"M 170.418625 201.259219 \nL 190.506625 201.259219 \nL 190.506625 220.285219 \nL 170.418625 220.285219 \nL 170.418625 201.259219 \n\" style=\"fill:#f7f4f9;\"/>\n    <path clip-path=\"url(#p1e7277eb03)\" d=\"M 190.506625 201.259219 \nL 210.594625 201.259219 \nL 210.594625 220.285219 \nL 190.506625 220.285219 \nL 190.506625 201.259219 \n\" style=\"fill:#f7f4f9;\"/>\n    <path clip-path=\"url(#p1e7277eb03)\" d=\"M 210.594625 201.259219 \nL 230.682625 201.259219 \nL 230.682625 220.285219 \nL 210.594625 220.285219 \nL 210.594625 201.259219 \n\" style=\"fill:#f7f4f9;\"/>\n    <path clip-path=\"url(#p1e7277eb03)\" d=\"M 230.682625 201.259219 \nL 250.770625 201.259219 \nL 250.770625 220.285219 \nL 230.682625 220.285219 \nL 230.682625 201.259219 \n\" style=\"fill:#f7f4f9;\"/>\n    <path clip-path=\"url(#p1e7277eb03)\" d=\"M 250.770625 201.259219 \nL 270.858625 201.259219 \nL 270.858625 220.285219 \nL 250.770625 220.285219 \nL 250.770625 201.259219 \n\" style=\"fill:#f7f4f9;\"/>\n    <path clip-path=\"url(#p1e7277eb03)\" d=\"M 270.858625 201.259219 \nL 290.946625 201.259219 \nL 290.946625 220.285219 \nL 270.858625 220.285219 \nL 270.858625 201.259219 \n\" style=\"fill:#f7f4f9;\"/>\n    <path clip-path=\"url(#p1e7277eb03)\" d=\"M 290.946625 201.259219 \nL 311.034625 201.259219 \nL 311.034625 220.285219 \nL 290.946625 220.285219 \nL 290.946625 201.259219 \n\" style=\"fill:#f7f4f9;\"/>\n    <path clip-path=\"url(#p1e7277eb03)\" d=\"M 311.034625 201.259219 \nL 331.122625 201.259219 \nL 331.122625 220.285219 \nL 311.034625 220.285219 \nL 311.034625 201.259219 \n\" style=\"fill:#f7f4f9;\"/>\n    <path clip-path=\"url(#p1e7277eb03)\" d=\"M 331.122625 201.259219 \nL 351.210625 201.259219 \nL 351.210625 220.285219 \nL 331.122625 220.285219 \nL 331.122625 201.259219 \n\" style=\"fill:#f7f4f9;\"/>\n    <path clip-path=\"url(#p1e7277eb03)\" d=\"M 351.210625 201.259219 \nL 371.298625 201.259219 \nL 371.298625 220.285219 \nL 351.210625 220.285219 \nL 351.210625 201.259219 \n\" style=\"fill:#f7f4f9;\"/>\n    <path clip-path=\"url(#p1e7277eb03)\" d=\"M 371.298625 201.259219 \nL 391.386625 201.259219 \nL 391.386625 220.285219 \nL 371.298625 220.285219 \nL 371.298625 201.259219 \n\" style=\"fill:#f7f4f9;\"/>\n    <path clip-path=\"url(#p1e7277eb03)\" d=\"M 391.386625 201.259219 \nL 411.474625 201.259219 \nL 411.474625 220.285219 \nL 391.386625 220.285219 \nL 391.386625 201.259219 \n\" style=\"fill:#f7f4f9;\"/>\n    <path clip-path=\"url(#p1e7277eb03)\" d=\"M 411.474625 201.259219 \nL 431.562625 201.259219 \nL 431.562625 220.285219 \nL 411.474625 220.285219 \nL 411.474625 201.259219 \n\" style=\"fill:#f7f4f9;\"/>\n    <path clip-path=\"url(#p1e7277eb03)\" d=\"M 431.562625 201.259219 \nL 451.650625 201.259219 \nL 451.650625 220.285219 \nL 431.562625 220.285219 \nL 431.562625 201.259219 \n\" style=\"fill:#f7f4f9;\"/>\n    <path clip-path=\"url(#p1e7277eb03)\" d=\"M 49.890625 220.285219 \nL 69.978625 220.285219 \nL 69.978625 239.311219 \nL 49.890625 239.311219 \nL 49.890625 220.285219 \n\" style=\"fill:#f7f4f9;\"/>\n    <path clip-path=\"url(#p1e7277eb03)\" d=\"M 69.978625 220.285219 \nL 90.066625 220.285219 \nL 90.066625 239.311219 \nL 69.978625 239.311219 \nL 69.978625 220.285219 \n\" style=\"fill:#f7f4f9;\"/>\n    <path clip-path=\"url(#p1e7277eb03)\" d=\"M 90.066625 220.285219 \nL 110.154625 220.285219 \nL 110.154625 239.311219 \nL 90.066625 239.311219 \nL 90.066625 220.285219 \n\" style=\"fill:#f7f4f9;\"/>\n    <path clip-path=\"url(#p1e7277eb03)\" d=\"M 110.154625 220.285219 \nL 130.242625 220.285219 \nL 130.242625 239.311219 \nL 110.154625 239.311219 \nL 110.154625 220.285219 \n\" style=\"fill:#f7f4f9;\"/>\n    <path clip-path=\"url(#p1e7277eb03)\" d=\"M 130.242625 220.285219 \nL 150.330625 220.285219 \nL 150.330625 239.311219 \nL 130.242625 239.311219 \nL 130.242625 220.285219 \n\" style=\"fill:#f7f4f9;\"/>\n    <path clip-path=\"url(#p1e7277eb03)\" d=\"M 150.330625 220.285219 \nL 170.418625 220.285219 \nL 170.418625 239.311219 \nL 150.330625 239.311219 \nL 150.330625 220.285219 \n\" style=\"fill:#f7f4f9;\"/>\n    <path clip-path=\"url(#p1e7277eb03)\" d=\"M 170.418625 220.285219 \nL 190.506625 220.285219 \nL 190.506625 239.311219 \nL 170.418625 239.311219 \nL 170.418625 220.285219 \n\" style=\"fill:#f7f4f9;\"/>\n    <path clip-path=\"url(#p1e7277eb03)\" d=\"M 190.506625 220.285219 \nL 210.594625 220.285219 \nL 210.594625 239.311219 \nL 190.506625 239.311219 \nL 190.506625 220.285219 \n\" style=\"fill:#f7f4f9;\"/>\n    <path clip-path=\"url(#p1e7277eb03)\" d=\"M 210.594625 220.285219 \nL 230.682625 220.285219 \nL 230.682625 239.311219 \nL 210.594625 239.311219 \nL 210.594625 220.285219 \n\" style=\"fill:#f7f4f9;\"/>\n    <path clip-path=\"url(#p1e7277eb03)\" d=\"M 230.682625 220.285219 \nL 250.770625 220.285219 \nL 250.770625 239.311219 \nL 230.682625 239.311219 \nL 230.682625 220.285219 \n\" style=\"fill:#f7f4f9;\"/>\n    <path clip-path=\"url(#p1e7277eb03)\" d=\"M 250.770625 220.285219 \nL 270.858625 220.285219 \nL 270.858625 239.311219 \nL 250.770625 239.311219 \nL 250.770625 220.285219 \n\" style=\"fill:#f7f4f9;\"/>\n    <path clip-path=\"url(#p1e7277eb03)\" d=\"M 270.858625 220.285219 \nL 290.946625 220.285219 \nL 290.946625 239.311219 \nL 270.858625 239.311219 \nL 270.858625 220.285219 \n\" style=\"fill:#f7f4f9;\"/>\n    <path clip-path=\"url(#p1e7277eb03)\" d=\"M 290.946625 220.285219 \nL 311.034625 220.285219 \nL 311.034625 239.311219 \nL 290.946625 239.311219 \nL 290.946625 220.285219 \n\" style=\"fill:#f7f4f9;\"/>\n    <path clip-path=\"url(#p1e7277eb03)\" d=\"M 311.034625 220.285219 \nL 331.122625 220.285219 \nL 331.122625 239.311219 \nL 311.034625 239.311219 \nL 311.034625 220.285219 \n\" style=\"fill:#f7f4f9;\"/>\n    <path clip-path=\"url(#p1e7277eb03)\" d=\"M 331.122625 220.285219 \nL 351.210625 220.285219 \nL 351.210625 239.311219 \nL 331.122625 239.311219 \nL 331.122625 220.285219 \n\" style=\"fill:#f7f4f9;\"/>\n    <path clip-path=\"url(#p1e7277eb03)\" d=\"M 351.210625 220.285219 \nL 371.298625 220.285219 \nL 371.298625 239.311219 \nL 351.210625 239.311219 \nL 351.210625 220.285219 \n\" style=\"fill:#f7f4f9;\"/>\n    <path clip-path=\"url(#p1e7277eb03)\" d=\"M 371.298625 220.285219 \nL 391.386625 220.285219 \nL 391.386625 239.311219 \nL 371.298625 239.311219 \nL 371.298625 220.285219 \n\" style=\"fill:#f7f4f9;\"/>\n    <path clip-path=\"url(#p1e7277eb03)\" d=\"M 391.386625 220.285219 \nL 411.474625 220.285219 \nL 411.474625 239.311219 \nL 391.386625 239.311219 \nL 391.386625 220.285219 \n\" style=\"fill:#f7f4f9;\"/>\n    <path clip-path=\"url(#p1e7277eb03)\" d=\"M 411.474625 220.285219 \nL 431.562625 220.285219 \nL 431.562625 239.311219 \nL 411.474625 239.311219 \nL 411.474625 220.285219 \n\" style=\"fill:#f7f4f9;\"/>\n    <path clip-path=\"url(#p1e7277eb03)\" d=\"M 431.562625 220.285219 \nL 451.650625 220.285219 \nL 451.650625 239.311219 \nL 431.562625 239.311219 \nL 431.562625 220.285219 \n\" style=\"fill:#f7f4f9;\"/>\n    <path clip-path=\"url(#p1e7277eb03)\" d=\"M 49.890625 239.311219 \nL 69.978625 239.311219 \nL 69.978625 258.337219 \nL 49.890625 258.337219 \nL 49.890625 239.311219 \n\" style=\"fill:#f7f4f9;\"/>\n    <path clip-path=\"url(#p1e7277eb03)\" d=\"M 69.978625 239.311219 \nL 90.066625 239.311219 \nL 90.066625 258.337219 \nL 69.978625 258.337219 \nL 69.978625 239.311219 \n\" style=\"fill:#f7f4f9;\"/>\n    <path clip-path=\"url(#p1e7277eb03)\" d=\"M 90.066625 239.311219 \nL 110.154625 239.311219 \nL 110.154625 258.337219 \nL 90.066625 258.337219 \nL 90.066625 239.311219 \n\" style=\"fill:#f7f4f9;\"/>\n    <path clip-path=\"url(#p1e7277eb03)\" d=\"M 110.154625 239.311219 \nL 130.242625 239.311219 \nL 130.242625 258.337219 \nL 110.154625 258.337219 \nL 110.154625 239.311219 \n\" style=\"fill:#f7f4f9;\"/>\n    <path clip-path=\"url(#p1e7277eb03)\" d=\"M 130.242625 239.311219 \nL 150.330625 239.311219 \nL 150.330625 258.337219 \nL 130.242625 258.337219 \nL 130.242625 239.311219 \n\" style=\"fill:#f7f4f9;\"/>\n    <path clip-path=\"url(#p1e7277eb03)\" d=\"M 150.330625 239.311219 \nL 170.418625 239.311219 \nL 170.418625 258.337219 \nL 150.330625 258.337219 \nL 150.330625 239.311219 \n\" style=\"fill:#f7f4f9;\"/>\n    <path clip-path=\"url(#p1e7277eb03)\" d=\"M 170.418625 239.311219 \nL 190.506625 239.311219 \nL 190.506625 258.337219 \nL 170.418625 258.337219 \nL 170.418625 239.311219 \n\" style=\"fill:#f7f4f9;\"/>\n    <path clip-path=\"url(#p1e7277eb03)\" d=\"M 190.506625 239.311219 \nL 210.594625 239.311219 \nL 210.594625 258.337219 \nL 190.506625 258.337219 \nL 190.506625 239.311219 \n\" style=\"fill:#f7f4f9;\"/>\n    <path clip-path=\"url(#p1e7277eb03)\" d=\"M 210.594625 239.311219 \nL 230.682625 239.311219 \nL 230.682625 258.337219 \nL 210.594625 258.337219 \nL 210.594625 239.311219 \n\" style=\"fill:#f7f4f9;\"/>\n    <path clip-path=\"url(#p1e7277eb03)\" d=\"M 230.682625 239.311219 \nL 250.770625 239.311219 \nL 250.770625 258.337219 \nL 230.682625 258.337219 \nL 230.682625 239.311219 \n\" style=\"fill:#f7f4f9;\"/>\n    <path clip-path=\"url(#p1e7277eb03)\" d=\"M 250.770625 239.311219 \nL 270.858625 239.311219 \nL 270.858625 258.337219 \nL 250.770625 258.337219 \nL 250.770625 239.311219 \n\" style=\"fill:#f7f4f9;\"/>\n    <path clip-path=\"url(#p1e7277eb03)\" d=\"M 270.858625 239.311219 \nL 290.946625 239.311219 \nL 290.946625 258.337219 \nL 270.858625 258.337219 \nL 270.858625 239.311219 \n\" style=\"fill:#f7f4f9;\"/>\n    <path clip-path=\"url(#p1e7277eb03)\" d=\"M 290.946625 239.311219 \nL 311.034625 239.311219 \nL 311.034625 258.337219 \nL 290.946625 258.337219 \nL 290.946625 239.311219 \n\" style=\"fill:#f7f4f9;\"/>\n    <path clip-path=\"url(#p1e7277eb03)\" d=\"M 311.034625 239.311219 \nL 331.122625 239.311219 \nL 331.122625 258.337219 \nL 311.034625 258.337219 \nL 311.034625 239.311219 \n\" style=\"fill:#f7f4f9;\"/>\n    <path clip-path=\"url(#p1e7277eb03)\" d=\"M 331.122625 239.311219 \nL 351.210625 239.311219 \nL 351.210625 258.337219 \nL 331.122625 258.337219 \nL 331.122625 239.311219 \n\" style=\"fill:#f7f4f9;\"/>\n    <path clip-path=\"url(#p1e7277eb03)\" d=\"M 351.210625 239.311219 \nL 371.298625 239.311219 \nL 371.298625 258.337219 \nL 351.210625 258.337219 \nL 351.210625 239.311219 \n\" style=\"fill:#f7f4f9;\"/>\n    <path clip-path=\"url(#p1e7277eb03)\" d=\"M 371.298625 239.311219 \nL 391.386625 239.311219 \nL 391.386625 258.337219 \nL 371.298625 258.337219 \nL 371.298625 239.311219 \n\" style=\"fill:#f7f4f9;\"/>\n    <path clip-path=\"url(#p1e7277eb03)\" d=\"M 391.386625 239.311219 \nL 411.474625 239.311219 \nL 411.474625 258.337219 \nL 391.386625 258.337219 \nL 391.386625 239.311219 \n\" style=\"fill:#f7f4f9;\"/>\n    <path clip-path=\"url(#p1e7277eb03)\" d=\"M 411.474625 239.311219 \nL 431.562625 239.311219 \nL 431.562625 258.337219 \nL 411.474625 258.337219 \nL 411.474625 239.311219 \n\" style=\"fill:#f7f4f9;\"/>\n    <path clip-path=\"url(#p1e7277eb03)\" d=\"M 431.562625 239.311219 \nL 451.650625 239.311219 \nL 451.650625 258.337219 \nL 431.562625 258.337219 \nL 431.562625 239.311219 \n\" style=\"fill:#f7f4f9;\"/>\n    <path clip-path=\"url(#p1e7277eb03)\" d=\"M 49.890625 258.337219 \nL 69.978625 258.337219 \nL 69.978625 277.363219 \nL 49.890625 277.363219 \nL 49.890625 258.337219 \n\" style=\"fill:#f7f4f9;\"/>\n    <path clip-path=\"url(#p1e7277eb03)\" d=\"M 69.978625 258.337219 \nL 90.066625 258.337219 \nL 90.066625 277.363219 \nL 69.978625 277.363219 \nL 69.978625 258.337219 \n\" style=\"fill:#f7f4f9;\"/>\n    <path clip-path=\"url(#p1e7277eb03)\" d=\"M 90.066625 258.337219 \nL 110.154625 258.337219 \nL 110.154625 277.363219 \nL 90.066625 277.363219 \nL 90.066625 258.337219 \n\" style=\"fill:#f7f4f9;\"/>\n    <path clip-path=\"url(#p1e7277eb03)\" d=\"M 110.154625 258.337219 \nL 130.242625 258.337219 \nL 130.242625 277.363219 \nL 110.154625 277.363219 \nL 110.154625 258.337219 \n\" style=\"fill:#f7f4f9;\"/>\n    <path clip-path=\"url(#p1e7277eb03)\" d=\"M 130.242625 258.337219 \nL 150.330625 258.337219 \nL 150.330625 277.363219 \nL 130.242625 277.363219 \nL 130.242625 258.337219 \n\" style=\"fill:#f7f4f9;\"/>\n    <path clip-path=\"url(#p1e7277eb03)\" d=\"M 150.330625 258.337219 \nL 170.418625 258.337219 \nL 170.418625 277.363219 \nL 150.330625 277.363219 \nL 150.330625 258.337219 \n\" style=\"fill:#f7f4f9;\"/>\n    <path clip-path=\"url(#p1e7277eb03)\" d=\"M 170.418625 258.337219 \nL 190.506625 258.337219 \nL 190.506625 277.363219 \nL 170.418625 277.363219 \nL 170.418625 258.337219 \n\" style=\"fill:#f7f4f9;\"/>\n    <path clip-path=\"url(#p1e7277eb03)\" d=\"M 190.506625 258.337219 \nL 210.594625 258.337219 \nL 210.594625 277.363219 \nL 190.506625 277.363219 \nL 190.506625 258.337219 \n\" style=\"fill:#f7f4f9;\"/>\n    <path clip-path=\"url(#p1e7277eb03)\" d=\"M 210.594625 258.337219 \nL 230.682625 258.337219 \nL 230.682625 277.363219 \nL 210.594625 277.363219 \nL 210.594625 258.337219 \n\" style=\"fill:#f7f4f9;\"/>\n    <path clip-path=\"url(#p1e7277eb03)\" d=\"M 230.682625 258.337219 \nL 250.770625 258.337219 \nL 250.770625 277.363219 \nL 230.682625 277.363219 \nL 230.682625 258.337219 \n\" style=\"fill:#f7f4f9;\"/>\n    <path clip-path=\"url(#p1e7277eb03)\" d=\"M 250.770625 258.337219 \nL 270.858625 258.337219 \nL 270.858625 277.363219 \nL 250.770625 277.363219 \nL 250.770625 258.337219 \n\" style=\"fill:#f7f4f9;\"/>\n    <path clip-path=\"url(#p1e7277eb03)\" d=\"M 270.858625 258.337219 \nL 290.946625 258.337219 \nL 290.946625 277.363219 \nL 270.858625 277.363219 \nL 270.858625 258.337219 \n\" style=\"fill:#f7f4f9;\"/>\n    <path clip-path=\"url(#p1e7277eb03)\" d=\"M 290.946625 258.337219 \nL 311.034625 258.337219 \nL 311.034625 277.363219 \nL 290.946625 277.363219 \nL 290.946625 258.337219 \n\" style=\"fill:#f7f4f9;\"/>\n    <path clip-path=\"url(#p1e7277eb03)\" d=\"M 311.034625 258.337219 \nL 331.122625 258.337219 \nL 331.122625 277.363219 \nL 311.034625 277.363219 \nL 311.034625 258.337219 \n\" style=\"fill:#f7f4f9;\"/>\n    <path clip-path=\"url(#p1e7277eb03)\" d=\"M 331.122625 258.337219 \nL 351.210625 258.337219 \nL 351.210625 277.363219 \nL 331.122625 277.363219 \nL 331.122625 258.337219 \n\" style=\"fill:#f7f4f9;\"/>\n    <path clip-path=\"url(#p1e7277eb03)\" d=\"M 351.210625 258.337219 \nL 371.298625 258.337219 \nL 371.298625 277.363219 \nL 351.210625 277.363219 \nL 351.210625 258.337219 \n\" style=\"fill:#f7f4f9;\"/>\n    <path clip-path=\"url(#p1e7277eb03)\" d=\"M 371.298625 258.337219 \nL 391.386625 258.337219 \nL 391.386625 277.363219 \nL 371.298625 277.363219 \nL 371.298625 258.337219 \n\" style=\"fill:#f7f4f9;\"/>\n    <path clip-path=\"url(#p1e7277eb03)\" d=\"M 391.386625 258.337219 \nL 411.474625 258.337219 \nL 411.474625 277.363219 \nL 391.386625 277.363219 \nL 391.386625 258.337219 \n\" style=\"fill:#f7f4f9;\"/>\n    <path clip-path=\"url(#p1e7277eb03)\" d=\"M 411.474625 258.337219 \nL 431.562625 258.337219 \nL 431.562625 277.363219 \nL 411.474625 277.363219 \nL 411.474625 258.337219 \n\" style=\"fill:#f7f4f9;\"/>\n    <path clip-path=\"url(#p1e7277eb03)\" d=\"M 431.562625 258.337219 \nL 451.650625 258.337219 \nL 451.650625 277.363219 \nL 431.562625 277.363219 \nL 431.562625 258.337219 \n\" style=\"fill:#f7f4f9;\"/>\n    <path clip-path=\"url(#p1e7277eb03)\" d=\"M 49.890625 277.363219 \nL 69.978625 277.363219 \nL 69.978625 296.389219 \nL 49.890625 296.389219 \nL 49.890625 277.363219 \n\" style=\"fill:#f7f4f9;\"/>\n    <path clip-path=\"url(#p1e7277eb03)\" d=\"M 69.978625 277.363219 \nL 90.066625 277.363219 \nL 90.066625 296.389219 \nL 69.978625 296.389219 \nL 69.978625 277.363219 \n\" style=\"fill:#f7f4f9;\"/>\n    <path clip-path=\"url(#p1e7277eb03)\" d=\"M 90.066625 277.363219 \nL 110.154625 277.363219 \nL 110.154625 296.389219 \nL 90.066625 296.389219 \nL 90.066625 277.363219 \n\" style=\"fill:#f7f4f9;\"/>\n    <path clip-path=\"url(#p1e7277eb03)\" d=\"M 110.154625 277.363219 \nL 130.242625 277.363219 \nL 130.242625 296.389219 \nL 110.154625 296.389219 \nL 110.154625 277.363219 \n\" style=\"fill:#f7f4f9;\"/>\n    <path clip-path=\"url(#p1e7277eb03)\" d=\"M 130.242625 277.363219 \nL 150.330625 277.363219 \nL 150.330625 296.389219 \nL 130.242625 296.389219 \nL 130.242625 277.363219 \n\" style=\"fill:#f7f4f9;\"/>\n    <path clip-path=\"url(#p1e7277eb03)\" d=\"M 150.330625 277.363219 \nL 170.418625 277.363219 \nL 170.418625 296.389219 \nL 150.330625 296.389219 \nL 150.330625 277.363219 \n\" style=\"fill:#f7f4f9;\"/>\n    <path clip-path=\"url(#p1e7277eb03)\" d=\"M 170.418625 277.363219 \nL 190.506625 277.363219 \nL 190.506625 296.389219 \nL 170.418625 296.389219 \nL 170.418625 277.363219 \n\" style=\"fill:#f7f4f9;\"/>\n    <path clip-path=\"url(#p1e7277eb03)\" d=\"M 190.506625 277.363219 \nL 210.594625 277.363219 \nL 210.594625 296.389219 \nL 190.506625 296.389219 \nL 190.506625 277.363219 \n\" style=\"fill:#f7f4f9;\"/>\n    <path clip-path=\"url(#p1e7277eb03)\" d=\"M 210.594625 277.363219 \nL 230.682625 277.363219 \nL 230.682625 296.389219 \nL 210.594625 296.389219 \nL 210.594625 277.363219 \n\" style=\"fill:#f7f4f9;\"/>\n    <path clip-path=\"url(#p1e7277eb03)\" d=\"M 230.682625 277.363219 \nL 250.770625 277.363219 \nL 250.770625 296.389219 \nL 230.682625 296.389219 \nL 230.682625 277.363219 \n\" style=\"fill:#f7f4f9;\"/>\n    <path clip-path=\"url(#p1e7277eb03)\" d=\"M 250.770625 277.363219 \nL 270.858625 277.363219 \nL 270.858625 296.389219 \nL 250.770625 296.389219 \nL 250.770625 277.363219 \n\" style=\"fill:#f7f4f9;\"/>\n    <path clip-path=\"url(#p1e7277eb03)\" d=\"M 270.858625 277.363219 \nL 290.946625 277.363219 \nL 290.946625 296.389219 \nL 270.858625 296.389219 \nL 270.858625 277.363219 \n\" style=\"fill:#f7f4f9;\"/>\n    <path clip-path=\"url(#p1e7277eb03)\" d=\"M 290.946625 277.363219 \nL 311.034625 277.363219 \nL 311.034625 296.389219 \nL 290.946625 296.389219 \nL 290.946625 277.363219 \n\" style=\"fill:#f7f4f9;\"/>\n    <path clip-path=\"url(#p1e7277eb03)\" d=\"M 311.034625 277.363219 \nL 331.122625 277.363219 \nL 331.122625 296.389219 \nL 311.034625 296.389219 \nL 311.034625 277.363219 \n\" style=\"fill:#f7f4f9;\"/>\n    <path clip-path=\"url(#p1e7277eb03)\" d=\"M 331.122625 277.363219 \nL 351.210625 277.363219 \nL 351.210625 296.389219 \nL 331.122625 296.389219 \nL 331.122625 277.363219 \n\" style=\"fill:#f7f4f9;\"/>\n    <path clip-path=\"url(#p1e7277eb03)\" d=\"M 351.210625 277.363219 \nL 371.298625 277.363219 \nL 371.298625 296.389219 \nL 351.210625 296.389219 \nL 351.210625 277.363219 \n\" style=\"fill:#f7f4f9;\"/>\n    <path clip-path=\"url(#p1e7277eb03)\" d=\"M 371.298625 277.363219 \nL 391.386625 277.363219 \nL 391.386625 296.389219 \nL 371.298625 296.389219 \nL 371.298625 277.363219 \n\" style=\"fill:#f7f4f9;\"/>\n    <path clip-path=\"url(#p1e7277eb03)\" d=\"M 391.386625 277.363219 \nL 411.474625 277.363219 \nL 411.474625 296.389219 \nL 391.386625 296.389219 \nL 391.386625 277.363219 \n\" style=\"fill:#f7f4f9;\"/>\n    <path clip-path=\"url(#p1e7277eb03)\" d=\"M 411.474625 277.363219 \nL 431.562625 277.363219 \nL 431.562625 296.389219 \nL 411.474625 296.389219 \nL 411.474625 277.363219 \n\" style=\"fill:#f7f4f9;\"/>\n    <path clip-path=\"url(#p1e7277eb03)\" d=\"M 431.562625 277.363219 \nL 451.650625 277.363219 \nL 451.650625 296.389219 \nL 431.562625 296.389219 \nL 431.562625 277.363219 \n\" style=\"fill:#f7f4f9;\"/>\n    <path clip-path=\"url(#p1e7277eb03)\" d=\"M 49.890625 296.389219 \nL 69.978625 296.389219 \nL 69.978625 315.415219 \nL 49.890625 315.415219 \nL 49.890625 296.389219 \n\" style=\"fill:#f7f4f9;\"/>\n    <path clip-path=\"url(#p1e7277eb03)\" d=\"M 69.978625 296.389219 \nL 90.066625 296.389219 \nL 90.066625 315.415219 \nL 69.978625 315.415219 \nL 69.978625 296.389219 \n\" style=\"fill:#f7f4f9;\"/>\n    <path clip-path=\"url(#p1e7277eb03)\" d=\"M 90.066625 296.389219 \nL 110.154625 296.389219 \nL 110.154625 315.415219 \nL 90.066625 315.415219 \nL 90.066625 296.389219 \n\" style=\"fill:#f7f4f9;\"/>\n    <path clip-path=\"url(#p1e7277eb03)\" d=\"M 110.154625 296.389219 \nL 130.242625 296.389219 \nL 130.242625 315.415219 \nL 110.154625 315.415219 \nL 110.154625 296.389219 \n\" style=\"fill:#f7f4f9;\"/>\n    <path clip-path=\"url(#p1e7277eb03)\" d=\"M 130.242625 296.389219 \nL 150.330625 296.389219 \nL 150.330625 315.415219 \nL 130.242625 315.415219 \nL 130.242625 296.389219 \n\" style=\"fill:#f7f4f9;\"/>\n    <path clip-path=\"url(#p1e7277eb03)\" d=\"M 150.330625 296.389219 \nL 170.418625 296.389219 \nL 170.418625 315.415219 \nL 150.330625 315.415219 \nL 150.330625 296.389219 \n\" style=\"fill:#f7f4f9;\"/>\n    <path clip-path=\"url(#p1e7277eb03)\" d=\"M 170.418625 296.389219 \nL 190.506625 296.389219 \nL 190.506625 315.415219 \nL 170.418625 315.415219 \nL 170.418625 296.389219 \n\" style=\"fill:#f7f4f9;\"/>\n    <path clip-path=\"url(#p1e7277eb03)\" d=\"M 190.506625 296.389219 \nL 210.594625 296.389219 \nL 210.594625 315.415219 \nL 190.506625 315.415219 \nL 190.506625 296.389219 \n\" style=\"fill:#f7f4f9;\"/>\n    <path clip-path=\"url(#p1e7277eb03)\" d=\"M 210.594625 296.389219 \nL 230.682625 296.389219 \nL 230.682625 315.415219 \nL 210.594625 315.415219 \nL 210.594625 296.389219 \n\" style=\"fill:#f7f4f9;\"/>\n    <path clip-path=\"url(#p1e7277eb03)\" d=\"M 230.682625 296.389219 \nL 250.770625 296.389219 \nL 250.770625 315.415219 \nL 230.682625 315.415219 \nL 230.682625 296.389219 \n\" style=\"fill:#f7f4f9;\"/>\n    <path clip-path=\"url(#p1e7277eb03)\" d=\"M 250.770625 296.389219 \nL 270.858625 296.389219 \nL 270.858625 315.415219 \nL 250.770625 315.415219 \nL 250.770625 296.389219 \n\" style=\"fill:#f7f4f9;\"/>\n    <path clip-path=\"url(#p1e7277eb03)\" d=\"M 270.858625 296.389219 \nL 290.946625 296.389219 \nL 290.946625 315.415219 \nL 270.858625 315.415219 \nL 270.858625 296.389219 \n\" style=\"fill:#f7f4f9;\"/>\n    <path clip-path=\"url(#p1e7277eb03)\" d=\"M 290.946625 296.389219 \nL 311.034625 296.389219 \nL 311.034625 315.415219 \nL 290.946625 315.415219 \nL 290.946625 296.389219 \n\" style=\"fill:#f7f4f9;\"/>\n    <path clip-path=\"url(#p1e7277eb03)\" d=\"M 311.034625 296.389219 \nL 331.122625 296.389219 \nL 331.122625 315.415219 \nL 311.034625 315.415219 \nL 311.034625 296.389219 \n\" style=\"fill:#f7f4f9;\"/>\n    <path clip-path=\"url(#p1e7277eb03)\" d=\"M 331.122625 296.389219 \nL 351.210625 296.389219 \nL 351.210625 315.415219 \nL 331.122625 315.415219 \nL 331.122625 296.389219 \n\" style=\"fill:#f7f4f9;\"/>\n    <path clip-path=\"url(#p1e7277eb03)\" d=\"M 351.210625 296.389219 \nL 371.298625 296.389219 \nL 371.298625 315.415219 \nL 351.210625 315.415219 \nL 351.210625 296.389219 \n\" style=\"fill:#f7f4f9;\"/>\n    <path clip-path=\"url(#p1e7277eb03)\" d=\"M 371.298625 296.389219 \nL 391.386625 296.389219 \nL 391.386625 315.415219 \nL 371.298625 315.415219 \nL 371.298625 296.389219 \n\" style=\"fill:#f7f4f9;\"/>\n    <path clip-path=\"url(#p1e7277eb03)\" d=\"M 391.386625 296.389219 \nL 411.474625 296.389219 \nL 411.474625 315.415219 \nL 391.386625 315.415219 \nL 391.386625 296.389219 \n\" style=\"fill:#f7f4f9;\"/>\n    <path clip-path=\"url(#p1e7277eb03)\" d=\"M 411.474625 296.389219 \nL 431.562625 296.389219 \nL 431.562625 315.415219 \nL 411.474625 315.415219 \nL 411.474625 296.389219 \n\" style=\"fill:#f7f4f9;\"/>\n    <path clip-path=\"url(#p1e7277eb03)\" d=\"M 431.562625 296.389219 \nL 451.650625 296.389219 \nL 451.650625 315.415219 \nL 431.562625 315.415219 \nL 431.562625 296.389219 \n\" style=\"fill:#f7f4f9;\"/>\n    <path clip-path=\"url(#p1e7277eb03)\" d=\"M 49.890625 315.415219 \nL 69.978625 315.415219 \nL 69.978625 334.441219 \nL 49.890625 334.441219 \nL 49.890625 315.415219 \n\" style=\"fill:#f7f4f9;\"/>\n    <path clip-path=\"url(#p1e7277eb03)\" d=\"M 69.978625 315.415219 \nL 90.066625 315.415219 \nL 90.066625 334.441219 \nL 69.978625 334.441219 \nL 69.978625 315.415219 \n\" style=\"fill:#f7f4f9;\"/>\n    <path clip-path=\"url(#p1e7277eb03)\" d=\"M 90.066625 315.415219 \nL 110.154625 315.415219 \nL 110.154625 334.441219 \nL 90.066625 334.441219 \nL 90.066625 315.415219 \n\" style=\"fill:#f7f4f9;\"/>\n    <path clip-path=\"url(#p1e7277eb03)\" d=\"M 110.154625 315.415219 \nL 130.242625 315.415219 \nL 130.242625 334.441219 \nL 110.154625 334.441219 \nL 110.154625 315.415219 \n\" style=\"fill:#f7f4f9;\"/>\n    <path clip-path=\"url(#p1e7277eb03)\" d=\"M 130.242625 315.415219 \nL 150.330625 315.415219 \nL 150.330625 334.441219 \nL 130.242625 334.441219 \nL 130.242625 315.415219 \n\" style=\"fill:#f7f4f9;\"/>\n    <path clip-path=\"url(#p1e7277eb03)\" d=\"M 150.330625 315.415219 \nL 170.418625 315.415219 \nL 170.418625 334.441219 \nL 150.330625 334.441219 \nL 150.330625 315.415219 \n\" style=\"fill:#f7f4f9;\"/>\n    <path clip-path=\"url(#p1e7277eb03)\" d=\"M 170.418625 315.415219 \nL 190.506625 315.415219 \nL 190.506625 334.441219 \nL 170.418625 334.441219 \nL 170.418625 315.415219 \n\" style=\"fill:#f7f4f9;\"/>\n    <path clip-path=\"url(#p1e7277eb03)\" d=\"M 190.506625 315.415219 \nL 210.594625 315.415219 \nL 210.594625 334.441219 \nL 190.506625 334.441219 \nL 190.506625 315.415219 \n\" style=\"fill:#f7f4f9;\"/>\n    <path clip-path=\"url(#p1e7277eb03)\" d=\"M 210.594625 315.415219 \nL 230.682625 315.415219 \nL 230.682625 334.441219 \nL 210.594625 334.441219 \nL 210.594625 315.415219 \n\" style=\"fill:#f7f4f9;\"/>\n    <path clip-path=\"url(#p1e7277eb03)\" d=\"M 230.682625 315.415219 \nL 250.770625 315.415219 \nL 250.770625 334.441219 \nL 230.682625 334.441219 \nL 230.682625 315.415219 \n\" style=\"fill:#f7f4f9;\"/>\n    <path clip-path=\"url(#p1e7277eb03)\" d=\"M 250.770625 315.415219 \nL 270.858625 315.415219 \nL 270.858625 334.441219 \nL 250.770625 334.441219 \nL 250.770625 315.415219 \n\" style=\"fill:#f7f4f9;\"/>\n    <path clip-path=\"url(#p1e7277eb03)\" d=\"M 270.858625 315.415219 \nL 290.946625 315.415219 \nL 290.946625 334.441219 \nL 270.858625 334.441219 \nL 270.858625 315.415219 \n\" style=\"fill:#f7f4f9;\"/>\n    <path clip-path=\"url(#p1e7277eb03)\" d=\"M 290.946625 315.415219 \nL 311.034625 315.415219 \nL 311.034625 334.441219 \nL 290.946625 334.441219 \nL 290.946625 315.415219 \n\" style=\"fill:#f7f4f9;\"/>\n    <path clip-path=\"url(#p1e7277eb03)\" d=\"M 311.034625 315.415219 \nL 331.122625 315.415219 \nL 331.122625 334.441219 \nL 311.034625 334.441219 \nL 311.034625 315.415219 \n\" style=\"fill:#f7f4f9;\"/>\n    <path clip-path=\"url(#p1e7277eb03)\" d=\"M 331.122625 315.415219 \nL 351.210625 315.415219 \nL 351.210625 334.441219 \nL 331.122625 334.441219 \nL 331.122625 315.415219 \n\" style=\"fill:#f7f4f9;\"/>\n    <path clip-path=\"url(#p1e7277eb03)\" d=\"M 351.210625 315.415219 \nL 371.298625 315.415219 \nL 371.298625 334.441219 \nL 351.210625 334.441219 \nL 351.210625 315.415219 \n\" style=\"fill:#f7f4f9;\"/>\n    <path clip-path=\"url(#p1e7277eb03)\" d=\"M 371.298625 315.415219 \nL 391.386625 315.415219 \nL 391.386625 334.441219 \nL 371.298625 334.441219 \nL 371.298625 315.415219 \n\" style=\"fill:#f7f4f9;\"/>\n    <path clip-path=\"url(#p1e7277eb03)\" d=\"M 391.386625 315.415219 \nL 411.474625 315.415219 \nL 411.474625 334.441219 \nL 391.386625 334.441219 \nL 391.386625 315.415219 \n\" style=\"fill:#f7f4f9;\"/>\n    <path clip-path=\"url(#p1e7277eb03)\" d=\"M 411.474625 315.415219 \nL 431.562625 315.415219 \nL 431.562625 334.441219 \nL 411.474625 334.441219 \nL 411.474625 315.415219 \n\" style=\"fill:#f7f4f9;\"/>\n    <path clip-path=\"url(#p1e7277eb03)\" d=\"M 431.562625 315.415219 \nL 451.650625 315.415219 \nL 451.650625 334.441219 \nL 431.562625 334.441219 \nL 431.562625 315.415219 \n\" style=\"fill:#f7f4f9;\"/>\n    <path clip-path=\"url(#p1e7277eb03)\" d=\"M 49.890625 334.441219 \nL 69.978625 334.441219 \nL 69.978625 353.467219 \nL 49.890625 353.467219 \nL 49.890625 334.441219 \n\" style=\"fill:#f7f4f9;\"/>\n    <path clip-path=\"url(#p1e7277eb03)\" d=\"M 69.978625 334.441219 \nL 90.066625 334.441219 \nL 90.066625 353.467219 \nL 69.978625 353.467219 \nL 69.978625 334.441219 \n\" style=\"fill:#f7f4f9;\"/>\n    <path clip-path=\"url(#p1e7277eb03)\" d=\"M 90.066625 334.441219 \nL 110.154625 334.441219 \nL 110.154625 353.467219 \nL 90.066625 353.467219 \nL 90.066625 334.441219 \n\" style=\"fill:#f7f4f9;\"/>\n    <path clip-path=\"url(#p1e7277eb03)\" d=\"M 110.154625 334.441219 \nL 130.242625 334.441219 \nL 130.242625 353.467219 \nL 110.154625 353.467219 \nL 110.154625 334.441219 \n\" style=\"fill:#f7f4f9;\"/>\n    <path clip-path=\"url(#p1e7277eb03)\" d=\"M 130.242625 334.441219 \nL 150.330625 334.441219 \nL 150.330625 353.467219 \nL 130.242625 353.467219 \nL 130.242625 334.441219 \n\" style=\"fill:#f7f4f9;\"/>\n    <path clip-path=\"url(#p1e7277eb03)\" d=\"M 150.330625 334.441219 \nL 170.418625 334.441219 \nL 170.418625 353.467219 \nL 150.330625 353.467219 \nL 150.330625 334.441219 \n\" style=\"fill:#f7f4f9;\"/>\n    <path clip-path=\"url(#p1e7277eb03)\" d=\"M 170.418625 334.441219 \nL 190.506625 334.441219 \nL 190.506625 353.467219 \nL 170.418625 353.467219 \nL 170.418625 334.441219 \n\" style=\"fill:#f7f4f9;\"/>\n    <path clip-path=\"url(#p1e7277eb03)\" d=\"M 190.506625 334.441219 \nL 210.594625 334.441219 \nL 210.594625 353.467219 \nL 190.506625 353.467219 \nL 190.506625 334.441219 \n\" style=\"fill:#f7f4f9;\"/>\n    <path clip-path=\"url(#p1e7277eb03)\" d=\"M 210.594625 334.441219 \nL 230.682625 334.441219 \nL 230.682625 353.467219 \nL 210.594625 353.467219 \nL 210.594625 334.441219 \n\" style=\"fill:#f7f4f9;\"/>\n    <path clip-path=\"url(#p1e7277eb03)\" d=\"M 230.682625 334.441219 \nL 250.770625 334.441219 \nL 250.770625 353.467219 \nL 230.682625 353.467219 \nL 230.682625 334.441219 \n\" style=\"fill:#f7f4f9;\"/>\n    <path clip-path=\"url(#p1e7277eb03)\" d=\"M 250.770625 334.441219 \nL 270.858625 334.441219 \nL 270.858625 353.467219 \nL 250.770625 353.467219 \nL 250.770625 334.441219 \n\" style=\"fill:#f7f4f9;\"/>\n    <path clip-path=\"url(#p1e7277eb03)\" d=\"M 270.858625 334.441219 \nL 290.946625 334.441219 \nL 290.946625 353.467219 \nL 270.858625 353.467219 \nL 270.858625 334.441219 \n\" style=\"fill:#f7f4f9;\"/>\n    <path clip-path=\"url(#p1e7277eb03)\" d=\"M 290.946625 334.441219 \nL 311.034625 334.441219 \nL 311.034625 353.467219 \nL 290.946625 353.467219 \nL 290.946625 334.441219 \n\" style=\"fill:#f7f4f9;\"/>\n    <path clip-path=\"url(#p1e7277eb03)\" d=\"M 311.034625 334.441219 \nL 331.122625 334.441219 \nL 331.122625 353.467219 \nL 311.034625 353.467219 \nL 311.034625 334.441219 \n\" style=\"fill:#f7f4f9;\"/>\n    <path clip-path=\"url(#p1e7277eb03)\" d=\"M 331.122625 334.441219 \nL 351.210625 334.441219 \nL 351.210625 353.467219 \nL 331.122625 353.467219 \nL 331.122625 334.441219 \n\" style=\"fill:#f7f4f9;\"/>\n    <path clip-path=\"url(#p1e7277eb03)\" d=\"M 351.210625 334.441219 \nL 371.298625 334.441219 \nL 371.298625 353.467219 \nL 351.210625 353.467219 \nL 351.210625 334.441219 \n\" style=\"fill:#f7f4f9;\"/>\n    <path clip-path=\"url(#p1e7277eb03)\" d=\"M 371.298625 334.441219 \nL 391.386625 334.441219 \nL 391.386625 353.467219 \nL 371.298625 353.467219 \nL 371.298625 334.441219 \n\" style=\"fill:#f7f4f9;\"/>\n    <path clip-path=\"url(#p1e7277eb03)\" d=\"M 391.386625 334.441219 \nL 411.474625 334.441219 \nL 411.474625 353.467219 \nL 391.386625 353.467219 \nL 391.386625 334.441219 \n\" style=\"fill:#f7f4f9;\"/>\n    <path clip-path=\"url(#p1e7277eb03)\" d=\"M 411.474625 334.441219 \nL 431.562625 334.441219 \nL 431.562625 353.467219 \nL 411.474625 353.467219 \nL 411.474625 334.441219 \n\" style=\"fill:#f7f4f9;\"/>\n    <path clip-path=\"url(#p1e7277eb03)\" d=\"M 431.562625 334.441219 \nL 451.650625 334.441219 \nL 451.650625 353.467219 \nL 431.562625 353.467219 \nL 431.562625 334.441219 \n\" style=\"fill:#f7f4f9;\"/>\n    <path clip-path=\"url(#p1e7277eb03)\" d=\"M 49.890625 353.467219 \nL 69.978625 353.467219 \nL 69.978625 372.493219 \nL 49.890625 372.493219 \nL 49.890625 353.467219 \n\" style=\"fill:#f7f4f9;\"/>\n    <path clip-path=\"url(#p1e7277eb03)\" d=\"M 69.978625 353.467219 \nL 90.066625 353.467219 \nL 90.066625 372.493219 \nL 69.978625 372.493219 \nL 69.978625 353.467219 \n\" style=\"fill:#f7f4f9;\"/>\n    <path clip-path=\"url(#p1e7277eb03)\" d=\"M 90.066625 353.467219 \nL 110.154625 353.467219 \nL 110.154625 372.493219 \nL 90.066625 372.493219 \nL 90.066625 353.467219 \n\" style=\"fill:#f7f4f9;\"/>\n    <path clip-path=\"url(#p1e7277eb03)\" d=\"M 110.154625 353.467219 \nL 130.242625 353.467219 \nL 130.242625 372.493219 \nL 110.154625 372.493219 \nL 110.154625 353.467219 \n\" style=\"fill:#f7f4f9;\"/>\n    <path clip-path=\"url(#p1e7277eb03)\" d=\"M 130.242625 353.467219 \nL 150.330625 353.467219 \nL 150.330625 372.493219 \nL 130.242625 372.493219 \nL 130.242625 353.467219 \n\" style=\"fill:#f7f4f9;\"/>\n    <path clip-path=\"url(#p1e7277eb03)\" d=\"M 150.330625 353.467219 \nL 170.418625 353.467219 \nL 170.418625 372.493219 \nL 150.330625 372.493219 \nL 150.330625 353.467219 \n\" style=\"fill:#f7f4f9;\"/>\n    <path clip-path=\"url(#p1e7277eb03)\" d=\"M 170.418625 353.467219 \nL 190.506625 353.467219 \nL 190.506625 372.493219 \nL 170.418625 372.493219 \nL 170.418625 353.467219 \n\" style=\"fill:#f7f4f9;\"/>\n    <path clip-path=\"url(#p1e7277eb03)\" d=\"M 190.506625 353.467219 \nL 210.594625 353.467219 \nL 210.594625 372.493219 \nL 190.506625 372.493219 \nL 190.506625 353.467219 \n\" style=\"fill:#f7f4f9;\"/>\n    <path clip-path=\"url(#p1e7277eb03)\" d=\"M 210.594625 353.467219 \nL 230.682625 353.467219 \nL 230.682625 372.493219 \nL 210.594625 372.493219 \nL 210.594625 353.467219 \n\" style=\"fill:#f7f4f9;\"/>\n    <path clip-path=\"url(#p1e7277eb03)\" d=\"M 230.682625 353.467219 \nL 250.770625 353.467219 \nL 250.770625 372.493219 \nL 230.682625 372.493219 \nL 230.682625 353.467219 \n\" style=\"fill:#f7f4f9;\"/>\n    <path clip-path=\"url(#p1e7277eb03)\" d=\"M 250.770625 353.467219 \nL 270.858625 353.467219 \nL 270.858625 372.493219 \nL 250.770625 372.493219 \nL 250.770625 353.467219 \n\" style=\"fill:#f7f4f9;\"/>\n    <path clip-path=\"url(#p1e7277eb03)\" d=\"M 270.858625 353.467219 \nL 290.946625 353.467219 \nL 290.946625 372.493219 \nL 270.858625 372.493219 \nL 270.858625 353.467219 \n\" style=\"fill:#f7f4f9;\"/>\n    <path clip-path=\"url(#p1e7277eb03)\" d=\"M 290.946625 353.467219 \nL 311.034625 353.467219 \nL 311.034625 372.493219 \nL 290.946625 372.493219 \nL 290.946625 353.467219 \n\" style=\"fill:#f7f4f9;\"/>\n    <path clip-path=\"url(#p1e7277eb03)\" d=\"M 311.034625 353.467219 \nL 331.122625 353.467219 \nL 331.122625 372.493219 \nL 311.034625 372.493219 \nL 311.034625 353.467219 \n\" style=\"fill:#f7f4f9;\"/>\n    <path clip-path=\"url(#p1e7277eb03)\" d=\"M 331.122625 353.467219 \nL 351.210625 353.467219 \nL 351.210625 372.493219 \nL 331.122625 372.493219 \nL 331.122625 353.467219 \n\" style=\"fill:#f7f4f9;\"/>\n    <path clip-path=\"url(#p1e7277eb03)\" d=\"M 351.210625 353.467219 \nL 371.298625 353.467219 \nL 371.298625 372.493219 \nL 351.210625 372.493219 \nL 351.210625 353.467219 \n\" style=\"fill:#f7f4f9;\"/>\n    <path clip-path=\"url(#p1e7277eb03)\" d=\"M 371.298625 353.467219 \nL 391.386625 353.467219 \nL 391.386625 372.493219 \nL 371.298625 372.493219 \nL 371.298625 353.467219 \n\" style=\"fill:#f7f4f9;\"/>\n    <path clip-path=\"url(#p1e7277eb03)\" d=\"M 391.386625 353.467219 \nL 411.474625 353.467219 \nL 411.474625 372.493219 \nL 391.386625 372.493219 \nL 391.386625 353.467219 \n\" style=\"fill:#f7f4f9;\"/>\n    <path clip-path=\"url(#p1e7277eb03)\" d=\"M 411.474625 353.467219 \nL 431.562625 353.467219 \nL 431.562625 372.493219 \nL 411.474625 372.493219 \nL 411.474625 353.467219 \n\" style=\"fill:#f7f4f9;\"/>\n    <path clip-path=\"url(#p1e7277eb03)\" d=\"M 431.562625 353.467219 \nL 451.650625 353.467219 \nL 451.650625 372.493219 \nL 431.562625 372.493219 \nL 431.562625 353.467219 \n\" style=\"fill:#f7f4f9;\"/>\n    <path clip-path=\"url(#p1e7277eb03)\" d=\"M 49.890625 372.493219 \nL 69.978625 372.493219 \nL 69.978625 391.519219 \nL 49.890625 391.519219 \nL 49.890625 372.493219 \n\" style=\"fill:#f7f4f9;\"/>\n    <path clip-path=\"url(#p1e7277eb03)\" d=\"M 69.978625 372.493219 \nL 90.066625 372.493219 \nL 90.066625 391.519219 \nL 69.978625 391.519219 \nL 69.978625 372.493219 \n\" style=\"fill:#f7f4f9;\"/>\n    <path clip-path=\"url(#p1e7277eb03)\" d=\"M 90.066625 372.493219 \nL 110.154625 372.493219 \nL 110.154625 391.519219 \nL 90.066625 391.519219 \nL 90.066625 372.493219 \n\" style=\"fill:#f7f4f9;\"/>\n    <path clip-path=\"url(#p1e7277eb03)\" d=\"M 110.154625 372.493219 \nL 130.242625 372.493219 \nL 130.242625 391.519219 \nL 110.154625 391.519219 \nL 110.154625 372.493219 \n\" style=\"fill:#f7f4f9;\"/>\n    <path clip-path=\"url(#p1e7277eb03)\" d=\"M 130.242625 372.493219 \nL 150.330625 372.493219 \nL 150.330625 391.519219 \nL 130.242625 391.519219 \nL 130.242625 372.493219 \n\" style=\"fill:#f7f4f9;\"/>\n    <path clip-path=\"url(#p1e7277eb03)\" d=\"M 150.330625 372.493219 \nL 170.418625 372.493219 \nL 170.418625 391.519219 \nL 150.330625 391.519219 \nL 150.330625 372.493219 \n\" style=\"fill:#f7f4f9;\"/>\n    <path clip-path=\"url(#p1e7277eb03)\" d=\"M 170.418625 372.493219 \nL 190.506625 372.493219 \nL 190.506625 391.519219 \nL 170.418625 391.519219 \nL 170.418625 372.493219 \n\" style=\"fill:#f7f4f9;\"/>\n    <path clip-path=\"url(#p1e7277eb03)\" d=\"M 190.506625 372.493219 \nL 210.594625 372.493219 \nL 210.594625 391.519219 \nL 190.506625 391.519219 \nL 190.506625 372.493219 \n\" style=\"fill:#f7f4f9;\"/>\n    <path clip-path=\"url(#p1e7277eb03)\" d=\"M 210.594625 372.493219 \nL 230.682625 372.493219 \nL 230.682625 391.519219 \nL 210.594625 391.519219 \nL 210.594625 372.493219 \n\" style=\"fill:#f7f4f9;\"/>\n    <path clip-path=\"url(#p1e7277eb03)\" d=\"M 230.682625 372.493219 \nL 250.770625 372.493219 \nL 250.770625 391.519219 \nL 230.682625 391.519219 \nL 230.682625 372.493219 \n\" style=\"fill:#f7f4f9;\"/>\n    <path clip-path=\"url(#p1e7277eb03)\" d=\"M 250.770625 372.493219 \nL 270.858625 372.493219 \nL 270.858625 391.519219 \nL 250.770625 391.519219 \nL 250.770625 372.493219 \n\" style=\"fill:#f7f4f9;\"/>\n    <path clip-path=\"url(#p1e7277eb03)\" d=\"M 270.858625 372.493219 \nL 290.946625 372.493219 \nL 290.946625 391.519219 \nL 270.858625 391.519219 \nL 270.858625 372.493219 \n\" style=\"fill:#f7f4f9;\"/>\n    <path clip-path=\"url(#p1e7277eb03)\" d=\"M 290.946625 372.493219 \nL 311.034625 372.493219 \nL 311.034625 391.519219 \nL 290.946625 391.519219 \nL 290.946625 372.493219 \n\" style=\"fill:#f7f4f9;\"/>\n    <path clip-path=\"url(#p1e7277eb03)\" d=\"M 311.034625 372.493219 \nL 331.122625 372.493219 \nL 331.122625 391.519219 \nL 311.034625 391.519219 \nL 311.034625 372.493219 \n\" style=\"fill:#f7f4f9;\"/>\n    <path clip-path=\"url(#p1e7277eb03)\" d=\"M 331.122625 372.493219 \nL 351.210625 372.493219 \nL 351.210625 391.519219 \nL 331.122625 391.519219 \nL 331.122625 372.493219 \n\" style=\"fill:#f7f4f9;\"/>\n    <path clip-path=\"url(#p1e7277eb03)\" d=\"M 351.210625 372.493219 \nL 371.298625 372.493219 \nL 371.298625 391.519219 \nL 351.210625 391.519219 \nL 351.210625 372.493219 \n\" style=\"fill:#f7f4f9;\"/>\n    <path clip-path=\"url(#p1e7277eb03)\" d=\"M 371.298625 372.493219 \nL 391.386625 372.493219 \nL 391.386625 391.519219 \nL 371.298625 391.519219 \nL 371.298625 372.493219 \n\" style=\"fill:#f7f4f9;\"/>\n    <path clip-path=\"url(#p1e7277eb03)\" d=\"M 391.386625 372.493219 \nL 411.474625 372.493219 \nL 411.474625 391.519219 \nL 391.386625 391.519219 \nL 391.386625 372.493219 \n\" style=\"fill:#f7f4f9;\"/>\n    <path clip-path=\"url(#p1e7277eb03)\" d=\"M 411.474625 372.493219 \nL 431.562625 372.493219 \nL 431.562625 391.519219 \nL 411.474625 391.519219 \nL 411.474625 372.493219 \n\" style=\"fill:#f7f4f9;\"/>\n    <path clip-path=\"url(#p1e7277eb03)\" d=\"M 431.562625 372.493219 \nL 451.650625 372.493219 \nL 451.650625 391.519219 \nL 431.562625 391.519219 \nL 431.562625 372.493219 \n\" style=\"fill:#f7f4f9;\"/>\n   </g>\n   <g id=\"matplotlib.axis_1\">\n    <g id=\"xtick_1\">\n     <g id=\"line2d_1\">\n      <defs>\n       <path d=\"M 0 0 \nL 0 3.5 \n\" id=\"m4c7bb37f78\" style=\"stroke:#000000;stroke-width:0.8;\"/>\n      </defs>\n      <g>\n       <use style=\"stroke:#000000;stroke-width:0.8;\" x=\"59.934625\" xlink:href=\"#m4c7bb37f78\" y=\"391.519219\"/>\n      </g>\n     </g>\n     <g id=\"text_1\">\n      <!-- term_00 -->\n      <defs>\n       <path d=\"M 18.3125 70.21875 \nL 18.3125 54.6875 \nL 36.8125 54.6875 \nL 36.8125 47.703125 \nL 18.3125 47.703125 \nL 18.3125 18.015625 \nQ 18.3125 11.328125 20.140625 9.421875 \nQ 21.96875 7.515625 27.59375 7.515625 \nL 36.8125 7.515625 \nL 36.8125 0 \nL 27.59375 0 \nQ 17.1875 0 13.234375 3.875 \nQ 9.28125 7.765625 9.28125 18.015625 \nL 9.28125 47.703125 \nL 2.6875 47.703125 \nL 2.6875 54.6875 \nL 9.28125 54.6875 \nL 9.28125 70.21875 \nz\n\" id=\"DejaVuSans-116\"/>\n       <path d=\"M 56.203125 29.59375 \nL 56.203125 25.203125 \nL 14.890625 25.203125 \nQ 15.484375 15.921875 20.484375 11.0625 \nQ 25.484375 6.203125 34.421875 6.203125 \nQ 39.59375 6.203125 44.453125 7.46875 \nQ 49.3125 8.734375 54.109375 11.28125 \nL 54.109375 2.78125 \nQ 49.265625 0.734375 44.1875 -0.34375 \nQ 39.109375 -1.421875 33.890625 -1.421875 \nQ 20.796875 -1.421875 13.15625 6.1875 \nQ 5.515625 13.8125 5.515625 26.8125 \nQ 5.515625 40.234375 12.765625 48.109375 \nQ 20.015625 56 32.328125 56 \nQ 43.359375 56 49.78125 48.890625 \nQ 56.203125 41.796875 56.203125 29.59375 \nz\nM 47.21875 32.234375 \nQ 47.125 39.59375 43.09375 43.984375 \nQ 39.0625 48.390625 32.421875 48.390625 \nQ 24.90625 48.390625 20.390625 44.140625 \nQ 15.875 39.890625 15.1875 32.171875 \nz\n\" id=\"DejaVuSans-101\"/>\n       <path d=\"M 41.109375 46.296875 \nQ 39.59375 47.171875 37.8125 47.578125 \nQ 36.03125 48 33.890625 48 \nQ 26.265625 48 22.1875 43.046875 \nQ 18.109375 38.09375 18.109375 28.8125 \nL 18.109375 0 \nL 9.078125 0 \nL 9.078125 54.6875 \nL 18.109375 54.6875 \nL 18.109375 46.1875 \nQ 20.953125 51.171875 25.484375 53.578125 \nQ 30.03125 56 36.53125 56 \nQ 37.453125 56 38.578125 55.875 \nQ 39.703125 55.765625 41.0625 55.515625 \nz\n\" id=\"DejaVuSans-114\"/>\n       <path d=\"M 52 44.1875 \nQ 55.375 50.25 60.0625 53.125 \nQ 64.75 56 71.09375 56 \nQ 79.640625 56 84.28125 50.015625 \nQ 88.921875 44.046875 88.921875 33.015625 \nL 88.921875 0 \nL 79.890625 0 \nL 79.890625 32.71875 \nQ 79.890625 40.578125 77.09375 44.375 \nQ 74.3125 48.1875 68.609375 48.1875 \nQ 61.625 48.1875 57.5625 43.546875 \nQ 53.515625 38.921875 53.515625 30.90625 \nL 53.515625 0 \nL 44.484375 0 \nL 44.484375 32.71875 \nQ 44.484375 40.625 41.703125 44.40625 \nQ 38.921875 48.1875 33.109375 48.1875 \nQ 26.21875 48.1875 22.15625 43.53125 \nQ 18.109375 38.875 18.109375 30.90625 \nL 18.109375 0 \nL 9.078125 0 \nL 9.078125 54.6875 \nL 18.109375 54.6875 \nL 18.109375 46.1875 \nQ 21.1875 51.21875 25.484375 53.609375 \nQ 29.78125 56 35.6875 56 \nQ 41.65625 56 45.828125 52.96875 \nQ 50 49.953125 52 44.1875 \nz\n\" id=\"DejaVuSans-109\"/>\n       <path d=\"M 50.984375 -16.609375 \nL 50.984375 -23.578125 \nL -0.984375 -23.578125 \nL -0.984375 -16.609375 \nz\n\" id=\"DejaVuSans-95\"/>\n       <path d=\"M 31.78125 66.40625 \nQ 24.171875 66.40625 20.328125 58.90625 \nQ 16.5 51.421875 16.5 36.375 \nQ 16.5 21.390625 20.328125 13.890625 \nQ 24.171875 6.390625 31.78125 6.390625 \nQ 39.453125 6.390625 43.28125 13.890625 \nQ 47.125 21.390625 47.125 36.375 \nQ 47.125 51.421875 43.28125 58.90625 \nQ 39.453125 66.40625 31.78125 66.40625 \nz\nM 31.78125 74.21875 \nQ 44.046875 74.21875 50.515625 64.515625 \nQ 56.984375 54.828125 56.984375 36.375 \nQ 56.984375 17.96875 50.515625 8.265625 \nQ 44.046875 -1.421875 31.78125 -1.421875 \nQ 19.53125 -1.421875 13.0625 8.265625 \nQ 6.59375 17.96875 6.59375 36.375 \nQ 6.59375 54.828125 13.0625 64.515625 \nQ 19.53125 74.21875 31.78125 74.21875 \nz\n\" id=\"DejaVuSans-48\"/>\n      </defs>\n      <g transform=\"translate(62.466656 439.994219)rotate(-90)scale(0.1 -0.1)\">\n       <use xlink:href=\"#DejaVuSans-116\"/>\n       <use x=\"39.208984\" xlink:href=\"#DejaVuSans-101\"/>\n       <use x=\"100.732422\" xlink:href=\"#DejaVuSans-114\"/>\n       <use x=\"140.095703\" xlink:href=\"#DejaVuSans-109\"/>\n       <use x=\"237.507812\" xlink:href=\"#DejaVuSans-95\"/>\n       <use x=\"287.507812\" xlink:href=\"#DejaVuSans-48\"/>\n       <use x=\"351.130859\" xlink:href=\"#DejaVuSans-48\"/>\n      </g>\n     </g>\n    </g>\n    <g id=\"xtick_2\">\n     <g id=\"line2d_2\">\n      <g>\n       <use style=\"stroke:#000000;stroke-width:0.8;\" x=\"80.022625\" xlink:href=\"#m4c7bb37f78\" y=\"391.519219\"/>\n      </g>\n     </g>\n     <g id=\"text_2\">\n      <!-- term_000 -->\n      <g transform=\"translate(82.554656 446.356719)rotate(-90)scale(0.1 -0.1)\">\n       <use xlink:href=\"#DejaVuSans-116\"/>\n       <use x=\"39.208984\" xlink:href=\"#DejaVuSans-101\"/>\n       <use x=\"100.732422\" xlink:href=\"#DejaVuSans-114\"/>\n       <use x=\"140.095703\" xlink:href=\"#DejaVuSans-109\"/>\n       <use x=\"237.507812\" xlink:href=\"#DejaVuSans-95\"/>\n       <use x=\"287.507812\" xlink:href=\"#DejaVuSans-48\"/>\n       <use x=\"351.130859\" xlink:href=\"#DejaVuSans-48\"/>\n       <use x=\"414.753906\" xlink:href=\"#DejaVuSans-48\"/>\n      </g>\n     </g>\n    </g>\n    <g id=\"xtick_3\">\n     <g id=\"line2d_3\">\n      <g>\n       <use style=\"stroke:#000000;stroke-width:0.8;\" x=\"100.110625\" xlink:href=\"#m4c7bb37f78\" y=\"391.519219\"/>\n      </g>\n     </g>\n     <g id=\"text_3\">\n      <!-- term_0000 -->\n      <g transform=\"translate(102.642656 452.719219)rotate(-90)scale(0.1 -0.1)\">\n       <use xlink:href=\"#DejaVuSans-116\"/>\n       <use x=\"39.208984\" xlink:href=\"#DejaVuSans-101\"/>\n       <use x=\"100.732422\" xlink:href=\"#DejaVuSans-114\"/>\n       <use x=\"140.095703\" xlink:href=\"#DejaVuSans-109\"/>\n       <use x=\"237.507812\" xlink:href=\"#DejaVuSans-95\"/>\n       <use x=\"287.507812\" xlink:href=\"#DejaVuSans-48\"/>\n       <use x=\"351.130859\" xlink:href=\"#DejaVuSans-48\"/>\n       <use x=\"414.753906\" xlink:href=\"#DejaVuSans-48\"/>\n       <use x=\"478.376953\" xlink:href=\"#DejaVuSans-48\"/>\n      </g>\n     </g>\n    </g>\n    <g id=\"xtick_4\">\n     <g id=\"line2d_4\">\n      <g>\n       <use style=\"stroke:#000000;stroke-width:0.8;\" x=\"120.198625\" xlink:href=\"#m4c7bb37f78\" y=\"391.519219\"/>\n      </g>\n     </g>\n     <g id=\"text_4\">\n      <!-- term_0000001200 -->\n      <defs>\n       <path d=\"M 12.40625 8.296875 \nL 28.515625 8.296875 \nL 28.515625 63.921875 \nL 10.984375 60.40625 \nL 10.984375 69.390625 \nL 28.421875 72.90625 \nL 38.28125 72.90625 \nL 38.28125 8.296875 \nL 54.390625 8.296875 \nL 54.390625 0 \nL 12.40625 0 \nz\n\" id=\"DejaVuSans-49\"/>\n       <path d=\"M 19.1875 8.296875 \nL 53.609375 8.296875 \nL 53.609375 0 \nL 7.328125 0 \nL 7.328125 8.296875 \nQ 12.9375 14.109375 22.625 23.890625 \nQ 32.328125 33.6875 34.8125 36.53125 \nQ 39.546875 41.84375 41.421875 45.53125 \nQ 43.3125 49.21875 43.3125 52.78125 \nQ 43.3125 58.59375 39.234375 62.25 \nQ 35.15625 65.921875 28.609375 65.921875 \nQ 23.96875 65.921875 18.8125 64.3125 \nQ 13.671875 62.703125 7.8125 59.421875 \nL 7.8125 69.390625 \nQ 13.765625 71.78125 18.9375 73 \nQ 24.125 74.21875 28.421875 74.21875 \nQ 39.75 74.21875 46.484375 68.546875 \nQ 53.21875 62.890625 53.21875 53.421875 \nQ 53.21875 48.921875 51.53125 44.890625 \nQ 49.859375 40.875 45.40625 35.40625 \nQ 44.1875 33.984375 37.640625 27.21875 \nQ 31.109375 20.453125 19.1875 8.296875 \nz\n\" id=\"DejaVuSans-50\"/>\n      </defs>\n      <g transform=\"translate(122.730656 490.894219)rotate(-90)scale(0.1 -0.1)\">\n       <use xlink:href=\"#DejaVuSans-116\"/>\n       <use x=\"39.208984\" xlink:href=\"#DejaVuSans-101\"/>\n       <use x=\"100.732422\" xlink:href=\"#DejaVuSans-114\"/>\n       <use x=\"140.095703\" xlink:href=\"#DejaVuSans-109\"/>\n       <use x=\"237.507812\" xlink:href=\"#DejaVuSans-95\"/>\n       <use x=\"287.507812\" xlink:href=\"#DejaVuSans-48\"/>\n       <use x=\"351.130859\" xlink:href=\"#DejaVuSans-48\"/>\n       <use x=\"414.753906\" xlink:href=\"#DejaVuSans-48\"/>\n       <use x=\"478.376953\" xlink:href=\"#DejaVuSans-48\"/>\n       <use x=\"542\" xlink:href=\"#DejaVuSans-48\"/>\n       <use x=\"605.623047\" xlink:href=\"#DejaVuSans-48\"/>\n       <use x=\"669.246094\" xlink:href=\"#DejaVuSans-49\"/>\n       <use x=\"732.869141\" xlink:href=\"#DejaVuSans-50\"/>\n       <use x=\"796.492188\" xlink:href=\"#DejaVuSans-48\"/>\n       <use x=\"860.115234\" xlink:href=\"#DejaVuSans-48\"/>\n      </g>\n     </g>\n    </g>\n    <g id=\"xtick_5\">\n     <g id=\"line2d_5\">\n      <g>\n       <use style=\"stroke:#000000;stroke-width:0.8;\" x=\"140.286625\" xlink:href=\"#m4c7bb37f78\" y=\"391.519219\"/>\n      </g>\n     </g>\n     <g id=\"text_5\">\n      <!-- term_000005102000 -->\n      <defs>\n       <path d=\"M 10.796875 72.90625 \nL 49.515625 72.90625 \nL 49.515625 64.59375 \nL 19.828125 64.59375 \nL 19.828125 46.734375 \nQ 21.96875 47.46875 24.109375 47.828125 \nQ 26.265625 48.1875 28.421875 48.1875 \nQ 40.625 48.1875 47.75 41.5 \nQ 54.890625 34.8125 54.890625 23.390625 \nQ 54.890625 11.625 47.5625 5.09375 \nQ 40.234375 -1.421875 26.90625 -1.421875 \nQ 22.3125 -1.421875 17.546875 -0.640625 \nQ 12.796875 0.140625 7.71875 1.703125 \nL 7.71875 11.625 \nQ 12.109375 9.234375 16.796875 8.0625 \nQ 21.484375 6.890625 26.703125 6.890625 \nQ 35.15625 6.890625 40.078125 11.328125 \nQ 45.015625 15.765625 45.015625 23.390625 \nQ 45.015625 31 40.078125 35.4375 \nQ 35.15625 39.890625 26.703125 39.890625 \nQ 22.75 39.890625 18.8125 39.015625 \nQ 14.890625 38.140625 10.796875 36.28125 \nz\n\" id=\"DejaVuSans-53\"/>\n      </defs>\n      <g transform=\"translate(142.818656 503.619219)rotate(-90)scale(0.1 -0.1)\">\n       <use xlink:href=\"#DejaVuSans-116\"/>\n       <use x=\"39.208984\" xlink:href=\"#DejaVuSans-101\"/>\n       <use x=\"100.732422\" xlink:href=\"#DejaVuSans-114\"/>\n       <use x=\"140.095703\" xlink:href=\"#DejaVuSans-109\"/>\n       <use x=\"237.507812\" xlink:href=\"#DejaVuSans-95\"/>\n       <use x=\"287.507812\" xlink:href=\"#DejaVuSans-48\"/>\n       <use x=\"351.130859\" xlink:href=\"#DejaVuSans-48\"/>\n       <use x=\"414.753906\" xlink:href=\"#DejaVuSans-48\"/>\n       <use x=\"478.376953\" xlink:href=\"#DejaVuSans-48\"/>\n       <use x=\"542\" xlink:href=\"#DejaVuSans-48\"/>\n       <use x=\"605.623047\" xlink:href=\"#DejaVuSans-53\"/>\n       <use x=\"669.246094\" xlink:href=\"#DejaVuSans-49\"/>\n       <use x=\"732.869141\" xlink:href=\"#DejaVuSans-48\"/>\n       <use x=\"796.492188\" xlink:href=\"#DejaVuSans-50\"/>\n       <use x=\"860.115234\" xlink:href=\"#DejaVuSans-48\"/>\n       <use x=\"923.738281\" xlink:href=\"#DejaVuSans-48\"/>\n       <use x=\"987.361328\" xlink:href=\"#DejaVuSans-48\"/>\n      </g>\n     </g>\n    </g>\n    <g id=\"xtick_6\">\n     <g id=\"line2d_6\">\n      <g>\n       <use style=\"stroke:#000000;stroke-width:0.8;\" x=\"160.374625\" xlink:href=\"#m4c7bb37f78\" y=\"391.519219\"/>\n      </g>\n     </g>\n     <g id=\"text_6\">\n      <!-- term_0001 -->\n      <g transform=\"translate(162.906656 452.719219)rotate(-90)scale(0.1 -0.1)\">\n       <use xlink:href=\"#DejaVuSans-116\"/>\n       <use x=\"39.208984\" xlink:href=\"#DejaVuSans-101\"/>\n       <use x=\"100.732422\" xlink:href=\"#DejaVuSans-114\"/>\n       <use x=\"140.095703\" xlink:href=\"#DejaVuSans-109\"/>\n       <use x=\"237.507812\" xlink:href=\"#DejaVuSans-95\"/>\n       <use x=\"287.507812\" xlink:href=\"#DejaVuSans-48\"/>\n       <use x=\"351.130859\" xlink:href=\"#DejaVuSans-48\"/>\n       <use x=\"414.753906\" xlink:href=\"#DejaVuSans-48\"/>\n       <use x=\"478.376953\" xlink:href=\"#DejaVuSans-49\"/>\n      </g>\n     </g>\n    </g>\n    <g id=\"xtick_7\">\n     <g id=\"line2d_7\">\n      <g>\n       <use style=\"stroke:#000000;stroke-width:0.8;\" x=\"180.462625\" xlink:href=\"#m4c7bb37f78\" y=\"391.519219\"/>\n      </g>\n     </g>\n     <g id=\"text_7\">\n      <!-- term_000100255pixel -->\n      <defs>\n       <path d=\"M 18.109375 8.203125 \nL 18.109375 -20.796875 \nL 9.078125 -20.796875 \nL 9.078125 54.6875 \nL 18.109375 54.6875 \nL 18.109375 46.390625 \nQ 20.953125 51.265625 25.265625 53.625 \nQ 29.59375 56 35.59375 56 \nQ 45.5625 56 51.78125 48.09375 \nQ 58.015625 40.1875 58.015625 27.296875 \nQ 58.015625 14.40625 51.78125 6.484375 \nQ 45.5625 -1.421875 35.59375 -1.421875 \nQ 29.59375 -1.421875 25.265625 0.953125 \nQ 20.953125 3.328125 18.109375 8.203125 \nz\nM 48.6875 27.296875 \nQ 48.6875 37.203125 44.609375 42.84375 \nQ 40.53125 48.484375 33.40625 48.484375 \nQ 26.265625 48.484375 22.1875 42.84375 \nQ 18.109375 37.203125 18.109375 27.296875 \nQ 18.109375 17.390625 22.1875 11.75 \nQ 26.265625 6.109375 33.40625 6.109375 \nQ 40.53125 6.109375 44.609375 11.75 \nQ 48.6875 17.390625 48.6875 27.296875 \nz\n\" id=\"DejaVuSans-112\"/>\n       <path d=\"M 9.421875 54.6875 \nL 18.40625 54.6875 \nL 18.40625 0 \nL 9.421875 0 \nz\nM 9.421875 75.984375 \nL 18.40625 75.984375 \nL 18.40625 64.59375 \nL 9.421875 64.59375 \nz\n\" id=\"DejaVuSans-105\"/>\n       <path d=\"M 54.890625 54.6875 \nL 35.109375 28.078125 \nL 55.90625 0 \nL 45.3125 0 \nL 29.390625 21.484375 \nL 13.484375 0 \nL 2.875 0 \nL 24.125 28.609375 \nL 4.6875 54.6875 \nL 15.28125 54.6875 \nL 29.78125 35.203125 \nL 44.28125 54.6875 \nz\n\" id=\"DejaVuSans-120\"/>\n       <path d=\"M 9.421875 75.984375 \nL 18.40625 75.984375 \nL 18.40625 0 \nL 9.421875 0 \nz\n\" id=\"DejaVuSans-108\"/>\n      </defs>\n      <g transform=\"translate(183.082938 508.195781)rotate(-90)scale(0.1 -0.1)\">\n       <use xlink:href=\"#DejaVuSans-116\"/>\n       <use x=\"39.208984\" xlink:href=\"#DejaVuSans-101\"/>\n       <use x=\"100.732422\" xlink:href=\"#DejaVuSans-114\"/>\n       <use x=\"140.095703\" xlink:href=\"#DejaVuSans-109\"/>\n       <use x=\"237.507812\" xlink:href=\"#DejaVuSans-95\"/>\n       <use x=\"287.507812\" xlink:href=\"#DejaVuSans-48\"/>\n       <use x=\"351.130859\" xlink:href=\"#DejaVuSans-48\"/>\n       <use x=\"414.753906\" xlink:href=\"#DejaVuSans-48\"/>\n       <use x=\"478.376953\" xlink:href=\"#DejaVuSans-49\"/>\n       <use x=\"542\" xlink:href=\"#DejaVuSans-48\"/>\n       <use x=\"605.623047\" xlink:href=\"#DejaVuSans-48\"/>\n       <use x=\"669.246094\" xlink:href=\"#DejaVuSans-50\"/>\n       <use x=\"732.869141\" xlink:href=\"#DejaVuSans-53\"/>\n       <use x=\"796.492188\" xlink:href=\"#DejaVuSans-53\"/>\n       <use x=\"860.115234\" xlink:href=\"#DejaVuSans-112\"/>\n       <use x=\"923.591797\" xlink:href=\"#DejaVuSans-105\"/>\n       <use x=\"951.375\" xlink:href=\"#DejaVuSans-120\"/>\n       <use x=\"1007.429688\" xlink:href=\"#DejaVuSans-101\"/>\n       <use x=\"1068.953125\" xlink:href=\"#DejaVuSans-108\"/>\n      </g>\n     </g>\n    </g>\n    <g id=\"xtick_8\">\n     <g id=\"line2d_8\">\n      <g>\n       <use style=\"stroke:#000000;stroke-width:0.8;\" x=\"200.550625\" xlink:href=\"#m4c7bb37f78\" y=\"391.519219\"/>\n      </g>\n     </g>\n     <g id=\"text_8\">\n      <!-- term_00014 -->\n      <defs>\n       <path d=\"M 37.796875 64.3125 \nL 12.890625 25.390625 \nL 37.796875 25.390625 \nz\nM 35.203125 72.90625 \nL 47.609375 72.90625 \nL 47.609375 25.390625 \nL 58.015625 25.390625 \nL 58.015625 17.1875 \nL 47.609375 17.1875 \nL 47.609375 0 \nL 37.796875 0 \nL 37.796875 17.1875 \nL 4.890625 17.1875 \nL 4.890625 26.703125 \nz\n\" id=\"DejaVuSans-52\"/>\n      </defs>\n      <g transform=\"translate(203.082656 459.081719)rotate(-90)scale(0.1 -0.1)\">\n       <use xlink:href=\"#DejaVuSans-116\"/>\n       <use x=\"39.208984\" xlink:href=\"#DejaVuSans-101\"/>\n       <use x=\"100.732422\" xlink:href=\"#DejaVuSans-114\"/>\n       <use x=\"140.095703\" xlink:href=\"#DejaVuSans-109\"/>\n       <use x=\"237.507812\" xlink:href=\"#DejaVuSans-95\"/>\n       <use x=\"287.507812\" xlink:href=\"#DejaVuSans-48\"/>\n       <use x=\"351.130859\" xlink:href=\"#DejaVuSans-48\"/>\n       <use x=\"414.753906\" xlink:href=\"#DejaVuSans-48\"/>\n       <use x=\"478.376953\" xlink:href=\"#DejaVuSans-49\"/>\n       <use x=\"542\" xlink:href=\"#DejaVuSans-52\"/>\n      </g>\n     </g>\n    </g>\n    <g id=\"xtick_9\">\n     <g id=\"line2d_9\">\n      <g>\n       <use style=\"stroke:#000000;stroke-width:0.8;\" x=\"220.638625\" xlink:href=\"#m4c7bb37f78\" y=\"391.519219\"/>\n      </g>\n     </g>\n     <g id=\"text_9\">\n      <!-- term_000406 -->\n      <defs>\n       <path d=\"M 33.015625 40.375 \nQ 26.375 40.375 22.484375 35.828125 \nQ 18.609375 31.296875 18.609375 23.390625 \nQ 18.609375 15.53125 22.484375 10.953125 \nQ 26.375 6.390625 33.015625 6.390625 \nQ 39.65625 6.390625 43.53125 10.953125 \nQ 47.40625 15.53125 47.40625 23.390625 \nQ 47.40625 31.296875 43.53125 35.828125 \nQ 39.65625 40.375 33.015625 40.375 \nz\nM 52.59375 71.296875 \nL 52.59375 62.3125 \nQ 48.875 64.0625 45.09375 64.984375 \nQ 41.3125 65.921875 37.59375 65.921875 \nQ 27.828125 65.921875 22.671875 59.328125 \nQ 17.53125 52.734375 16.796875 39.40625 \nQ 19.671875 43.65625 24.015625 45.921875 \nQ 28.375 48.1875 33.59375 48.1875 \nQ 44.578125 48.1875 50.953125 41.515625 \nQ 57.328125 34.859375 57.328125 23.390625 \nQ 57.328125 12.15625 50.6875 5.359375 \nQ 44.046875 -1.421875 33.015625 -1.421875 \nQ 20.359375 -1.421875 13.671875 8.265625 \nQ 6.984375 17.96875 6.984375 36.375 \nQ 6.984375 53.65625 15.1875 63.9375 \nQ 23.390625 74.21875 37.203125 74.21875 \nQ 40.921875 74.21875 44.703125 73.484375 \nQ 48.484375 72.75 52.59375 71.296875 \nz\n\" id=\"DejaVuSans-54\"/>\n      </defs>\n      <g transform=\"translate(223.170656 465.444219)rotate(-90)scale(0.1 -0.1)\">\n       <use xlink:href=\"#DejaVuSans-116\"/>\n       <use x=\"39.208984\" xlink:href=\"#DejaVuSans-101\"/>\n       <use x=\"100.732422\" xlink:href=\"#DejaVuSans-114\"/>\n       <use x=\"140.095703\" xlink:href=\"#DejaVuSans-109\"/>\n       <use x=\"237.507812\" xlink:href=\"#DejaVuSans-95\"/>\n       <use x=\"287.507812\" xlink:href=\"#DejaVuSans-48\"/>\n       <use x=\"351.130859\" xlink:href=\"#DejaVuSans-48\"/>\n       <use x=\"414.753906\" xlink:href=\"#DejaVuSans-48\"/>\n       <use x=\"478.376953\" xlink:href=\"#DejaVuSans-52\"/>\n       <use x=\"542\" xlink:href=\"#DejaVuSans-48\"/>\n       <use x=\"605.623047\" xlink:href=\"#DejaVuSans-54\"/>\n      </g>\n     </g>\n    </g>\n    <g id=\"xtick_10\">\n     <g id=\"line2d_10\">\n      <g>\n       <use style=\"stroke:#000000;stroke-width:0.8;\" x=\"240.726625\" xlink:href=\"#m4c7bb37f78\" y=\"391.519219\"/>\n      </g>\n     </g>\n     <g id=\"text_10\">\n      <!-- term_0007 -->\n      <defs>\n       <path d=\"M 8.203125 72.90625 \nL 55.078125 72.90625 \nL 55.078125 68.703125 \nL 28.609375 0 \nL 18.3125 0 \nL 43.21875 64.59375 \nL 8.203125 64.59375 \nz\n\" id=\"DejaVuSans-55\"/>\n      </defs>\n      <g transform=\"translate(243.258656 452.719219)rotate(-90)scale(0.1 -0.1)\">\n       <use xlink:href=\"#DejaVuSans-116\"/>\n       <use x=\"39.208984\" xlink:href=\"#DejaVuSans-101\"/>\n       <use x=\"100.732422\" xlink:href=\"#DejaVuSans-114\"/>\n       <use x=\"140.095703\" xlink:href=\"#DejaVuSans-109\"/>\n       <use x=\"237.507812\" xlink:href=\"#DejaVuSans-95\"/>\n       <use x=\"287.507812\" xlink:href=\"#DejaVuSans-48\"/>\n       <use x=\"351.130859\" xlink:href=\"#DejaVuSans-48\"/>\n       <use x=\"414.753906\" xlink:href=\"#DejaVuSans-48\"/>\n       <use x=\"478.376953\" xlink:href=\"#DejaVuSans-55\"/>\n      </g>\n     </g>\n    </g>\n    <g id=\"xtick_11\">\n     <g id=\"line2d_11\">\n      <g>\n       <use style=\"stroke:#000000;stroke-width:0.8;\" x=\"260.814625\" xlink:href=\"#m4c7bb37f78\" y=\"391.519219\"/>\n      </g>\n     </g>\n     <g id=\"text_11\">\n      <!-- term_000usd -->\n      <defs>\n       <path d=\"M 8.5 21.578125 \nL 8.5 54.6875 \nL 17.484375 54.6875 \nL 17.484375 21.921875 \nQ 17.484375 14.15625 20.5 10.265625 \nQ 23.53125 6.390625 29.59375 6.390625 \nQ 36.859375 6.390625 41.078125 11.03125 \nQ 45.3125 15.671875 45.3125 23.6875 \nL 45.3125 54.6875 \nL 54.296875 54.6875 \nL 54.296875 0 \nL 45.3125 0 \nL 45.3125 8.40625 \nQ 42.046875 3.421875 37.71875 1 \nQ 33.40625 -1.421875 27.6875 -1.421875 \nQ 18.265625 -1.421875 13.375 4.4375 \nQ 8.5 10.296875 8.5 21.578125 \nz\nM 31.109375 56 \nz\n\" id=\"DejaVuSans-117\"/>\n       <path d=\"M 44.28125 53.078125 \nL 44.28125 44.578125 \nQ 40.484375 46.53125 36.375 47.5 \nQ 32.28125 48.484375 27.875 48.484375 \nQ 21.1875 48.484375 17.84375 46.4375 \nQ 14.5 44.390625 14.5 40.28125 \nQ 14.5 37.15625 16.890625 35.375 \nQ 19.28125 33.59375 26.515625 31.984375 \nL 29.59375 31.296875 \nQ 39.15625 29.25 43.1875 25.515625 \nQ 47.21875 21.78125 47.21875 15.09375 \nQ 47.21875 7.46875 41.1875 3.015625 \nQ 35.15625 -1.421875 24.609375 -1.421875 \nQ 20.21875 -1.421875 15.453125 -0.5625 \nQ 10.6875 0.296875 5.421875 2 \nL 5.421875 11.28125 \nQ 10.40625 8.6875 15.234375 7.390625 \nQ 20.0625 6.109375 24.8125 6.109375 \nQ 31.15625 6.109375 34.5625 8.28125 \nQ 37.984375 10.453125 37.984375 14.40625 \nQ 37.984375 18.0625 35.515625 20.015625 \nQ 33.0625 21.96875 24.703125 23.78125 \nL 21.578125 24.515625 \nQ 13.234375 26.265625 9.515625 29.90625 \nQ 5.8125 33.546875 5.8125 39.890625 \nQ 5.8125 47.609375 11.28125 51.796875 \nQ 16.75 56 26.8125 56 \nQ 31.78125 56 36.171875 55.265625 \nQ 40.578125 54.546875 44.28125 53.078125 \nz\n\" id=\"DejaVuSans-115\"/>\n       <path d=\"M 45.40625 46.390625 \nL 45.40625 75.984375 \nL 54.390625 75.984375 \nL 54.390625 0 \nL 45.40625 0 \nL 45.40625 8.203125 \nQ 42.578125 3.328125 38.25 0.953125 \nQ 33.9375 -1.421875 27.875 -1.421875 \nQ 17.96875 -1.421875 11.734375 6.484375 \nQ 5.515625 14.40625 5.515625 27.296875 \nQ 5.515625 40.1875 11.734375 48.09375 \nQ 17.96875 56 27.875 56 \nQ 33.9375 56 38.25 53.625 \nQ 42.578125 51.265625 45.40625 46.390625 \nz\nM 14.796875 27.296875 \nQ 14.796875 17.390625 18.875 11.75 \nQ 22.953125 6.109375 30.078125 6.109375 \nQ 37.203125 6.109375 41.296875 11.75 \nQ 45.40625 17.390625 45.40625 27.296875 \nQ 45.40625 37.203125 41.296875 42.84375 \nQ 37.203125 48.484375 30.078125 48.484375 \nQ 22.953125 48.484375 18.875 42.84375 \nQ 14.796875 37.203125 14.796875 27.296875 \nz\n\" id=\"DejaVuSans-100\"/>\n      </defs>\n      <g transform=\"translate(263.434938 464.252031)rotate(-90)scale(0.1 -0.1)\">\n       <use xlink:href=\"#DejaVuSans-116\"/>\n       <use x=\"39.208984\" xlink:href=\"#DejaVuSans-101\"/>\n       <use x=\"100.732422\" xlink:href=\"#DejaVuSans-114\"/>\n       <use x=\"140.095703\" xlink:href=\"#DejaVuSans-109\"/>\n       <use x=\"237.507812\" xlink:href=\"#DejaVuSans-95\"/>\n       <use x=\"287.507812\" xlink:href=\"#DejaVuSans-48\"/>\n       <use x=\"351.130859\" xlink:href=\"#DejaVuSans-48\"/>\n       <use x=\"414.753906\" xlink:href=\"#DejaVuSans-48\"/>\n       <use x=\"478.376953\" xlink:href=\"#DejaVuSans-117\"/>\n       <use x=\"541.755859\" xlink:href=\"#DejaVuSans-115\"/>\n       <use x=\"593.855469\" xlink:href=\"#DejaVuSans-100\"/>\n      </g>\n     </g>\n    </g>\n    <g id=\"xtick_12\">\n     <g id=\"line2d_12\">\n      <g>\n       <use style=\"stroke:#000000;stroke-width:0.8;\" x=\"280.902625\" xlink:href=\"#m4c7bb37f78\" y=\"391.519219\"/>\n      </g>\n     </g>\n     <g id=\"text_12\">\n      <!-- term_0010 -->\n      <g transform=\"translate(283.434656 452.719219)rotate(-90)scale(0.1 -0.1)\">\n       <use xlink:href=\"#DejaVuSans-116\"/>\n       <use x=\"39.208984\" xlink:href=\"#DejaVuSans-101\"/>\n       <use x=\"100.732422\" xlink:href=\"#DejaVuSans-114\"/>\n       <use x=\"140.095703\" xlink:href=\"#DejaVuSans-109\"/>\n       <use x=\"237.507812\" xlink:href=\"#DejaVuSans-95\"/>\n       <use x=\"287.507812\" xlink:href=\"#DejaVuSans-48\"/>\n       <use x=\"351.130859\" xlink:href=\"#DejaVuSans-48\"/>\n       <use x=\"414.753906\" xlink:href=\"#DejaVuSans-49\"/>\n       <use x=\"478.376953\" xlink:href=\"#DejaVuSans-48\"/>\n      </g>\n     </g>\n    </g>\n    <g id=\"xtick_13\">\n     <g id=\"line2d_13\">\n      <g>\n       <use style=\"stroke:#000000;stroke-width:0.8;\" x=\"300.990625\" xlink:href=\"#m4c7bb37f78\" y=\"391.519219\"/>\n      </g>\n     </g>\n     <g id=\"text_13\">\n      <!-- term_001004 -->\n      <g transform=\"translate(303.522656 465.444219)rotate(-90)scale(0.1 -0.1)\">\n       <use xlink:href=\"#DejaVuSans-116\"/>\n       <use x=\"39.208984\" xlink:href=\"#DejaVuSans-101\"/>\n       <use x=\"100.732422\" xlink:href=\"#DejaVuSans-114\"/>\n       <use x=\"140.095703\" xlink:href=\"#DejaVuSans-109\"/>\n       <use x=\"237.507812\" xlink:href=\"#DejaVuSans-95\"/>\n       <use x=\"287.507812\" xlink:href=\"#DejaVuSans-48\"/>\n       <use x=\"351.130859\" xlink:href=\"#DejaVuSans-48\"/>\n       <use x=\"414.753906\" xlink:href=\"#DejaVuSans-49\"/>\n       <use x=\"478.376953\" xlink:href=\"#DejaVuSans-48\"/>\n       <use x=\"542\" xlink:href=\"#DejaVuSans-48\"/>\n       <use x=\"605.623047\" xlink:href=\"#DejaVuSans-52\"/>\n      </g>\n     </g>\n    </g>\n    <g id=\"xtick_14\">\n     <g id=\"line2d_14\">\n      <g>\n       <use style=\"stroke:#000000;stroke-width:0.8;\" x=\"321.078625\" xlink:href=\"#m4c7bb37f78\" y=\"391.519219\"/>\n      </g>\n     </g>\n     <g id=\"text_14\">\n      <!-- term_0010580b -->\n      <defs>\n       <path d=\"M 31.78125 34.625 \nQ 24.75 34.625 20.71875 30.859375 \nQ 16.703125 27.09375 16.703125 20.515625 \nQ 16.703125 13.921875 20.71875 10.15625 \nQ 24.75 6.390625 31.78125 6.390625 \nQ 38.8125 6.390625 42.859375 10.171875 \nQ 46.921875 13.96875 46.921875 20.515625 \nQ 46.921875 27.09375 42.890625 30.859375 \nQ 38.875 34.625 31.78125 34.625 \nz\nM 21.921875 38.8125 \nQ 15.578125 40.375 12.03125 44.71875 \nQ 8.5 49.078125 8.5 55.328125 \nQ 8.5 64.0625 14.71875 69.140625 \nQ 20.953125 74.21875 31.78125 74.21875 \nQ 42.671875 74.21875 48.875 69.140625 \nQ 55.078125 64.0625 55.078125 55.328125 \nQ 55.078125 49.078125 51.53125 44.71875 \nQ 48 40.375 41.703125 38.8125 \nQ 48.828125 37.15625 52.796875 32.3125 \nQ 56.78125 27.484375 56.78125 20.515625 \nQ 56.78125 9.90625 50.3125 4.234375 \nQ 43.84375 -1.421875 31.78125 -1.421875 \nQ 19.734375 -1.421875 13.25 4.234375 \nQ 6.78125 9.90625 6.78125 20.515625 \nQ 6.78125 27.484375 10.78125 32.3125 \nQ 14.796875 37.15625 21.921875 38.8125 \nz\nM 18.3125 54.390625 \nQ 18.3125 48.734375 21.84375 45.5625 \nQ 25.390625 42.390625 31.78125 42.390625 \nQ 38.140625 42.390625 41.71875 45.5625 \nQ 45.3125 48.734375 45.3125 54.390625 \nQ 45.3125 60.0625 41.71875 63.234375 \nQ 38.140625 66.40625 31.78125 66.40625 \nQ 25.390625 66.40625 21.84375 63.234375 \nQ 18.3125 60.0625 18.3125 54.390625 \nz\n\" id=\"DejaVuSans-56\"/>\n       <path d=\"M 48.6875 27.296875 \nQ 48.6875 37.203125 44.609375 42.84375 \nQ 40.53125 48.484375 33.40625 48.484375 \nQ 26.265625 48.484375 22.1875 42.84375 \nQ 18.109375 37.203125 18.109375 27.296875 \nQ 18.109375 17.390625 22.1875 11.75 \nQ 26.265625 6.109375 33.40625 6.109375 \nQ 40.53125 6.109375 44.609375 11.75 \nQ 48.6875 17.390625 48.6875 27.296875 \nz\nM 18.109375 46.390625 \nQ 20.953125 51.265625 25.265625 53.625 \nQ 29.59375 56 35.59375 56 \nQ 45.5625 56 51.78125 48.09375 \nQ 58.015625 40.1875 58.015625 27.296875 \nQ 58.015625 14.40625 51.78125 6.484375 \nQ 45.5625 -1.421875 35.59375 -1.421875 \nQ 29.59375 -1.421875 25.265625 0.953125 \nQ 20.953125 3.328125 18.109375 8.203125 \nL 18.109375 0 \nL 9.078125 0 \nL 9.078125 75.984375 \nL 18.109375 75.984375 \nz\n\" id=\"DejaVuSans-98\"/>\n      </defs>\n      <g transform=\"translate(323.698938 478.155156)rotate(-90)scale(0.1 -0.1)\">\n       <use xlink:href=\"#DejaVuSans-116\"/>\n       <use x=\"39.208984\" xlink:href=\"#DejaVuSans-101\"/>\n       <use x=\"100.732422\" xlink:href=\"#DejaVuSans-114\"/>\n       <use x=\"140.095703\" xlink:href=\"#DejaVuSans-109\"/>\n       <use x=\"237.507812\" xlink:href=\"#DejaVuSans-95\"/>\n       <use x=\"287.507812\" xlink:href=\"#DejaVuSans-48\"/>\n       <use x=\"351.130859\" xlink:href=\"#DejaVuSans-48\"/>\n       <use x=\"414.753906\" xlink:href=\"#DejaVuSans-49\"/>\n       <use x=\"478.376953\" xlink:href=\"#DejaVuSans-48\"/>\n       <use x=\"542\" xlink:href=\"#DejaVuSans-53\"/>\n       <use x=\"605.623047\" xlink:href=\"#DejaVuSans-56\"/>\n       <use x=\"669.246094\" xlink:href=\"#DejaVuSans-48\"/>\n       <use x=\"732.869141\" xlink:href=\"#DejaVuSans-98\"/>\n      </g>\n     </g>\n    </g>\n    <g id=\"xtick_15\">\n     <g id=\"line2d_15\">\n      <g>\n       <use style=\"stroke:#000000;stroke-width:0.8;\" x=\"341.166625\" xlink:href=\"#m4c7bb37f78\" y=\"391.519219\"/>\n      </g>\n     </g>\n     <g id=\"text_15\">\n      <!-- term_001125 -->\n      <g transform=\"translate(343.698656 465.444219)rotate(-90)scale(0.1 -0.1)\">\n       <use xlink:href=\"#DejaVuSans-116\"/>\n       <use x=\"39.208984\" xlink:href=\"#DejaVuSans-101\"/>\n       <use x=\"100.732422\" xlink:href=\"#DejaVuSans-114\"/>\n       <use x=\"140.095703\" xlink:href=\"#DejaVuSans-109\"/>\n       <use x=\"237.507812\" xlink:href=\"#DejaVuSans-95\"/>\n       <use x=\"287.507812\" xlink:href=\"#DejaVuSans-48\"/>\n       <use x=\"351.130859\" xlink:href=\"#DejaVuSans-48\"/>\n       <use x=\"414.753906\" xlink:href=\"#DejaVuSans-49\"/>\n       <use x=\"478.376953\" xlink:href=\"#DejaVuSans-49\"/>\n       <use x=\"542\" xlink:href=\"#DejaVuSans-50\"/>\n       <use x=\"605.623047\" xlink:href=\"#DejaVuSans-53\"/>\n      </g>\n     </g>\n    </g>\n    <g id=\"xtick_16\">\n     <g id=\"line2d_16\">\n      <g>\n       <use style=\"stroke:#000000;stroke-width:0.8;\" x=\"361.254625\" xlink:href=\"#m4c7bb37f78\" y=\"391.519219\"/>\n      </g>\n     </g>\n     <g id=\"text_16\">\n      <!-- term_001200201pixel -->\n      <g transform=\"translate(363.874938 508.195781)rotate(-90)scale(0.1 -0.1)\">\n       <use xlink:href=\"#DejaVuSans-116\"/>\n       <use x=\"39.208984\" xlink:href=\"#DejaVuSans-101\"/>\n       <use x=\"100.732422\" xlink:href=\"#DejaVuSans-114\"/>\n       <use x=\"140.095703\" xlink:href=\"#DejaVuSans-109\"/>\n       <use x=\"237.507812\" xlink:href=\"#DejaVuSans-95\"/>\n       <use x=\"287.507812\" xlink:href=\"#DejaVuSans-48\"/>\n       <use x=\"351.130859\" xlink:href=\"#DejaVuSans-48\"/>\n       <use x=\"414.753906\" xlink:href=\"#DejaVuSans-49\"/>\n       <use x=\"478.376953\" xlink:href=\"#DejaVuSans-50\"/>\n       <use x=\"542\" xlink:href=\"#DejaVuSans-48\"/>\n       <use x=\"605.623047\" xlink:href=\"#DejaVuSans-48\"/>\n       <use x=\"669.246094\" xlink:href=\"#DejaVuSans-50\"/>\n       <use x=\"732.869141\" xlink:href=\"#DejaVuSans-48\"/>\n       <use x=\"796.492188\" xlink:href=\"#DejaVuSans-49\"/>\n       <use x=\"860.115234\" xlink:href=\"#DejaVuSans-112\"/>\n       <use x=\"923.591797\" xlink:href=\"#DejaVuSans-105\"/>\n       <use x=\"951.375\" xlink:href=\"#DejaVuSans-120\"/>\n       <use x=\"1007.429688\" xlink:href=\"#DejaVuSans-101\"/>\n       <use x=\"1068.953125\" xlink:href=\"#DejaVuSans-108\"/>\n      </g>\n     </g>\n    </g>\n    <g id=\"xtick_17\">\n     <g id=\"line2d_17\">\n      <g>\n       <use style=\"stroke:#000000;stroke-width:0.8;\" x=\"381.342625\" xlink:href=\"#m4c7bb37f78\" y=\"391.519219\"/>\n      </g>\n     </g>\n     <g id=\"text_17\">\n      <!-- term_0014 -->\n      <g transform=\"translate(383.874656 452.719219)rotate(-90)scale(0.1 -0.1)\">\n       <use xlink:href=\"#DejaVuSans-116\"/>\n       <use x=\"39.208984\" xlink:href=\"#DejaVuSans-101\"/>\n       <use x=\"100.732422\" xlink:href=\"#DejaVuSans-114\"/>\n       <use x=\"140.095703\" xlink:href=\"#DejaVuSans-109\"/>\n       <use x=\"237.507812\" xlink:href=\"#DejaVuSans-95\"/>\n       <use x=\"287.507812\" xlink:href=\"#DejaVuSans-48\"/>\n       <use x=\"351.130859\" xlink:href=\"#DejaVuSans-48\"/>\n       <use x=\"414.753906\" xlink:href=\"#DejaVuSans-49\"/>\n       <use x=\"478.376953\" xlink:href=\"#DejaVuSans-52\"/>\n      </g>\n     </g>\n    </g>\n    <g id=\"xtick_18\">\n     <g id=\"line2d_18\">\n      <g>\n       <use style=\"stroke:#000000;stroke-width:0.8;\" x=\"401.430625\" xlink:href=\"#m4c7bb37f78\" y=\"391.519219\"/>\n      </g>\n     </g>\n     <g id=\"text_18\">\n      <!-- term_001642 -->\n      <g transform=\"translate(403.962656 465.444219)rotate(-90)scale(0.1 -0.1)\">\n       <use xlink:href=\"#DejaVuSans-116\"/>\n       <use x=\"39.208984\" xlink:href=\"#DejaVuSans-101\"/>\n       <use x=\"100.732422\" xlink:href=\"#DejaVuSans-114\"/>\n       <use x=\"140.095703\" xlink:href=\"#DejaVuSans-109\"/>\n       <use x=\"237.507812\" xlink:href=\"#DejaVuSans-95\"/>\n       <use x=\"287.507812\" xlink:href=\"#DejaVuSans-48\"/>\n       <use x=\"351.130859\" xlink:href=\"#DejaVuSans-48\"/>\n       <use x=\"414.753906\" xlink:href=\"#DejaVuSans-49\"/>\n       <use x=\"478.376953\" xlink:href=\"#DejaVuSans-54\"/>\n       <use x=\"542\" xlink:href=\"#DejaVuSans-52\"/>\n       <use x=\"605.623047\" xlink:href=\"#DejaVuSans-50\"/>\n      </g>\n     </g>\n    </g>\n    <g id=\"xtick_19\">\n     <g id=\"line2d_19\">\n      <g>\n       <use style=\"stroke:#000000;stroke-width:0.8;\" x=\"421.518625\" xlink:href=\"#m4c7bb37f78\" y=\"391.519219\"/>\n      </g>\n     </g>\n     <g id=\"text_19\">\n      <!-- term_00196 -->\n      <defs>\n       <path d=\"M 10.984375 1.515625 \nL 10.984375 10.5 \nQ 14.703125 8.734375 18.5 7.8125 \nQ 22.3125 6.890625 25.984375 6.890625 \nQ 35.75 6.890625 40.890625 13.453125 \nQ 46.046875 20.015625 46.78125 33.40625 \nQ 43.953125 29.203125 39.59375 26.953125 \nQ 35.25 24.703125 29.984375 24.703125 \nQ 19.046875 24.703125 12.671875 31.3125 \nQ 6.296875 37.9375 6.296875 49.421875 \nQ 6.296875 60.640625 12.9375 67.421875 \nQ 19.578125 74.21875 30.609375 74.21875 \nQ 43.265625 74.21875 49.921875 64.515625 \nQ 56.59375 54.828125 56.59375 36.375 \nQ 56.59375 19.140625 48.40625 8.859375 \nQ 40.234375 -1.421875 26.421875 -1.421875 \nQ 22.703125 -1.421875 18.890625 -0.6875 \nQ 15.09375 0.046875 10.984375 1.515625 \nz\nM 30.609375 32.421875 \nQ 37.25 32.421875 41.125 36.953125 \nQ 45.015625 41.5 45.015625 49.421875 \nQ 45.015625 57.28125 41.125 61.84375 \nQ 37.25 66.40625 30.609375 66.40625 \nQ 23.96875 66.40625 20.09375 61.84375 \nQ 16.21875 57.28125 16.21875 49.421875 \nQ 16.21875 41.5 20.09375 36.953125 \nQ 23.96875 32.421875 30.609375 32.421875 \nz\n\" id=\"DejaVuSans-57\"/>\n      </defs>\n      <g transform=\"translate(424.050656 459.081719)rotate(-90)scale(0.1 -0.1)\">\n       <use xlink:href=\"#DejaVuSans-116\"/>\n       <use x=\"39.208984\" xlink:href=\"#DejaVuSans-101\"/>\n       <use x=\"100.732422\" xlink:href=\"#DejaVuSans-114\"/>\n       <use x=\"140.095703\" xlink:href=\"#DejaVuSans-109\"/>\n       <use x=\"237.507812\" xlink:href=\"#DejaVuSans-95\"/>\n       <use x=\"287.507812\" xlink:href=\"#DejaVuSans-48\"/>\n       <use x=\"351.130859\" xlink:href=\"#DejaVuSans-48\"/>\n       <use x=\"414.753906\" xlink:href=\"#DejaVuSans-49\"/>\n       <use x=\"478.376953\" xlink:href=\"#DejaVuSans-57\"/>\n       <use x=\"542\" xlink:href=\"#DejaVuSans-54\"/>\n      </g>\n     </g>\n    </g>\n    <g id=\"xtick_20\">\n     <g id=\"line2d_20\">\n      <g>\n       <use style=\"stroke:#000000;stroke-width:0.8;\" x=\"441.606625\" xlink:href=\"#m4c7bb37f78\" y=\"391.519219\"/>\n      </g>\n     </g>\n     <g id=\"text_20\">\n      <!-- term_002 -->\n      <g transform=\"translate(444.138656 446.356719)rotate(-90)scale(0.1 -0.1)\">\n       <use xlink:href=\"#DejaVuSans-116\"/>\n       <use x=\"39.208984\" xlink:href=\"#DejaVuSans-101\"/>\n       <use x=\"100.732422\" xlink:href=\"#DejaVuSans-114\"/>\n       <use x=\"140.095703\" xlink:href=\"#DejaVuSans-109\"/>\n       <use x=\"237.507812\" xlink:href=\"#DejaVuSans-95\"/>\n       <use x=\"287.507812\" xlink:href=\"#DejaVuSans-48\"/>\n       <use x=\"351.130859\" xlink:href=\"#DejaVuSans-48\"/>\n       <use x=\"414.753906\" xlink:href=\"#DejaVuSans-50\"/>\n      </g>\n     </g>\n    </g>\n   </g>\n   <g id=\"matplotlib.axis_2\">\n    <g id=\"ytick_1\">\n     <g id=\"line2d_21\">\n      <defs>\n       <path d=\"M 0 0 \nL -3.5 0 \n\" id=\"m09598ef8b7\" style=\"stroke:#000000;stroke-width:0.8;\"/>\n      </defs>\n      <g>\n       <use style=\"stroke:#000000;stroke-width:0.8;\" x=\"49.890625\" xlink:href=\"#m09598ef8b7\" y=\"20.512219\"/>\n      </g>\n     </g>\n     <g id=\"text_21\">\n      <!-- doc_0 -->\n      <defs>\n       <path d=\"M 30.609375 48.390625 \nQ 23.390625 48.390625 19.1875 42.75 \nQ 14.984375 37.109375 14.984375 27.296875 \nQ 14.984375 17.484375 19.15625 11.84375 \nQ 23.34375 6.203125 30.609375 6.203125 \nQ 37.796875 6.203125 41.984375 11.859375 \nQ 46.1875 17.53125 46.1875 27.296875 \nQ 46.1875 37.015625 41.984375 42.703125 \nQ 37.796875 48.390625 30.609375 48.390625 \nz\nM 30.609375 56 \nQ 42.328125 56 49.015625 48.375 \nQ 55.71875 40.765625 55.71875 27.296875 \nQ 55.71875 13.875 49.015625 6.21875 \nQ 42.328125 -1.421875 30.609375 -1.421875 \nQ 18.84375 -1.421875 12.171875 6.21875 \nQ 5.515625 13.875 5.515625 27.296875 \nQ 5.515625 40.765625 12.171875 48.375 \nQ 18.84375 56 30.609375 56 \nz\n\" id=\"DejaVuSans-111\"/>\n       <path d=\"M 48.78125 52.59375 \nL 48.78125 44.1875 \nQ 44.96875 46.296875 41.140625 47.34375 \nQ 37.3125 48.390625 33.40625 48.390625 \nQ 24.65625 48.390625 19.8125 42.84375 \nQ 14.984375 37.3125 14.984375 27.296875 \nQ 14.984375 17.28125 19.8125 11.734375 \nQ 24.65625 6.203125 33.40625 6.203125 \nQ 37.3125 6.203125 41.140625 7.25 \nQ 44.96875 8.296875 48.78125 10.40625 \nL 48.78125 2.09375 \nQ 45.015625 0.34375 40.984375 -0.53125 \nQ 36.96875 -1.421875 32.421875 -1.421875 \nQ 20.0625 -1.421875 12.78125 6.34375 \nQ 5.515625 14.109375 5.515625 27.296875 \nQ 5.515625 40.671875 12.859375 48.328125 \nQ 20.21875 56 33.015625 56 \nQ 37.15625 56 41.109375 55.140625 \nQ 45.0625 54.296875 48.78125 52.59375 \nz\n\" id=\"DejaVuSans-99\"/>\n      </defs>\n      <g transform=\"translate(13.5625 24.311437)scale(0.1 -0.1)\">\n       <use xlink:href=\"#DejaVuSans-100\"/>\n       <use x=\"63.476562\" xlink:href=\"#DejaVuSans-111\"/>\n       <use x=\"124.658203\" xlink:href=\"#DejaVuSans-99\"/>\n       <use x=\"179.638672\" xlink:href=\"#DejaVuSans-95\"/>\n       <use x=\"229.638672\" xlink:href=\"#DejaVuSans-48\"/>\n      </g>\n     </g>\n    </g>\n    <g id=\"ytick_2\">\n     <g id=\"line2d_22\">\n      <g>\n       <use style=\"stroke:#000000;stroke-width:0.8;\" x=\"49.890625\" xlink:href=\"#m09598ef8b7\" y=\"39.538219\"/>\n      </g>\n     </g>\n     <g id=\"text_22\">\n      <!-- doc_1 -->\n      <g transform=\"translate(13.5625 43.337437)scale(0.1 -0.1)\">\n       <use xlink:href=\"#DejaVuSans-100\"/>\n       <use x=\"63.476562\" xlink:href=\"#DejaVuSans-111\"/>\n       <use x=\"124.658203\" xlink:href=\"#DejaVuSans-99\"/>\n       <use x=\"179.638672\" xlink:href=\"#DejaVuSans-95\"/>\n       <use x=\"229.638672\" xlink:href=\"#DejaVuSans-49\"/>\n      </g>\n     </g>\n    </g>\n    <g id=\"ytick_3\">\n     <g id=\"line2d_23\">\n      <g>\n       <use style=\"stroke:#000000;stroke-width:0.8;\" x=\"49.890625\" xlink:href=\"#m09598ef8b7\" y=\"58.564219\"/>\n      </g>\n     </g>\n     <g id=\"text_23\">\n      <!-- doc_2 -->\n      <g transform=\"translate(13.5625 62.363437)scale(0.1 -0.1)\">\n       <use xlink:href=\"#DejaVuSans-100\"/>\n       <use x=\"63.476562\" xlink:href=\"#DejaVuSans-111\"/>\n       <use x=\"124.658203\" xlink:href=\"#DejaVuSans-99\"/>\n       <use x=\"179.638672\" xlink:href=\"#DejaVuSans-95\"/>\n       <use x=\"229.638672\" xlink:href=\"#DejaVuSans-50\"/>\n      </g>\n     </g>\n    </g>\n    <g id=\"ytick_4\">\n     <g id=\"line2d_24\">\n      <g>\n       <use style=\"stroke:#000000;stroke-width:0.8;\" x=\"49.890625\" xlink:href=\"#m09598ef8b7\" y=\"77.590219\"/>\n      </g>\n     </g>\n     <g id=\"text_24\">\n      <!-- doc_3 -->\n      <defs>\n       <path d=\"M 40.578125 39.3125 \nQ 47.65625 37.796875 51.625 33 \nQ 55.609375 28.21875 55.609375 21.1875 \nQ 55.609375 10.40625 48.1875 4.484375 \nQ 40.765625 -1.421875 27.09375 -1.421875 \nQ 22.515625 -1.421875 17.65625 -0.515625 \nQ 12.796875 0.390625 7.625 2.203125 \nL 7.625 11.71875 \nQ 11.71875 9.328125 16.59375 8.109375 \nQ 21.484375 6.890625 26.8125 6.890625 \nQ 36.078125 6.890625 40.9375 10.546875 \nQ 45.796875 14.203125 45.796875 21.1875 \nQ 45.796875 27.640625 41.28125 31.265625 \nQ 36.765625 34.90625 28.71875 34.90625 \nL 20.21875 34.90625 \nL 20.21875 43.015625 \nL 29.109375 43.015625 \nQ 36.375 43.015625 40.234375 45.921875 \nQ 44.09375 48.828125 44.09375 54.296875 \nQ 44.09375 59.90625 40.109375 62.90625 \nQ 36.140625 65.921875 28.71875 65.921875 \nQ 24.65625 65.921875 20.015625 65.03125 \nQ 15.375 64.15625 9.8125 62.3125 \nL 9.8125 71.09375 \nQ 15.4375 72.65625 20.34375 73.4375 \nQ 25.25 74.21875 29.59375 74.21875 \nQ 40.828125 74.21875 47.359375 69.109375 \nQ 53.90625 64.015625 53.90625 55.328125 \nQ 53.90625 49.265625 50.4375 45.09375 \nQ 46.96875 40.921875 40.578125 39.3125 \nz\n\" id=\"DejaVuSans-51\"/>\n      </defs>\n      <g transform=\"translate(13.5625 81.389437)scale(0.1 -0.1)\">\n       <use xlink:href=\"#DejaVuSans-100\"/>\n       <use x=\"63.476562\" xlink:href=\"#DejaVuSans-111\"/>\n       <use x=\"124.658203\" xlink:href=\"#DejaVuSans-99\"/>\n       <use x=\"179.638672\" xlink:href=\"#DejaVuSans-95\"/>\n       <use x=\"229.638672\" xlink:href=\"#DejaVuSans-51\"/>\n      </g>\n     </g>\n    </g>\n    <g id=\"ytick_5\">\n     <g id=\"line2d_25\">\n      <g>\n       <use style=\"stroke:#000000;stroke-width:0.8;\" x=\"49.890625\" xlink:href=\"#m09598ef8b7\" y=\"96.616219\"/>\n      </g>\n     </g>\n     <g id=\"text_25\">\n      <!-- doc_4 -->\n      <g transform=\"translate(13.5625 100.415437)scale(0.1 -0.1)\">\n       <use xlink:href=\"#DejaVuSans-100\"/>\n       <use x=\"63.476562\" xlink:href=\"#DejaVuSans-111\"/>\n       <use x=\"124.658203\" xlink:href=\"#DejaVuSans-99\"/>\n       <use x=\"179.638672\" xlink:href=\"#DejaVuSans-95\"/>\n       <use x=\"229.638672\" xlink:href=\"#DejaVuSans-52\"/>\n      </g>\n     </g>\n    </g>\n    <g id=\"ytick_6\">\n     <g id=\"line2d_26\">\n      <g>\n       <use style=\"stroke:#000000;stroke-width:0.8;\" x=\"49.890625\" xlink:href=\"#m09598ef8b7\" y=\"115.642219\"/>\n      </g>\n     </g>\n     <g id=\"text_26\">\n      <!-- doc_5 -->\n      <g transform=\"translate(13.5625 119.441438)scale(0.1 -0.1)\">\n       <use xlink:href=\"#DejaVuSans-100\"/>\n       <use x=\"63.476562\" xlink:href=\"#DejaVuSans-111\"/>\n       <use x=\"124.658203\" xlink:href=\"#DejaVuSans-99\"/>\n       <use x=\"179.638672\" xlink:href=\"#DejaVuSans-95\"/>\n       <use x=\"229.638672\" xlink:href=\"#DejaVuSans-53\"/>\n      </g>\n     </g>\n    </g>\n    <g id=\"ytick_7\">\n     <g id=\"line2d_27\">\n      <g>\n       <use style=\"stroke:#000000;stroke-width:0.8;\" x=\"49.890625\" xlink:href=\"#m09598ef8b7\" y=\"134.668219\"/>\n      </g>\n     </g>\n     <g id=\"text_27\">\n      <!-- doc_6 -->\n      <g transform=\"translate(13.5625 138.467437)scale(0.1 -0.1)\">\n       <use xlink:href=\"#DejaVuSans-100\"/>\n       <use x=\"63.476562\" xlink:href=\"#DejaVuSans-111\"/>\n       <use x=\"124.658203\" xlink:href=\"#DejaVuSans-99\"/>\n       <use x=\"179.638672\" xlink:href=\"#DejaVuSans-95\"/>\n       <use x=\"229.638672\" xlink:href=\"#DejaVuSans-54\"/>\n      </g>\n     </g>\n    </g>\n    <g id=\"ytick_8\">\n     <g id=\"line2d_28\">\n      <g>\n       <use style=\"stroke:#000000;stroke-width:0.8;\" x=\"49.890625\" xlink:href=\"#m09598ef8b7\" y=\"153.694219\"/>\n      </g>\n     </g>\n     <g id=\"text_28\">\n      <!-- doc_7 -->\n      <g transform=\"translate(13.5625 157.493437)scale(0.1 -0.1)\">\n       <use xlink:href=\"#DejaVuSans-100\"/>\n       <use x=\"63.476562\" xlink:href=\"#DejaVuSans-111\"/>\n       <use x=\"124.658203\" xlink:href=\"#DejaVuSans-99\"/>\n       <use x=\"179.638672\" xlink:href=\"#DejaVuSans-95\"/>\n       <use x=\"229.638672\" xlink:href=\"#DejaVuSans-55\"/>\n      </g>\n     </g>\n    </g>\n    <g id=\"ytick_9\">\n     <g id=\"line2d_29\">\n      <g>\n       <use style=\"stroke:#000000;stroke-width:0.8;\" x=\"49.890625\" xlink:href=\"#m09598ef8b7\" y=\"172.720219\"/>\n      </g>\n     </g>\n     <g id=\"text_29\">\n      <!-- doc_8 -->\n      <g transform=\"translate(13.5625 176.519437)scale(0.1 -0.1)\">\n       <use xlink:href=\"#DejaVuSans-100\"/>\n       <use x=\"63.476562\" xlink:href=\"#DejaVuSans-111\"/>\n       <use x=\"124.658203\" xlink:href=\"#DejaVuSans-99\"/>\n       <use x=\"179.638672\" xlink:href=\"#DejaVuSans-95\"/>\n       <use x=\"229.638672\" xlink:href=\"#DejaVuSans-56\"/>\n      </g>\n     </g>\n    </g>\n    <g id=\"ytick_10\">\n     <g id=\"line2d_30\">\n      <g>\n       <use style=\"stroke:#000000;stroke-width:0.8;\" x=\"49.890625\" xlink:href=\"#m09598ef8b7\" y=\"191.746219\"/>\n      </g>\n     </g>\n     <g id=\"text_30\">\n      <!-- doc_9 -->\n      <g transform=\"translate(13.5625 195.545437)scale(0.1 -0.1)\">\n       <use xlink:href=\"#DejaVuSans-100\"/>\n       <use x=\"63.476562\" xlink:href=\"#DejaVuSans-111\"/>\n       <use x=\"124.658203\" xlink:href=\"#DejaVuSans-99\"/>\n       <use x=\"179.638672\" xlink:href=\"#DejaVuSans-95\"/>\n       <use x=\"229.638672\" xlink:href=\"#DejaVuSans-57\"/>\n      </g>\n     </g>\n    </g>\n    <g id=\"ytick_11\">\n     <g id=\"line2d_31\">\n      <g>\n       <use style=\"stroke:#000000;stroke-width:0.8;\" x=\"49.890625\" xlink:href=\"#m09598ef8b7\" y=\"210.772219\"/>\n      </g>\n     </g>\n     <g id=\"text_31\">\n      <!-- doc_10 -->\n      <g transform=\"translate(7.2 214.571438)scale(0.1 -0.1)\">\n       <use xlink:href=\"#DejaVuSans-100\"/>\n       <use x=\"63.476562\" xlink:href=\"#DejaVuSans-111\"/>\n       <use x=\"124.658203\" xlink:href=\"#DejaVuSans-99\"/>\n       <use x=\"179.638672\" xlink:href=\"#DejaVuSans-95\"/>\n       <use x=\"229.638672\" xlink:href=\"#DejaVuSans-49\"/>\n       <use x=\"293.261719\" xlink:href=\"#DejaVuSans-48\"/>\n      </g>\n     </g>\n    </g>\n    <g id=\"ytick_12\">\n     <g id=\"line2d_32\">\n      <g>\n       <use style=\"stroke:#000000;stroke-width:0.8;\" x=\"49.890625\" xlink:href=\"#m09598ef8b7\" y=\"229.798219\"/>\n      </g>\n     </g>\n     <g id=\"text_32\">\n      <!-- doc_11 -->\n      <g transform=\"translate(7.2 233.597437)scale(0.1 -0.1)\">\n       <use xlink:href=\"#DejaVuSans-100\"/>\n       <use x=\"63.476562\" xlink:href=\"#DejaVuSans-111\"/>\n       <use x=\"124.658203\" xlink:href=\"#DejaVuSans-99\"/>\n       <use x=\"179.638672\" xlink:href=\"#DejaVuSans-95\"/>\n       <use x=\"229.638672\" xlink:href=\"#DejaVuSans-49\"/>\n       <use x=\"293.261719\" xlink:href=\"#DejaVuSans-49\"/>\n      </g>\n     </g>\n    </g>\n    <g id=\"ytick_13\">\n     <g id=\"line2d_33\">\n      <g>\n       <use style=\"stroke:#000000;stroke-width:0.8;\" x=\"49.890625\" xlink:href=\"#m09598ef8b7\" y=\"248.824219\"/>\n      </g>\n     </g>\n     <g id=\"text_33\">\n      <!-- doc_12 -->\n      <g transform=\"translate(7.2 252.623437)scale(0.1 -0.1)\">\n       <use xlink:href=\"#DejaVuSans-100\"/>\n       <use x=\"63.476562\" xlink:href=\"#DejaVuSans-111\"/>\n       <use x=\"124.658203\" xlink:href=\"#DejaVuSans-99\"/>\n       <use x=\"179.638672\" xlink:href=\"#DejaVuSans-95\"/>\n       <use x=\"229.638672\" xlink:href=\"#DejaVuSans-49\"/>\n       <use x=\"293.261719\" xlink:href=\"#DejaVuSans-50\"/>\n      </g>\n     </g>\n    </g>\n    <g id=\"ytick_14\">\n     <g id=\"line2d_34\">\n      <g>\n       <use style=\"stroke:#000000;stroke-width:0.8;\" x=\"49.890625\" xlink:href=\"#m09598ef8b7\" y=\"267.850219\"/>\n      </g>\n     </g>\n     <g id=\"text_34\">\n      <!-- doc_13 -->\n      <g transform=\"translate(7.2 271.649437)scale(0.1 -0.1)\">\n       <use xlink:href=\"#DejaVuSans-100\"/>\n       <use x=\"63.476562\" xlink:href=\"#DejaVuSans-111\"/>\n       <use x=\"124.658203\" xlink:href=\"#DejaVuSans-99\"/>\n       <use x=\"179.638672\" xlink:href=\"#DejaVuSans-95\"/>\n       <use x=\"229.638672\" xlink:href=\"#DejaVuSans-49\"/>\n       <use x=\"293.261719\" xlink:href=\"#DejaVuSans-51\"/>\n      </g>\n     </g>\n    </g>\n    <g id=\"ytick_15\">\n     <g id=\"line2d_35\">\n      <g>\n       <use style=\"stroke:#000000;stroke-width:0.8;\" x=\"49.890625\" xlink:href=\"#m09598ef8b7\" y=\"286.876219\"/>\n      </g>\n     </g>\n     <g id=\"text_35\">\n      <!-- doc_14 -->\n      <g transform=\"translate(7.2 290.675437)scale(0.1 -0.1)\">\n       <use xlink:href=\"#DejaVuSans-100\"/>\n       <use x=\"63.476562\" xlink:href=\"#DejaVuSans-111\"/>\n       <use x=\"124.658203\" xlink:href=\"#DejaVuSans-99\"/>\n       <use x=\"179.638672\" xlink:href=\"#DejaVuSans-95\"/>\n       <use x=\"229.638672\" xlink:href=\"#DejaVuSans-49\"/>\n       <use x=\"293.261719\" xlink:href=\"#DejaVuSans-52\"/>\n      </g>\n     </g>\n    </g>\n    <g id=\"ytick_16\">\n     <g id=\"line2d_36\">\n      <g>\n       <use style=\"stroke:#000000;stroke-width:0.8;\" x=\"49.890625\" xlink:href=\"#m09598ef8b7\" y=\"305.902219\"/>\n      </g>\n     </g>\n     <g id=\"text_36\">\n      <!-- doc_15 -->\n      <g transform=\"translate(7.2 309.701437)scale(0.1 -0.1)\">\n       <use xlink:href=\"#DejaVuSans-100\"/>\n       <use x=\"63.476562\" xlink:href=\"#DejaVuSans-111\"/>\n       <use x=\"124.658203\" xlink:href=\"#DejaVuSans-99\"/>\n       <use x=\"179.638672\" xlink:href=\"#DejaVuSans-95\"/>\n       <use x=\"229.638672\" xlink:href=\"#DejaVuSans-49\"/>\n       <use x=\"293.261719\" xlink:href=\"#DejaVuSans-53\"/>\n      </g>\n     </g>\n    </g>\n    <g id=\"ytick_17\">\n     <g id=\"line2d_37\">\n      <g>\n       <use style=\"stroke:#000000;stroke-width:0.8;\" x=\"49.890625\" xlink:href=\"#m09598ef8b7\" y=\"324.928219\"/>\n      </g>\n     </g>\n     <g id=\"text_37\">\n      <!-- doc_16 -->\n      <g transform=\"translate(7.2 328.727437)scale(0.1 -0.1)\">\n       <use xlink:href=\"#DejaVuSans-100\"/>\n       <use x=\"63.476562\" xlink:href=\"#DejaVuSans-111\"/>\n       <use x=\"124.658203\" xlink:href=\"#DejaVuSans-99\"/>\n       <use x=\"179.638672\" xlink:href=\"#DejaVuSans-95\"/>\n       <use x=\"229.638672\" xlink:href=\"#DejaVuSans-49\"/>\n       <use x=\"293.261719\" xlink:href=\"#DejaVuSans-54\"/>\n      </g>\n     </g>\n    </g>\n    <g id=\"ytick_18\">\n     <g id=\"line2d_38\">\n      <g>\n       <use style=\"stroke:#000000;stroke-width:0.8;\" x=\"49.890625\" xlink:href=\"#m09598ef8b7\" y=\"343.954219\"/>\n      </g>\n     </g>\n     <g id=\"text_38\">\n      <!-- doc_17 -->\n      <g transform=\"translate(7.2 347.753437)scale(0.1 -0.1)\">\n       <use xlink:href=\"#DejaVuSans-100\"/>\n       <use x=\"63.476562\" xlink:href=\"#DejaVuSans-111\"/>\n       <use x=\"124.658203\" xlink:href=\"#DejaVuSans-99\"/>\n       <use x=\"179.638672\" xlink:href=\"#DejaVuSans-95\"/>\n       <use x=\"229.638672\" xlink:href=\"#DejaVuSans-49\"/>\n       <use x=\"293.261719\" xlink:href=\"#DejaVuSans-55\"/>\n      </g>\n     </g>\n    </g>\n    <g id=\"ytick_19\">\n     <g id=\"line2d_39\">\n      <g>\n       <use style=\"stroke:#000000;stroke-width:0.8;\" x=\"49.890625\" xlink:href=\"#m09598ef8b7\" y=\"362.980219\"/>\n      </g>\n     </g>\n     <g id=\"text_39\">\n      <!-- doc_18 -->\n      <g transform=\"translate(7.2 366.779437)scale(0.1 -0.1)\">\n       <use xlink:href=\"#DejaVuSans-100\"/>\n       <use x=\"63.476562\" xlink:href=\"#DejaVuSans-111\"/>\n       <use x=\"124.658203\" xlink:href=\"#DejaVuSans-99\"/>\n       <use x=\"179.638672\" xlink:href=\"#DejaVuSans-95\"/>\n       <use x=\"229.638672\" xlink:href=\"#DejaVuSans-49\"/>\n       <use x=\"293.261719\" xlink:href=\"#DejaVuSans-56\"/>\n      </g>\n     </g>\n    </g>\n    <g id=\"ytick_20\">\n     <g id=\"line2d_40\">\n      <g>\n       <use style=\"stroke:#000000;stroke-width:0.8;\" x=\"49.890625\" xlink:href=\"#m09598ef8b7\" y=\"382.006219\"/>\n      </g>\n     </g>\n     <g id=\"text_40\">\n      <!-- doc_19 -->\n      <g transform=\"translate(7.2 385.805437)scale(0.1 -0.1)\">\n       <use xlink:href=\"#DejaVuSans-100\"/>\n       <use x=\"63.476562\" xlink:href=\"#DejaVuSans-111\"/>\n       <use x=\"124.658203\" xlink:href=\"#DejaVuSans-99\"/>\n       <use x=\"179.638672\" xlink:href=\"#DejaVuSans-95\"/>\n       <use x=\"229.638672\" xlink:href=\"#DejaVuSans-49\"/>\n       <use x=\"293.261719\" xlink:href=\"#DejaVuSans-57\"/>\n      </g>\n     </g>\n    </g>\n   </g>\n   <g id=\"text_41\">\n    <!-- 0 -->\n    <g style=\"fill:#262626;\" transform=\"translate(56.753375 23.271594)scale(0.1 -0.1)\">\n     <use xlink:href=\"#DejaVuSans-48\"/>\n    </g>\n   </g>\n   <g id=\"text_42\">\n    <!-- 0 -->\n    <g style=\"fill:#262626;\" transform=\"translate(76.841375 23.271594)scale(0.1 -0.1)\">\n     <use xlink:href=\"#DejaVuSans-48\"/>\n    </g>\n   </g>\n   <g id=\"text_43\">\n    <!-- 0 -->\n    <g style=\"fill:#262626;\" transform=\"translate(96.929375 23.271594)scale(0.1 -0.1)\">\n     <use xlink:href=\"#DejaVuSans-48\"/>\n    </g>\n   </g>\n   <g id=\"text_44\">\n    <!-- 0 -->\n    <g style=\"fill:#262626;\" transform=\"translate(117.017375 23.271594)scale(0.1 -0.1)\">\n     <use xlink:href=\"#DejaVuSans-48\"/>\n    </g>\n   </g>\n   <g id=\"text_45\">\n    <!-- 0 -->\n    <g style=\"fill:#262626;\" transform=\"translate(137.105375 23.271594)scale(0.1 -0.1)\">\n     <use xlink:href=\"#DejaVuSans-48\"/>\n    </g>\n   </g>\n   <g id=\"text_46\">\n    <!-- 0 -->\n    <g style=\"fill:#262626;\" transform=\"translate(157.193375 23.271594)scale(0.1 -0.1)\">\n     <use xlink:href=\"#DejaVuSans-48\"/>\n    </g>\n   </g>\n   <g id=\"text_47\">\n    <!-- 0 -->\n    <g style=\"fill:#262626;\" transform=\"translate(177.281375 23.271594)scale(0.1 -0.1)\">\n     <use xlink:href=\"#DejaVuSans-48\"/>\n    </g>\n   </g>\n   <g id=\"text_48\">\n    <!-- 0 -->\n    <g style=\"fill:#262626;\" transform=\"translate(197.369375 23.271594)scale(0.1 -0.1)\">\n     <use xlink:href=\"#DejaVuSans-48\"/>\n    </g>\n   </g>\n   <g id=\"text_49\">\n    <!-- 0 -->\n    <g style=\"fill:#262626;\" transform=\"translate(217.457375 23.271594)scale(0.1 -0.1)\">\n     <use xlink:href=\"#DejaVuSans-48\"/>\n    </g>\n   </g>\n   <g id=\"text_50\">\n    <!-- 0 -->\n    <g style=\"fill:#262626;\" transform=\"translate(237.545375 23.271594)scale(0.1 -0.1)\">\n     <use xlink:href=\"#DejaVuSans-48\"/>\n    </g>\n   </g>\n   <g id=\"text_51\">\n    <!-- 0 -->\n    <g style=\"fill:#262626;\" transform=\"translate(257.633375 23.271594)scale(0.1 -0.1)\">\n     <use xlink:href=\"#DejaVuSans-48\"/>\n    </g>\n   </g>\n   <g id=\"text_52\">\n    <!-- 0 -->\n    <g style=\"fill:#262626;\" transform=\"translate(277.721375 23.271594)scale(0.1 -0.1)\">\n     <use xlink:href=\"#DejaVuSans-48\"/>\n    </g>\n   </g>\n   <g id=\"text_53\">\n    <!-- 0 -->\n    <g style=\"fill:#262626;\" transform=\"translate(297.809375 23.271594)scale(0.1 -0.1)\">\n     <use xlink:href=\"#DejaVuSans-48\"/>\n    </g>\n   </g>\n   <g id=\"text_54\">\n    <!-- 0 -->\n    <g style=\"fill:#262626;\" transform=\"translate(317.897375 23.271594)scale(0.1 -0.1)\">\n     <use xlink:href=\"#DejaVuSans-48\"/>\n    </g>\n   </g>\n   <g id=\"text_55\">\n    <!-- 0 -->\n    <g style=\"fill:#262626;\" transform=\"translate(337.985375 23.271594)scale(0.1 -0.1)\">\n     <use xlink:href=\"#DejaVuSans-48\"/>\n    </g>\n   </g>\n   <g id=\"text_56\">\n    <!-- 0 -->\n    <g style=\"fill:#262626;\" transform=\"translate(358.073375 23.271594)scale(0.1 -0.1)\">\n     <use xlink:href=\"#DejaVuSans-48\"/>\n    </g>\n   </g>\n   <g id=\"text_57\">\n    <!-- 0 -->\n    <g style=\"fill:#262626;\" transform=\"translate(378.161375 23.271594)scale(0.1 -0.1)\">\n     <use xlink:href=\"#DejaVuSans-48\"/>\n    </g>\n   </g>\n   <g id=\"text_58\">\n    <!-- 0 -->\n    <g style=\"fill:#262626;\" transform=\"translate(398.249375 23.271594)scale(0.1 -0.1)\">\n     <use xlink:href=\"#DejaVuSans-48\"/>\n    </g>\n   </g>\n   <g id=\"text_59\">\n    <!-- 0 -->\n    <g style=\"fill:#262626;\" transform=\"translate(418.337375 23.271594)scale(0.1 -0.1)\">\n     <use xlink:href=\"#DejaVuSans-48\"/>\n    </g>\n   </g>\n   <g id=\"text_60\">\n    <!-- 0 -->\n    <g style=\"fill:#262626;\" transform=\"translate(438.425375 23.271594)scale(0.1 -0.1)\">\n     <use xlink:href=\"#DejaVuSans-48\"/>\n    </g>\n   </g>\n   <g id=\"text_61\">\n    <!-- 0 -->\n    <g style=\"fill:#262626;\" transform=\"translate(56.753375 42.297594)scale(0.1 -0.1)\">\n     <use xlink:href=\"#DejaVuSans-48\"/>\n    </g>\n   </g>\n   <g id=\"text_62\">\n    <!-- 0 -->\n    <g style=\"fill:#262626;\" transform=\"translate(76.841375 42.297594)scale(0.1 -0.1)\">\n     <use xlink:href=\"#DejaVuSans-48\"/>\n    </g>\n   </g>\n   <g id=\"text_63\">\n    <!-- 0 -->\n    <g style=\"fill:#262626;\" transform=\"translate(96.929375 42.297594)scale(0.1 -0.1)\">\n     <use xlink:href=\"#DejaVuSans-48\"/>\n    </g>\n   </g>\n   <g id=\"text_64\">\n    <!-- 0 -->\n    <g style=\"fill:#262626;\" transform=\"translate(117.017375 42.297594)scale(0.1 -0.1)\">\n     <use xlink:href=\"#DejaVuSans-48\"/>\n    </g>\n   </g>\n   <g id=\"text_65\">\n    <!-- 0 -->\n    <g style=\"fill:#262626;\" transform=\"translate(137.105375 42.297594)scale(0.1 -0.1)\">\n     <use xlink:href=\"#DejaVuSans-48\"/>\n    </g>\n   </g>\n   <g id=\"text_66\">\n    <!-- 0 -->\n    <g style=\"fill:#262626;\" transform=\"translate(157.193375 42.297594)scale(0.1 -0.1)\">\n     <use xlink:href=\"#DejaVuSans-48\"/>\n    </g>\n   </g>\n   <g id=\"text_67\">\n    <!-- 0 -->\n    <g style=\"fill:#262626;\" transform=\"translate(177.281375 42.297594)scale(0.1 -0.1)\">\n     <use xlink:href=\"#DejaVuSans-48\"/>\n    </g>\n   </g>\n   <g id=\"text_68\">\n    <!-- 0 -->\n    <g style=\"fill:#262626;\" transform=\"translate(197.369375 42.297594)scale(0.1 -0.1)\">\n     <use xlink:href=\"#DejaVuSans-48\"/>\n    </g>\n   </g>\n   <g id=\"text_69\">\n    <!-- 0 -->\n    <g style=\"fill:#262626;\" transform=\"translate(217.457375 42.297594)scale(0.1 -0.1)\">\n     <use xlink:href=\"#DejaVuSans-48\"/>\n    </g>\n   </g>\n   <g id=\"text_70\">\n    <!-- 0 -->\n    <g style=\"fill:#262626;\" transform=\"translate(237.545375 42.297594)scale(0.1 -0.1)\">\n     <use xlink:href=\"#DejaVuSans-48\"/>\n    </g>\n   </g>\n   <g id=\"text_71\">\n    <!-- 0 -->\n    <g style=\"fill:#262626;\" transform=\"translate(257.633375 42.297594)scale(0.1 -0.1)\">\n     <use xlink:href=\"#DejaVuSans-48\"/>\n    </g>\n   </g>\n   <g id=\"text_72\">\n    <!-- 0 -->\n    <g style=\"fill:#262626;\" transform=\"translate(277.721375 42.297594)scale(0.1 -0.1)\">\n     <use xlink:href=\"#DejaVuSans-48\"/>\n    </g>\n   </g>\n   <g id=\"text_73\">\n    <!-- 0 -->\n    <g style=\"fill:#262626;\" transform=\"translate(297.809375 42.297594)scale(0.1 -0.1)\">\n     <use xlink:href=\"#DejaVuSans-48\"/>\n    </g>\n   </g>\n   <g id=\"text_74\">\n    <!-- 0 -->\n    <g style=\"fill:#262626;\" transform=\"translate(317.897375 42.297594)scale(0.1 -0.1)\">\n     <use xlink:href=\"#DejaVuSans-48\"/>\n    </g>\n   </g>\n   <g id=\"text_75\">\n    <!-- 0 -->\n    <g style=\"fill:#262626;\" transform=\"translate(337.985375 42.297594)scale(0.1 -0.1)\">\n     <use xlink:href=\"#DejaVuSans-48\"/>\n    </g>\n   </g>\n   <g id=\"text_76\">\n    <!-- 0 -->\n    <g style=\"fill:#262626;\" transform=\"translate(358.073375 42.297594)scale(0.1 -0.1)\">\n     <use xlink:href=\"#DejaVuSans-48\"/>\n    </g>\n   </g>\n   <g id=\"text_77\">\n    <!-- 0 -->\n    <g style=\"fill:#262626;\" transform=\"translate(378.161375 42.297594)scale(0.1 -0.1)\">\n     <use xlink:href=\"#DejaVuSans-48\"/>\n    </g>\n   </g>\n   <g id=\"text_78\">\n    <!-- 0 -->\n    <g style=\"fill:#262626;\" transform=\"translate(398.249375 42.297594)scale(0.1 -0.1)\">\n     <use xlink:href=\"#DejaVuSans-48\"/>\n    </g>\n   </g>\n   <g id=\"text_79\">\n    <!-- 0 -->\n    <g style=\"fill:#262626;\" transform=\"translate(418.337375 42.297594)scale(0.1 -0.1)\">\n     <use xlink:href=\"#DejaVuSans-48\"/>\n    </g>\n   </g>\n   <g id=\"text_80\">\n    <!-- 0 -->\n    <g style=\"fill:#262626;\" transform=\"translate(438.425375 42.297594)scale(0.1 -0.1)\">\n     <use xlink:href=\"#DejaVuSans-48\"/>\n    </g>\n   </g>\n   <g id=\"text_81\">\n    <!-- 0 -->\n    <g style=\"fill:#262626;\" transform=\"translate(56.753375 61.323594)scale(0.1 -0.1)\">\n     <use xlink:href=\"#DejaVuSans-48\"/>\n    </g>\n   </g>\n   <g id=\"text_82\">\n    <!-- 0 -->\n    <g style=\"fill:#262626;\" transform=\"translate(76.841375 61.323594)scale(0.1 -0.1)\">\n     <use xlink:href=\"#DejaVuSans-48\"/>\n    </g>\n   </g>\n   <g id=\"text_83\">\n    <!-- 0 -->\n    <g style=\"fill:#262626;\" transform=\"translate(96.929375 61.323594)scale(0.1 -0.1)\">\n     <use xlink:href=\"#DejaVuSans-48\"/>\n    </g>\n   </g>\n   <g id=\"text_84\">\n    <!-- 0 -->\n    <g style=\"fill:#262626;\" transform=\"translate(117.017375 61.323594)scale(0.1 -0.1)\">\n     <use xlink:href=\"#DejaVuSans-48\"/>\n    </g>\n   </g>\n   <g id=\"text_85\">\n    <!-- 0 -->\n    <g style=\"fill:#262626;\" transform=\"translate(137.105375 61.323594)scale(0.1 -0.1)\">\n     <use xlink:href=\"#DejaVuSans-48\"/>\n    </g>\n   </g>\n   <g id=\"text_86\">\n    <!-- 0 -->\n    <g style=\"fill:#262626;\" transform=\"translate(157.193375 61.323594)scale(0.1 -0.1)\">\n     <use xlink:href=\"#DejaVuSans-48\"/>\n    </g>\n   </g>\n   <g id=\"text_87\">\n    <!-- 0 -->\n    <g style=\"fill:#262626;\" transform=\"translate(177.281375 61.323594)scale(0.1 -0.1)\">\n     <use xlink:href=\"#DejaVuSans-48\"/>\n    </g>\n   </g>\n   <g id=\"text_88\">\n    <!-- 0 -->\n    <g style=\"fill:#262626;\" transform=\"translate(197.369375 61.323594)scale(0.1 -0.1)\">\n     <use xlink:href=\"#DejaVuSans-48\"/>\n    </g>\n   </g>\n   <g id=\"text_89\">\n    <!-- 0 -->\n    <g style=\"fill:#262626;\" transform=\"translate(217.457375 61.323594)scale(0.1 -0.1)\">\n     <use xlink:href=\"#DejaVuSans-48\"/>\n    </g>\n   </g>\n   <g id=\"text_90\">\n    <!-- 0 -->\n    <g style=\"fill:#262626;\" transform=\"translate(237.545375 61.323594)scale(0.1 -0.1)\">\n     <use xlink:href=\"#DejaVuSans-48\"/>\n    </g>\n   </g>\n   <g id=\"text_91\">\n    <!-- 0 -->\n    <g style=\"fill:#262626;\" transform=\"translate(257.633375 61.323594)scale(0.1 -0.1)\">\n     <use xlink:href=\"#DejaVuSans-48\"/>\n    </g>\n   </g>\n   <g id=\"text_92\">\n    <!-- 0 -->\n    <g style=\"fill:#262626;\" transform=\"translate(277.721375 61.323594)scale(0.1 -0.1)\">\n     <use xlink:href=\"#DejaVuSans-48\"/>\n    </g>\n   </g>\n   <g id=\"text_93\">\n    <!-- 0 -->\n    <g style=\"fill:#262626;\" transform=\"translate(297.809375 61.323594)scale(0.1 -0.1)\">\n     <use xlink:href=\"#DejaVuSans-48\"/>\n    </g>\n   </g>\n   <g id=\"text_94\">\n    <!-- 0 -->\n    <g style=\"fill:#262626;\" transform=\"translate(317.897375 61.323594)scale(0.1 -0.1)\">\n     <use xlink:href=\"#DejaVuSans-48\"/>\n    </g>\n   </g>\n   <g id=\"text_95\">\n    <!-- 0 -->\n    <g style=\"fill:#262626;\" transform=\"translate(337.985375 61.323594)scale(0.1 -0.1)\">\n     <use xlink:href=\"#DejaVuSans-48\"/>\n    </g>\n   </g>\n   <g id=\"text_96\">\n    <!-- 0 -->\n    <g style=\"fill:#262626;\" transform=\"translate(358.073375 61.323594)scale(0.1 -0.1)\">\n     <use xlink:href=\"#DejaVuSans-48\"/>\n    </g>\n   </g>\n   <g id=\"text_97\">\n    <!-- 0 -->\n    <g style=\"fill:#262626;\" transform=\"translate(378.161375 61.323594)scale(0.1 -0.1)\">\n     <use xlink:href=\"#DejaVuSans-48\"/>\n    </g>\n   </g>\n   <g id=\"text_98\">\n    <!-- 0 -->\n    <g style=\"fill:#262626;\" transform=\"translate(398.249375 61.323594)scale(0.1 -0.1)\">\n     <use xlink:href=\"#DejaVuSans-48\"/>\n    </g>\n   </g>\n   <g id=\"text_99\">\n    <!-- 0 -->\n    <g style=\"fill:#262626;\" transform=\"translate(418.337375 61.323594)scale(0.1 -0.1)\">\n     <use xlink:href=\"#DejaVuSans-48\"/>\n    </g>\n   </g>\n   <g id=\"text_100\">\n    <!-- 0 -->\n    <g style=\"fill:#262626;\" transform=\"translate(438.425375 61.323594)scale(0.1 -0.1)\">\n     <use xlink:href=\"#DejaVuSans-48\"/>\n    </g>\n   </g>\n   <g id=\"text_101\">\n    <!-- 0 -->\n    <g style=\"fill:#262626;\" transform=\"translate(56.753375 80.349594)scale(0.1 -0.1)\">\n     <use xlink:href=\"#DejaVuSans-48\"/>\n    </g>\n   </g>\n   <g id=\"text_102\">\n    <!-- 0 -->\n    <g style=\"fill:#262626;\" transform=\"translate(76.841375 80.349594)scale(0.1 -0.1)\">\n     <use xlink:href=\"#DejaVuSans-48\"/>\n    </g>\n   </g>\n   <g id=\"text_103\">\n    <!-- 0 -->\n    <g style=\"fill:#262626;\" transform=\"translate(96.929375 80.349594)scale(0.1 -0.1)\">\n     <use xlink:href=\"#DejaVuSans-48\"/>\n    </g>\n   </g>\n   <g id=\"text_104\">\n    <!-- 0 -->\n    <g style=\"fill:#262626;\" transform=\"translate(117.017375 80.349594)scale(0.1 -0.1)\">\n     <use xlink:href=\"#DejaVuSans-48\"/>\n    </g>\n   </g>\n   <g id=\"text_105\">\n    <!-- 0 -->\n    <g style=\"fill:#262626;\" transform=\"translate(137.105375 80.349594)scale(0.1 -0.1)\">\n     <use xlink:href=\"#DejaVuSans-48\"/>\n    </g>\n   </g>\n   <g id=\"text_106\">\n    <!-- 0 -->\n    <g style=\"fill:#262626;\" transform=\"translate(157.193375 80.349594)scale(0.1 -0.1)\">\n     <use xlink:href=\"#DejaVuSans-48\"/>\n    </g>\n   </g>\n   <g id=\"text_107\">\n    <!-- 0 -->\n    <g style=\"fill:#262626;\" transform=\"translate(177.281375 80.349594)scale(0.1 -0.1)\">\n     <use xlink:href=\"#DejaVuSans-48\"/>\n    </g>\n   </g>\n   <g id=\"text_108\">\n    <!-- 0 -->\n    <g style=\"fill:#262626;\" transform=\"translate(197.369375 80.349594)scale(0.1 -0.1)\">\n     <use xlink:href=\"#DejaVuSans-48\"/>\n    </g>\n   </g>\n   <g id=\"text_109\">\n    <!-- 0 -->\n    <g style=\"fill:#262626;\" transform=\"translate(217.457375 80.349594)scale(0.1 -0.1)\">\n     <use xlink:href=\"#DejaVuSans-48\"/>\n    </g>\n   </g>\n   <g id=\"text_110\">\n    <!-- 0 -->\n    <g style=\"fill:#262626;\" transform=\"translate(237.545375 80.349594)scale(0.1 -0.1)\">\n     <use xlink:href=\"#DejaVuSans-48\"/>\n    </g>\n   </g>\n   <g id=\"text_111\">\n    <!-- 0 -->\n    <g style=\"fill:#262626;\" transform=\"translate(257.633375 80.349594)scale(0.1 -0.1)\">\n     <use xlink:href=\"#DejaVuSans-48\"/>\n    </g>\n   </g>\n   <g id=\"text_112\">\n    <!-- 0 -->\n    <g style=\"fill:#262626;\" transform=\"translate(277.721375 80.349594)scale(0.1 -0.1)\">\n     <use xlink:href=\"#DejaVuSans-48\"/>\n    </g>\n   </g>\n   <g id=\"text_113\">\n    <!-- 0 -->\n    <g style=\"fill:#262626;\" transform=\"translate(297.809375 80.349594)scale(0.1 -0.1)\">\n     <use xlink:href=\"#DejaVuSans-48\"/>\n    </g>\n   </g>\n   <g id=\"text_114\">\n    <!-- 0 -->\n    <g style=\"fill:#262626;\" transform=\"translate(317.897375 80.349594)scale(0.1 -0.1)\">\n     <use xlink:href=\"#DejaVuSans-48\"/>\n    </g>\n   </g>\n   <g id=\"text_115\">\n    <!-- 0 -->\n    <g style=\"fill:#262626;\" transform=\"translate(337.985375 80.349594)scale(0.1 -0.1)\">\n     <use xlink:href=\"#DejaVuSans-48\"/>\n    </g>\n   </g>\n   <g id=\"text_116\">\n    <!-- 0 -->\n    <g style=\"fill:#262626;\" transform=\"translate(358.073375 80.349594)scale(0.1 -0.1)\">\n     <use xlink:href=\"#DejaVuSans-48\"/>\n    </g>\n   </g>\n   <g id=\"text_117\">\n    <!-- 0 -->\n    <g style=\"fill:#262626;\" transform=\"translate(378.161375 80.349594)scale(0.1 -0.1)\">\n     <use xlink:href=\"#DejaVuSans-48\"/>\n    </g>\n   </g>\n   <g id=\"text_118\">\n    <!-- 0 -->\n    <g style=\"fill:#262626;\" transform=\"translate(398.249375 80.349594)scale(0.1 -0.1)\">\n     <use xlink:href=\"#DejaVuSans-48\"/>\n    </g>\n   </g>\n   <g id=\"text_119\">\n    <!-- 0 -->\n    <g style=\"fill:#262626;\" transform=\"translate(418.337375 80.349594)scale(0.1 -0.1)\">\n     <use xlink:href=\"#DejaVuSans-48\"/>\n    </g>\n   </g>\n   <g id=\"text_120\">\n    <!-- 0 -->\n    <g style=\"fill:#262626;\" transform=\"translate(438.425375 80.349594)scale(0.1 -0.1)\">\n     <use xlink:href=\"#DejaVuSans-48\"/>\n    </g>\n   </g>\n   <g id=\"text_121\">\n    <!-- 1 -->\n    <g style=\"fill:#ffffff;\" transform=\"translate(56.753375 99.375594)scale(0.1 -0.1)\">\n     <use xlink:href=\"#DejaVuSans-49\"/>\n    </g>\n   </g>\n   <g id=\"text_122\">\n    <!-- 0 -->\n    <g style=\"fill:#262626;\" transform=\"translate(76.841375 99.375594)scale(0.1 -0.1)\">\n     <use xlink:href=\"#DejaVuSans-48\"/>\n    </g>\n   </g>\n   <g id=\"text_123\">\n    <!-- 0 -->\n    <g style=\"fill:#262626;\" transform=\"translate(96.929375 99.375594)scale(0.1 -0.1)\">\n     <use xlink:href=\"#DejaVuSans-48\"/>\n    </g>\n   </g>\n   <g id=\"text_124\">\n    <!-- 0 -->\n    <g style=\"fill:#262626;\" transform=\"translate(117.017375 99.375594)scale(0.1 -0.1)\">\n     <use xlink:href=\"#DejaVuSans-48\"/>\n    </g>\n   </g>\n   <g id=\"text_125\">\n    <!-- 0 -->\n    <g style=\"fill:#262626;\" transform=\"translate(137.105375 99.375594)scale(0.1 -0.1)\">\n     <use xlink:href=\"#DejaVuSans-48\"/>\n    </g>\n   </g>\n   <g id=\"text_126\">\n    <!-- 0 -->\n    <g style=\"fill:#262626;\" transform=\"translate(157.193375 99.375594)scale(0.1 -0.1)\">\n     <use xlink:href=\"#DejaVuSans-48\"/>\n    </g>\n   </g>\n   <g id=\"text_127\">\n    <!-- 0 -->\n    <g style=\"fill:#262626;\" transform=\"translate(177.281375 99.375594)scale(0.1 -0.1)\">\n     <use xlink:href=\"#DejaVuSans-48\"/>\n    </g>\n   </g>\n   <g id=\"text_128\">\n    <!-- 0 -->\n    <g style=\"fill:#262626;\" transform=\"translate(197.369375 99.375594)scale(0.1 -0.1)\">\n     <use xlink:href=\"#DejaVuSans-48\"/>\n    </g>\n   </g>\n   <g id=\"text_129\">\n    <!-- 0 -->\n    <g style=\"fill:#262626;\" transform=\"translate(217.457375 99.375594)scale(0.1 -0.1)\">\n     <use xlink:href=\"#DejaVuSans-48\"/>\n    </g>\n   </g>\n   <g id=\"text_130\">\n    <!-- 0 -->\n    <g style=\"fill:#262626;\" transform=\"translate(237.545375 99.375594)scale(0.1 -0.1)\">\n     <use xlink:href=\"#DejaVuSans-48\"/>\n    </g>\n   </g>\n   <g id=\"text_131\">\n    <!-- 0 -->\n    <g style=\"fill:#262626;\" transform=\"translate(257.633375 99.375594)scale(0.1 -0.1)\">\n     <use xlink:href=\"#DejaVuSans-48\"/>\n    </g>\n   </g>\n   <g id=\"text_132\">\n    <!-- 0 -->\n    <g style=\"fill:#262626;\" transform=\"translate(277.721375 99.375594)scale(0.1 -0.1)\">\n     <use xlink:href=\"#DejaVuSans-48\"/>\n    </g>\n   </g>\n   <g id=\"text_133\">\n    <!-- 0 -->\n    <g style=\"fill:#262626;\" transform=\"translate(297.809375 99.375594)scale(0.1 -0.1)\">\n     <use xlink:href=\"#DejaVuSans-48\"/>\n    </g>\n   </g>\n   <g id=\"text_134\">\n    <!-- 0 -->\n    <g style=\"fill:#262626;\" transform=\"translate(317.897375 99.375594)scale(0.1 -0.1)\">\n     <use xlink:href=\"#DejaVuSans-48\"/>\n    </g>\n   </g>\n   <g id=\"text_135\">\n    <!-- 0 -->\n    <g style=\"fill:#262626;\" transform=\"translate(337.985375 99.375594)scale(0.1 -0.1)\">\n     <use xlink:href=\"#DejaVuSans-48\"/>\n    </g>\n   </g>\n   <g id=\"text_136\">\n    <!-- 0 -->\n    <g style=\"fill:#262626;\" transform=\"translate(358.073375 99.375594)scale(0.1 -0.1)\">\n     <use xlink:href=\"#DejaVuSans-48\"/>\n    </g>\n   </g>\n   <g id=\"text_137\">\n    <!-- 0 -->\n    <g style=\"fill:#262626;\" transform=\"translate(378.161375 99.375594)scale(0.1 -0.1)\">\n     <use xlink:href=\"#DejaVuSans-48\"/>\n    </g>\n   </g>\n   <g id=\"text_138\">\n    <!-- 0 -->\n    <g style=\"fill:#262626;\" transform=\"translate(398.249375 99.375594)scale(0.1 -0.1)\">\n     <use xlink:href=\"#DejaVuSans-48\"/>\n    </g>\n   </g>\n   <g id=\"text_139\">\n    <!-- 0 -->\n    <g style=\"fill:#262626;\" transform=\"translate(418.337375 99.375594)scale(0.1 -0.1)\">\n     <use xlink:href=\"#DejaVuSans-48\"/>\n    </g>\n   </g>\n   <g id=\"text_140\">\n    <!-- 0 -->\n    <g style=\"fill:#262626;\" transform=\"translate(438.425375 99.375594)scale(0.1 -0.1)\">\n     <use xlink:href=\"#DejaVuSans-48\"/>\n    </g>\n   </g>\n   <g id=\"text_141\">\n    <!-- 1 -->\n    <g style=\"fill:#ffffff;\" transform=\"translate(56.753375 118.401594)scale(0.1 -0.1)\">\n     <use xlink:href=\"#DejaVuSans-49\"/>\n    </g>\n   </g>\n   <g id=\"text_142\">\n    <!-- 0 -->\n    <g style=\"fill:#262626;\" transform=\"translate(76.841375 118.401594)scale(0.1 -0.1)\">\n     <use xlink:href=\"#DejaVuSans-48\"/>\n    </g>\n   </g>\n   <g id=\"text_143\">\n    <!-- 0 -->\n    <g style=\"fill:#262626;\" transform=\"translate(96.929375 118.401594)scale(0.1 -0.1)\">\n     <use xlink:href=\"#DejaVuSans-48\"/>\n    </g>\n   </g>\n   <g id=\"text_144\">\n    <!-- 0 -->\n    <g style=\"fill:#262626;\" transform=\"translate(117.017375 118.401594)scale(0.1 -0.1)\">\n     <use xlink:href=\"#DejaVuSans-48\"/>\n    </g>\n   </g>\n   <g id=\"text_145\">\n    <!-- 0 -->\n    <g style=\"fill:#262626;\" transform=\"translate(137.105375 118.401594)scale(0.1 -0.1)\">\n     <use xlink:href=\"#DejaVuSans-48\"/>\n    </g>\n   </g>\n   <g id=\"text_146\">\n    <!-- 0 -->\n    <g style=\"fill:#262626;\" transform=\"translate(157.193375 118.401594)scale(0.1 -0.1)\">\n     <use xlink:href=\"#DejaVuSans-48\"/>\n    </g>\n   </g>\n   <g id=\"text_147\">\n    <!-- 0 -->\n    <g style=\"fill:#262626;\" transform=\"translate(177.281375 118.401594)scale(0.1 -0.1)\">\n     <use xlink:href=\"#DejaVuSans-48\"/>\n    </g>\n   </g>\n   <g id=\"text_148\">\n    <!-- 0 -->\n    <g style=\"fill:#262626;\" transform=\"translate(197.369375 118.401594)scale(0.1 -0.1)\">\n     <use xlink:href=\"#DejaVuSans-48\"/>\n    </g>\n   </g>\n   <g id=\"text_149\">\n    <!-- 0 -->\n    <g style=\"fill:#262626;\" transform=\"translate(217.457375 118.401594)scale(0.1 -0.1)\">\n     <use xlink:href=\"#DejaVuSans-48\"/>\n    </g>\n   </g>\n   <g id=\"text_150\">\n    <!-- 0 -->\n    <g style=\"fill:#262626;\" transform=\"translate(237.545375 118.401594)scale(0.1 -0.1)\">\n     <use xlink:href=\"#DejaVuSans-48\"/>\n    </g>\n   </g>\n   <g id=\"text_151\">\n    <!-- 0 -->\n    <g style=\"fill:#262626;\" transform=\"translate(257.633375 118.401594)scale(0.1 -0.1)\">\n     <use xlink:href=\"#DejaVuSans-48\"/>\n    </g>\n   </g>\n   <g id=\"text_152\">\n    <!-- 0 -->\n    <g style=\"fill:#262626;\" transform=\"translate(277.721375 118.401594)scale(0.1 -0.1)\">\n     <use xlink:href=\"#DejaVuSans-48\"/>\n    </g>\n   </g>\n   <g id=\"text_153\">\n    <!-- 0 -->\n    <g style=\"fill:#262626;\" transform=\"translate(297.809375 118.401594)scale(0.1 -0.1)\">\n     <use xlink:href=\"#DejaVuSans-48\"/>\n    </g>\n   </g>\n   <g id=\"text_154\">\n    <!-- 0 -->\n    <g style=\"fill:#262626;\" transform=\"translate(317.897375 118.401594)scale(0.1 -0.1)\">\n     <use xlink:href=\"#DejaVuSans-48\"/>\n    </g>\n   </g>\n   <g id=\"text_155\">\n    <!-- 0 -->\n    <g style=\"fill:#262626;\" transform=\"translate(337.985375 118.401594)scale(0.1 -0.1)\">\n     <use xlink:href=\"#DejaVuSans-48\"/>\n    </g>\n   </g>\n   <g id=\"text_156\">\n    <!-- 0 -->\n    <g style=\"fill:#262626;\" transform=\"translate(358.073375 118.401594)scale(0.1 -0.1)\">\n     <use xlink:href=\"#DejaVuSans-48\"/>\n    </g>\n   </g>\n   <g id=\"text_157\">\n    <!-- 0 -->\n    <g style=\"fill:#262626;\" transform=\"translate(378.161375 118.401594)scale(0.1 -0.1)\">\n     <use xlink:href=\"#DejaVuSans-48\"/>\n    </g>\n   </g>\n   <g id=\"text_158\">\n    <!-- 0 -->\n    <g style=\"fill:#262626;\" transform=\"translate(398.249375 118.401594)scale(0.1 -0.1)\">\n     <use xlink:href=\"#DejaVuSans-48\"/>\n    </g>\n   </g>\n   <g id=\"text_159\">\n    <!-- 0 -->\n    <g style=\"fill:#262626;\" transform=\"translate(418.337375 118.401594)scale(0.1 -0.1)\">\n     <use xlink:href=\"#DejaVuSans-48\"/>\n    </g>\n   </g>\n   <g id=\"text_160\">\n    <!-- 0 -->\n    <g style=\"fill:#262626;\" transform=\"translate(438.425375 118.401594)scale(0.1 -0.1)\">\n     <use xlink:href=\"#DejaVuSans-48\"/>\n    </g>\n   </g>\n   <g id=\"text_161\">\n    <!-- 0 -->\n    <g style=\"fill:#262626;\" transform=\"translate(56.753375 137.427594)scale(0.1 -0.1)\">\n     <use xlink:href=\"#DejaVuSans-48\"/>\n    </g>\n   </g>\n   <g id=\"text_162\">\n    <!-- 0 -->\n    <g style=\"fill:#262626;\" transform=\"translate(76.841375 137.427594)scale(0.1 -0.1)\">\n     <use xlink:href=\"#DejaVuSans-48\"/>\n    </g>\n   </g>\n   <g id=\"text_163\">\n    <!-- 0 -->\n    <g style=\"fill:#262626;\" transform=\"translate(96.929375 137.427594)scale(0.1 -0.1)\">\n     <use xlink:href=\"#DejaVuSans-48\"/>\n    </g>\n   </g>\n   <g id=\"text_164\">\n    <!-- 0 -->\n    <g style=\"fill:#262626;\" transform=\"translate(117.017375 137.427594)scale(0.1 -0.1)\">\n     <use xlink:href=\"#DejaVuSans-48\"/>\n    </g>\n   </g>\n   <g id=\"text_165\">\n    <!-- 0 -->\n    <g style=\"fill:#262626;\" transform=\"translate(137.105375 137.427594)scale(0.1 -0.1)\">\n     <use xlink:href=\"#DejaVuSans-48\"/>\n    </g>\n   </g>\n   <g id=\"text_166\">\n    <!-- 0 -->\n    <g style=\"fill:#262626;\" transform=\"translate(157.193375 137.427594)scale(0.1 -0.1)\">\n     <use xlink:href=\"#DejaVuSans-48\"/>\n    </g>\n   </g>\n   <g id=\"text_167\">\n    <!-- 0 -->\n    <g style=\"fill:#262626;\" transform=\"translate(177.281375 137.427594)scale(0.1 -0.1)\">\n     <use xlink:href=\"#DejaVuSans-48\"/>\n    </g>\n   </g>\n   <g id=\"text_168\">\n    <!-- 0 -->\n    <g style=\"fill:#262626;\" transform=\"translate(197.369375 137.427594)scale(0.1 -0.1)\">\n     <use xlink:href=\"#DejaVuSans-48\"/>\n    </g>\n   </g>\n   <g id=\"text_169\">\n    <!-- 0 -->\n    <g style=\"fill:#262626;\" transform=\"translate(217.457375 137.427594)scale(0.1 -0.1)\">\n     <use xlink:href=\"#DejaVuSans-48\"/>\n    </g>\n   </g>\n   <g id=\"text_170\">\n    <!-- 0 -->\n    <g style=\"fill:#262626;\" transform=\"translate(237.545375 137.427594)scale(0.1 -0.1)\">\n     <use xlink:href=\"#DejaVuSans-48\"/>\n    </g>\n   </g>\n   <g id=\"text_171\">\n    <!-- 0 -->\n    <g style=\"fill:#262626;\" transform=\"translate(257.633375 137.427594)scale(0.1 -0.1)\">\n     <use xlink:href=\"#DejaVuSans-48\"/>\n    </g>\n   </g>\n   <g id=\"text_172\">\n    <!-- 0 -->\n    <g style=\"fill:#262626;\" transform=\"translate(277.721375 137.427594)scale(0.1 -0.1)\">\n     <use xlink:href=\"#DejaVuSans-48\"/>\n    </g>\n   </g>\n   <g id=\"text_173\">\n    <!-- 0 -->\n    <g style=\"fill:#262626;\" transform=\"translate(297.809375 137.427594)scale(0.1 -0.1)\">\n     <use xlink:href=\"#DejaVuSans-48\"/>\n    </g>\n   </g>\n   <g id=\"text_174\">\n    <!-- 0 -->\n    <g style=\"fill:#262626;\" transform=\"translate(317.897375 137.427594)scale(0.1 -0.1)\">\n     <use xlink:href=\"#DejaVuSans-48\"/>\n    </g>\n   </g>\n   <g id=\"text_175\">\n    <!-- 0 -->\n    <g style=\"fill:#262626;\" transform=\"translate(337.985375 137.427594)scale(0.1 -0.1)\">\n     <use xlink:href=\"#DejaVuSans-48\"/>\n    </g>\n   </g>\n   <g id=\"text_176\">\n    <!-- 0 -->\n    <g style=\"fill:#262626;\" transform=\"translate(358.073375 137.427594)scale(0.1 -0.1)\">\n     <use xlink:href=\"#DejaVuSans-48\"/>\n    </g>\n   </g>\n   <g id=\"text_177\">\n    <!-- 0 -->\n    <g style=\"fill:#262626;\" transform=\"translate(378.161375 137.427594)scale(0.1 -0.1)\">\n     <use xlink:href=\"#DejaVuSans-48\"/>\n    </g>\n   </g>\n   <g id=\"text_178\">\n    <!-- 0 -->\n    <g style=\"fill:#262626;\" transform=\"translate(398.249375 137.427594)scale(0.1 -0.1)\">\n     <use xlink:href=\"#DejaVuSans-48\"/>\n    </g>\n   </g>\n   <g id=\"text_179\">\n    <!-- 0 -->\n    <g style=\"fill:#262626;\" transform=\"translate(418.337375 137.427594)scale(0.1 -0.1)\">\n     <use xlink:href=\"#DejaVuSans-48\"/>\n    </g>\n   </g>\n   <g id=\"text_180\">\n    <!-- 0 -->\n    <g style=\"fill:#262626;\" transform=\"translate(438.425375 137.427594)scale(0.1 -0.1)\">\n     <use xlink:href=\"#DejaVuSans-48\"/>\n    </g>\n   </g>\n   <g id=\"text_181\">\n    <!-- 0 -->\n    <g style=\"fill:#262626;\" transform=\"translate(56.753375 156.453594)scale(0.1 -0.1)\">\n     <use xlink:href=\"#DejaVuSans-48\"/>\n    </g>\n   </g>\n   <g id=\"text_182\">\n    <!-- 0 -->\n    <g style=\"fill:#262626;\" transform=\"translate(76.841375 156.453594)scale(0.1 -0.1)\">\n     <use xlink:href=\"#DejaVuSans-48\"/>\n    </g>\n   </g>\n   <g id=\"text_183\">\n    <!-- 0 -->\n    <g style=\"fill:#262626;\" transform=\"translate(96.929375 156.453594)scale(0.1 -0.1)\">\n     <use xlink:href=\"#DejaVuSans-48\"/>\n    </g>\n   </g>\n   <g id=\"text_184\">\n    <!-- 0 -->\n    <g style=\"fill:#262626;\" transform=\"translate(117.017375 156.453594)scale(0.1 -0.1)\">\n     <use xlink:href=\"#DejaVuSans-48\"/>\n    </g>\n   </g>\n   <g id=\"text_185\">\n    <!-- 0 -->\n    <g style=\"fill:#262626;\" transform=\"translate(137.105375 156.453594)scale(0.1 -0.1)\">\n     <use xlink:href=\"#DejaVuSans-48\"/>\n    </g>\n   </g>\n   <g id=\"text_186\">\n    <!-- 0 -->\n    <g style=\"fill:#262626;\" transform=\"translate(157.193375 156.453594)scale(0.1 -0.1)\">\n     <use xlink:href=\"#DejaVuSans-48\"/>\n    </g>\n   </g>\n   <g id=\"text_187\">\n    <!-- 0 -->\n    <g style=\"fill:#262626;\" transform=\"translate(177.281375 156.453594)scale(0.1 -0.1)\">\n     <use xlink:href=\"#DejaVuSans-48\"/>\n    </g>\n   </g>\n   <g id=\"text_188\">\n    <!-- 0 -->\n    <g style=\"fill:#262626;\" transform=\"translate(197.369375 156.453594)scale(0.1 -0.1)\">\n     <use xlink:href=\"#DejaVuSans-48\"/>\n    </g>\n   </g>\n   <g id=\"text_189\">\n    <!-- 0 -->\n    <g style=\"fill:#262626;\" transform=\"translate(217.457375 156.453594)scale(0.1 -0.1)\">\n     <use xlink:href=\"#DejaVuSans-48\"/>\n    </g>\n   </g>\n   <g id=\"text_190\">\n    <!-- 0 -->\n    <g style=\"fill:#262626;\" transform=\"translate(237.545375 156.453594)scale(0.1 -0.1)\">\n     <use xlink:href=\"#DejaVuSans-48\"/>\n    </g>\n   </g>\n   <g id=\"text_191\">\n    <!-- 0 -->\n    <g style=\"fill:#262626;\" transform=\"translate(257.633375 156.453594)scale(0.1 -0.1)\">\n     <use xlink:href=\"#DejaVuSans-48\"/>\n    </g>\n   </g>\n   <g id=\"text_192\">\n    <!-- 0 -->\n    <g style=\"fill:#262626;\" transform=\"translate(277.721375 156.453594)scale(0.1 -0.1)\">\n     <use xlink:href=\"#DejaVuSans-48\"/>\n    </g>\n   </g>\n   <g id=\"text_193\">\n    <!-- 0 -->\n    <g style=\"fill:#262626;\" transform=\"translate(297.809375 156.453594)scale(0.1 -0.1)\">\n     <use xlink:href=\"#DejaVuSans-48\"/>\n    </g>\n   </g>\n   <g id=\"text_194\">\n    <!-- 0 -->\n    <g style=\"fill:#262626;\" transform=\"translate(317.897375 156.453594)scale(0.1 -0.1)\">\n     <use xlink:href=\"#DejaVuSans-48\"/>\n    </g>\n   </g>\n   <g id=\"text_195\">\n    <!-- 0 -->\n    <g style=\"fill:#262626;\" transform=\"translate(337.985375 156.453594)scale(0.1 -0.1)\">\n     <use xlink:href=\"#DejaVuSans-48\"/>\n    </g>\n   </g>\n   <g id=\"text_196\">\n    <!-- 0 -->\n    <g style=\"fill:#262626;\" transform=\"translate(358.073375 156.453594)scale(0.1 -0.1)\">\n     <use xlink:href=\"#DejaVuSans-48\"/>\n    </g>\n   </g>\n   <g id=\"text_197\">\n    <!-- 0 -->\n    <g style=\"fill:#262626;\" transform=\"translate(378.161375 156.453594)scale(0.1 -0.1)\">\n     <use xlink:href=\"#DejaVuSans-48\"/>\n    </g>\n   </g>\n   <g id=\"text_198\">\n    <!-- 0 -->\n    <g style=\"fill:#262626;\" transform=\"translate(398.249375 156.453594)scale(0.1 -0.1)\">\n     <use xlink:href=\"#DejaVuSans-48\"/>\n    </g>\n   </g>\n   <g id=\"text_199\">\n    <!-- 0 -->\n    <g style=\"fill:#262626;\" transform=\"translate(418.337375 156.453594)scale(0.1 -0.1)\">\n     <use xlink:href=\"#DejaVuSans-48\"/>\n    </g>\n   </g>\n   <g id=\"text_200\">\n    <!-- 0 -->\n    <g style=\"fill:#262626;\" transform=\"translate(438.425375 156.453594)scale(0.1 -0.1)\">\n     <use xlink:href=\"#DejaVuSans-48\"/>\n    </g>\n   </g>\n   <g id=\"text_201\">\n    <!-- 0 -->\n    <g style=\"fill:#262626;\" transform=\"translate(56.753375 175.479594)scale(0.1 -0.1)\">\n     <use xlink:href=\"#DejaVuSans-48\"/>\n    </g>\n   </g>\n   <g id=\"text_202\">\n    <!-- 0 -->\n    <g style=\"fill:#262626;\" transform=\"translate(76.841375 175.479594)scale(0.1 -0.1)\">\n     <use xlink:href=\"#DejaVuSans-48\"/>\n    </g>\n   </g>\n   <g id=\"text_203\">\n    <!-- 0 -->\n    <g style=\"fill:#262626;\" transform=\"translate(96.929375 175.479594)scale(0.1 -0.1)\">\n     <use xlink:href=\"#DejaVuSans-48\"/>\n    </g>\n   </g>\n   <g id=\"text_204\">\n    <!-- 0 -->\n    <g style=\"fill:#262626;\" transform=\"translate(117.017375 175.479594)scale(0.1 -0.1)\">\n     <use xlink:href=\"#DejaVuSans-48\"/>\n    </g>\n   </g>\n   <g id=\"text_205\">\n    <!-- 0 -->\n    <g style=\"fill:#262626;\" transform=\"translate(137.105375 175.479594)scale(0.1 -0.1)\">\n     <use xlink:href=\"#DejaVuSans-48\"/>\n    </g>\n   </g>\n   <g id=\"text_206\">\n    <!-- 0 -->\n    <g style=\"fill:#262626;\" transform=\"translate(157.193375 175.479594)scale(0.1 -0.1)\">\n     <use xlink:href=\"#DejaVuSans-48\"/>\n    </g>\n   </g>\n   <g id=\"text_207\">\n    <!-- 0 -->\n    <g style=\"fill:#262626;\" transform=\"translate(177.281375 175.479594)scale(0.1 -0.1)\">\n     <use xlink:href=\"#DejaVuSans-48\"/>\n    </g>\n   </g>\n   <g id=\"text_208\">\n    <!-- 0 -->\n    <g style=\"fill:#262626;\" transform=\"translate(197.369375 175.479594)scale(0.1 -0.1)\">\n     <use xlink:href=\"#DejaVuSans-48\"/>\n    </g>\n   </g>\n   <g id=\"text_209\">\n    <!-- 0 -->\n    <g style=\"fill:#262626;\" transform=\"translate(217.457375 175.479594)scale(0.1 -0.1)\">\n     <use xlink:href=\"#DejaVuSans-48\"/>\n    </g>\n   </g>\n   <g id=\"text_210\">\n    <!-- 0 -->\n    <g style=\"fill:#262626;\" transform=\"translate(237.545375 175.479594)scale(0.1 -0.1)\">\n     <use xlink:href=\"#DejaVuSans-48\"/>\n    </g>\n   </g>\n   <g id=\"text_211\">\n    <!-- 0 -->\n    <g style=\"fill:#262626;\" transform=\"translate(257.633375 175.479594)scale(0.1 -0.1)\">\n     <use xlink:href=\"#DejaVuSans-48\"/>\n    </g>\n   </g>\n   <g id=\"text_212\">\n    <!-- 0 -->\n    <g style=\"fill:#262626;\" transform=\"translate(277.721375 175.479594)scale(0.1 -0.1)\">\n     <use xlink:href=\"#DejaVuSans-48\"/>\n    </g>\n   </g>\n   <g id=\"text_213\">\n    <!-- 0 -->\n    <g style=\"fill:#262626;\" transform=\"translate(297.809375 175.479594)scale(0.1 -0.1)\">\n     <use xlink:href=\"#DejaVuSans-48\"/>\n    </g>\n   </g>\n   <g id=\"text_214\">\n    <!-- 0 -->\n    <g style=\"fill:#262626;\" transform=\"translate(317.897375 175.479594)scale(0.1 -0.1)\">\n     <use xlink:href=\"#DejaVuSans-48\"/>\n    </g>\n   </g>\n   <g id=\"text_215\">\n    <!-- 0 -->\n    <g style=\"fill:#262626;\" transform=\"translate(337.985375 175.479594)scale(0.1 -0.1)\">\n     <use xlink:href=\"#DejaVuSans-48\"/>\n    </g>\n   </g>\n   <g id=\"text_216\">\n    <!-- 0 -->\n    <g style=\"fill:#262626;\" transform=\"translate(358.073375 175.479594)scale(0.1 -0.1)\">\n     <use xlink:href=\"#DejaVuSans-48\"/>\n    </g>\n   </g>\n   <g id=\"text_217\">\n    <!-- 0 -->\n    <g style=\"fill:#262626;\" transform=\"translate(378.161375 175.479594)scale(0.1 -0.1)\">\n     <use xlink:href=\"#DejaVuSans-48\"/>\n    </g>\n   </g>\n   <g id=\"text_218\">\n    <!-- 0 -->\n    <g style=\"fill:#262626;\" transform=\"translate(398.249375 175.479594)scale(0.1 -0.1)\">\n     <use xlink:href=\"#DejaVuSans-48\"/>\n    </g>\n   </g>\n   <g id=\"text_219\">\n    <!-- 0 -->\n    <g style=\"fill:#262626;\" transform=\"translate(418.337375 175.479594)scale(0.1 -0.1)\">\n     <use xlink:href=\"#DejaVuSans-48\"/>\n    </g>\n   </g>\n   <g id=\"text_220\">\n    <!-- 0 -->\n    <g style=\"fill:#262626;\" transform=\"translate(438.425375 175.479594)scale(0.1 -0.1)\">\n     <use xlink:href=\"#DejaVuSans-48\"/>\n    </g>\n   </g>\n   <g id=\"text_221\">\n    <!-- 0 -->\n    <g style=\"fill:#262626;\" transform=\"translate(56.753375 194.505594)scale(0.1 -0.1)\">\n     <use xlink:href=\"#DejaVuSans-48\"/>\n    </g>\n   </g>\n   <g id=\"text_222\">\n    <!-- 0 -->\n    <g style=\"fill:#262626;\" transform=\"translate(76.841375 194.505594)scale(0.1 -0.1)\">\n     <use xlink:href=\"#DejaVuSans-48\"/>\n    </g>\n   </g>\n   <g id=\"text_223\">\n    <!-- 0 -->\n    <g style=\"fill:#262626;\" transform=\"translate(96.929375 194.505594)scale(0.1 -0.1)\">\n     <use xlink:href=\"#DejaVuSans-48\"/>\n    </g>\n   </g>\n   <g id=\"text_224\">\n    <!-- 0 -->\n    <g style=\"fill:#262626;\" transform=\"translate(117.017375 194.505594)scale(0.1 -0.1)\">\n     <use xlink:href=\"#DejaVuSans-48\"/>\n    </g>\n   </g>\n   <g id=\"text_225\">\n    <!-- 0 -->\n    <g style=\"fill:#262626;\" transform=\"translate(137.105375 194.505594)scale(0.1 -0.1)\">\n     <use xlink:href=\"#DejaVuSans-48\"/>\n    </g>\n   </g>\n   <g id=\"text_226\">\n    <!-- 0 -->\n    <g style=\"fill:#262626;\" transform=\"translate(157.193375 194.505594)scale(0.1 -0.1)\">\n     <use xlink:href=\"#DejaVuSans-48\"/>\n    </g>\n   </g>\n   <g id=\"text_227\">\n    <!-- 0 -->\n    <g style=\"fill:#262626;\" transform=\"translate(177.281375 194.505594)scale(0.1 -0.1)\">\n     <use xlink:href=\"#DejaVuSans-48\"/>\n    </g>\n   </g>\n   <g id=\"text_228\">\n    <!-- 0 -->\n    <g style=\"fill:#262626;\" transform=\"translate(197.369375 194.505594)scale(0.1 -0.1)\">\n     <use xlink:href=\"#DejaVuSans-48\"/>\n    </g>\n   </g>\n   <g id=\"text_229\">\n    <!-- 0 -->\n    <g style=\"fill:#262626;\" transform=\"translate(217.457375 194.505594)scale(0.1 -0.1)\">\n     <use xlink:href=\"#DejaVuSans-48\"/>\n    </g>\n   </g>\n   <g id=\"text_230\">\n    <!-- 0 -->\n    <g style=\"fill:#262626;\" transform=\"translate(237.545375 194.505594)scale(0.1 -0.1)\">\n     <use xlink:href=\"#DejaVuSans-48\"/>\n    </g>\n   </g>\n   <g id=\"text_231\">\n    <!-- 0 -->\n    <g style=\"fill:#262626;\" transform=\"translate(257.633375 194.505594)scale(0.1 -0.1)\">\n     <use xlink:href=\"#DejaVuSans-48\"/>\n    </g>\n   </g>\n   <g id=\"text_232\">\n    <!-- 0 -->\n    <g style=\"fill:#262626;\" transform=\"translate(277.721375 194.505594)scale(0.1 -0.1)\">\n     <use xlink:href=\"#DejaVuSans-48\"/>\n    </g>\n   </g>\n   <g id=\"text_233\">\n    <!-- 0 -->\n    <g style=\"fill:#262626;\" transform=\"translate(297.809375 194.505594)scale(0.1 -0.1)\">\n     <use xlink:href=\"#DejaVuSans-48\"/>\n    </g>\n   </g>\n   <g id=\"text_234\">\n    <!-- 0 -->\n    <g style=\"fill:#262626;\" transform=\"translate(317.897375 194.505594)scale(0.1 -0.1)\">\n     <use xlink:href=\"#DejaVuSans-48\"/>\n    </g>\n   </g>\n   <g id=\"text_235\">\n    <!-- 0 -->\n    <g style=\"fill:#262626;\" transform=\"translate(337.985375 194.505594)scale(0.1 -0.1)\">\n     <use xlink:href=\"#DejaVuSans-48\"/>\n    </g>\n   </g>\n   <g id=\"text_236\">\n    <!-- 0 -->\n    <g style=\"fill:#262626;\" transform=\"translate(358.073375 194.505594)scale(0.1 -0.1)\">\n     <use xlink:href=\"#DejaVuSans-48\"/>\n    </g>\n   </g>\n   <g id=\"text_237\">\n    <!-- 0 -->\n    <g style=\"fill:#262626;\" transform=\"translate(378.161375 194.505594)scale(0.1 -0.1)\">\n     <use xlink:href=\"#DejaVuSans-48\"/>\n    </g>\n   </g>\n   <g id=\"text_238\">\n    <!-- 0 -->\n    <g style=\"fill:#262626;\" transform=\"translate(398.249375 194.505594)scale(0.1 -0.1)\">\n     <use xlink:href=\"#DejaVuSans-48\"/>\n    </g>\n   </g>\n   <g id=\"text_239\">\n    <!-- 0 -->\n    <g style=\"fill:#262626;\" transform=\"translate(418.337375 194.505594)scale(0.1 -0.1)\">\n     <use xlink:href=\"#DejaVuSans-48\"/>\n    </g>\n   </g>\n   <g id=\"text_240\">\n    <!-- 0 -->\n    <g style=\"fill:#262626;\" transform=\"translate(438.425375 194.505594)scale(0.1 -0.1)\">\n     <use xlink:href=\"#DejaVuSans-48\"/>\n    </g>\n   </g>\n   <g id=\"text_241\">\n    <!-- 0 -->\n    <g style=\"fill:#262626;\" transform=\"translate(56.753375 213.531594)scale(0.1 -0.1)\">\n     <use xlink:href=\"#DejaVuSans-48\"/>\n    </g>\n   </g>\n   <g id=\"text_242\">\n    <!-- 0 -->\n    <g style=\"fill:#262626;\" transform=\"translate(76.841375 213.531594)scale(0.1 -0.1)\">\n     <use xlink:href=\"#DejaVuSans-48\"/>\n    </g>\n   </g>\n   <g id=\"text_243\">\n    <!-- 0 -->\n    <g style=\"fill:#262626;\" transform=\"translate(96.929375 213.531594)scale(0.1 -0.1)\">\n     <use xlink:href=\"#DejaVuSans-48\"/>\n    </g>\n   </g>\n   <g id=\"text_244\">\n    <!-- 0 -->\n    <g style=\"fill:#262626;\" transform=\"translate(117.017375 213.531594)scale(0.1 -0.1)\">\n     <use xlink:href=\"#DejaVuSans-48\"/>\n    </g>\n   </g>\n   <g id=\"text_245\">\n    <!-- 0 -->\n    <g style=\"fill:#262626;\" transform=\"translate(137.105375 213.531594)scale(0.1 -0.1)\">\n     <use xlink:href=\"#DejaVuSans-48\"/>\n    </g>\n   </g>\n   <g id=\"text_246\">\n    <!-- 0 -->\n    <g style=\"fill:#262626;\" transform=\"translate(157.193375 213.531594)scale(0.1 -0.1)\">\n     <use xlink:href=\"#DejaVuSans-48\"/>\n    </g>\n   </g>\n   <g id=\"text_247\">\n    <!-- 0 -->\n    <g style=\"fill:#262626;\" transform=\"translate(177.281375 213.531594)scale(0.1 -0.1)\">\n     <use xlink:href=\"#DejaVuSans-48\"/>\n    </g>\n   </g>\n   <g id=\"text_248\">\n    <!-- 0 -->\n    <g style=\"fill:#262626;\" transform=\"translate(197.369375 213.531594)scale(0.1 -0.1)\">\n     <use xlink:href=\"#DejaVuSans-48\"/>\n    </g>\n   </g>\n   <g id=\"text_249\">\n    <!-- 0 -->\n    <g style=\"fill:#262626;\" transform=\"translate(217.457375 213.531594)scale(0.1 -0.1)\">\n     <use xlink:href=\"#DejaVuSans-48\"/>\n    </g>\n   </g>\n   <g id=\"text_250\">\n    <!-- 0 -->\n    <g style=\"fill:#262626;\" transform=\"translate(237.545375 213.531594)scale(0.1 -0.1)\">\n     <use xlink:href=\"#DejaVuSans-48\"/>\n    </g>\n   </g>\n   <g id=\"text_251\">\n    <!-- 0 -->\n    <g style=\"fill:#262626;\" transform=\"translate(257.633375 213.531594)scale(0.1 -0.1)\">\n     <use xlink:href=\"#DejaVuSans-48\"/>\n    </g>\n   </g>\n   <g id=\"text_252\">\n    <!-- 0 -->\n    <g style=\"fill:#262626;\" transform=\"translate(277.721375 213.531594)scale(0.1 -0.1)\">\n     <use xlink:href=\"#DejaVuSans-48\"/>\n    </g>\n   </g>\n   <g id=\"text_253\">\n    <!-- 0 -->\n    <g style=\"fill:#262626;\" transform=\"translate(297.809375 213.531594)scale(0.1 -0.1)\">\n     <use xlink:href=\"#DejaVuSans-48\"/>\n    </g>\n   </g>\n   <g id=\"text_254\">\n    <!-- 0 -->\n    <g style=\"fill:#262626;\" transform=\"translate(317.897375 213.531594)scale(0.1 -0.1)\">\n     <use xlink:href=\"#DejaVuSans-48\"/>\n    </g>\n   </g>\n   <g id=\"text_255\">\n    <!-- 0 -->\n    <g style=\"fill:#262626;\" transform=\"translate(337.985375 213.531594)scale(0.1 -0.1)\">\n     <use xlink:href=\"#DejaVuSans-48\"/>\n    </g>\n   </g>\n   <g id=\"text_256\">\n    <!-- 0 -->\n    <g style=\"fill:#262626;\" transform=\"translate(358.073375 213.531594)scale(0.1 -0.1)\">\n     <use xlink:href=\"#DejaVuSans-48\"/>\n    </g>\n   </g>\n   <g id=\"text_257\">\n    <!-- 0 -->\n    <g style=\"fill:#262626;\" transform=\"translate(378.161375 213.531594)scale(0.1 -0.1)\">\n     <use xlink:href=\"#DejaVuSans-48\"/>\n    </g>\n   </g>\n   <g id=\"text_258\">\n    <!-- 0 -->\n    <g style=\"fill:#262626;\" transform=\"translate(398.249375 213.531594)scale(0.1 -0.1)\">\n     <use xlink:href=\"#DejaVuSans-48\"/>\n    </g>\n   </g>\n   <g id=\"text_259\">\n    <!-- 0 -->\n    <g style=\"fill:#262626;\" transform=\"translate(418.337375 213.531594)scale(0.1 -0.1)\">\n     <use xlink:href=\"#DejaVuSans-48\"/>\n    </g>\n   </g>\n   <g id=\"text_260\">\n    <!-- 0 -->\n    <g style=\"fill:#262626;\" transform=\"translate(438.425375 213.531594)scale(0.1 -0.1)\">\n     <use xlink:href=\"#DejaVuSans-48\"/>\n    </g>\n   </g>\n   <g id=\"text_261\">\n    <!-- 0 -->\n    <g style=\"fill:#262626;\" transform=\"translate(56.753375 232.557594)scale(0.1 -0.1)\">\n     <use xlink:href=\"#DejaVuSans-48\"/>\n    </g>\n   </g>\n   <g id=\"text_262\">\n    <!-- 0 -->\n    <g style=\"fill:#262626;\" transform=\"translate(76.841375 232.557594)scale(0.1 -0.1)\">\n     <use xlink:href=\"#DejaVuSans-48\"/>\n    </g>\n   </g>\n   <g id=\"text_263\">\n    <!-- 0 -->\n    <g style=\"fill:#262626;\" transform=\"translate(96.929375 232.557594)scale(0.1 -0.1)\">\n     <use xlink:href=\"#DejaVuSans-48\"/>\n    </g>\n   </g>\n   <g id=\"text_264\">\n    <!-- 0 -->\n    <g style=\"fill:#262626;\" transform=\"translate(117.017375 232.557594)scale(0.1 -0.1)\">\n     <use xlink:href=\"#DejaVuSans-48\"/>\n    </g>\n   </g>\n   <g id=\"text_265\">\n    <!-- 0 -->\n    <g style=\"fill:#262626;\" transform=\"translate(137.105375 232.557594)scale(0.1 -0.1)\">\n     <use xlink:href=\"#DejaVuSans-48\"/>\n    </g>\n   </g>\n   <g id=\"text_266\">\n    <!-- 0 -->\n    <g style=\"fill:#262626;\" transform=\"translate(157.193375 232.557594)scale(0.1 -0.1)\">\n     <use xlink:href=\"#DejaVuSans-48\"/>\n    </g>\n   </g>\n   <g id=\"text_267\">\n    <!-- 0 -->\n    <g style=\"fill:#262626;\" transform=\"translate(177.281375 232.557594)scale(0.1 -0.1)\">\n     <use xlink:href=\"#DejaVuSans-48\"/>\n    </g>\n   </g>\n   <g id=\"text_268\">\n    <!-- 0 -->\n    <g style=\"fill:#262626;\" transform=\"translate(197.369375 232.557594)scale(0.1 -0.1)\">\n     <use xlink:href=\"#DejaVuSans-48\"/>\n    </g>\n   </g>\n   <g id=\"text_269\">\n    <!-- 0 -->\n    <g style=\"fill:#262626;\" transform=\"translate(217.457375 232.557594)scale(0.1 -0.1)\">\n     <use xlink:href=\"#DejaVuSans-48\"/>\n    </g>\n   </g>\n   <g id=\"text_270\">\n    <!-- 0 -->\n    <g style=\"fill:#262626;\" transform=\"translate(237.545375 232.557594)scale(0.1 -0.1)\">\n     <use xlink:href=\"#DejaVuSans-48\"/>\n    </g>\n   </g>\n   <g id=\"text_271\">\n    <!-- 0 -->\n    <g style=\"fill:#262626;\" transform=\"translate(257.633375 232.557594)scale(0.1 -0.1)\">\n     <use xlink:href=\"#DejaVuSans-48\"/>\n    </g>\n   </g>\n   <g id=\"text_272\">\n    <!-- 0 -->\n    <g style=\"fill:#262626;\" transform=\"translate(277.721375 232.557594)scale(0.1 -0.1)\">\n     <use xlink:href=\"#DejaVuSans-48\"/>\n    </g>\n   </g>\n   <g id=\"text_273\">\n    <!-- 0 -->\n    <g style=\"fill:#262626;\" transform=\"translate(297.809375 232.557594)scale(0.1 -0.1)\">\n     <use xlink:href=\"#DejaVuSans-48\"/>\n    </g>\n   </g>\n   <g id=\"text_274\">\n    <!-- 0 -->\n    <g style=\"fill:#262626;\" transform=\"translate(317.897375 232.557594)scale(0.1 -0.1)\">\n     <use xlink:href=\"#DejaVuSans-48\"/>\n    </g>\n   </g>\n   <g id=\"text_275\">\n    <!-- 0 -->\n    <g style=\"fill:#262626;\" transform=\"translate(337.985375 232.557594)scale(0.1 -0.1)\">\n     <use xlink:href=\"#DejaVuSans-48\"/>\n    </g>\n   </g>\n   <g id=\"text_276\">\n    <!-- 0 -->\n    <g style=\"fill:#262626;\" transform=\"translate(358.073375 232.557594)scale(0.1 -0.1)\">\n     <use xlink:href=\"#DejaVuSans-48\"/>\n    </g>\n   </g>\n   <g id=\"text_277\">\n    <!-- 0 -->\n    <g style=\"fill:#262626;\" transform=\"translate(378.161375 232.557594)scale(0.1 -0.1)\">\n     <use xlink:href=\"#DejaVuSans-48\"/>\n    </g>\n   </g>\n   <g id=\"text_278\">\n    <!-- 0 -->\n    <g style=\"fill:#262626;\" transform=\"translate(398.249375 232.557594)scale(0.1 -0.1)\">\n     <use xlink:href=\"#DejaVuSans-48\"/>\n    </g>\n   </g>\n   <g id=\"text_279\">\n    <!-- 0 -->\n    <g style=\"fill:#262626;\" transform=\"translate(418.337375 232.557594)scale(0.1 -0.1)\">\n     <use xlink:href=\"#DejaVuSans-48\"/>\n    </g>\n   </g>\n   <g id=\"text_280\">\n    <!-- 0 -->\n    <g style=\"fill:#262626;\" transform=\"translate(438.425375 232.557594)scale(0.1 -0.1)\">\n     <use xlink:href=\"#DejaVuSans-48\"/>\n    </g>\n   </g>\n   <g id=\"text_281\">\n    <!-- 0 -->\n    <g style=\"fill:#262626;\" transform=\"translate(56.753375 251.583594)scale(0.1 -0.1)\">\n     <use xlink:href=\"#DejaVuSans-48\"/>\n    </g>\n   </g>\n   <g id=\"text_282\">\n    <!-- 0 -->\n    <g style=\"fill:#262626;\" transform=\"translate(76.841375 251.583594)scale(0.1 -0.1)\">\n     <use xlink:href=\"#DejaVuSans-48\"/>\n    </g>\n   </g>\n   <g id=\"text_283\">\n    <!-- 0 -->\n    <g style=\"fill:#262626;\" transform=\"translate(96.929375 251.583594)scale(0.1 -0.1)\">\n     <use xlink:href=\"#DejaVuSans-48\"/>\n    </g>\n   </g>\n   <g id=\"text_284\">\n    <!-- 0 -->\n    <g style=\"fill:#262626;\" transform=\"translate(117.017375 251.583594)scale(0.1 -0.1)\">\n     <use xlink:href=\"#DejaVuSans-48\"/>\n    </g>\n   </g>\n   <g id=\"text_285\">\n    <!-- 0 -->\n    <g style=\"fill:#262626;\" transform=\"translate(137.105375 251.583594)scale(0.1 -0.1)\">\n     <use xlink:href=\"#DejaVuSans-48\"/>\n    </g>\n   </g>\n   <g id=\"text_286\">\n    <!-- 0 -->\n    <g style=\"fill:#262626;\" transform=\"translate(157.193375 251.583594)scale(0.1 -0.1)\">\n     <use xlink:href=\"#DejaVuSans-48\"/>\n    </g>\n   </g>\n   <g id=\"text_287\">\n    <!-- 0 -->\n    <g style=\"fill:#262626;\" transform=\"translate(177.281375 251.583594)scale(0.1 -0.1)\">\n     <use xlink:href=\"#DejaVuSans-48\"/>\n    </g>\n   </g>\n   <g id=\"text_288\">\n    <!-- 0 -->\n    <g style=\"fill:#262626;\" transform=\"translate(197.369375 251.583594)scale(0.1 -0.1)\">\n     <use xlink:href=\"#DejaVuSans-48\"/>\n    </g>\n   </g>\n   <g id=\"text_289\">\n    <!-- 0 -->\n    <g style=\"fill:#262626;\" transform=\"translate(217.457375 251.583594)scale(0.1 -0.1)\">\n     <use xlink:href=\"#DejaVuSans-48\"/>\n    </g>\n   </g>\n   <g id=\"text_290\">\n    <!-- 0 -->\n    <g style=\"fill:#262626;\" transform=\"translate(237.545375 251.583594)scale(0.1 -0.1)\">\n     <use xlink:href=\"#DejaVuSans-48\"/>\n    </g>\n   </g>\n   <g id=\"text_291\">\n    <!-- 0 -->\n    <g style=\"fill:#262626;\" transform=\"translate(257.633375 251.583594)scale(0.1 -0.1)\">\n     <use xlink:href=\"#DejaVuSans-48\"/>\n    </g>\n   </g>\n   <g id=\"text_292\">\n    <!-- 0 -->\n    <g style=\"fill:#262626;\" transform=\"translate(277.721375 251.583594)scale(0.1 -0.1)\">\n     <use xlink:href=\"#DejaVuSans-48\"/>\n    </g>\n   </g>\n   <g id=\"text_293\">\n    <!-- 0 -->\n    <g style=\"fill:#262626;\" transform=\"translate(297.809375 251.583594)scale(0.1 -0.1)\">\n     <use xlink:href=\"#DejaVuSans-48\"/>\n    </g>\n   </g>\n   <g id=\"text_294\">\n    <!-- 0 -->\n    <g style=\"fill:#262626;\" transform=\"translate(317.897375 251.583594)scale(0.1 -0.1)\">\n     <use xlink:href=\"#DejaVuSans-48\"/>\n    </g>\n   </g>\n   <g id=\"text_295\">\n    <!-- 0 -->\n    <g style=\"fill:#262626;\" transform=\"translate(337.985375 251.583594)scale(0.1 -0.1)\">\n     <use xlink:href=\"#DejaVuSans-48\"/>\n    </g>\n   </g>\n   <g id=\"text_296\">\n    <!-- 0 -->\n    <g style=\"fill:#262626;\" transform=\"translate(358.073375 251.583594)scale(0.1 -0.1)\">\n     <use xlink:href=\"#DejaVuSans-48\"/>\n    </g>\n   </g>\n   <g id=\"text_297\">\n    <!-- 0 -->\n    <g style=\"fill:#262626;\" transform=\"translate(378.161375 251.583594)scale(0.1 -0.1)\">\n     <use xlink:href=\"#DejaVuSans-48\"/>\n    </g>\n   </g>\n   <g id=\"text_298\">\n    <!-- 0 -->\n    <g style=\"fill:#262626;\" transform=\"translate(398.249375 251.583594)scale(0.1 -0.1)\">\n     <use xlink:href=\"#DejaVuSans-48\"/>\n    </g>\n   </g>\n   <g id=\"text_299\">\n    <!-- 0 -->\n    <g style=\"fill:#262626;\" transform=\"translate(418.337375 251.583594)scale(0.1 -0.1)\">\n     <use xlink:href=\"#DejaVuSans-48\"/>\n    </g>\n   </g>\n   <g id=\"text_300\">\n    <!-- 0 -->\n    <g style=\"fill:#262626;\" transform=\"translate(438.425375 251.583594)scale(0.1 -0.1)\">\n     <use xlink:href=\"#DejaVuSans-48\"/>\n    </g>\n   </g>\n   <g id=\"text_301\">\n    <!-- 0 -->\n    <g style=\"fill:#262626;\" transform=\"translate(56.753375 270.609594)scale(0.1 -0.1)\">\n     <use xlink:href=\"#DejaVuSans-48\"/>\n    </g>\n   </g>\n   <g id=\"text_302\">\n    <!-- 0 -->\n    <g style=\"fill:#262626;\" transform=\"translate(76.841375 270.609594)scale(0.1 -0.1)\">\n     <use xlink:href=\"#DejaVuSans-48\"/>\n    </g>\n   </g>\n   <g id=\"text_303\">\n    <!-- 0 -->\n    <g style=\"fill:#262626;\" transform=\"translate(96.929375 270.609594)scale(0.1 -0.1)\">\n     <use xlink:href=\"#DejaVuSans-48\"/>\n    </g>\n   </g>\n   <g id=\"text_304\">\n    <!-- 0 -->\n    <g style=\"fill:#262626;\" transform=\"translate(117.017375 270.609594)scale(0.1 -0.1)\">\n     <use xlink:href=\"#DejaVuSans-48\"/>\n    </g>\n   </g>\n   <g id=\"text_305\">\n    <!-- 0 -->\n    <g style=\"fill:#262626;\" transform=\"translate(137.105375 270.609594)scale(0.1 -0.1)\">\n     <use xlink:href=\"#DejaVuSans-48\"/>\n    </g>\n   </g>\n   <g id=\"text_306\">\n    <!-- 0 -->\n    <g style=\"fill:#262626;\" transform=\"translate(157.193375 270.609594)scale(0.1 -0.1)\">\n     <use xlink:href=\"#DejaVuSans-48\"/>\n    </g>\n   </g>\n   <g id=\"text_307\">\n    <!-- 0 -->\n    <g style=\"fill:#262626;\" transform=\"translate(177.281375 270.609594)scale(0.1 -0.1)\">\n     <use xlink:href=\"#DejaVuSans-48\"/>\n    </g>\n   </g>\n   <g id=\"text_308\">\n    <!-- 0 -->\n    <g style=\"fill:#262626;\" transform=\"translate(197.369375 270.609594)scale(0.1 -0.1)\">\n     <use xlink:href=\"#DejaVuSans-48\"/>\n    </g>\n   </g>\n   <g id=\"text_309\">\n    <!-- 0 -->\n    <g style=\"fill:#262626;\" transform=\"translate(217.457375 270.609594)scale(0.1 -0.1)\">\n     <use xlink:href=\"#DejaVuSans-48\"/>\n    </g>\n   </g>\n   <g id=\"text_310\">\n    <!-- 0 -->\n    <g style=\"fill:#262626;\" transform=\"translate(237.545375 270.609594)scale(0.1 -0.1)\">\n     <use xlink:href=\"#DejaVuSans-48\"/>\n    </g>\n   </g>\n   <g id=\"text_311\">\n    <!-- 0 -->\n    <g style=\"fill:#262626;\" transform=\"translate(257.633375 270.609594)scale(0.1 -0.1)\">\n     <use xlink:href=\"#DejaVuSans-48\"/>\n    </g>\n   </g>\n   <g id=\"text_312\">\n    <!-- 0 -->\n    <g style=\"fill:#262626;\" transform=\"translate(277.721375 270.609594)scale(0.1 -0.1)\">\n     <use xlink:href=\"#DejaVuSans-48\"/>\n    </g>\n   </g>\n   <g id=\"text_313\">\n    <!-- 0 -->\n    <g style=\"fill:#262626;\" transform=\"translate(297.809375 270.609594)scale(0.1 -0.1)\">\n     <use xlink:href=\"#DejaVuSans-48\"/>\n    </g>\n   </g>\n   <g id=\"text_314\">\n    <!-- 0 -->\n    <g style=\"fill:#262626;\" transform=\"translate(317.897375 270.609594)scale(0.1 -0.1)\">\n     <use xlink:href=\"#DejaVuSans-48\"/>\n    </g>\n   </g>\n   <g id=\"text_315\">\n    <!-- 0 -->\n    <g style=\"fill:#262626;\" transform=\"translate(337.985375 270.609594)scale(0.1 -0.1)\">\n     <use xlink:href=\"#DejaVuSans-48\"/>\n    </g>\n   </g>\n   <g id=\"text_316\">\n    <!-- 0 -->\n    <g style=\"fill:#262626;\" transform=\"translate(358.073375 270.609594)scale(0.1 -0.1)\">\n     <use xlink:href=\"#DejaVuSans-48\"/>\n    </g>\n   </g>\n   <g id=\"text_317\">\n    <!-- 0 -->\n    <g style=\"fill:#262626;\" transform=\"translate(378.161375 270.609594)scale(0.1 -0.1)\">\n     <use xlink:href=\"#DejaVuSans-48\"/>\n    </g>\n   </g>\n   <g id=\"text_318\">\n    <!-- 0 -->\n    <g style=\"fill:#262626;\" transform=\"translate(398.249375 270.609594)scale(0.1 -0.1)\">\n     <use xlink:href=\"#DejaVuSans-48\"/>\n    </g>\n   </g>\n   <g id=\"text_319\">\n    <!-- 0 -->\n    <g style=\"fill:#262626;\" transform=\"translate(418.337375 270.609594)scale(0.1 -0.1)\">\n     <use xlink:href=\"#DejaVuSans-48\"/>\n    </g>\n   </g>\n   <g id=\"text_320\">\n    <!-- 0 -->\n    <g style=\"fill:#262626;\" transform=\"translate(438.425375 270.609594)scale(0.1 -0.1)\">\n     <use xlink:href=\"#DejaVuSans-48\"/>\n    </g>\n   </g>\n   <g id=\"text_321\">\n    <!-- 0 -->\n    <g style=\"fill:#262626;\" transform=\"translate(56.753375 289.635594)scale(0.1 -0.1)\">\n     <use xlink:href=\"#DejaVuSans-48\"/>\n    </g>\n   </g>\n   <g id=\"text_322\">\n    <!-- 0 -->\n    <g style=\"fill:#262626;\" transform=\"translate(76.841375 289.635594)scale(0.1 -0.1)\">\n     <use xlink:href=\"#DejaVuSans-48\"/>\n    </g>\n   </g>\n   <g id=\"text_323\">\n    <!-- 0 -->\n    <g style=\"fill:#262626;\" transform=\"translate(96.929375 289.635594)scale(0.1 -0.1)\">\n     <use xlink:href=\"#DejaVuSans-48\"/>\n    </g>\n   </g>\n   <g id=\"text_324\">\n    <!-- 0 -->\n    <g style=\"fill:#262626;\" transform=\"translate(117.017375 289.635594)scale(0.1 -0.1)\">\n     <use xlink:href=\"#DejaVuSans-48\"/>\n    </g>\n   </g>\n   <g id=\"text_325\">\n    <!-- 0 -->\n    <g style=\"fill:#262626;\" transform=\"translate(137.105375 289.635594)scale(0.1 -0.1)\">\n     <use xlink:href=\"#DejaVuSans-48\"/>\n    </g>\n   </g>\n   <g id=\"text_326\">\n    <!-- 0 -->\n    <g style=\"fill:#262626;\" transform=\"translate(157.193375 289.635594)scale(0.1 -0.1)\">\n     <use xlink:href=\"#DejaVuSans-48\"/>\n    </g>\n   </g>\n   <g id=\"text_327\">\n    <!-- 0 -->\n    <g style=\"fill:#262626;\" transform=\"translate(177.281375 289.635594)scale(0.1 -0.1)\">\n     <use xlink:href=\"#DejaVuSans-48\"/>\n    </g>\n   </g>\n   <g id=\"text_328\">\n    <!-- 0 -->\n    <g style=\"fill:#262626;\" transform=\"translate(197.369375 289.635594)scale(0.1 -0.1)\">\n     <use xlink:href=\"#DejaVuSans-48\"/>\n    </g>\n   </g>\n   <g id=\"text_329\">\n    <!-- 0 -->\n    <g style=\"fill:#262626;\" transform=\"translate(217.457375 289.635594)scale(0.1 -0.1)\">\n     <use xlink:href=\"#DejaVuSans-48\"/>\n    </g>\n   </g>\n   <g id=\"text_330\">\n    <!-- 0 -->\n    <g style=\"fill:#262626;\" transform=\"translate(237.545375 289.635594)scale(0.1 -0.1)\">\n     <use xlink:href=\"#DejaVuSans-48\"/>\n    </g>\n   </g>\n   <g id=\"text_331\">\n    <!-- 0 -->\n    <g style=\"fill:#262626;\" transform=\"translate(257.633375 289.635594)scale(0.1 -0.1)\">\n     <use xlink:href=\"#DejaVuSans-48\"/>\n    </g>\n   </g>\n   <g id=\"text_332\">\n    <!-- 0 -->\n    <g style=\"fill:#262626;\" transform=\"translate(277.721375 289.635594)scale(0.1 -0.1)\">\n     <use xlink:href=\"#DejaVuSans-48\"/>\n    </g>\n   </g>\n   <g id=\"text_333\">\n    <!-- 0 -->\n    <g style=\"fill:#262626;\" transform=\"translate(297.809375 289.635594)scale(0.1 -0.1)\">\n     <use xlink:href=\"#DejaVuSans-48\"/>\n    </g>\n   </g>\n   <g id=\"text_334\">\n    <!-- 0 -->\n    <g style=\"fill:#262626;\" transform=\"translate(317.897375 289.635594)scale(0.1 -0.1)\">\n     <use xlink:href=\"#DejaVuSans-48\"/>\n    </g>\n   </g>\n   <g id=\"text_335\">\n    <!-- 0 -->\n    <g style=\"fill:#262626;\" transform=\"translate(337.985375 289.635594)scale(0.1 -0.1)\">\n     <use xlink:href=\"#DejaVuSans-48\"/>\n    </g>\n   </g>\n   <g id=\"text_336\">\n    <!-- 0 -->\n    <g style=\"fill:#262626;\" transform=\"translate(358.073375 289.635594)scale(0.1 -0.1)\">\n     <use xlink:href=\"#DejaVuSans-48\"/>\n    </g>\n   </g>\n   <g id=\"text_337\">\n    <!-- 0 -->\n    <g style=\"fill:#262626;\" transform=\"translate(378.161375 289.635594)scale(0.1 -0.1)\">\n     <use xlink:href=\"#DejaVuSans-48\"/>\n    </g>\n   </g>\n   <g id=\"text_338\">\n    <!-- 0 -->\n    <g style=\"fill:#262626;\" transform=\"translate(398.249375 289.635594)scale(0.1 -0.1)\">\n     <use xlink:href=\"#DejaVuSans-48\"/>\n    </g>\n   </g>\n   <g id=\"text_339\">\n    <!-- 0 -->\n    <g style=\"fill:#262626;\" transform=\"translate(418.337375 289.635594)scale(0.1 -0.1)\">\n     <use xlink:href=\"#DejaVuSans-48\"/>\n    </g>\n   </g>\n   <g id=\"text_340\">\n    <!-- 0 -->\n    <g style=\"fill:#262626;\" transform=\"translate(438.425375 289.635594)scale(0.1 -0.1)\">\n     <use xlink:href=\"#DejaVuSans-48\"/>\n    </g>\n   </g>\n   <g id=\"text_341\">\n    <!-- 0 -->\n    <g style=\"fill:#262626;\" transform=\"translate(56.753375 308.661594)scale(0.1 -0.1)\">\n     <use xlink:href=\"#DejaVuSans-48\"/>\n    </g>\n   </g>\n   <g id=\"text_342\">\n    <!-- 0 -->\n    <g style=\"fill:#262626;\" transform=\"translate(76.841375 308.661594)scale(0.1 -0.1)\">\n     <use xlink:href=\"#DejaVuSans-48\"/>\n    </g>\n   </g>\n   <g id=\"text_343\">\n    <!-- 0 -->\n    <g style=\"fill:#262626;\" transform=\"translate(96.929375 308.661594)scale(0.1 -0.1)\">\n     <use xlink:href=\"#DejaVuSans-48\"/>\n    </g>\n   </g>\n   <g id=\"text_344\">\n    <!-- 0 -->\n    <g style=\"fill:#262626;\" transform=\"translate(117.017375 308.661594)scale(0.1 -0.1)\">\n     <use xlink:href=\"#DejaVuSans-48\"/>\n    </g>\n   </g>\n   <g id=\"text_345\">\n    <!-- 0 -->\n    <g style=\"fill:#262626;\" transform=\"translate(137.105375 308.661594)scale(0.1 -0.1)\">\n     <use xlink:href=\"#DejaVuSans-48\"/>\n    </g>\n   </g>\n   <g id=\"text_346\">\n    <!-- 0 -->\n    <g style=\"fill:#262626;\" transform=\"translate(157.193375 308.661594)scale(0.1 -0.1)\">\n     <use xlink:href=\"#DejaVuSans-48\"/>\n    </g>\n   </g>\n   <g id=\"text_347\">\n    <!-- 0 -->\n    <g style=\"fill:#262626;\" transform=\"translate(177.281375 308.661594)scale(0.1 -0.1)\">\n     <use xlink:href=\"#DejaVuSans-48\"/>\n    </g>\n   </g>\n   <g id=\"text_348\">\n    <!-- 0 -->\n    <g style=\"fill:#262626;\" transform=\"translate(197.369375 308.661594)scale(0.1 -0.1)\">\n     <use xlink:href=\"#DejaVuSans-48\"/>\n    </g>\n   </g>\n   <g id=\"text_349\">\n    <!-- 0 -->\n    <g style=\"fill:#262626;\" transform=\"translate(217.457375 308.661594)scale(0.1 -0.1)\">\n     <use xlink:href=\"#DejaVuSans-48\"/>\n    </g>\n   </g>\n   <g id=\"text_350\">\n    <!-- 0 -->\n    <g style=\"fill:#262626;\" transform=\"translate(237.545375 308.661594)scale(0.1 -0.1)\">\n     <use xlink:href=\"#DejaVuSans-48\"/>\n    </g>\n   </g>\n   <g id=\"text_351\">\n    <!-- 0 -->\n    <g style=\"fill:#262626;\" transform=\"translate(257.633375 308.661594)scale(0.1 -0.1)\">\n     <use xlink:href=\"#DejaVuSans-48\"/>\n    </g>\n   </g>\n   <g id=\"text_352\">\n    <!-- 0 -->\n    <g style=\"fill:#262626;\" transform=\"translate(277.721375 308.661594)scale(0.1 -0.1)\">\n     <use xlink:href=\"#DejaVuSans-48\"/>\n    </g>\n   </g>\n   <g id=\"text_353\">\n    <!-- 0 -->\n    <g style=\"fill:#262626;\" transform=\"translate(297.809375 308.661594)scale(0.1 -0.1)\">\n     <use xlink:href=\"#DejaVuSans-48\"/>\n    </g>\n   </g>\n   <g id=\"text_354\">\n    <!-- 0 -->\n    <g style=\"fill:#262626;\" transform=\"translate(317.897375 308.661594)scale(0.1 -0.1)\">\n     <use xlink:href=\"#DejaVuSans-48\"/>\n    </g>\n   </g>\n   <g id=\"text_355\">\n    <!-- 0 -->\n    <g style=\"fill:#262626;\" transform=\"translate(337.985375 308.661594)scale(0.1 -0.1)\">\n     <use xlink:href=\"#DejaVuSans-48\"/>\n    </g>\n   </g>\n   <g id=\"text_356\">\n    <!-- 0 -->\n    <g style=\"fill:#262626;\" transform=\"translate(358.073375 308.661594)scale(0.1 -0.1)\">\n     <use xlink:href=\"#DejaVuSans-48\"/>\n    </g>\n   </g>\n   <g id=\"text_357\">\n    <!-- 0 -->\n    <g style=\"fill:#262626;\" transform=\"translate(378.161375 308.661594)scale(0.1 -0.1)\">\n     <use xlink:href=\"#DejaVuSans-48\"/>\n    </g>\n   </g>\n   <g id=\"text_358\">\n    <!-- 0 -->\n    <g style=\"fill:#262626;\" transform=\"translate(398.249375 308.661594)scale(0.1 -0.1)\">\n     <use xlink:href=\"#DejaVuSans-48\"/>\n    </g>\n   </g>\n   <g id=\"text_359\">\n    <!-- 0 -->\n    <g style=\"fill:#262626;\" transform=\"translate(418.337375 308.661594)scale(0.1 -0.1)\">\n     <use xlink:href=\"#DejaVuSans-48\"/>\n    </g>\n   </g>\n   <g id=\"text_360\">\n    <!-- 0 -->\n    <g style=\"fill:#262626;\" transform=\"translate(438.425375 308.661594)scale(0.1 -0.1)\">\n     <use xlink:href=\"#DejaVuSans-48\"/>\n    </g>\n   </g>\n   <g id=\"text_361\">\n    <!-- 0 -->\n    <g style=\"fill:#262626;\" transform=\"translate(56.753375 327.687594)scale(0.1 -0.1)\">\n     <use xlink:href=\"#DejaVuSans-48\"/>\n    </g>\n   </g>\n   <g id=\"text_362\">\n    <!-- 0 -->\n    <g style=\"fill:#262626;\" transform=\"translate(76.841375 327.687594)scale(0.1 -0.1)\">\n     <use xlink:href=\"#DejaVuSans-48\"/>\n    </g>\n   </g>\n   <g id=\"text_363\">\n    <!-- 0 -->\n    <g style=\"fill:#262626;\" transform=\"translate(96.929375 327.687594)scale(0.1 -0.1)\">\n     <use xlink:href=\"#DejaVuSans-48\"/>\n    </g>\n   </g>\n   <g id=\"text_364\">\n    <!-- 0 -->\n    <g style=\"fill:#262626;\" transform=\"translate(117.017375 327.687594)scale(0.1 -0.1)\">\n     <use xlink:href=\"#DejaVuSans-48\"/>\n    </g>\n   </g>\n   <g id=\"text_365\">\n    <!-- 0 -->\n    <g style=\"fill:#262626;\" transform=\"translate(137.105375 327.687594)scale(0.1 -0.1)\">\n     <use xlink:href=\"#DejaVuSans-48\"/>\n    </g>\n   </g>\n   <g id=\"text_366\">\n    <!-- 0 -->\n    <g style=\"fill:#262626;\" transform=\"translate(157.193375 327.687594)scale(0.1 -0.1)\">\n     <use xlink:href=\"#DejaVuSans-48\"/>\n    </g>\n   </g>\n   <g id=\"text_367\">\n    <!-- 0 -->\n    <g style=\"fill:#262626;\" transform=\"translate(177.281375 327.687594)scale(0.1 -0.1)\">\n     <use xlink:href=\"#DejaVuSans-48\"/>\n    </g>\n   </g>\n   <g id=\"text_368\">\n    <!-- 0 -->\n    <g style=\"fill:#262626;\" transform=\"translate(197.369375 327.687594)scale(0.1 -0.1)\">\n     <use xlink:href=\"#DejaVuSans-48\"/>\n    </g>\n   </g>\n   <g id=\"text_369\">\n    <!-- 0 -->\n    <g style=\"fill:#262626;\" transform=\"translate(217.457375 327.687594)scale(0.1 -0.1)\">\n     <use xlink:href=\"#DejaVuSans-48\"/>\n    </g>\n   </g>\n   <g id=\"text_370\">\n    <!-- 0 -->\n    <g style=\"fill:#262626;\" transform=\"translate(237.545375 327.687594)scale(0.1 -0.1)\">\n     <use xlink:href=\"#DejaVuSans-48\"/>\n    </g>\n   </g>\n   <g id=\"text_371\">\n    <!-- 0 -->\n    <g style=\"fill:#262626;\" transform=\"translate(257.633375 327.687594)scale(0.1 -0.1)\">\n     <use xlink:href=\"#DejaVuSans-48\"/>\n    </g>\n   </g>\n   <g id=\"text_372\">\n    <!-- 0 -->\n    <g style=\"fill:#262626;\" transform=\"translate(277.721375 327.687594)scale(0.1 -0.1)\">\n     <use xlink:href=\"#DejaVuSans-48\"/>\n    </g>\n   </g>\n   <g id=\"text_373\">\n    <!-- 0 -->\n    <g style=\"fill:#262626;\" transform=\"translate(297.809375 327.687594)scale(0.1 -0.1)\">\n     <use xlink:href=\"#DejaVuSans-48\"/>\n    </g>\n   </g>\n   <g id=\"text_374\">\n    <!-- 0 -->\n    <g style=\"fill:#262626;\" transform=\"translate(317.897375 327.687594)scale(0.1 -0.1)\">\n     <use xlink:href=\"#DejaVuSans-48\"/>\n    </g>\n   </g>\n   <g id=\"text_375\">\n    <!-- 0 -->\n    <g style=\"fill:#262626;\" transform=\"translate(337.985375 327.687594)scale(0.1 -0.1)\">\n     <use xlink:href=\"#DejaVuSans-48\"/>\n    </g>\n   </g>\n   <g id=\"text_376\">\n    <!-- 0 -->\n    <g style=\"fill:#262626;\" transform=\"translate(358.073375 327.687594)scale(0.1 -0.1)\">\n     <use xlink:href=\"#DejaVuSans-48\"/>\n    </g>\n   </g>\n   <g id=\"text_377\">\n    <!-- 0 -->\n    <g style=\"fill:#262626;\" transform=\"translate(378.161375 327.687594)scale(0.1 -0.1)\">\n     <use xlink:href=\"#DejaVuSans-48\"/>\n    </g>\n   </g>\n   <g id=\"text_378\">\n    <!-- 0 -->\n    <g style=\"fill:#262626;\" transform=\"translate(398.249375 327.687594)scale(0.1 -0.1)\">\n     <use xlink:href=\"#DejaVuSans-48\"/>\n    </g>\n   </g>\n   <g id=\"text_379\">\n    <!-- 0 -->\n    <g style=\"fill:#262626;\" transform=\"translate(418.337375 327.687594)scale(0.1 -0.1)\">\n     <use xlink:href=\"#DejaVuSans-48\"/>\n    </g>\n   </g>\n   <g id=\"text_380\">\n    <!-- 0 -->\n    <g style=\"fill:#262626;\" transform=\"translate(438.425375 327.687594)scale(0.1 -0.1)\">\n     <use xlink:href=\"#DejaVuSans-48\"/>\n    </g>\n   </g>\n   <g id=\"text_381\">\n    <!-- 0 -->\n    <g style=\"fill:#262626;\" transform=\"translate(56.753375 346.713594)scale(0.1 -0.1)\">\n     <use xlink:href=\"#DejaVuSans-48\"/>\n    </g>\n   </g>\n   <g id=\"text_382\">\n    <!-- 0 -->\n    <g style=\"fill:#262626;\" transform=\"translate(76.841375 346.713594)scale(0.1 -0.1)\">\n     <use xlink:href=\"#DejaVuSans-48\"/>\n    </g>\n   </g>\n   <g id=\"text_383\">\n    <!-- 0 -->\n    <g style=\"fill:#262626;\" transform=\"translate(96.929375 346.713594)scale(0.1 -0.1)\">\n     <use xlink:href=\"#DejaVuSans-48\"/>\n    </g>\n   </g>\n   <g id=\"text_384\">\n    <!-- 0 -->\n    <g style=\"fill:#262626;\" transform=\"translate(117.017375 346.713594)scale(0.1 -0.1)\">\n     <use xlink:href=\"#DejaVuSans-48\"/>\n    </g>\n   </g>\n   <g id=\"text_385\">\n    <!-- 0 -->\n    <g style=\"fill:#262626;\" transform=\"translate(137.105375 346.713594)scale(0.1 -0.1)\">\n     <use xlink:href=\"#DejaVuSans-48\"/>\n    </g>\n   </g>\n   <g id=\"text_386\">\n    <!-- 0 -->\n    <g style=\"fill:#262626;\" transform=\"translate(157.193375 346.713594)scale(0.1 -0.1)\">\n     <use xlink:href=\"#DejaVuSans-48\"/>\n    </g>\n   </g>\n   <g id=\"text_387\">\n    <!-- 0 -->\n    <g style=\"fill:#262626;\" transform=\"translate(177.281375 346.713594)scale(0.1 -0.1)\">\n     <use xlink:href=\"#DejaVuSans-48\"/>\n    </g>\n   </g>\n   <g id=\"text_388\">\n    <!-- 0 -->\n    <g style=\"fill:#262626;\" transform=\"translate(197.369375 346.713594)scale(0.1 -0.1)\">\n     <use xlink:href=\"#DejaVuSans-48\"/>\n    </g>\n   </g>\n   <g id=\"text_389\">\n    <!-- 0 -->\n    <g style=\"fill:#262626;\" transform=\"translate(217.457375 346.713594)scale(0.1 -0.1)\">\n     <use xlink:href=\"#DejaVuSans-48\"/>\n    </g>\n   </g>\n   <g id=\"text_390\">\n    <!-- 0 -->\n    <g style=\"fill:#262626;\" transform=\"translate(237.545375 346.713594)scale(0.1 -0.1)\">\n     <use xlink:href=\"#DejaVuSans-48\"/>\n    </g>\n   </g>\n   <g id=\"text_391\">\n    <!-- 0 -->\n    <g style=\"fill:#262626;\" transform=\"translate(257.633375 346.713594)scale(0.1 -0.1)\">\n     <use xlink:href=\"#DejaVuSans-48\"/>\n    </g>\n   </g>\n   <g id=\"text_392\">\n    <!-- 0 -->\n    <g style=\"fill:#262626;\" transform=\"translate(277.721375 346.713594)scale(0.1 -0.1)\">\n     <use xlink:href=\"#DejaVuSans-48\"/>\n    </g>\n   </g>\n   <g id=\"text_393\">\n    <!-- 0 -->\n    <g style=\"fill:#262626;\" transform=\"translate(297.809375 346.713594)scale(0.1 -0.1)\">\n     <use xlink:href=\"#DejaVuSans-48\"/>\n    </g>\n   </g>\n   <g id=\"text_394\">\n    <!-- 0 -->\n    <g style=\"fill:#262626;\" transform=\"translate(317.897375 346.713594)scale(0.1 -0.1)\">\n     <use xlink:href=\"#DejaVuSans-48\"/>\n    </g>\n   </g>\n   <g id=\"text_395\">\n    <!-- 0 -->\n    <g style=\"fill:#262626;\" transform=\"translate(337.985375 346.713594)scale(0.1 -0.1)\">\n     <use xlink:href=\"#DejaVuSans-48\"/>\n    </g>\n   </g>\n   <g id=\"text_396\">\n    <!-- 0 -->\n    <g style=\"fill:#262626;\" transform=\"translate(358.073375 346.713594)scale(0.1 -0.1)\">\n     <use xlink:href=\"#DejaVuSans-48\"/>\n    </g>\n   </g>\n   <g id=\"text_397\">\n    <!-- 0 -->\n    <g style=\"fill:#262626;\" transform=\"translate(378.161375 346.713594)scale(0.1 -0.1)\">\n     <use xlink:href=\"#DejaVuSans-48\"/>\n    </g>\n   </g>\n   <g id=\"text_398\">\n    <!-- 0 -->\n    <g style=\"fill:#262626;\" transform=\"translate(398.249375 346.713594)scale(0.1 -0.1)\">\n     <use xlink:href=\"#DejaVuSans-48\"/>\n    </g>\n   </g>\n   <g id=\"text_399\">\n    <!-- 0 -->\n    <g style=\"fill:#262626;\" transform=\"translate(418.337375 346.713594)scale(0.1 -0.1)\">\n     <use xlink:href=\"#DejaVuSans-48\"/>\n    </g>\n   </g>\n   <g id=\"text_400\">\n    <!-- 0 -->\n    <g style=\"fill:#262626;\" transform=\"translate(438.425375 346.713594)scale(0.1 -0.1)\">\n     <use xlink:href=\"#DejaVuSans-48\"/>\n    </g>\n   </g>\n   <g id=\"text_401\">\n    <!-- 0 -->\n    <g style=\"fill:#262626;\" transform=\"translate(56.753375 365.739594)scale(0.1 -0.1)\">\n     <use xlink:href=\"#DejaVuSans-48\"/>\n    </g>\n   </g>\n   <g id=\"text_402\">\n    <!-- 0 -->\n    <g style=\"fill:#262626;\" transform=\"translate(76.841375 365.739594)scale(0.1 -0.1)\">\n     <use xlink:href=\"#DejaVuSans-48\"/>\n    </g>\n   </g>\n   <g id=\"text_403\">\n    <!-- 0 -->\n    <g style=\"fill:#262626;\" transform=\"translate(96.929375 365.739594)scale(0.1 -0.1)\">\n     <use xlink:href=\"#DejaVuSans-48\"/>\n    </g>\n   </g>\n   <g id=\"text_404\">\n    <!-- 0 -->\n    <g style=\"fill:#262626;\" transform=\"translate(117.017375 365.739594)scale(0.1 -0.1)\">\n     <use xlink:href=\"#DejaVuSans-48\"/>\n    </g>\n   </g>\n   <g id=\"text_405\">\n    <!-- 0 -->\n    <g style=\"fill:#262626;\" transform=\"translate(137.105375 365.739594)scale(0.1 -0.1)\">\n     <use xlink:href=\"#DejaVuSans-48\"/>\n    </g>\n   </g>\n   <g id=\"text_406\">\n    <!-- 0 -->\n    <g style=\"fill:#262626;\" transform=\"translate(157.193375 365.739594)scale(0.1 -0.1)\">\n     <use xlink:href=\"#DejaVuSans-48\"/>\n    </g>\n   </g>\n   <g id=\"text_407\">\n    <!-- 0 -->\n    <g style=\"fill:#262626;\" transform=\"translate(177.281375 365.739594)scale(0.1 -0.1)\">\n     <use xlink:href=\"#DejaVuSans-48\"/>\n    </g>\n   </g>\n   <g id=\"text_408\">\n    <!-- 0 -->\n    <g style=\"fill:#262626;\" transform=\"translate(197.369375 365.739594)scale(0.1 -0.1)\">\n     <use xlink:href=\"#DejaVuSans-48\"/>\n    </g>\n   </g>\n   <g id=\"text_409\">\n    <!-- 0 -->\n    <g style=\"fill:#262626;\" transform=\"translate(217.457375 365.739594)scale(0.1 -0.1)\">\n     <use xlink:href=\"#DejaVuSans-48\"/>\n    </g>\n   </g>\n   <g id=\"text_410\">\n    <!-- 0 -->\n    <g style=\"fill:#262626;\" transform=\"translate(237.545375 365.739594)scale(0.1 -0.1)\">\n     <use xlink:href=\"#DejaVuSans-48\"/>\n    </g>\n   </g>\n   <g id=\"text_411\">\n    <!-- 0 -->\n    <g style=\"fill:#262626;\" transform=\"translate(257.633375 365.739594)scale(0.1 -0.1)\">\n     <use xlink:href=\"#DejaVuSans-48\"/>\n    </g>\n   </g>\n   <g id=\"text_412\">\n    <!-- 0 -->\n    <g style=\"fill:#262626;\" transform=\"translate(277.721375 365.739594)scale(0.1 -0.1)\">\n     <use xlink:href=\"#DejaVuSans-48\"/>\n    </g>\n   </g>\n   <g id=\"text_413\">\n    <!-- 0 -->\n    <g style=\"fill:#262626;\" transform=\"translate(297.809375 365.739594)scale(0.1 -0.1)\">\n     <use xlink:href=\"#DejaVuSans-48\"/>\n    </g>\n   </g>\n   <g id=\"text_414\">\n    <!-- 0 -->\n    <g style=\"fill:#262626;\" transform=\"translate(317.897375 365.739594)scale(0.1 -0.1)\">\n     <use xlink:href=\"#DejaVuSans-48\"/>\n    </g>\n   </g>\n   <g id=\"text_415\">\n    <!-- 0 -->\n    <g style=\"fill:#262626;\" transform=\"translate(337.985375 365.739594)scale(0.1 -0.1)\">\n     <use xlink:href=\"#DejaVuSans-48\"/>\n    </g>\n   </g>\n   <g id=\"text_416\">\n    <!-- 0 -->\n    <g style=\"fill:#262626;\" transform=\"translate(358.073375 365.739594)scale(0.1 -0.1)\">\n     <use xlink:href=\"#DejaVuSans-48\"/>\n    </g>\n   </g>\n   <g id=\"text_417\">\n    <!-- 0 -->\n    <g style=\"fill:#262626;\" transform=\"translate(378.161375 365.739594)scale(0.1 -0.1)\">\n     <use xlink:href=\"#DejaVuSans-48\"/>\n    </g>\n   </g>\n   <g id=\"text_418\">\n    <!-- 0 -->\n    <g style=\"fill:#262626;\" transform=\"translate(398.249375 365.739594)scale(0.1 -0.1)\">\n     <use xlink:href=\"#DejaVuSans-48\"/>\n    </g>\n   </g>\n   <g id=\"text_419\">\n    <!-- 0 -->\n    <g style=\"fill:#262626;\" transform=\"translate(418.337375 365.739594)scale(0.1 -0.1)\">\n     <use xlink:href=\"#DejaVuSans-48\"/>\n    </g>\n   </g>\n   <g id=\"text_420\">\n    <!-- 0 -->\n    <g style=\"fill:#262626;\" transform=\"translate(438.425375 365.739594)scale(0.1 -0.1)\">\n     <use xlink:href=\"#DejaVuSans-48\"/>\n    </g>\n   </g>\n   <g id=\"text_421\">\n    <!-- 0 -->\n    <g style=\"fill:#262626;\" transform=\"translate(56.753375 384.765594)scale(0.1 -0.1)\">\n     <use xlink:href=\"#DejaVuSans-48\"/>\n    </g>\n   </g>\n   <g id=\"text_422\">\n    <!-- 0 -->\n    <g style=\"fill:#262626;\" transform=\"translate(76.841375 384.765594)scale(0.1 -0.1)\">\n     <use xlink:href=\"#DejaVuSans-48\"/>\n    </g>\n   </g>\n   <g id=\"text_423\">\n    <!-- 0 -->\n    <g style=\"fill:#262626;\" transform=\"translate(96.929375 384.765594)scale(0.1 -0.1)\">\n     <use xlink:href=\"#DejaVuSans-48\"/>\n    </g>\n   </g>\n   <g id=\"text_424\">\n    <!-- 0 -->\n    <g style=\"fill:#262626;\" transform=\"translate(117.017375 384.765594)scale(0.1 -0.1)\">\n     <use xlink:href=\"#DejaVuSans-48\"/>\n    </g>\n   </g>\n   <g id=\"text_425\">\n    <!-- 0 -->\n    <g style=\"fill:#262626;\" transform=\"translate(137.105375 384.765594)scale(0.1 -0.1)\">\n     <use xlink:href=\"#DejaVuSans-48\"/>\n    </g>\n   </g>\n   <g id=\"text_426\">\n    <!-- 0 -->\n    <g style=\"fill:#262626;\" transform=\"translate(157.193375 384.765594)scale(0.1 -0.1)\">\n     <use xlink:href=\"#DejaVuSans-48\"/>\n    </g>\n   </g>\n   <g id=\"text_427\">\n    <!-- 0 -->\n    <g style=\"fill:#262626;\" transform=\"translate(177.281375 384.765594)scale(0.1 -0.1)\">\n     <use xlink:href=\"#DejaVuSans-48\"/>\n    </g>\n   </g>\n   <g id=\"text_428\">\n    <!-- 0 -->\n    <g style=\"fill:#262626;\" transform=\"translate(197.369375 384.765594)scale(0.1 -0.1)\">\n     <use xlink:href=\"#DejaVuSans-48\"/>\n    </g>\n   </g>\n   <g id=\"text_429\">\n    <!-- 0 -->\n    <g style=\"fill:#262626;\" transform=\"translate(217.457375 384.765594)scale(0.1 -0.1)\">\n     <use xlink:href=\"#DejaVuSans-48\"/>\n    </g>\n   </g>\n   <g id=\"text_430\">\n    <!-- 0 -->\n    <g style=\"fill:#262626;\" transform=\"translate(237.545375 384.765594)scale(0.1 -0.1)\">\n     <use xlink:href=\"#DejaVuSans-48\"/>\n    </g>\n   </g>\n   <g id=\"text_431\">\n    <!-- 0 -->\n    <g style=\"fill:#262626;\" transform=\"translate(257.633375 384.765594)scale(0.1 -0.1)\">\n     <use xlink:href=\"#DejaVuSans-48\"/>\n    </g>\n   </g>\n   <g id=\"text_432\">\n    <!-- 0 -->\n    <g style=\"fill:#262626;\" transform=\"translate(277.721375 384.765594)scale(0.1 -0.1)\">\n     <use xlink:href=\"#DejaVuSans-48\"/>\n    </g>\n   </g>\n   <g id=\"text_433\">\n    <!-- 0 -->\n    <g style=\"fill:#262626;\" transform=\"translate(297.809375 384.765594)scale(0.1 -0.1)\">\n     <use xlink:href=\"#DejaVuSans-48\"/>\n    </g>\n   </g>\n   <g id=\"text_434\">\n    <!-- 0 -->\n    <g style=\"fill:#262626;\" transform=\"translate(317.897375 384.765594)scale(0.1 -0.1)\">\n     <use xlink:href=\"#DejaVuSans-48\"/>\n    </g>\n   </g>\n   <g id=\"text_435\">\n    <!-- 0 -->\n    <g style=\"fill:#262626;\" transform=\"translate(337.985375 384.765594)scale(0.1 -0.1)\">\n     <use xlink:href=\"#DejaVuSans-48\"/>\n    </g>\n   </g>\n   <g id=\"text_436\">\n    <!-- 0 -->\n    <g style=\"fill:#262626;\" transform=\"translate(358.073375 384.765594)scale(0.1 -0.1)\">\n     <use xlink:href=\"#DejaVuSans-48\"/>\n    </g>\n   </g>\n   <g id=\"text_437\">\n    <!-- 0 -->\n    <g style=\"fill:#262626;\" transform=\"translate(378.161375 384.765594)scale(0.1 -0.1)\">\n     <use xlink:href=\"#DejaVuSans-48\"/>\n    </g>\n   </g>\n   <g id=\"text_438\">\n    <!-- 0 -->\n    <g style=\"fill:#262626;\" transform=\"translate(398.249375 384.765594)scale(0.1 -0.1)\">\n     <use xlink:href=\"#DejaVuSans-48\"/>\n    </g>\n   </g>\n   <g id=\"text_439\">\n    <!-- 0 -->\n    <g style=\"fill:#262626;\" transform=\"translate(418.337375 384.765594)scale(0.1 -0.1)\">\n     <use xlink:href=\"#DejaVuSans-48\"/>\n    </g>\n   </g>\n   <g id=\"text_440\">\n    <!-- 0 -->\n    <g style=\"fill:#262626;\" transform=\"translate(438.425375 384.765594)scale(0.1 -0.1)\">\n     <use xlink:href=\"#DejaVuSans-48\"/>\n    </g>\n   </g>\n  </g>\n  <g id=\"axes_2\">\n   <g id=\"patch_3\">\n    <path clip-path=\"url(#p83f5926106)\" d=\"M 476.760625 391.519219 \nL 476.760625 390.032812 \nL 476.760625 12.485625 \nL 476.760625 10.999219 \nL 495.786625 10.999219 \nL 495.786625 12.485625 \nL 495.786625 390.032812 \nL 495.786625 391.519219 \nz\n\" style=\"fill:#ffffff;stroke:#ffffff;stroke-linejoin:miter;stroke-width:0.01;\"/>\n   </g>\n   <image height=\"380\" id=\"image764bd5f82e\" transform=\"scale(1 -1)translate(0 -380)\" width=\"19\" x=\"477\" xlink:href=\"data:image/png;base64,\niVBORw0KGgoAAAANSUhEUgAAABMAAAF8CAYAAAAthYD3AAAABHNCSVQICAgIfAhkiAAAAhtJREFUeJztnNEJAzEMQ52S/actlP4kncHlwT2QM4CoIkt27q5Zn/f3FrT2xaCqdhWH9sKQCqaJ/jKaJsdzg2LSNEmwAvdMTZMD83pzIuhhsImgP8AmgtrLW7Rqb4Jgk7TPgsFqkrFNpga7Z2QE7at1AEvTGo67Dggmpol60xqO+x50crSqqY1tsZreooW9aVUzJGlTDq+TtH0wcM/UEYRhqWlq1UwZD9CkBbuTmKa3b6LnTdjoGJY5z8xGB8FSaGq708wa/4BhWObu5G3CKWf0Sdo22CRte4lppiSt1pshjwljkjZiPFgkzSVuKCAYuWewmtZn23tlOMA7Ui3UAWKao2YbTEsTjiArTVRNc9FGNBS2aDNmDdIB9KkuRE0QzHuqg4vWShMtWnFDyaDJPiY8nNNHzf7K8SZXZyl7FnLcgdW05hk7OaaoqaUJfkw1avaXmCbZ6sQ0U9QUn+rIkUpL85JJ632PztIE3zCLZ1pyz8SfC3jVRItWHEGgAClFiw7I3tsF4O6kLQ1QALQ01GpqizYjz+B7XKw04f/VWWlOQ3kWTHyZ2tEmLfnLxFdJoTTBTw/MSXu0EQQ+PjN7MyWCyNHd++cplCbpAPFBTFy06HU1GaUBO8BaGimxbXXATI79RU+O3BKrKS5adKRKoWl9FMH2Ta2a7BQ0NLtLTdPqzVGzDzY020vcUEL6ZswUFOGAGJrguzozzQQ1f+sDBZH2rATiAAAAAElFTkSuQmCC\" y=\"-11\"/>\n   <g id=\"matplotlib.axis_3\"/>\n   <g id=\"matplotlib.axis_4\">\n    <g id=\"ytick_21\">\n     <g id=\"line2d_41\">\n      <defs>\n       <path d=\"M 0 0 \nL 3.5 0 \n\" id=\"m8f00eedaf4\" style=\"stroke:#000000;stroke-width:0.8;\"/>\n      </defs>\n      <g>\n       <use style=\"stroke:#000000;stroke-width:0.8;\" x=\"495.786625\" xlink:href=\"#m8f00eedaf4\" y=\"391.519219\"/>\n      </g>\n     </g>\n     <g id=\"text_441\">\n      <!-- 0.0 -->\n      <defs>\n       <path d=\"M 10.6875 12.40625 \nL 21 12.40625 \nL 21 0 \nL 10.6875 0 \nz\n\" id=\"DejaVuSans-46\"/>\n      </defs>\n      <g transform=\"translate(502.786625 395.318437)scale(0.1 -0.1)\">\n       <use xlink:href=\"#DejaVuSans-48\"/>\n       <use x=\"63.623047\" xlink:href=\"#DejaVuSans-46\"/>\n       <use x=\"95.410156\" xlink:href=\"#DejaVuSans-48\"/>\n      </g>\n     </g>\n    </g>\n    <g id=\"ytick_22\">\n     <g id=\"line2d_42\">\n      <g>\n       <use style=\"stroke:#000000;stroke-width:0.8;\" x=\"495.786625\" xlink:href=\"#m8f00eedaf4\" y=\"315.415219\"/>\n      </g>\n     </g>\n     <g id=\"text_442\">\n      <!-- 0.2 -->\n      <g transform=\"translate(502.786625 319.214437)scale(0.1 -0.1)\">\n       <use xlink:href=\"#DejaVuSans-48\"/>\n       <use x=\"63.623047\" xlink:href=\"#DejaVuSans-46\"/>\n       <use x=\"95.410156\" xlink:href=\"#DejaVuSans-50\"/>\n      </g>\n     </g>\n    </g>\n    <g id=\"ytick_23\">\n     <g id=\"line2d_43\">\n      <g>\n       <use style=\"stroke:#000000;stroke-width:0.8;\" x=\"495.786625\" xlink:href=\"#m8f00eedaf4\" y=\"239.311219\"/>\n      </g>\n     </g>\n     <g id=\"text_443\">\n      <!-- 0.4 -->\n      <g transform=\"translate(502.786625 243.110437)scale(0.1 -0.1)\">\n       <use xlink:href=\"#DejaVuSans-48\"/>\n       <use x=\"63.623047\" xlink:href=\"#DejaVuSans-46\"/>\n       <use x=\"95.410156\" xlink:href=\"#DejaVuSans-52\"/>\n      </g>\n     </g>\n    </g>\n    <g id=\"ytick_24\">\n     <g id=\"line2d_44\">\n      <g>\n       <use style=\"stroke:#000000;stroke-width:0.8;\" x=\"495.786625\" xlink:href=\"#m8f00eedaf4\" y=\"163.207219\"/>\n      </g>\n     </g>\n     <g id=\"text_444\">\n      <!-- 0.6 -->\n      <g transform=\"translate(502.786625 167.006437)scale(0.1 -0.1)\">\n       <use xlink:href=\"#DejaVuSans-48\"/>\n       <use x=\"63.623047\" xlink:href=\"#DejaVuSans-46\"/>\n       <use x=\"95.410156\" xlink:href=\"#DejaVuSans-54\"/>\n      </g>\n     </g>\n    </g>\n    <g id=\"ytick_25\">\n     <g id=\"line2d_45\">\n      <g>\n       <use style=\"stroke:#000000;stroke-width:0.8;\" x=\"495.786625\" xlink:href=\"#m8f00eedaf4\" y=\"87.103219\"/>\n      </g>\n     </g>\n     <g id=\"text_445\">\n      <!-- 0.8 -->\n      <g transform=\"translate(502.786625 90.902438)scale(0.1 -0.1)\">\n       <use xlink:href=\"#DejaVuSans-48\"/>\n       <use x=\"63.623047\" xlink:href=\"#DejaVuSans-46\"/>\n       <use x=\"95.410156\" xlink:href=\"#DejaVuSans-56\"/>\n      </g>\n     </g>\n    </g>\n    <g id=\"ytick_26\">\n     <g id=\"line2d_46\">\n      <g>\n       <use style=\"stroke:#000000;stroke-width:0.8;\" x=\"495.786625\" xlink:href=\"#m8f00eedaf4\" y=\"10.999219\"/>\n      </g>\n     </g>\n     <g id=\"text_446\">\n      <!-- 1.0 -->\n      <g transform=\"translate(502.786625 14.798437)scale(0.1 -0.1)\">\n       <use xlink:href=\"#DejaVuSans-49\"/>\n       <use x=\"63.623047\" xlink:href=\"#DejaVuSans-46\"/>\n       <use x=\"95.410156\" xlink:href=\"#DejaVuSans-48\"/>\n      </g>\n     </g>\n    </g>\n   </g>\n   <g id=\"patch_4\">\n    <path d=\"M 476.760625 391.519219 \nL 476.760625 390.032812 \nL 476.760625 12.485625 \nL 476.760625 10.999219 \nL 495.786625 10.999219 \nL 495.786625 12.485625 \nL 495.786625 390.032812 \nL 495.786625 391.519219 \nz\n\" style=\"fill:none;\"/>\n   </g>\n  </g>\n </g>\n <defs>\n  <clipPath id=\"p1e7277eb03\">\n   <rect height=\"380.52\" width=\"401.76\" x=\"49.890625\" y=\"10.999219\"/>\n  </clipPath>\n  <clipPath id=\"p83f5926106\">\n   <rect height=\"380.52\" width=\"19.026\" x=\"476.760625\" y=\"10.999219\"/>\n  </clipPath>\n </defs>\n</svg>\n",
      "image/png": "[encoded data removed]"
     },
     "metadata": {}
    }
   ],
   "source": [
    "import seaborn as sns\n",
    "\n",
    "df_todraw = pd.DataFrame(plot_z, columns = plot_x, index = plot_y)\n",
    "plt.subplots(figsize=(9, 7))\n",
    "ax = sns.heatmap(df_todraw,\n",
    "                 cmap=\"PuRd\",\n",
    "                 vmin=0, vmax=1, annot=True)"
   ]
  },
  {
   "cell_type": "markdown",
   "metadata": {},
   "source": [
    "Check out more beautiful color palettes here: https://python-graph-gallery.com/197-available-color-palettes-with-matplotlib/"
   ]
  },
  {
   "cell_type": "markdown",
   "metadata": {},
   "source": [
    "---"
   ]
  },
  {
   "cell_type": "markdown",
   "metadata": {},
   "source": [
    "### **>>> Exercise 11 (take home):** \n",
    "From the chart above, we can see how sparse the term-document matrix is; i.e., there is only one terms with frequency of `1` in the subselection of the matrix. By the way, you may have noticed that we only selected 20 articles and 20 terms to plot the histrogram. As an excersise you can try to modify the code above to plot the entire term-document matrix or just a sample of it. How would you do this efficiently? Remember there is a lot of words in the vocab. Report below what methods you would use to get a nice and useful visualization"
   ]
  },
  {
   "cell_type": "code",
   "execution_count": 91,
   "metadata": {},
   "outputs": [],
   "source": [
    "# Answer here\n"
   ]
  },
  {
   "cell_type": "markdown",
   "metadata": {},
   "source": [
    "---"
   ]
  },
  {
   "cell_type": "markdown",
   "metadata": {},
   "source": [
    "The great thing about what we have done so far is that we now open doors to new problems. Let us be optimistic. Even though we have the problem of sparsity and a very high dimensional data, we are now closer to uncovering wonders from the data. You see, the price you pay for the hard work is worth it because now you are gaining a lot of knowledge from what was just a list of what appeared to be irrelevant articles. Just the fact that you can blow up the data and find out interesting characteristics about the dataset in just a couple lines of code, is something that truly inspires me to practise Data Science. That's the motivation right there!"
   ]
  },
  {
   "cell_type": "markdown",
   "metadata": {},
   "source": [
    "---"
   ]
  },
  {
   "cell_type": "markdown",
   "metadata": {},
   "source": [
    "### 5.4 Dimensionality Reduction\n",
    "Since we have just touched on the concept of sparsity most naturally the problem of \"curse of dimentionality\" comes up. I am not going to get into the full details of what dimensionality reduction is and what it is good for just the fact that is an excellent technique for visualizing data efficiently (please refer to notes for more information). All I can say is that we are going to deal with the issue of sparsity with a few lines of code. And we are going to try to visualize our data more efficiently with the results.\n",
    "\n",
    "We are going to make use of Principal Component Analysis to efficeintly reduce the dimensions of our data, with the main goal of \"finding a projection that captures the largest amount of variation in the data.\" This concept is important as it is very useful for visualizing and observing the characteristics of our dataset. "
   ]
  },
  {
   "cell_type": "markdown",
   "metadata": {},
   "source": [
    "[PCA Algorithm](http://scikit-learn.org/stable/modules/generated/sklearn.decomposition.PCA.html)\n",
    "\n",
    "**Input:** Raw term-vector matrix\n",
    "\n",
    "**Output:** Projections "
   ]
  },
  {
   "cell_type": "code",
   "execution_count": 92,
   "metadata": {},
   "outputs": [],
   "source": [
    "from sklearn.decomposition import PCA"
   ]
  },
  {
   "cell_type": "code",
   "execution_count": 93,
   "metadata": {},
   "outputs": [
    {
     "output_type": "stream",
     "name": "stdout",
     "text": [
      "  (0, 14887)\t1\n  (0, 29022)\t1\n  (0, 8696)\t4\n  (0, 4017)\t2\n  (0, 33256)\t2\n  (0, 21661)\t3\n  (0, 9031)\t3\n  (0, 31077)\t1\n  (0, 9805)\t2\n  (0, 17366)\t1\n  (0, 32493)\t4\n  (0, 16916)\t2\n  (0, 19780)\t2\n  (0, 17302)\t2\n  (0, 23122)\t1\n  (0, 25663)\t1\n  (0, 16881)\t1\n  (0, 16082)\t1\n  (0, 23915)\t1\n  (0, 32142)\t5\n  (0, 33597)\t2\n  (0, 20253)\t1\n  (0, 587)\t1\n  (0, 12051)\t1\n  (0, 5201)\t1\n  :\t:\n  (2256, 13740)\t1\n  (2256, 14662)\t1\n  (2256, 20201)\t1\n  (2256, 12443)\t6\n  (2256, 30325)\t3\n  (2256, 4610)\t1\n  (2256, 33844)\t1\n  (2256, 17354)\t1\n  (2256, 26998)\t1\n  (2256, 20277)\t1\n  (2256, 20695)\t1\n  (2256, 20702)\t1\n  (2256, 9649)\t1\n  (2256, 9086)\t1\n  (2256, 26254)\t1\n  (2256, 17133)\t2\n  (2256, 4490)\t1\n  (2256, 13720)\t1\n  (2256, 5016)\t1\n  (2256, 9632)\t1\n  (2256, 11824)\t1\n  (2256, 29993)\t1\n  (2256, 1298)\t1\n  (2256, 2375)\t1\n  (2256, 3921)\t1 \n\n(2257, 35788) \n\n<class 'scipy.sparse.csr.csr_matrix'>\n"
     ]
    }
   ],
   "source": [
    "print(X_counts,'\\n')\n",
    "print(X_counts.shape,'\\n')\n",
    "print(type(X_counts))"
   ]
  },
  {
   "cell_type": "code",
   "execution_count": null,
   "metadata": {},
   "outputs": [],
   "source": [
    "X_reduced = PCA(n_components = 2).fit_transform(X_counts.toarray())"
   ]
  },
  {
   "cell_type": "code",
   "execution_count": null,
   "metadata": {},
   "outputs": [],
   "source": [
    "X_reduced.shape"
   ]
  },
  {
   "cell_type": "code",
   "execution_count": null,
   "metadata": {},
   "outputs": [],
   "source": [
    "categories"
   ]
  },
  {
   "cell_type": "code",
   "execution_count": null,
   "metadata": {},
   "outputs": [],
   "source": [
    "col = ['coral', 'blue', 'black', 'm']\n",
    "\n",
    "# plot\n",
    "fig = plt.figure(figsize = (25,10))\n",
    "ax = fig.subplots()\n",
    "\n",
    "for c, category in zip(col, categories):\n",
    "    xs = X_reduced[X['category_name'] == category].T[0]\n",
    "    ys = X_reduced[X['category_name'] == category].T[1]\n",
    "   \n",
    "    ax.scatter(xs, ys, c = c, marker='o')\n",
    "\n",
    "ax.grid(color='gray', linestyle=':', linewidth=2, alpha=0.2)\n",
    "ax.set_xlabel('\\nX Label')\n",
    "ax.set_ylabel('\\nY Label')\n",
    "\n",
    "plt.show()"
   ]
  },
  {
   "cell_type": "markdown",
   "metadata": {},
   "source": [
    "From the 2D visualization above, we can see a slight \"hint of separation in the data\"; i.e., they might have some special grouping by category, but it is not immediately clear. The PCA was applied to the raw frequencies and this is considered a very naive approach as some words are not really unique to a document. Only categorizing by word frequency is considered a \"bag of words\" approach. Later on in the course you will learn about different approaches on how to create better features from the term-vector matrix, such as term-frequency inverse document frequency so-called TF-IDF."
   ]
  },
  {
   "cell_type": "markdown",
   "metadata": {},
   "source": [
    "---"
   ]
  },
  {
   "cell_type": "markdown",
   "metadata": {},
   "source": [
    "### >>> Exercise 12 (take home):\n",
    "Please try to reduce the dimension to 3, and plot the result use 3-D plot. Use at least 3 different angle (camera position) to check your result and describe what you found.\n",
    "\n",
    "$Hint$: you can refer to Axes3D in the documentation."
   ]
  },
  {
   "cell_type": "code",
   "execution_count": null,
   "metadata": {},
   "outputs": [],
   "source": [
    "# Answer here\n"
   ]
  },
  {
   "cell_type": "markdown",
   "metadata": {},
   "source": [
    "---"
   ]
  },
  {
   "cell_type": "markdown",
   "metadata": {},
   "source": [
    "### 5.5 Atrribute Transformation / Aggregation\n",
    "We can do other things with the term-vector matrix besides applying dimensionalaity reduction technique to deal with sparsity problem. Here we are going to generate a simple distribution of the words found in all the entire set of articles. Intuitively, this may not make any sense, but in data science sometimes we take some things for granted, and we just have to explore the data first before making any premature conclusions. On the topic of attribute transformation, we will take the word distribution and put the distribution in a scale that makes it easy to analyze patterns in the distrubution of words. Let us get into it!"
   ]
  },
  {
   "cell_type": "markdown",
   "metadata": {},
   "source": [
    "First, we need to compute these frequencies for each term in all documents. Visually speaking, we are seeking to add values of the 2D matrix, vertically; i.e., sum of each column. You can also refer to this process as aggregation, which we won't explore further in this notebook because of the type of data we are dealing with. But I believe you get the idea of what that includes.  "
   ]
  },
  {
   "cell_type": "markdown",
   "metadata": {},
   "source": [
    "![alt txt](https://docs.google.com/drawings/d/e/2PACX-1vTMfs0zWsbeAl-wrpvyCcZqeEUf7ggoGkDubrxX5XtwC5iysHFukD6c-dtyybuHnYigiRWRlRk2S7gp/pub?w=750&h=412)"
   ]
  },
  {
   "cell_type": "code",
   "execution_count": null,
   "metadata": {},
   "outputs": [],
   "source": [
    "# note this takes time to compute. You may want to reduce the amount of terms you want to compute frequencies for\n",
    "term_frequencies = []\n",
    "for j in range(0,X_counts.shape[1]):\n",
    "    term_frequencies.append(sum(X_counts[:,j].toarray()))"
   ]
  },
  {
   "cell_type": "code",
   "execution_count": null,
   "metadata": {},
   "outputs": [],
   "source": [
    "term_frequencies = np.asarray(X_counts.sum(axis=0))[0]"
   ]
  },
  {
   "cell_type": "code",
   "execution_count": null,
   "metadata": {},
   "outputs": [],
   "source": [
    "term_frequencies[0]"
   ]
  },
  {
   "cell_type": "code",
   "execution_count": null,
   "metadata": {},
   "outputs": [],
   "source": [
    "plt.subplots(figsize=(100, 10))\n",
    "g = sns.barplot(x=count_vect.get_feature_names()[:300], \n",
    "            y=term_frequencies[:300])\n",
    "g.set_xticklabels(count_vect.get_feature_names()[:300], rotation = 90);"
   ]
  },
  {
   "cell_type": "markdown",
   "metadata": {},
   "source": [
    "---"
   ]
  },
  {
   "cell_type": "markdown",
   "metadata": {},
   "source": [
    "### >>> **Exercise 13 (take home):**\n",
    "If you want a nicer interactive visualization here, I would encourage you try to install and use plotly to achieve this."
   ]
  },
  {
   "cell_type": "code",
   "execution_count": null,
   "metadata": {},
   "outputs": [],
   "source": [
    "# Answer here\n",
    "import torch\n",
    "\n",
    "if torch.cuda.is_available():\n",
    "        device=torch.device('cuda:0')\n",
    "else:\n",
    "    device=torch.device('cpu')\n",
    "    print('\\n','device:',device,'\\n')"
   ]
  },
  {
   "cell_type": "markdown",
   "metadata": {},
   "source": [
    "---"
   ]
  },
  {
   "cell_type": "markdown",
   "metadata": {},
   "source": [
    "### >>> **Exercise 14 (take home):** \n",
    "The chart above contains all the vocabulary, and it's computationally intensive to both compute and visualize. Can you efficiently reduce the number of terms you want to visualize as an exercise. \n"
   ]
  },
  {
   "cell_type": "code",
   "execution_count": null,
   "metadata": {},
   "outputs": [],
   "source": [
    "# Answer here\n"
   ]
  },
  {
   "cell_type": "markdown",
   "metadata": {},
   "source": [
    "---"
   ]
  },
  {
   "cell_type": "markdown",
   "metadata": {},
   "source": [
    "### >>> **Exercise 15 (take home):** \n",
    "Additionally, you can attempt to sort the terms on the `x-axis` by frequency instead of in alphabetical order. This way the visualization is more meaninfgul and you will be able to observe the so called [long tail](https://en.wikipedia.org/wiki/Long_tail) (get familiar with this term since it will appear a lot in data mining and other statistics courses). see picture below\n",
    "\n",
    "![alt txt](https://upload.wikimedia.org/wikipedia/commons/thumb/8/8a/Long_tail.svg/1000px-Long_tail.svg.png)"
   ]
  },
  {
   "cell_type": "code",
   "execution_count": null,
   "metadata": {},
   "outputs": [],
   "source": [
    "# Answer here\n"
   ]
  },
  {
   "cell_type": "markdown",
   "metadata": {},
   "source": [
    "---"
   ]
  },
  {
   "cell_type": "markdown",
   "metadata": {},
   "source": [
    "Since we already have those term frequencies, we can also transform the values in that vector into the log distribution. All we need is to import the `math` library provided by python and apply it to the array of values of the term frequency vector. This is a typical example of attribute transformation. Let's go for it. The log distribution is a technique to visualize the term frequency into a scale that makes you easily visualize the distribution in a more readable format. In other words, the variations between the term frequencies are now easy to observe. Let us try it out!"
   ]
  },
  {
   "cell_type": "code",
   "execution_count": null,
   "metadata": {},
   "outputs": [],
   "source": [
    "import math\n",
    "term_frequencies_log = [math.log(i) for i in term_frequencies]"
   ]
  },
  {
   "cell_type": "code",
   "execution_count": null,
   "metadata": {},
   "outputs": [],
   "source": [
    "plt.subplots(figsize=(100, 10))\n",
    "g = sns.barplot(x=count_vect.get_feature_names()[:300],\n",
    "                y=term_frequencies_log[:300])\n",
    "g.set_xticklabels(count_vect.get_feature_names()[:300], rotation = 90);"
   ]
  },
  {
   "cell_type": "markdown",
   "metadata": {},
   "source": [
    "Besides observing a complete transformation on the disrtibution, notice the scale on the y-axis. The log distribution in our unsorted example has no meaning, but try to properly sort the terms by their frequency, and you will see an interesting effect. Go for it!"
   ]
  },
  {
   "cell_type": "markdown",
   "metadata": {},
   "source": [
    "---"
   ]
  },
  {
   "cell_type": "markdown",
   "metadata": {},
   "source": [
    "### 5.6 Discretization and Binarization\n",
    "In this section we are going to discuss a very important pre-preprocessing technique used to transform the data, specifically categorical values, into a format that satisfies certain criteria required by particular algorithms. Given our current original dataset, we would like to transform one of the attributes, `category_name`, into four binary attributes. In other words, we are taking the category name and replacing it with a `n` asymmetric binary attributes. The logic behind this transformation is discussed in detail in the recommended Data Mining text book (please refer to it on page 58). People from the machine learning community also refer to this transformation as one-hot encoding, but as you may become aware later in the course, these concepts are all the same, we just have different prefrence on how we refer to the concepts. Let us take a look at what we want to achieve in code. "
   ]
  },
  {
   "cell_type": "code",
   "execution_count": null,
   "metadata": {},
   "outputs": [],
   "source": [
    "from sklearn import preprocessing, metrics, decomposition, pipeline, dummy"
   ]
  },
  {
   "cell_type": "code",
   "execution_count": null,
   "metadata": {},
   "outputs": [],
   "source": [
    "mlb = preprocessing.LabelBinarizer()"
   ]
  },
  {
   "cell_type": "code",
   "execution_count": null,
   "metadata": {},
   "outputs": [],
   "source": [
    "mlb.fit(X.category)"
   ]
  },
  {
   "cell_type": "code",
   "execution_count": null,
   "metadata": {},
   "outputs": [],
   "source": [
    "mlb.classes_"
   ]
  },
  {
   "cell_type": "code",
   "execution_count": null,
   "metadata": {},
   "outputs": [],
   "source": [
    "X['bin_category'] = mlb.transform(X['category']).tolist()"
   ]
  },
  {
   "cell_type": "code",
   "execution_count": null,
   "metadata": {},
   "outputs": [],
   "source": [
    "X[0:9]"
   ]
  },
  {
   "cell_type": "markdown",
   "metadata": {},
   "source": [
    "Take a look at the new attribute we have added to the `X` table. You can see that the new attribute, which is called `bin_category`, contains an array of 0's and 1's. The `1` is basically to indicate the position of the label or category we binarized. If you look at the first two records, the one is places in slot 2 in the array; this helps to indicate to any of the algorithms which we are feeding this data to, that the record belong to that specific category. \n",
    "\n",
    "Attributes with **continuous values** also have strategies to tranform the data; this is usually called **Discretization** (please refer to the text book for more inforamation)."
   ]
  },
  {
   "cell_type": "markdown",
   "metadata": {},
   "source": [
    "---"
   ]
  },
  {
   "cell_type": "markdown",
   "metadata": {},
   "source": [
    "### >>> **Exercise 16 (take home):**\n",
    "Try to generate the binarization using the `category_name` column instead. Does it work?"
   ]
  },
  {
   "cell_type": "code",
   "execution_count": null,
   "metadata": {},
   "outputs": [],
   "source": [
    "# Answer here\n"
   ]
  },
  {
   "cell_type": "markdown",
   "metadata": {},
   "source": [
    "---"
   ]
  },
  {
   "cell_type": "markdown",
   "metadata": {},
   "source": [
    "# 6. Data Exploration"
   ]
  },
  {
   "cell_type": "markdown",
   "metadata": {},
   "source": [
    "Sometimes you need to take a peek at your data to understand the relationships in your dataset. Here, we will focus in a similarity example. Let's take 3 documents and compare them."
   ]
  },
  {
   "cell_type": "code",
   "execution_count": null,
   "metadata": {},
   "outputs": [],
   "source": [
    "# We retrieve 2 sentences for a random record, here, indexed at 50 and 100\n",
    "document_to_transform_1 = []\n",
    "random_record_1 = X.iloc[50]\n",
    "random_record_1 = random_record_1['text']\n",
    "document_to_transform_1.append(random_record_1)\n",
    "\n",
    "document_to_transform_2 = []\n",
    "random_record_2 = X.iloc[100]\n",
    "random_record_2 = random_record_2['text']\n",
    "document_to_transform_2.append(random_record_2)\n",
    "\n",
    "document_to_transform_3 = []\n",
    "random_record_3 = X.iloc[150]\n",
    "random_record_3 = random_record_3['text']\n",
    "document_to_transform_3.append(random_record_3)"
   ]
  },
  {
   "cell_type": "markdown",
   "metadata": {},
   "source": [
    "Let's look at our emails."
   ]
  },
  {
   "cell_type": "code",
   "execution_count": null,
   "metadata": {
    "tags": []
   },
   "outputs": [],
   "source": [
    "print(document_to_transform_1)\n",
    "print(document_to_transform_2)\n",
    "print(document_to_transform_3)"
   ]
  },
  {
   "cell_type": "code",
   "execution_count": null,
   "metadata": {
    "tags": []
   },
   "outputs": [],
   "source": [
    "from sklearn.preprocessing import binarize\n",
    "\n",
    "# Transform sentence with Vectorizers\n",
    "document_vector_count_1 = count_vect.transform(document_to_transform_1)\n",
    "document_vector_count_2 = count_vect.transform(document_to_transform_2)\n",
    "document_vector_count_3 = count_vect.transform(document_to_transform_3)\n",
    "\n",
    "# Binarize vecors to simplify: 0 for abscence, 1 for prescence\n",
    "document_vector_count_1_bin = binarize(document_vector_count_1)\n",
    "document_vector_count_2_bin = binarize(document_vector_count_2)\n",
    "document_vector_count_3_bin = binarize(document_vector_count_3)\n",
    "\n",
    "# print\n",
    "print(\"Let's take a look at the count vectors:\")\n",
    "print(document_vector_count_1.todense())\n",
    "print(document_vector_count_2.todense())\n",
    "print(document_vector_count_3.todense())"
   ]
  },
  {
   "cell_type": "code",
   "execution_count": null,
   "metadata": {
    "tags": []
   },
   "outputs": [],
   "source": [
    "from sklearn.metrics.pairwise import cosine_similarity\n",
    "\n",
    "# Calculate Cosine Similarity\n",
    "cos_sim_count_1_2 = cosine_similarity(document_vector_count_1, document_vector_count_2, dense_output=True)\n",
    "cos_sim_count_1_3 = cosine_similarity(document_vector_count_1, document_vector_count_3, dense_output=True)\n",
    "cos_sim_count_1_1 = cosine_similarity(document_vector_count_1, document_vector_count_1, dense_output=True)\n",
    "cos_sim_count_2_2 = cosine_similarity(document_vector_count_2, document_vector_count_2, dense_output=True)\n",
    "\n",
    "# Print \n",
    "print(\"Cosine Similarity using count bw 1 and 2: %(x)f\" %{\"x\":cos_sim_count_1_2})\n",
    "print(\"Cosine Similarity using count bw 1 and 3: %(x)f\" %{\"x\":cos_sim_count_1_3})\n",
    "print(\"Cosine Similarity using count bw 1 and 1: %(x)f\" %{\"x\":cos_sim_count_1_1})\n",
    "print(\"Cosine Similarity using count bw 2 and 2: %(x)f\" %{\"x\":cos_sim_count_2_2})"
   ]
  },
  {
   "cell_type": "markdown",
   "metadata": {},
   "source": [
    "As expected, cosine similarity between a sentence and itself is 1. Between 2 entirely different sentences, it will be 0. \n",
    "\n",
    "We can assume that we have the more common features in bthe documents 1 and 3 than in documents 1 and 2. This reflects indeed in a higher similarity than that of sentences 1 and 3. \n"
   ]
  },
  {
   "cell_type": "markdown",
   "metadata": {},
   "source": [
    "---"
   ]
  },
  {
   "cell_type": "markdown",
   "metadata": {},
   "source": [
    "## 7. Concluding Remarks"
   ]
  },
  {
   "cell_type": "markdown",
   "metadata": {},
   "source": [
    "Wow! We have come a long way! We can now call ourselves experts of Data Preprocessing. You should feel excited and proud because the process of Data Mining usually involves 70% preprocessing and 30% training learning models. You will learn this as you progress in the Data Mining course. I really feel that if you go through the exercises and challenge yourself, you are on your way to becoming a super Data Scientist. \n",
    "\n",
    "From here the possibilities for you are endless. You now know how to use almost every common technique for preprocessing with state-of-the-art tools, such as as Pandas and Scikit-learn. You are now with the trend! \n",
    "\n",
    "After completing this notebook you can do a lot with the results we have generated. You can train algorithms and models that are able to classify articles into certain categories and much more. You can also try to experiment with different datasets, or venture further into text analytics by using new deep learning techniques such as word2vec. All of this will be presented in the next lab session. Until then, go teach machines how to be intelligent to make the world a better place. "
   ]
  },
  {
   "cell_type": "markdown",
   "metadata": {},
   "source": [
    "----"
   ]
  },
  {
   "cell_type": "markdown",
   "metadata": {},
   "source": [
    "## . References"
   ]
  },
  {
   "cell_type": "markdown",
   "metadata": {},
   "source": [
    "- Pandas cook book ([Recommended for starters](http://pandas.pydata.org/pandas-docs/stable/cookbook.html))\n",
    "- [Pang-Ning Tan, Michael Steinbach, Vipin Kumar, Introduction to Data Mining, Addison Wesley](https://dl.acm.org/citation.cfm?id=1095618)"
   ]
  },
  {
   "cell_type": "code",
   "execution_count": null,
   "metadata": {},
   "outputs": [],
   "source": []
  }
 ],
 "metadata": {
  "kernelspec": {
   "display_name": "Python 3",
   "language": "python",
   "name": "python3"
  },
  "language_info": {
   "codemirror_mode": {
    "name": "ipython",
    "version": 3
   },
   "file_extension": ".py",
   "mimetype": "text/x-python",
   "name": "python",
   "nbconvert_exporter": "python",
   "pygments_lexer": "ipython3",
   "version": "3.6.9-final"
  }
 },
 "nbformat": 4,
 "nbformat_minor": 2
}